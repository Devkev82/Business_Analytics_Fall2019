{
 "cells": [
  {
   "cell_type": "markdown",
   "metadata": {},
   "source": [
    "<h1>HW 4 Sample Solution</h1>"
   ]
  },
  {
   "cell_type": "markdown",
   "metadata": {},
   "source": [
    "1. [40 points] obtain a model estimating the likelihood of customer churn using Decision\n",
    "Trees,\n",
    "2. [40 points] compare several model evaluation metrics and back up your model selection\n",
    "decision based on the performance of various measures (e.g. ROC AUC, recall etc.),\n",
    "3. [20 points] calculate and plot (you may even use Excel, if you like) Gain and Lift for 10\n",
    "equally populated groups of customers."
   ]
  },
  {
   "cell_type": "markdown",
   "metadata": {
    "ExecuteTime": {
     "end_time": "2019-11-17T22:27:12.783967Z",
     "start_time": "2019-11-17T22:27:12.777984Z"
    }
   },
   "source": [
    "The steps I followed to complete the analysis and comply with the HW requirements are the following:\n",
    "1. Descriptive analysis\n",
    "2. Decision Tree on raw data\n",
    "3. Decision Tree on transformed data\n",
    "4. Conclusion, selection of the winning model, feature importances, gain and lift charts"
   ]
  },
  {
   "cell_type": "markdown",
   "metadata": {},
   "source": [
    "### Descriptive analysis"
   ]
  },
  {
   "cell_type": "code",
   "execution_count": 1,
   "metadata": {
    "ExecuteTime": {
     "end_time": "2019-11-17T23:39:44.507800Z",
     "start_time": "2019-11-17T23:39:42.601743Z"
    }
   },
   "outputs": [],
   "source": [
    "#for not showing warnings\n",
    "import warnings\n",
    "warnings.filterwarnings('ignore')\n",
    "\n",
    "#data manipulation and visualization libraries\n",
    "import numpy as np\n",
    "import pandas as pd\n",
    "import matplotlib.pyplot as plt\n",
    "import seaborn as sns\n",
    "from sklearn.preprocessing import StandardScaler\n",
    "from collections import defaultdict\n",
    "\n",
    "#libraries for modelling and evaluation\n",
    "from sklearn.linear_model import LogisticRegression\n",
    "from sklearn.tree import DecisionTreeClassifier\n",
    "from sklearn.model_selection import train_test_split, GridSearchCV,cross_val_score\n",
    "from sklearn.metrics import accuracy_score,recall_score,confusion_matrix,classification_report,roc_auc_score,roc_curve\n",
    "import scikitplot as skplt #in case of error run <<!pip install scikit-plot>> and run the code again\n"
   ]
  },
  {
   "cell_type": "code",
   "execution_count": 2,
   "metadata": {
    "ExecuteTime": {
     "end_time": "2019-11-17T23:39:44.855858Z",
     "start_time": "2019-11-17T23:39:44.515710Z"
    }
   },
   "outputs": [],
   "source": [
    "#importing the data and making a dataframe\n",
    "data=pd.read_excel(\"Telecom_Churn.xls\", sheet_name=\"churn\")"
   ]
  },
  {
   "cell_type": "code",
   "execution_count": 3,
   "metadata": {
    "ExecuteTime": {
     "end_time": "2019-11-17T23:39:44.878778Z",
     "start_time": "2019-11-17T23:39:44.860786Z"
    }
   },
   "outputs": [
    {
     "name": "stdout",
     "output_type": "stream",
     "text": [
      "<class 'pandas.core.frame.DataFrame'>\n",
      "RangeIndex: 3333 entries, 0 to 3332\n",
      "Data columns (total 21 columns):\n",
      "Account Length    3333 non-null int64\n",
      "VMail Message     3333 non-null int64\n",
      "Day Mins          3333 non-null float64\n",
      "Eve Mins          3333 non-null float64\n",
      "Night Mins        3333 non-null float64\n",
      "Intl Mins         3333 non-null float64\n",
      "CustServ Calls    3333 non-null int64\n",
      "Churn             3333 non-null int64\n",
      "Int'l Plan        3333 non-null int64\n",
      "VMail Plan        3333 non-null int64\n",
      "Day Calls         3333 non-null int64\n",
      "Day Charge        3333 non-null float64\n",
      "Eve Calls         3333 non-null int64\n",
      "Eve Charge        3333 non-null float64\n",
      "Night Calls       3333 non-null int64\n",
      "Night Charge      3333 non-null float64\n",
      "Intl Calls        3333 non-null int64\n",
      "Intl Charge       3333 non-null float64\n",
      "State             3333 non-null object\n",
      "Area Code         3333 non-null int64\n",
      "Phone             3333 non-null object\n",
      "dtypes: float64(8), int64(11), object(2)\n",
      "memory usage: 546.9+ KB\n"
     ]
    }
   ],
   "source": [
    "#data overview\n",
    "data.info()"
   ]
  },
  {
   "cell_type": "code",
   "execution_count": 4,
   "metadata": {
    "ExecuteTime": {
     "end_time": "2019-11-17T23:39:44.919631Z",
     "start_time": "2019-11-17T23:39:44.880774Z"
    }
   },
   "outputs": [
    {
     "data": {
      "text/html": [
       "<div>\n",
       "<style scoped>\n",
       "    .dataframe tbody tr th:only-of-type {\n",
       "        vertical-align: middle;\n",
       "    }\n",
       "\n",
       "    .dataframe tbody tr th {\n",
       "        vertical-align: top;\n",
       "    }\n",
       "\n",
       "    .dataframe thead th {\n",
       "        text-align: right;\n",
       "    }\n",
       "</style>\n",
       "<table border=\"1\" class=\"dataframe\">\n",
       "  <thead>\n",
       "    <tr style=\"text-align: right;\">\n",
       "      <th></th>\n",
       "      <th>Account Length</th>\n",
       "      <th>VMail Message</th>\n",
       "      <th>Day Mins</th>\n",
       "      <th>Eve Mins</th>\n",
       "      <th>Night Mins</th>\n",
       "      <th>Intl Mins</th>\n",
       "      <th>CustServ Calls</th>\n",
       "      <th>Churn</th>\n",
       "      <th>Int'l Plan</th>\n",
       "      <th>VMail Plan</th>\n",
       "      <th>...</th>\n",
       "      <th>Day Charge</th>\n",
       "      <th>Eve Calls</th>\n",
       "      <th>Eve Charge</th>\n",
       "      <th>Night Calls</th>\n",
       "      <th>Night Charge</th>\n",
       "      <th>Intl Calls</th>\n",
       "      <th>Intl Charge</th>\n",
       "      <th>State</th>\n",
       "      <th>Area Code</th>\n",
       "      <th>Phone</th>\n",
       "    </tr>\n",
       "  </thead>\n",
       "  <tbody>\n",
       "    <tr>\n",
       "      <th>0</th>\n",
       "      <td>128</td>\n",
       "      <td>25</td>\n",
       "      <td>265.1</td>\n",
       "      <td>197.4</td>\n",
       "      <td>244.7</td>\n",
       "      <td>10.0</td>\n",
       "      <td>1</td>\n",
       "      <td>0</td>\n",
       "      <td>0</td>\n",
       "      <td>1</td>\n",
       "      <td>...</td>\n",
       "      <td>45.07</td>\n",
       "      <td>99</td>\n",
       "      <td>16.78</td>\n",
       "      <td>91</td>\n",
       "      <td>11.01</td>\n",
       "      <td>3</td>\n",
       "      <td>2.70</td>\n",
       "      <td>KS</td>\n",
       "      <td>415</td>\n",
       "      <td>382-4657</td>\n",
       "    </tr>\n",
       "    <tr>\n",
       "      <th>1</th>\n",
       "      <td>107</td>\n",
       "      <td>26</td>\n",
       "      <td>161.6</td>\n",
       "      <td>195.5</td>\n",
       "      <td>254.4</td>\n",
       "      <td>13.7</td>\n",
       "      <td>1</td>\n",
       "      <td>0</td>\n",
       "      <td>0</td>\n",
       "      <td>1</td>\n",
       "      <td>...</td>\n",
       "      <td>27.47</td>\n",
       "      <td>103</td>\n",
       "      <td>16.62</td>\n",
       "      <td>103</td>\n",
       "      <td>11.45</td>\n",
       "      <td>3</td>\n",
       "      <td>3.70</td>\n",
       "      <td>OH</td>\n",
       "      <td>415</td>\n",
       "      <td>371-7191</td>\n",
       "    </tr>\n",
       "    <tr>\n",
       "      <th>2</th>\n",
       "      <td>137</td>\n",
       "      <td>0</td>\n",
       "      <td>243.4</td>\n",
       "      <td>121.2</td>\n",
       "      <td>162.6</td>\n",
       "      <td>12.2</td>\n",
       "      <td>0</td>\n",
       "      <td>0</td>\n",
       "      <td>0</td>\n",
       "      <td>0</td>\n",
       "      <td>...</td>\n",
       "      <td>41.38</td>\n",
       "      <td>110</td>\n",
       "      <td>10.30</td>\n",
       "      <td>104</td>\n",
       "      <td>7.32</td>\n",
       "      <td>5</td>\n",
       "      <td>3.29</td>\n",
       "      <td>NJ</td>\n",
       "      <td>415</td>\n",
       "      <td>358-1921</td>\n",
       "    </tr>\n",
       "    <tr>\n",
       "      <th>3</th>\n",
       "      <td>84</td>\n",
       "      <td>0</td>\n",
       "      <td>299.4</td>\n",
       "      <td>61.9</td>\n",
       "      <td>196.9</td>\n",
       "      <td>6.6</td>\n",
       "      <td>2</td>\n",
       "      <td>0</td>\n",
       "      <td>1</td>\n",
       "      <td>0</td>\n",
       "      <td>...</td>\n",
       "      <td>50.90</td>\n",
       "      <td>88</td>\n",
       "      <td>5.26</td>\n",
       "      <td>89</td>\n",
       "      <td>8.86</td>\n",
       "      <td>7</td>\n",
       "      <td>1.78</td>\n",
       "      <td>OH</td>\n",
       "      <td>408</td>\n",
       "      <td>375-9999</td>\n",
       "    </tr>\n",
       "    <tr>\n",
       "      <th>4</th>\n",
       "      <td>75</td>\n",
       "      <td>0</td>\n",
       "      <td>166.7</td>\n",
       "      <td>148.3</td>\n",
       "      <td>186.9</td>\n",
       "      <td>10.1</td>\n",
       "      <td>3</td>\n",
       "      <td>0</td>\n",
       "      <td>1</td>\n",
       "      <td>0</td>\n",
       "      <td>...</td>\n",
       "      <td>28.34</td>\n",
       "      <td>122</td>\n",
       "      <td>12.61</td>\n",
       "      <td>121</td>\n",
       "      <td>8.41</td>\n",
       "      <td>3</td>\n",
       "      <td>2.73</td>\n",
       "      <td>OK</td>\n",
       "      <td>415</td>\n",
       "      <td>330-6626</td>\n",
       "    </tr>\n",
       "  </tbody>\n",
       "</table>\n",
       "<p>5 rows × 21 columns</p>\n",
       "</div>"
      ],
      "text/plain": [
       "   Account Length  VMail Message  Day Mins  Eve Mins  Night Mins  Intl Mins  \\\n",
       "0             128             25     265.1     197.4       244.7       10.0   \n",
       "1             107             26     161.6     195.5       254.4       13.7   \n",
       "2             137              0     243.4     121.2       162.6       12.2   \n",
       "3              84              0     299.4      61.9       196.9        6.6   \n",
       "4              75              0     166.7     148.3       186.9       10.1   \n",
       "\n",
       "   CustServ Calls  Churn  Int'l Plan  VMail Plan    ...     Day Charge  \\\n",
       "0               1      0           0           1    ...          45.07   \n",
       "1               1      0           0           1    ...          27.47   \n",
       "2               0      0           0           0    ...          41.38   \n",
       "3               2      0           1           0    ...          50.90   \n",
       "4               3      0           1           0    ...          28.34   \n",
       "\n",
       "   Eve Calls  Eve Charge  Night Calls  Night Charge  Intl Calls  Intl Charge  \\\n",
       "0         99       16.78           91         11.01           3         2.70   \n",
       "1        103       16.62          103         11.45           3         3.70   \n",
       "2        110       10.30          104          7.32           5         3.29   \n",
       "3         88        5.26           89          8.86           7         1.78   \n",
       "4        122       12.61          121          8.41           3         2.73   \n",
       "\n",
       "   State Area Code     Phone  \n",
       "0     KS       415  382-4657  \n",
       "1     OH       415  371-7191  \n",
       "2     NJ       415  358-1921  \n",
       "3     OH       408  375-9999  \n",
       "4     OK       415  330-6626  \n",
       "\n",
       "[5 rows x 21 columns]"
      ]
     },
     "execution_count": 4,
     "metadata": {},
     "output_type": "execute_result"
    }
   ],
   "source": [
    "#have a look at first rows of the dataframe\n",
    "data.head()"
   ]
  },
  {
   "cell_type": "code",
   "execution_count": 5,
   "metadata": {
    "ExecuteTime": {
     "end_time": "2019-11-17T23:39:45.039309Z",
     "start_time": "2019-11-17T23:39:44.921664Z"
    }
   },
   "outputs": [
    {
     "data": {
      "text/html": [
       "<div>\n",
       "<style scoped>\n",
       "    .dataframe tbody tr th:only-of-type {\n",
       "        vertical-align: middle;\n",
       "    }\n",
       "\n",
       "    .dataframe tbody tr th {\n",
       "        vertical-align: top;\n",
       "    }\n",
       "\n",
       "    .dataframe thead th {\n",
       "        text-align: right;\n",
       "    }\n",
       "</style>\n",
       "<table border=\"1\" class=\"dataframe\">\n",
       "  <thead>\n",
       "    <tr style=\"text-align: right;\">\n",
       "      <th></th>\n",
       "      <th>Account Length</th>\n",
       "      <th>VMail Message</th>\n",
       "      <th>Day Mins</th>\n",
       "      <th>Eve Mins</th>\n",
       "      <th>Night Mins</th>\n",
       "      <th>Intl Mins</th>\n",
       "      <th>CustServ Calls</th>\n",
       "      <th>Churn</th>\n",
       "      <th>Int'l Plan</th>\n",
       "      <th>VMail Plan</th>\n",
       "      <th>Day Calls</th>\n",
       "      <th>Day Charge</th>\n",
       "      <th>Eve Calls</th>\n",
       "      <th>Eve Charge</th>\n",
       "      <th>Night Calls</th>\n",
       "      <th>Night Charge</th>\n",
       "      <th>Intl Calls</th>\n",
       "      <th>Intl Charge</th>\n",
       "      <th>Area Code</th>\n",
       "    </tr>\n",
       "  </thead>\n",
       "  <tbody>\n",
       "    <tr>\n",
       "      <th>count</th>\n",
       "      <td>3333.000000</td>\n",
       "      <td>3333.000000</td>\n",
       "      <td>3333.000000</td>\n",
       "      <td>3333.000000</td>\n",
       "      <td>3333.000000</td>\n",
       "      <td>3333.000000</td>\n",
       "      <td>3333.000000</td>\n",
       "      <td>3333.000000</td>\n",
       "      <td>3333.000000</td>\n",
       "      <td>3333.000000</td>\n",
       "      <td>3333.000000</td>\n",
       "      <td>3333.000000</td>\n",
       "      <td>3333.000000</td>\n",
       "      <td>3333.000000</td>\n",
       "      <td>3333.000000</td>\n",
       "      <td>3333.000000</td>\n",
       "      <td>3333.000000</td>\n",
       "      <td>3333.000000</td>\n",
       "      <td>3333.000000</td>\n",
       "    </tr>\n",
       "    <tr>\n",
       "      <th>mean</th>\n",
       "      <td>101.064806</td>\n",
       "      <td>8.099010</td>\n",
       "      <td>179.775098</td>\n",
       "      <td>200.980348</td>\n",
       "      <td>200.872037</td>\n",
       "      <td>10.237294</td>\n",
       "      <td>1.562856</td>\n",
       "      <td>0.144914</td>\n",
       "      <td>0.096910</td>\n",
       "      <td>0.276628</td>\n",
       "      <td>100.435644</td>\n",
       "      <td>30.562307</td>\n",
       "      <td>100.114311</td>\n",
       "      <td>17.083540</td>\n",
       "      <td>100.107711</td>\n",
       "      <td>9.039325</td>\n",
       "      <td>4.479448</td>\n",
       "      <td>2.764581</td>\n",
       "      <td>437.182418</td>\n",
       "    </tr>\n",
       "    <tr>\n",
       "      <th>std</th>\n",
       "      <td>39.822106</td>\n",
       "      <td>13.688365</td>\n",
       "      <td>54.467389</td>\n",
       "      <td>50.713844</td>\n",
       "      <td>50.573847</td>\n",
       "      <td>2.791840</td>\n",
       "      <td>1.315491</td>\n",
       "      <td>0.352067</td>\n",
       "      <td>0.295879</td>\n",
       "      <td>0.447398</td>\n",
       "      <td>20.069084</td>\n",
       "      <td>9.259435</td>\n",
       "      <td>19.922625</td>\n",
       "      <td>4.310668</td>\n",
       "      <td>19.568609</td>\n",
       "      <td>2.275873</td>\n",
       "      <td>2.461214</td>\n",
       "      <td>0.753773</td>\n",
       "      <td>42.371290</td>\n",
       "    </tr>\n",
       "    <tr>\n",
       "      <th>min</th>\n",
       "      <td>1.000000</td>\n",
       "      <td>0.000000</td>\n",
       "      <td>0.000000</td>\n",
       "      <td>0.000000</td>\n",
       "      <td>23.200000</td>\n",
       "      <td>0.000000</td>\n",
       "      <td>0.000000</td>\n",
       "      <td>0.000000</td>\n",
       "      <td>0.000000</td>\n",
       "      <td>0.000000</td>\n",
       "      <td>0.000000</td>\n",
       "      <td>0.000000</td>\n",
       "      <td>0.000000</td>\n",
       "      <td>0.000000</td>\n",
       "      <td>33.000000</td>\n",
       "      <td>1.040000</td>\n",
       "      <td>0.000000</td>\n",
       "      <td>0.000000</td>\n",
       "      <td>408.000000</td>\n",
       "    </tr>\n",
       "    <tr>\n",
       "      <th>25%</th>\n",
       "      <td>74.000000</td>\n",
       "      <td>0.000000</td>\n",
       "      <td>143.700000</td>\n",
       "      <td>166.600000</td>\n",
       "      <td>167.000000</td>\n",
       "      <td>8.500000</td>\n",
       "      <td>1.000000</td>\n",
       "      <td>0.000000</td>\n",
       "      <td>0.000000</td>\n",
       "      <td>0.000000</td>\n",
       "      <td>87.000000</td>\n",
       "      <td>24.430000</td>\n",
       "      <td>87.000000</td>\n",
       "      <td>14.160000</td>\n",
       "      <td>87.000000</td>\n",
       "      <td>7.520000</td>\n",
       "      <td>3.000000</td>\n",
       "      <td>2.300000</td>\n",
       "      <td>408.000000</td>\n",
       "    </tr>\n",
       "    <tr>\n",
       "      <th>50%</th>\n",
       "      <td>101.000000</td>\n",
       "      <td>0.000000</td>\n",
       "      <td>179.400000</td>\n",
       "      <td>201.400000</td>\n",
       "      <td>201.200000</td>\n",
       "      <td>10.300000</td>\n",
       "      <td>1.000000</td>\n",
       "      <td>0.000000</td>\n",
       "      <td>0.000000</td>\n",
       "      <td>0.000000</td>\n",
       "      <td>101.000000</td>\n",
       "      <td>30.500000</td>\n",
       "      <td>100.000000</td>\n",
       "      <td>17.120000</td>\n",
       "      <td>100.000000</td>\n",
       "      <td>9.050000</td>\n",
       "      <td>4.000000</td>\n",
       "      <td>2.780000</td>\n",
       "      <td>415.000000</td>\n",
       "    </tr>\n",
       "    <tr>\n",
       "      <th>75%</th>\n",
       "      <td>127.000000</td>\n",
       "      <td>20.000000</td>\n",
       "      <td>216.400000</td>\n",
       "      <td>235.300000</td>\n",
       "      <td>235.300000</td>\n",
       "      <td>12.100000</td>\n",
       "      <td>2.000000</td>\n",
       "      <td>0.000000</td>\n",
       "      <td>0.000000</td>\n",
       "      <td>1.000000</td>\n",
       "      <td>114.000000</td>\n",
       "      <td>36.790000</td>\n",
       "      <td>114.000000</td>\n",
       "      <td>20.000000</td>\n",
       "      <td>113.000000</td>\n",
       "      <td>10.590000</td>\n",
       "      <td>6.000000</td>\n",
       "      <td>3.270000</td>\n",
       "      <td>510.000000</td>\n",
       "    </tr>\n",
       "    <tr>\n",
       "      <th>max</th>\n",
       "      <td>243.000000</td>\n",
       "      <td>51.000000</td>\n",
       "      <td>350.800000</td>\n",
       "      <td>363.700000</td>\n",
       "      <td>395.000000</td>\n",
       "      <td>20.000000</td>\n",
       "      <td>9.000000</td>\n",
       "      <td>1.000000</td>\n",
       "      <td>1.000000</td>\n",
       "      <td>1.000000</td>\n",
       "      <td>165.000000</td>\n",
       "      <td>59.640000</td>\n",
       "      <td>170.000000</td>\n",
       "      <td>30.910000</td>\n",
       "      <td>175.000000</td>\n",
       "      <td>17.770000</td>\n",
       "      <td>20.000000</td>\n",
       "      <td>5.400000</td>\n",
       "      <td>510.000000</td>\n",
       "    </tr>\n",
       "  </tbody>\n",
       "</table>\n",
       "</div>"
      ],
      "text/plain": [
       "       Account Length  VMail Message     Day Mins     Eve Mins   Night Mins  \\\n",
       "count     3333.000000    3333.000000  3333.000000  3333.000000  3333.000000   \n",
       "mean       101.064806       8.099010   179.775098   200.980348   200.872037   \n",
       "std         39.822106      13.688365    54.467389    50.713844    50.573847   \n",
       "min          1.000000       0.000000     0.000000     0.000000    23.200000   \n",
       "25%         74.000000       0.000000   143.700000   166.600000   167.000000   \n",
       "50%        101.000000       0.000000   179.400000   201.400000   201.200000   \n",
       "75%        127.000000      20.000000   216.400000   235.300000   235.300000   \n",
       "max        243.000000      51.000000   350.800000   363.700000   395.000000   \n",
       "\n",
       "         Intl Mins  CustServ Calls        Churn   Int'l Plan   VMail Plan  \\\n",
       "count  3333.000000     3333.000000  3333.000000  3333.000000  3333.000000   \n",
       "mean     10.237294        1.562856     0.144914     0.096910     0.276628   \n",
       "std       2.791840        1.315491     0.352067     0.295879     0.447398   \n",
       "min       0.000000        0.000000     0.000000     0.000000     0.000000   \n",
       "25%       8.500000        1.000000     0.000000     0.000000     0.000000   \n",
       "50%      10.300000        1.000000     0.000000     0.000000     0.000000   \n",
       "75%      12.100000        2.000000     0.000000     0.000000     1.000000   \n",
       "max      20.000000        9.000000     1.000000     1.000000     1.000000   \n",
       "\n",
       "         Day Calls   Day Charge    Eve Calls   Eve Charge  Night Calls  \\\n",
       "count  3333.000000  3333.000000  3333.000000  3333.000000  3333.000000   \n",
       "mean    100.435644    30.562307   100.114311    17.083540   100.107711   \n",
       "std      20.069084     9.259435    19.922625     4.310668    19.568609   \n",
       "min       0.000000     0.000000     0.000000     0.000000    33.000000   \n",
       "25%      87.000000    24.430000    87.000000    14.160000    87.000000   \n",
       "50%     101.000000    30.500000   100.000000    17.120000   100.000000   \n",
       "75%     114.000000    36.790000   114.000000    20.000000   113.000000   \n",
       "max     165.000000    59.640000   170.000000    30.910000   175.000000   \n",
       "\n",
       "       Night Charge   Intl Calls  Intl Charge    Area Code  \n",
       "count   3333.000000  3333.000000  3333.000000  3333.000000  \n",
       "mean       9.039325     4.479448     2.764581   437.182418  \n",
       "std        2.275873     2.461214     0.753773    42.371290  \n",
       "min        1.040000     0.000000     0.000000   408.000000  \n",
       "25%        7.520000     3.000000     2.300000   408.000000  \n",
       "50%        9.050000     4.000000     2.780000   415.000000  \n",
       "75%       10.590000     6.000000     3.270000   510.000000  \n",
       "max       17.770000    20.000000     5.400000   510.000000  "
      ]
     },
     "execution_count": 5,
     "metadata": {},
     "output_type": "execute_result"
    }
   ],
   "source": [
    "data.describe()"
   ]
  },
  {
   "cell_type": "code",
   "execution_count": 6,
   "metadata": {
    "ExecuteTime": {
     "end_time": "2019-11-17T23:39:45.088179Z",
     "start_time": "2019-11-17T23:39:45.044297Z"
    }
   },
   "outputs": [
    {
     "name": "stdout",
     "output_type": "stream",
     "text": [
      "Duplicates: 0\n",
      "Missing values: 0\n",
      "Single valued columns: Index([], dtype='object')\n"
     ]
    }
   ],
   "source": [
    "#checking number of duplicates, missing values and columns with a single value\n",
    "print(\"Duplicates:\", data.duplicated().sum())\n",
    "print(\"Missing values:\", data.isna().sum().sum())\n",
    "print(\"Single valued columns:\", data.columns[data.nunique()==1])"
   ]
  },
  {
   "cell_type": "code",
   "execution_count": 7,
   "metadata": {
    "ExecuteTime": {
     "end_time": "2019-11-17T23:39:45.248751Z",
     "start_time": "2019-11-17T23:39:45.090174Z"
    }
   },
   "outputs": [
    {
     "data": {
      "image/png": "[encoded data removed]",
      "text/plain": [
       "<Figure size 648x360 with 1 Axes>"
      ]
     },
     "metadata": {
      "needs_background": "light"
     },
     "output_type": "display_data"
    }
   ],
   "source": [
    "#let's visualise the distribution of churn\n",
    "plt.figure(figsize=(9,5))\n",
    "sns.countplot(data.Churn)\n",
    "plt.title(\"Churn distribution\")\n",
    "plt.show()"
   ]
  },
  {
   "cell_type": "code",
   "execution_count": 8,
   "metadata": {
    "ExecuteTime": {
     "end_time": "2019-11-17T23:39:45.274685Z",
     "start_time": "2019-11-17T23:39:45.250744Z"
    }
   },
   "outputs": [
    {
     "data": {
      "text/plain": [
       "0    85.508551\n",
       "1    14.491449\n",
       "Name: Churn percentage, dtype: float64"
      ]
     },
     "execution_count": 8,
     "metadata": {},
     "output_type": "execute_result"
    }
   ],
   "source": [
    "#lets count the benchmark for employee churn\n",
    "data.Churn.value_counts(normalize=True).mul(100).rename(\"Churn percentage\")"
   ]
  },
  {
   "cell_type": "code",
   "execution_count": null,
   "metadata": {},
   "outputs": [],
   "source": []
  },
  {
   "cell_type": "markdown",
   "metadata": {},
   "source": [
    "### Decision Tree on raw data"
   ]
  },
  {
   "cell_type": "markdown",
   "metadata": {},
   "source": [
    "In my opinion, it is more important to correctly predict the customers who will leave.Therefore, the metrics for choosing the winning model will be cross-validated recall score, as now we use sklearn library."
   ]
  },
  {
   "cell_type": "code",
   "execution_count": 9,
   "metadata": {
    "ExecuteTime": {
     "end_time": "2019-11-17T23:39:45.283659Z",
     "start_time": "2019-11-17T23:39:45.277672Z"
    }
   },
   "outputs": [],
   "source": [
    "#State and Phone have a lot of values, which cannot be somehow grouped and will result in a lot of dummy columns.\n",
    "#So we will drop them too.\n",
    "data.drop([\"State\",\"Phone\",\"VMail Plan\"], axis=1, inplace=True)"
   ]
  },
  {
   "cell_type": "code",
   "execution_count": 10,
   "metadata": {
    "ExecuteTime": {
     "end_time": "2019-11-17T23:39:45.306595Z",
     "start_time": "2019-11-17T23:39:45.286649Z"
    }
   },
   "outputs": [],
   "source": [
    "#making dummes,train test split\n",
    "data_dum=pd.get_dummies(data, drop_first=True)"
   ]
  },
  {
   "cell_type": "code",
   "execution_count": 11,
   "metadata": {
    "ExecuteTime": {
     "end_time": "2019-11-17T23:39:45.322553Z",
     "start_time": "2019-11-17T23:39:45.310584Z"
    }
   },
   "outputs": [],
   "source": [
    "#separating X and Y\n",
    "Y=data_dum[\"Churn\"]\n",
    "X=data_dum.drop(\"Churn\",axis=1)"
   ]
  },
  {
   "cell_type": "code",
   "execution_count": 12,
   "metadata": {
    "ExecuteTime": {
     "end_time": "2019-11-17T23:39:45.340503Z",
     "start_time": "2019-11-17T23:39:45.331529Z"
    }
   },
   "outputs": [],
   "source": [
    "#splitting the data into train and test sets\n",
    "X0, X1, Y0, Y1 = train_test_split(X, Y, test_size=0.20, random_state=42)"
   ]
  },
  {
   "cell_type": "code",
   "execution_count": 13,
   "metadata": {
    "ExecuteTime": {
     "end_time": "2019-11-17T23:39:45.351474Z",
     "start_time": "2019-11-17T23:39:45.344495Z"
    }
   },
   "outputs": [],
   "source": [
    "#setting up the ranges for hyperparameters\n",
    "param_dt={\"max_depth\":range(8,20),\"min_samples_leaf\":range(70,260,10),\n",
    "          \"class_weight\":[\"balanced\", None]}"
   ]
  },
  {
   "cell_type": "code",
   "execution_count": 14,
   "metadata": {
    "ExecuteTime": {
     "end_time": "2019-11-17T23:40:05.853601Z",
     "start_time": "2019-11-17T23:39:45.354468Z"
    }
   },
   "outputs": [
    {
     "name": "stderr",
     "output_type": "stream",
     "text": [
      "C:\\Users\\Srbuhi\\Anaconda3\\lib\\site-packages\\sklearn\\model_selection\\_search.py:841: DeprecationWarning: The default of the `iid` parameter will change from True to False in version 0.22 and will be removed in 0.24. This will change numeric results when test-set sizes are unequal.\n",
      "  DeprecationWarning)\n"
     ]
    },
    {
     "data": {
      "text/plain": [
       "GridSearchCV(cv=5, error_score='raise-deprecating',\n",
       "       estimator=DecisionTreeClassifier(class_weight=None, criterion='gini', max_depth=None,\n",
       "            max_features=None, max_leaf_nodes=None,\n",
       "            min_impurity_decrease=0.0, min_impurity_split=None,\n",
       "            min_samples_leaf=1, min_samples_split=2,\n",
       "            min_weight_fraction_leaf=0.0, presort=False, random_state=42,\n",
       "            splitter='best'),\n",
       "       fit_params=None, iid='warn', n_jobs=2,\n",
       "       param_grid={'max_depth': range(8, 20), 'min_samples_leaf': range(70, 260, 10), 'class_weight': ['balanced', None]},\n",
       "       pre_dispatch='2*n_jobs', refit=True, return_train_score='warn',\n",
       "       scoring='recall', verbose=0)"
      ]
     },
     "execution_count": 14,
     "metadata": {},
     "output_type": "execute_result"
    }
   ],
   "source": [
    "#Cross-Validated Gridsearch using parameters, use n_jobs=-1 for faster computing and \n",
    "gs_dt=GridSearchCV(estimator=DecisionTreeClassifier(random_state=42),param_grid=param_dt,scoring=\"recall\",cv=5,n_jobs=2)\n",
    "gs_dt.fit(X0,Y0)"
   ]
  },
  {
   "cell_type": "code",
   "execution_count": 15,
   "metadata": {
    "ExecuteTime": {
     "end_time": "2019-11-17T23:40:05.862576Z",
     "start_time": "2019-11-17T23:40:05.855597Z"
    }
   },
   "outputs": [
    {
     "data": {
      "text/plain": [
       "{'class_weight': 'balanced', 'max_depth': 8, 'min_samples_leaf': 80}"
      ]
     },
     "execution_count": 15,
     "metadata": {},
     "output_type": "execute_result"
    }
   ],
   "source": [
    "#let's see the optimal parameters\n",
    "gs_dt.best_params_"
   ]
  },
  {
   "cell_type": "code",
   "execution_count": 16,
   "metadata": {
    "ExecuteTime": {
     "end_time": "2019-11-17T23:40:05.898483Z",
     "start_time": "2019-11-17T23:40:05.865571Z"
    }
   },
   "outputs": [],
   "source": [
    "#fitting the model with best parameters\n",
    "dt_grid=DecisionTreeClassifier(class_weight=\"balanced\",max_depth=8,\n",
    "                             min_samples_leaf=80, random_state=42).fit(X0,Y0)\n",
    "\n",
    "#getting probabilities\n",
    "Y0_dt_grid=dt_grid.predict_proba(X0)[:,1]\n",
    "Y1_dt_grid=dt_grid.predict_proba(X1)[:,1]\n"
   ]
  },
  {
   "cell_type": "code",
   "execution_count": 17,
   "metadata": {
    "ExecuteTime": {
     "end_time": "2019-11-17T23:40:06.055063Z",
     "start_time": "2019-11-17T23:40:05.905463Z"
    }
   },
   "outputs": [
    {
     "name": "stdout",
     "output_type": "stream",
     "text": [
      "Recall Train for Tuned DT: 0.85\n",
      "Recall Test for Tuned DT: 0.84\n",
      "Accuracy Train for Tuned DT: 0.82\n",
      "Accuracy Test for Tuned DT: 0.82\n",
      "ROC_AUC Train for Tuned DT: 0.91\n",
      "ROC_AUC Test for Tuned DT: 0.87\n",
      "Mean 5-fold Recall score for DT Tuned hyperparameters: 0.81\n"
     ]
    }
   ],
   "source": [
    "#calculating roc auc score \n",
    "print(\"Recall Train for Tuned DT:\",recall_score(Y0,dt_grid.predict(X0)).round(2))\n",
    "print(\"Recall Test for Tuned DT:\",roc_auc_score(Y1,dt_grid.predict(X1)).round(2))\n",
    "print(\"Accuracy Train for Tuned DT:\",accuracy_score(Y0,dt_grid.predict(X0)).round(2))\n",
    "print(\"Accuracy Test for Tuned DT:\",accuracy_score(Y1,dt_grid.predict(X1)).round(2))\n",
    "print(\"ROC_AUC Train for Tuned DT:\",roc_auc_score(Y0,Y0_dt_grid).round(2))\n",
    "print(\"ROC_AUC Test for Tuned DT:\",roc_auc_score(Y1,Y1_dt_grid).round(2))\n",
    "#Mean cross val score for model with default hyperparameters\n",
    "print(\"Mean 5-fold Recall score for DT Tuned hyperparameters:\",np.mean(cross_val_score(estimator=dt_grid, X=X,y=Y,cv=5, scoring=\"recall\")).round(2))"
   ]
  },
  {
   "cell_type": "markdown",
   "metadata": {},
   "source": [
    "### Decision Tree on transformed data"
   ]
  },
  {
   "cell_type": "markdown",
   "metadata": {},
   "source": [
    "I saved the transformed data from the previous HW into csv file to use it here. Let's see how DT will perform in this case."
   ]
  },
  {
   "cell_type": "code",
   "execution_count": 18,
   "metadata": {
    "ExecuteTime": {
     "end_time": "2019-11-17T23:40:06.076007Z",
     "start_time": "2019-11-17T23:40:06.057058Z"
    }
   },
   "outputs": [],
   "source": [
    "data_tr=pd.read_csv('transformed_telco_churn.csv')"
   ]
  },
  {
   "cell_type": "code",
   "execution_count": 19,
   "metadata": {
    "ExecuteTime": {
     "end_time": "2019-11-17T23:40:06.089971Z",
     "start_time": "2019-11-17T23:40:06.077005Z"
    }
   },
   "outputs": [
    {
     "name": "stdout",
     "output_type": "stream",
     "text": [
      "<class 'pandas.core.frame.DataFrame'>\n",
      "RangeIndex: 3333 entries, 0 to 3332\n",
      "Data columns (total 7 columns):\n",
      "Day Mins               3333 non-null float64\n",
      "CustServ Calls         3333 non-null int64\n",
      "Churn                  3333 non-null int64\n",
      "Day Charge             3333 non-null float64\n",
      "Eve Charge             3333 non-null float64\n",
      "VMail Message_other    3333 non-null int64\n",
      "Int'l Plan_1           3333 non-null int64\n",
      "dtypes: float64(3), int64(4)\n",
      "memory usage: 182.4 KB\n"
     ]
    }
   ],
   "source": [
    "#as you see, we have new, reduced dataset for telco churn\n",
    "data_tr.info()"
   ]
  },
  {
   "cell_type": "code",
   "execution_count": 20,
   "metadata": {
    "ExecuteTime": {
     "end_time": "2019-11-17T23:40:06.110913Z",
     "start_time": "2019-11-17T23:40:06.092961Z"
    }
   },
   "outputs": [],
   "source": [
    "#making dummes,train test split\n",
    "data_dum_tr=pd.get_dummies(data_tr, drop_first=True)"
   ]
  },
  {
   "cell_type": "code",
   "execution_count": 21,
   "metadata": {
    "ExecuteTime": {
     "end_time": "2019-11-17T23:40:06.120886Z",
     "start_time": "2019-11-17T23:40:06.112909Z"
    }
   },
   "outputs": [],
   "source": [
    "#separating X and Y\n",
    "Y_tr=data_dum_tr[\"Churn\"]\n",
    "X_tr=data_dum_tr.drop(\"Churn\",axis=1)"
   ]
  },
  {
   "cell_type": "code",
   "execution_count": 22,
   "metadata": {
    "ExecuteTime": {
     "end_time": "2019-11-17T23:40:06.134863Z",
     "start_time": "2019-11-17T23:40:06.124876Z"
    }
   },
   "outputs": [],
   "source": [
    "#splitting the data into train and test sets\n",
    "X0_tr, X1_tr, Y0_tr, Y1_tr = train_test_split(X_tr, Y_tr, test_size=0.20, random_state=42)"
   ]
  },
  {
   "cell_type": "code",
   "execution_count": 23,
   "metadata": {
    "ExecuteTime": {
     "end_time": "2019-11-17T23:40:06.142827Z",
     "start_time": "2019-11-17T23:40:06.136844Z"
    }
   },
   "outputs": [],
   "source": [
    "#setting up the ranges for hyperparameters\n",
    "param_dt_tr={\"max_depth\":range(10,20),\"min_samples_leaf\":range(10,100,5),\n",
    "          \"class_weight\":[\"balanced\", None]}"
   ]
  },
  {
   "cell_type": "code",
   "execution_count": 24,
   "metadata": {
    "ExecuteTime": {
     "end_time": "2019-11-17T23:40:17.620141Z",
     "start_time": "2019-11-17T23:40:06.145819Z"
    }
   },
   "outputs": [
    {
     "data": {
      "text/plain": [
       "GridSearchCV(cv=5, error_score='raise-deprecating',\n",
       "       estimator=DecisionTreeClassifier(class_weight=None, criterion='gini', max_depth=None,\n",
       "            max_features=None, max_leaf_nodes=None,\n",
       "            min_impurity_decrease=0.0, min_impurity_split=None,\n",
       "            min_samples_leaf=1, min_samples_split=2,\n",
       "            min_weight_fraction_leaf=0.0, presort=False, random_state=42,\n",
       "            splitter='best'),\n",
       "       fit_params=None, iid='warn', n_jobs=2,\n",
       "       param_grid={'max_depth': range(10, 20), 'min_samples_leaf': range(10, 100, 5), 'class_weight': ['balanced', None]},\n",
       "       pre_dispatch='2*n_jobs', refit=True, return_train_score='warn',\n",
       "       scoring='recall', verbose=0)"
      ]
     },
     "execution_count": 24,
     "metadata": {},
     "output_type": "execute_result"
    }
   ],
   "source": [
    "#Cross-Validated Gridsearch using parameters, use n_jobs=-1 for faster computing and \n",
    "gs_dt_tr=GridSearchCV(estimator=DecisionTreeClassifier(random_state=42),param_grid=param_dt_tr,scoring=\"recall\",cv=5,n_jobs=2)\n",
    "gs_dt_tr.fit(X0_tr,Y0_tr)"
   ]
  },
  {
   "cell_type": "code",
   "execution_count": 25,
   "metadata": {
    "ExecuteTime": {
     "end_time": "2019-11-17T23:40:17.627122Z",
     "start_time": "2019-11-17T23:40:17.622138Z"
    }
   },
   "outputs": [
    {
     "data": {
      "text/plain": [
       "{'class_weight': 'balanced', 'max_depth': 10, 'min_samples_leaf': 80}"
      ]
     },
     "execution_count": 25,
     "metadata": {},
     "output_type": "execute_result"
    }
   ],
   "source": [
    "#let's see the optimal parameters\n",
    "gs_dt_tr.best_params_"
   ]
  },
  {
   "cell_type": "code",
   "execution_count": 26,
   "metadata": {
    "ExecuteTime": {
     "end_time": "2019-11-17T23:40:17.648065Z",
     "start_time": "2019-11-17T23:40:17.630114Z"
    }
   },
   "outputs": [],
   "source": [
    "#fitting the model with best parameters\n",
    "dt_grid_tr=DecisionTreeClassifier(class_weight=\"balanced\",max_depth=10,\n",
    "                             min_samples_leaf=80,random_state=42).fit(X0_tr,Y0_tr)\n",
    "\n",
    "#getting probabilities\n",
    "Y0_dt_grid_tr=dt_grid_tr.predict_proba(X0_tr)[:,1]\n",
    "Y1_dt_grid_tr=dt_grid_tr.predict_proba(X1_tr)[:,1]\n"
   ]
  },
  {
   "cell_type": "code",
   "execution_count": 27,
   "metadata": {
    "ExecuteTime": {
     "end_time": "2019-11-17T23:40:17.727854Z",
     "start_time": "2019-11-17T23:40:17.650097Z"
    }
   },
   "outputs": [
    {
     "name": "stdout",
     "output_type": "stream",
     "text": [
      "Recall Train for Tuned DT: 0.85\n",
      "Recall Test for Tuned DT: 0.84\n",
      "Accuracy Train for Tuned DT: 0.82\n",
      "Accuracy Test for Tuned DT: 0.82\n",
      "ROC_AUC Train for Tuned DT: 0.9\n",
      "ROC_AUC Test for Tuned DT: 0.88\n",
      "Mean 5-fold Recall score for DT Tuned hyperparameters: 0.81\n"
     ]
    }
   ],
   "source": [
    "#calculating roc auc score \n",
    "print(\"Recall Train for Tuned DT:\",recall_score(Y0_tr,dt_grid_tr.predict(X0_tr)).round(2))\n",
    "print(\"Recall Test for Tuned DT:\",roc_auc_score(Y1_tr,dt_grid_tr.predict(X1_tr)).round(2))\n",
    "print(\"Accuracy Train for Tuned DT:\",accuracy_score(Y0_tr,dt_grid_tr.predict(X0_tr)).round(2))\n",
    "print(\"Accuracy Test for Tuned DT:\",accuracy_score(Y1_tr,dt_grid_tr.predict(X1_tr)).round(2))\n",
    "print(\"ROC_AUC Train for Tuned DT:\",roc_auc_score(Y0_tr,Y0_dt_grid_tr).round(2))\n",
    "print(\"ROC_AUC Test for Tuned DT:\",roc_auc_score(Y1_tr,Y1_dt_grid_tr).round(2))\n",
    "#Mean cross val score for model with default hyperparameters\n",
    "print(\"Mean 5-fold Recall score for DT Tuned hyperparameters:\",np.mean(cross_val_score(estimator=dt_grid_tr, X=X_tr,y=Y_tr,cv=5, scoring=\"recall\")).round(2))"
   ]
  },
  {
   "cell_type": "markdown",
   "metadata": {},
   "source": [
    "As we see, the only improvement is with ROC-AUC score: recall on test set and cross-val score remain the same. Thus, we will continue with the first model, as it has more features and can provide more information from customer behavior analysis point."
   ]
  },
  {
   "cell_type": "markdown",
   "metadata": {},
   "source": [
    "### Conclusion, selection of the winning model, feature importances, gain and lift charts"
   ]
  },
  {
   "cell_type": "markdown",
   "metadata": {},
   "source": [
    "We have chosen to select as winner the first model, as it has more features and could be more useful in future in terms of analysing and understanding reasons of customer churn. From metrics comparison point, both models have same recall on train-test sets and in cross-val score. Thus, let's see what are the most important features and draw gain and lift charts for the model based on raw data.\n",
    "According to the first model, the most important feature is Cust_serve calls, which contributes to almost 32% gini reduction. Next comes International Plan and Daytime Minutes."
   ]
  },
  {
   "cell_type": "code",
   "execution_count": 28,
   "metadata": {
    "ExecuteTime": {
     "end_time": "2019-11-17T23:40:17.735830Z",
     "start_time": "2019-11-17T23:40:17.728849Z"
    }
   },
   "outputs": [
    {
     "data": {
      "text/plain": [
       "array([0.00568197, 0.        , 0.21765284, 0.00622683, 0.00726445,\n",
       "       0.        , 0.31601549, 0.26112743, 0.01937789, 0.09870292,\n",
       "       0.        , 0.04266209, 0.00867809, 0.00409039, 0.        ,\n",
       "       0.0125196 , 0.        ])"
      ]
     },
     "execution_count": 28,
     "metadata": {},
     "output_type": "execute_result"
    }
   ],
   "source": [
    "dt_grid.feature_importances_"
   ]
  },
  {
   "cell_type": "code",
   "execution_count": 29,
   "metadata": {
    "ExecuteTime": {
     "end_time": "2019-11-17T23:40:17.750791Z",
     "start_time": "2019-11-17T23:40:17.737861Z"
    }
   },
   "outputs": [
    {
     "data": {
      "text/html": [
       "<div>\n",
       "<style scoped>\n",
       "    .dataframe tbody tr th:only-of-type {\n",
       "        vertical-align: middle;\n",
       "    }\n",
       "\n",
       "    .dataframe tbody tr th {\n",
       "        vertical-align: top;\n",
       "    }\n",
       "\n",
       "    .dataframe thead th {\n",
       "        text-align: right;\n",
       "    }\n",
       "</style>\n",
       "<table border=\"1\" class=\"dataframe\">\n",
       "  <thead>\n",
       "    <tr style=\"text-align: right;\">\n",
       "      <th></th>\n",
       "      <th>Feature_imp</th>\n",
       "    </tr>\n",
       "  </thead>\n",
       "  <tbody>\n",
       "    <tr>\n",
       "      <th>CustServ Calls</th>\n",
       "      <td>0.316015</td>\n",
       "    </tr>\n",
       "    <tr>\n",
       "      <th>Int'l Plan</th>\n",
       "      <td>0.261127</td>\n",
       "    </tr>\n",
       "    <tr>\n",
       "      <th>Day Mins</th>\n",
       "      <td>0.217653</td>\n",
       "    </tr>\n",
       "    <tr>\n",
       "      <th>Day Charge</th>\n",
       "      <td>0.098703</td>\n",
       "    </tr>\n",
       "    <tr>\n",
       "      <th>Eve Charge</th>\n",
       "      <td>0.042662</td>\n",
       "    </tr>\n",
       "  </tbody>\n",
       "</table>\n",
       "</div>"
      ],
      "text/plain": [
       "                Feature_imp\n",
       "CustServ Calls     0.316015\n",
       "Int'l Plan         0.261127\n",
       "Day Mins           0.217653\n",
       "Day Charge         0.098703\n",
       "Eve Charge         0.042662"
      ]
     },
     "execution_count": 29,
     "metadata": {},
     "output_type": "execute_result"
    }
   ],
   "source": [
    "#making a dataframe for convenient usage\n",
    "feat_imp=pd.DataFrame(dt_grid.feature_importances_,index=X.columns,\n",
    "                      columns=[\"Feature_imp\"])\n",
    "feat_imp=feat_imp.sort_values(by=\"Feature_imp\",ascending=False)\n",
    "feat_imp.head()"
   ]
  },
  {
   "cell_type": "code",
   "execution_count": 30,
   "metadata": {
    "ExecuteTime": {
     "end_time": "2019-11-17T23:40:17.944311Z",
     "start_time": "2019-11-17T23:40:17.752785Z"
    }
   },
   "outputs": [
    {
     "data": {
      "image/png": "[encoded data removed]",
      "text/plain": [
       "<Figure size 432x288 with 1 Axes>"
      ]
     },
     "metadata": {
      "needs_background": "light"
     },
     "output_type": "display_data"
    }
   ],
   "source": [
    "#visualizing feature importances\n",
    "feat_imp.head(7).plot.barh()\n",
    "plt.title(\"Most important features\")\n",
    "plt.show()"
   ]
  },
  {
   "cell_type": "code",
   "execution_count": 31,
   "metadata": {
    "ExecuteTime": {
     "end_time": "2019-11-17T23:40:18.157659Z",
     "start_time": "2019-11-17T23:40:17.946282Z"
    }
   },
   "outputs": [
    {
     "name": "stderr",
     "output_type": "stream",
     "text": [
      "C:\\Users\\Srbuhi\\Anaconda3\\lib\\site-packages\\matplotlib\\cbook\\__init__.py:424: MatplotlibDeprecationWarning: \n",
      "Passing one of 'on', 'true', 'off', 'false' as a boolean is deprecated; use an actual boolean (True/False) instead.\n",
      "  warn_deprecated(\"2.2\", \"Passing one of 'on', 'true', 'off', 'false' as a \"\n"
     ]
    },
    {
     "data": {
      "image/png": "[encoded data removed]",
      "text/plain": [
       "<Figure size 432x288 with 1 Axes>"
      ]
     },
     "metadata": {
      "needs_background": "light"
     },
     "output_type": "display_data"
    }
   ],
   "source": [
    "#gain and lift charts\n",
    "#Cummulative gain curve\n",
    "skplt.metrics.plot_cumulative_gain(Y1,dt_grid.predict_proba(X1))\n",
    "plt.show()"
   ]
  },
  {
   "cell_type": "code",
   "execution_count": 32,
   "metadata": {
    "ExecuteTime": {
     "end_time": "2019-11-17T23:40:18.322256Z",
     "start_time": "2019-11-17T23:40:18.159653Z"
    }
   },
   "outputs": [
    {
     "name": "stderr",
     "output_type": "stream",
     "text": [
      "C:\\Users\\Srbuhi\\Anaconda3\\lib\\site-packages\\matplotlib\\cbook\\__init__.py:424: MatplotlibDeprecationWarning: \n",
      "Passing one of 'on', 'true', 'off', 'false' as a boolean is deprecated; use an actual boolean (True/False) instead.\n",
      "  warn_deprecated(\"2.2\", \"Passing one of 'on', 'true', 'off', 'false' as a \"\n"
     ]
    },
    {
     "data": {
      "image/png": "[encoded data removed]",
      "text/plain": [
       "<Figure size 432x288 with 1 Axes>"
      ]
     },
     "metadata": {
      "needs_background": "light"
     },
     "output_type": "display_data"
    }
   ],
   "source": [
    "#lift curve\n",
    "skplt.metrics.plot_lift_curve(Y1,dt_grid.predict_proba(X1))\n",
    "plt.show()"
   ]
  }
 ],
 "metadata": {
  "kernelspec": {
   "display_name": "Python 3",
   "language": "python",
   "name": "python3"
  },
  "language_info": {
   "codemirror_mode": {
    "name": "ipython",
    "version": 3
   },
   "file_extension": ".py",
   "mimetype": "text/x-python",
   "name": "python",
   "nbconvert_exporter": "python",
   "pygments_lexer": "ipython3",
   "version": "3.7.1"
  },
  "toc": {
   "base_numbering": 1,
   "nav_menu": {},
   "number_sections": true,
   "sideBar": true,
   "skip_h1_title": false,
   "title_cell": "Table of Contents",
   "title_sidebar": "Contents",
   "toc_cell": false,
   "toc_position": {},
   "toc_section_display": true,
   "toc_window_display": false
  }
 },
 "nbformat": 4,
 "nbformat_minor": 2
}
