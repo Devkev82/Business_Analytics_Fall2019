{
 "cells": [
  {
   "cell_type": "markdown",
   "metadata": {},
   "source": [
    "# Linear,Decision Tree and  RandomForest Regressions"
   ]
  },
  {
   "cell_type": "markdown",
   "metadata": {},
   "source": [
    "This notebook provides an example code of comparing <b>Linear, DT </b>and <b>RF Regressions</b> performance using  *MSE* and *RMSE* measures. The dependent variable is <b>*Final_grade*</b>. Our aim is comparing metrics of different models.\n",
    "We will build models on non-transformed data, then use the data transformation already done in Session 3 and see how models perform both in case of noisy and good data.\n",
    "    \n",
    "<br>The general sequence of steps for the analysis the following:\n",
    "1. [Descriptive analysis](#pandas)\n",
    "2. [Linear, DT and RF Regressions on Not transformed data](#stats)\n",
    "3. [Linear, DT and RF Regressions on transformed data](#stats1)\n",
    "5. [Conclusion](#stats2)"
   ]
  },
  {
   "cell_type": "markdown",
   "metadata": {},
   "source": [
    " <h2>1.Descriptive analysis</h2> <a name=\"pandas\"></a>"
   ]
  },
  {
   "cell_type": "markdown",
   "metadata": {},
   "source": [
    "The initial data consists of 32 variables of 395 observations.There are no duplicates, missing values and variables with single value for all observations.In order to make gridsearch and cross-validation score calculations eas  \n",
    "We will first implement all 3 models on raw, unchanged data, observe the results and then perform the same analysis on transformed data."
   ]
  },
  {
   "cell_type": "code",
   "execution_count": 1,
   "metadata": {
    "ExecuteTime": {
     "end_time": "2019-11-12T22:02:12.006077Z",
     "start_time": "2019-11-12T22:02:09.949450Z"
    }
   },
   "outputs": [],
   "source": [
    "#for not showing warnings\n",
    "import warnings\n",
    "warnings.filterwarnings('ignore')\n",
    "\n",
    "#data manipulation and visualization libraries\n",
    "import numpy as np\n",
    "import pandas as pd\n",
    "import matplotlib.pyplot as plt\n",
    "import seaborn as sns\n",
    "\n",
    "#libraries for modelling and evaluation\n",
    "import sklearn\n",
    "from sklearn.linear_model import LinearRegression\n",
    "from sklearn.tree import DecisionTreeRegressor\n",
    "from sklearn.ensemble import RandomForestRegressor, GradientBoostingRegressor\n",
    "from sklearn.model_selection import train_test_split, GridSearchCV,cross_val_score\n",
    "from sklearn.metrics import mean_squared_error\n",
    "from math import sqrt\n",
    "import scikitplot as skplt #in case of error run <<!pip install scikit-plot>> and run the code again\n"
   ]
  },
  {
   "cell_type": "code",
   "execution_count": 2,
   "metadata": {
    "ExecuteTime": {
     "end_time": "2019-11-12T22:02:14.696094Z",
     "start_time": "2019-11-12T22:02:12.009010Z"
    }
   },
   "outputs": [],
   "source": [
    "#importing the data and making a dataframe\n",
    "data=pd.read_excel(\"CLV.xlsx\")"
   ]
  },
  {
   "cell_type": "code",
   "execution_count": 3,
   "metadata": {
    "ExecuteTime": {
     "end_time": "2019-11-12T22:02:14.731729Z",
     "start_time": "2019-11-12T22:02:14.699815Z"
    }
   },
   "outputs": [
    {
     "name": "stdout",
     "output_type": "stream",
     "text": [
      "<class 'pandas.core.frame.DataFrame'>\n",
      "RangeIndex: 9134 entries, 0 to 9133\n",
      "Data columns (total 24 columns):\n",
      "Customer                         9134 non-null object\n",
      "State                            9134 non-null object\n",
      "Customer_Lifetime_Value          9134 non-null float64\n",
      "Response                         9134 non-null object\n",
      "Coverage                         9134 non-null object\n",
      "Education                        9134 non-null object\n",
      "Effective_To_Date                9134 non-null datetime64[ns]\n",
      "EmploymentStatus                 9134 non-null object\n",
      "Gender                           9134 non-null object\n",
      "Income                           9134 non-null int64\n",
      "Location_Code                    9134 non-null object\n",
      "Marital_Status                   9134 non-null object\n",
      "Monthly_Premium_Auto             9134 non-null int64\n",
      "Months_Since_Last_Claim          9134 non-null int64\n",
      "Months_Since_Policy_Inception    9134 non-null int64\n",
      "Number_of_Open_Complaints        9134 non-null int64\n",
      "Number_of_Policies               9134 non-null int64\n",
      "Policy_Type                      9134 non-null object\n",
      "Policy                           9134 non-null object\n",
      "Renew_Offer_Type                 9134 non-null object\n",
      "Sales_Channel                    9134 non-null object\n",
      "Total_Claim_Amount               9134 non-null float64\n",
      "Vehicle_Class                    9134 non-null object\n",
      "Vehicle_Size                     9134 non-null object\n",
      "dtypes: datetime64[ns](1), float64(2), int64(6), object(15)\n",
      "memory usage: 1.7+ MB\n"
     ]
    }
   ],
   "source": [
    "#data overview\n",
    "data.info()"
   ]
  },
  {
   "cell_type": "code",
   "execution_count": 4,
   "metadata": {
    "ExecuteTime": {
     "end_time": "2019-11-12T22:02:14.782592Z",
     "start_time": "2019-11-12T22:02:14.733723Z"
    }
   },
   "outputs": [
    {
     "data": {
      "text/html": [
       "<div>\n",
       "<style scoped>\n",
       "    .dataframe tbody tr th:only-of-type {\n",
       "        vertical-align: middle;\n",
       "    }\n",
       "\n",
       "    .dataframe tbody tr th {\n",
       "        vertical-align: top;\n",
       "    }\n",
       "\n",
       "    .dataframe thead th {\n",
       "        text-align: right;\n",
       "    }\n",
       "</style>\n",
       "<table border=\"1\" class=\"dataframe\">\n",
       "  <thead>\n",
       "    <tr style=\"text-align: right;\">\n",
       "      <th></th>\n",
       "      <th>Customer</th>\n",
       "      <th>State</th>\n",
       "      <th>Customer_Lifetime_Value</th>\n",
       "      <th>Response</th>\n",
       "      <th>Coverage</th>\n",
       "      <th>Education</th>\n",
       "      <th>Effective_To_Date</th>\n",
       "      <th>EmploymentStatus</th>\n",
       "      <th>Gender</th>\n",
       "      <th>Income</th>\n",
       "      <th>...</th>\n",
       "      <th>Months_Since_Policy_Inception</th>\n",
       "      <th>Number_of_Open_Complaints</th>\n",
       "      <th>Number_of_Policies</th>\n",
       "      <th>Policy_Type</th>\n",
       "      <th>Policy</th>\n",
       "      <th>Renew_Offer_Type</th>\n",
       "      <th>Sales_Channel</th>\n",
       "      <th>Total_Claim_Amount</th>\n",
       "      <th>Vehicle_Class</th>\n",
       "      <th>Vehicle_Size</th>\n",
       "    </tr>\n",
       "  </thead>\n",
       "  <tbody>\n",
       "    <tr>\n",
       "      <th>0</th>\n",
       "      <td>BU79786</td>\n",
       "      <td>Washington</td>\n",
       "      <td>2763.519279</td>\n",
       "      <td>No</td>\n",
       "      <td>Basic</td>\n",
       "      <td>Bachelor</td>\n",
       "      <td>2011-02-24</td>\n",
       "      <td>Employed</td>\n",
       "      <td>F</td>\n",
       "      <td>56274</td>\n",
       "      <td>...</td>\n",
       "      <td>5</td>\n",
       "      <td>0</td>\n",
       "      <td>1</td>\n",
       "      <td>Corporate Auto</td>\n",
       "      <td>Corporate L3</td>\n",
       "      <td>Offer1</td>\n",
       "      <td>Agent</td>\n",
       "      <td>384.811147</td>\n",
       "      <td>Two-Door Car</td>\n",
       "      <td>Medsize</td>\n",
       "    </tr>\n",
       "    <tr>\n",
       "      <th>1</th>\n",
       "      <td>QZ44356</td>\n",
       "      <td>Arizona</td>\n",
       "      <td>6979.535903</td>\n",
       "      <td>No</td>\n",
       "      <td>Extended</td>\n",
       "      <td>Bachelor</td>\n",
       "      <td>2011-01-31</td>\n",
       "      <td>Unemployed</td>\n",
       "      <td>F</td>\n",
       "      <td>0</td>\n",
       "      <td>...</td>\n",
       "      <td>42</td>\n",
       "      <td>0</td>\n",
       "      <td>8</td>\n",
       "      <td>Personal Auto</td>\n",
       "      <td>Personal L3</td>\n",
       "      <td>Offer3</td>\n",
       "      <td>Agent</td>\n",
       "      <td>1131.464935</td>\n",
       "      <td>Four-Door Car</td>\n",
       "      <td>Medsize</td>\n",
       "    </tr>\n",
       "    <tr>\n",
       "      <th>2</th>\n",
       "      <td>AI49188</td>\n",
       "      <td>Nevada</td>\n",
       "      <td>12887.431650</td>\n",
       "      <td>No</td>\n",
       "      <td>Premium</td>\n",
       "      <td>Bachelor</td>\n",
       "      <td>2011-02-19</td>\n",
       "      <td>Employed</td>\n",
       "      <td>F</td>\n",
       "      <td>48767</td>\n",
       "      <td>...</td>\n",
       "      <td>38</td>\n",
       "      <td>0</td>\n",
       "      <td>2</td>\n",
       "      <td>Personal Auto</td>\n",
       "      <td>Personal L3</td>\n",
       "      <td>Offer1</td>\n",
       "      <td>Agent</td>\n",
       "      <td>566.472247</td>\n",
       "      <td>Two-Door Car</td>\n",
       "      <td>Medsize</td>\n",
       "    </tr>\n",
       "    <tr>\n",
       "      <th>3</th>\n",
       "      <td>WW63253</td>\n",
       "      <td>California</td>\n",
       "      <td>7645.861827</td>\n",
       "      <td>No</td>\n",
       "      <td>Basic</td>\n",
       "      <td>Bachelor</td>\n",
       "      <td>2011-01-20</td>\n",
       "      <td>Unemployed</td>\n",
       "      <td>M</td>\n",
       "      <td>0</td>\n",
       "      <td>...</td>\n",
       "      <td>65</td>\n",
       "      <td>0</td>\n",
       "      <td>7</td>\n",
       "      <td>Corporate Auto</td>\n",
       "      <td>Corporate L2</td>\n",
       "      <td>Offer1</td>\n",
       "      <td>Call Center</td>\n",
       "      <td>529.881344</td>\n",
       "      <td>SUV</td>\n",
       "      <td>Medsize</td>\n",
       "    </tr>\n",
       "    <tr>\n",
       "      <th>4</th>\n",
       "      <td>HB64268</td>\n",
       "      <td>Washington</td>\n",
       "      <td>2813.692575</td>\n",
       "      <td>No</td>\n",
       "      <td>Basic</td>\n",
       "      <td>Bachelor</td>\n",
       "      <td>2011-02-03</td>\n",
       "      <td>Employed</td>\n",
       "      <td>M</td>\n",
       "      <td>43836</td>\n",
       "      <td>...</td>\n",
       "      <td>44</td>\n",
       "      <td>0</td>\n",
       "      <td>1</td>\n",
       "      <td>Personal Auto</td>\n",
       "      <td>Personal L1</td>\n",
       "      <td>Offer1</td>\n",
       "      <td>Agent</td>\n",
       "      <td>138.130879</td>\n",
       "      <td>Four-Door Car</td>\n",
       "      <td>Medsize</td>\n",
       "    </tr>\n",
       "  </tbody>\n",
       "</table>\n",
       "<p>5 rows × 24 columns</p>\n",
       "</div>"
      ],
      "text/plain": [
       "  Customer       State  Customer_Lifetime_Value Response  Coverage Education  \\\n",
       "0  BU79786  Washington              2763.519279       No     Basic  Bachelor   \n",
       "1  QZ44356     Arizona              6979.535903       No  Extended  Bachelor   \n",
       "2  AI49188      Nevada             12887.431650       No   Premium  Bachelor   \n",
       "3  WW63253  California              7645.861827       No     Basic  Bachelor   \n",
       "4  HB64268  Washington              2813.692575       No     Basic  Bachelor   \n",
       "\n",
       "  Effective_To_Date EmploymentStatus Gender  Income     ...       \\\n",
       "0        2011-02-24         Employed      F   56274     ...        \n",
       "1        2011-01-31       Unemployed      F       0     ...        \n",
       "2        2011-02-19         Employed      F   48767     ...        \n",
       "3        2011-01-20       Unemployed      M       0     ...        \n",
       "4        2011-02-03         Employed      M   43836     ...        \n",
       "\n",
       "  Months_Since_Policy_Inception Number_of_Open_Complaints  Number_of_Policies  \\\n",
       "0                             5                         0                   1   \n",
       "1                            42                         0                   8   \n",
       "2                            38                         0                   2   \n",
       "3                            65                         0                   7   \n",
       "4                            44                         0                   1   \n",
       "\n",
       "      Policy_Type        Policy  Renew_Offer_Type  Sales_Channel  \\\n",
       "0  Corporate Auto  Corporate L3            Offer1          Agent   \n",
       "1   Personal Auto   Personal L3            Offer3          Agent   \n",
       "2   Personal Auto   Personal L3            Offer1          Agent   \n",
       "3  Corporate Auto  Corporate L2            Offer1    Call Center   \n",
       "4   Personal Auto   Personal L1            Offer1          Agent   \n",
       "\n",
       "  Total_Claim_Amount  Vehicle_Class Vehicle_Size  \n",
       "0         384.811147   Two-Door Car      Medsize  \n",
       "1        1131.464935  Four-Door Car      Medsize  \n",
       "2         566.472247   Two-Door Car      Medsize  \n",
       "3         529.881344            SUV      Medsize  \n",
       "4         138.130879  Four-Door Car      Medsize  \n",
       "\n",
       "[5 rows x 24 columns]"
      ]
     },
     "execution_count": 4,
     "metadata": {},
     "output_type": "execute_result"
    }
   ],
   "source": [
    "#have a look at first rows of the dataframe\n",
    "data.head()"
   ]
  },
  {
   "cell_type": "code",
   "execution_count": 5,
   "metadata": {
    "ExecuteTime": {
     "end_time": "2019-11-12T22:02:14.846422Z",
     "start_time": "2019-11-12T22:02:14.784586Z"
    }
   },
   "outputs": [
    {
     "data": {
      "text/html": [
       "<div>\n",
       "<style scoped>\n",
       "    .dataframe tbody tr th:only-of-type {\n",
       "        vertical-align: middle;\n",
       "    }\n",
       "\n",
       "    .dataframe tbody tr th {\n",
       "        vertical-align: top;\n",
       "    }\n",
       "\n",
       "    .dataframe thead th {\n",
       "        text-align: right;\n",
       "    }\n",
       "</style>\n",
       "<table border=\"1\" class=\"dataframe\">\n",
       "  <thead>\n",
       "    <tr style=\"text-align: right;\">\n",
       "      <th></th>\n",
       "      <th>Customer_Lifetime_Value</th>\n",
       "      <th>Income</th>\n",
       "      <th>Monthly_Premium_Auto</th>\n",
       "      <th>Months_Since_Last_Claim</th>\n",
       "      <th>Months_Since_Policy_Inception</th>\n",
       "      <th>Number_of_Open_Complaints</th>\n",
       "      <th>Number_of_Policies</th>\n",
       "      <th>Total_Claim_Amount</th>\n",
       "    </tr>\n",
       "  </thead>\n",
       "  <tbody>\n",
       "    <tr>\n",
       "      <th>count</th>\n",
       "      <td>9134.000000</td>\n",
       "      <td>9134.000000</td>\n",
       "      <td>9134.000000</td>\n",
       "      <td>9134.000000</td>\n",
       "      <td>9134.000000</td>\n",
       "      <td>9134.000000</td>\n",
       "      <td>9134.000000</td>\n",
       "      <td>9134.000000</td>\n",
       "    </tr>\n",
       "    <tr>\n",
       "      <th>mean</th>\n",
       "      <td>8004.940475</td>\n",
       "      <td>37657.380009</td>\n",
       "      <td>93.219291</td>\n",
       "      <td>15.097000</td>\n",
       "      <td>48.064594</td>\n",
       "      <td>0.384388</td>\n",
       "      <td>2.966170</td>\n",
       "      <td>434.088794</td>\n",
       "    </tr>\n",
       "    <tr>\n",
       "      <th>std</th>\n",
       "      <td>6870.967608</td>\n",
       "      <td>30379.904734</td>\n",
       "      <td>34.407967</td>\n",
       "      <td>10.073257</td>\n",
       "      <td>27.905991</td>\n",
       "      <td>0.910384</td>\n",
       "      <td>2.390182</td>\n",
       "      <td>290.500092</td>\n",
       "    </tr>\n",
       "    <tr>\n",
       "      <th>min</th>\n",
       "      <td>1898.007675</td>\n",
       "      <td>0.000000</td>\n",
       "      <td>61.000000</td>\n",
       "      <td>0.000000</td>\n",
       "      <td>0.000000</td>\n",
       "      <td>0.000000</td>\n",
       "      <td>1.000000</td>\n",
       "      <td>0.099007</td>\n",
       "    </tr>\n",
       "    <tr>\n",
       "      <th>25%</th>\n",
       "      <td>3994.251794</td>\n",
       "      <td>0.000000</td>\n",
       "      <td>68.000000</td>\n",
       "      <td>6.000000</td>\n",
       "      <td>24.000000</td>\n",
       "      <td>0.000000</td>\n",
       "      <td>1.000000</td>\n",
       "      <td>272.258244</td>\n",
       "    </tr>\n",
       "    <tr>\n",
       "      <th>50%</th>\n",
       "      <td>5780.182197</td>\n",
       "      <td>33889.500000</td>\n",
       "      <td>83.000000</td>\n",
       "      <td>14.000000</td>\n",
       "      <td>48.000000</td>\n",
       "      <td>0.000000</td>\n",
       "      <td>2.000000</td>\n",
       "      <td>383.945434</td>\n",
       "    </tr>\n",
       "    <tr>\n",
       "      <th>75%</th>\n",
       "      <td>8962.167041</td>\n",
       "      <td>62320.000000</td>\n",
       "      <td>109.000000</td>\n",
       "      <td>23.000000</td>\n",
       "      <td>71.000000</td>\n",
       "      <td>0.000000</td>\n",
       "      <td>4.000000</td>\n",
       "      <td>547.514839</td>\n",
       "    </tr>\n",
       "    <tr>\n",
       "      <th>max</th>\n",
       "      <td>83325.381190</td>\n",
       "      <td>99981.000000</td>\n",
       "      <td>298.000000</td>\n",
       "      <td>35.000000</td>\n",
       "      <td>99.000000</td>\n",
       "      <td>5.000000</td>\n",
       "      <td>9.000000</td>\n",
       "      <td>2893.239678</td>\n",
       "    </tr>\n",
       "  </tbody>\n",
       "</table>\n",
       "</div>"
      ],
      "text/plain": [
       "       Customer_Lifetime_Value        Income  Monthly_Premium_Auto  \\\n",
       "count              9134.000000   9134.000000           9134.000000   \n",
       "mean               8004.940475  37657.380009             93.219291   \n",
       "std                6870.967608  30379.904734             34.407967   \n",
       "min                1898.007675      0.000000             61.000000   \n",
       "25%                3994.251794      0.000000             68.000000   \n",
       "50%                5780.182197  33889.500000             83.000000   \n",
       "75%                8962.167041  62320.000000            109.000000   \n",
       "max               83325.381190  99981.000000            298.000000   \n",
       "\n",
       "       Months_Since_Last_Claim  Months_Since_Policy_Inception  \\\n",
       "count              9134.000000                    9134.000000   \n",
       "mean                 15.097000                      48.064594   \n",
       "std                  10.073257                      27.905991   \n",
       "min                   0.000000                       0.000000   \n",
       "25%                   6.000000                      24.000000   \n",
       "50%                  14.000000                      48.000000   \n",
       "75%                  23.000000                      71.000000   \n",
       "max                  35.000000                      99.000000   \n",
       "\n",
       "       Number_of_Open_Complaints  Number_of_Policies  Total_Claim_Amount  \n",
       "count                9134.000000         9134.000000         9134.000000  \n",
       "mean                    0.384388            2.966170          434.088794  \n",
       "std                     0.910384            2.390182          290.500092  \n",
       "min                     0.000000            1.000000            0.099007  \n",
       "25%                     0.000000            1.000000          272.258244  \n",
       "50%                     0.000000            2.000000          383.945434  \n",
       "75%                     0.000000            4.000000          547.514839  \n",
       "max                     5.000000            9.000000         2893.239678  "
      ]
     },
     "execution_count": 5,
     "metadata": {},
     "output_type": "execute_result"
    }
   ],
   "source": [
    "data.describe()"
   ]
  },
  {
   "cell_type": "code",
   "execution_count": 6,
   "metadata": {
    "ExecuteTime": {
     "end_time": "2019-11-12T22:02:14.972092Z",
     "start_time": "2019-11-12T22:02:14.848419Z"
    }
   },
   "outputs": [
    {
     "name": "stdout",
     "output_type": "stream",
     "text": [
      "Duplicates: 0\n",
      "Missing values: 0\n",
      "Single valued columns: Index([], dtype='object')\n"
     ]
    }
   ],
   "source": [
    "#checking number of duplicates, missing values and columns with a single value\n",
    "print(\"Duplicates:\", data.duplicated().sum())\n",
    "print(\"Missing values:\", data.isna().sum().sum())\n",
    "print(\"Single valued columns:\", data.columns[data.nunique()==1])"
   ]
  },
  {
   "cell_type": "code",
   "execution_count": 7,
   "metadata": {
    "ExecuteTime": {
     "end_time": "2019-11-12T22:02:15.185518Z",
     "start_time": "2019-11-12T22:02:14.974082Z"
    }
   },
   "outputs": [
    {
     "data": {
      "text/plain": [
       "Customer                   9134\n",
       "Customer_Lifetime_Value    8041\n",
       "Income                     5694\n",
       "Total_Claim_Amount         5106\n",
       "dtype: int64"
      ]
     },
     "execution_count": 7,
     "metadata": {},
     "output_type": "execute_result"
    }
   ],
   "source": [
    "data.nunique()[data.nunique()>5000]"
   ]
  },
  {
   "cell_type": "markdown",
   "metadata": {
    "ExecuteTime": {
     "end_time": "2019-11-07T08:31:18.516763Z",
     "start_time": "2019-11-07T08:31:18.510779Z"
    }
   },
   "source": [
    "<h1>Linear, DT and RF Regressions on Not transformed data</h1> <a tag=\"stats\">"
   ]
  },
  {
   "cell_type": "markdown",
   "metadata": {
    "ExecuteTime": {
     "end_time": "2019-11-12T21:16:07.885727Z",
     "start_time": "2019-11-12T21:16:07.877321Z"
    }
   },
   "source": [
    "Performing **Linear regression, Decision Tree regression** and **Random Forest regression** on not transformed CLV data.\n",
    "As we are going to compare one parametric and two non-parametric models, we have to use a score common for all three models.\n",
    "As we will apply regression models, we will use <u>MSE</u> and <u>RMSE</u> metrics.\n",
    "<br>\n",
    "Before starting the analysis, we decided to drop \"Effective_To_Date\" and \"Customer\" variables, as they had too many categories,\n",
    "which not only would result in having a huge sparse matrix of dummy variables, but also \n",
    "would substantially slow down `GridSearch` and `Cross validated score` calculation processes.\n",
    "<br>\n",
    "As the results show, all 3 models have very high mean squared errors. Also, train errors are relatively lower than for test errors. However, the worst performing is Linear Regression and the lowest test error is for Decision Tree regression, RF is overfitting. But in case of comparing cross-validated scores, the winning model for not transformed data is again Decision Tree Regression. "
   ]
  },
  {
   "cell_type": "code",
   "execution_count": 8,
   "metadata": {
    "ExecuteTime": {
     "end_time": "2019-11-12T22:02:15.195488Z",
     "start_time": "2019-11-12T22:02:15.187512Z"
    }
   },
   "outputs": [],
   "source": [
    "#separating Y and X for not transformed data. Also dropping Effective to date and Customer, as not useful variables\n",
    "#with \n",
    "Y_not_tr = data.Customer_Lifetime_Value\n",
    "X_not_tr = data.drop([\"Customer_Lifetime_Value\",\"Effective_To_Date\", \"Customer\"],axis=1)"
   ]
  },
  {
   "cell_type": "code",
   "execution_count": 9,
   "metadata": {
    "ExecuteTime": {
     "end_time": "2019-11-12T22:02:15.241371Z",
     "start_time": "2019-11-12T22:02:15.198481Z"
    }
   },
   "outputs": [],
   "source": [
    "#getting dummies\n",
    "X_not_tr = pd.get_dummies(X_not_tr,drop_first=True)"
   ]
  },
  {
   "cell_type": "code",
   "execution_count": 10,
   "metadata": {
    "ExecuteTime": {
     "end_time": "2019-11-12T22:02:15.258330Z",
     "start_time": "2019-11-12T22:02:15.244358Z"
    }
   },
   "outputs": [],
   "source": [
    "#splitting the data into train and test sets\n",
    "X0_not_tr, X1_not_tr, Y0_not_tr, Y1_not_tr = train_test_split(X_not_tr, Y_not_tr, test_size=0.25, random_state=42)"
   ]
  },
  {
   "cell_type": "code",
   "execution_count": 11,
   "metadata": {
    "ExecuteTime": {
     "end_time": "2019-11-12T22:02:15.282256Z",
     "start_time": "2019-11-12T22:02:15.259319Z"
    }
   },
   "outputs": [
    {
     "data": {
      "text/plain": [
       "LinearRegression(copy_X=True, fit_intercept=True, n_jobs=None,\n",
       "         normalize=False)"
      ]
     },
     "execution_count": 11,
     "metadata": {},
     "output_type": "execute_result"
    }
   ],
   "source": [
    "#building the linear regression model\n",
    "lr_not_tr=LinearRegression()\n",
    "lr_not_tr.fit(X0_not_tr,Y0_not_tr)"
   ]
  },
  {
   "cell_type": "code",
   "execution_count": 12,
   "metadata": {
    "ExecuteTime": {
     "end_time": "2019-11-12T22:02:15.302203Z",
     "start_time": "2019-11-12T22:02:15.289240Z"
    }
   },
   "outputs": [],
   "source": [
    "#making predictions(y^) for train and test sets\n",
    "Y1_linear_not_tr=lr_not_tr.predict(X1_not_tr)\n",
    "Y0_linear_not_tr=lr_not_tr.predict(X0_not_tr)"
   ]
  },
  {
   "cell_type": "code",
   "execution_count": 13,
   "metadata": {
    "ExecuteTime": {
     "end_time": "2019-11-12T22:02:15.316165Z",
     "start_time": "2019-11-12T22:02:15.308189Z"
    }
   },
   "outputs": [
    {
     "name": "stdout",
     "output_type": "stream",
     "text": [
      "MSE_train_lr: 38148406.899947464\n",
      "MSE_test_lr: 42811329.091303304\n"
     ]
    }
   ],
   "source": [
    "#MSE for linear regression\n",
    "MSE_train_lr_not_tr=mean_squared_error(Y0_not_tr,Y0_linear_not_tr)\n",
    "MSE_test_lr_not_tr=mean_squared_error(Y1_not_tr,Y1_linear_not_tr)\n",
    "print(\"MSE_train_lr:\",MSE_train_lr_not_tr)\n",
    "print(\"MSE_test_lr:\",MSE_test_lr_not_tr)"
   ]
  },
  {
   "cell_type": "code",
   "execution_count": 14,
   "metadata": {
    "ExecuteTime": {
     "end_time": "2019-11-12T22:02:15.325142Z",
     "start_time": "2019-11-12T22:02:15.319158Z"
    }
   },
   "outputs": [
    {
     "name": "stdout",
     "output_type": "stream",
     "text": [
      "RMSE_train_lr: 6176.439662131207\n",
      "RMSE_test_lr: 6543.036687296144\n"
     ]
    }
   ],
   "source": [
    "RMSE_train_lr_not_tr=sqrt(MSE_train_lr_not_tr)\n",
    "RMSE_test_lr_not_tr=sqrt(MSE_test_lr_not_tr)\n",
    "print(\"RMSE_train_lr:\",RMSE_train_lr_not_tr)\n",
    "print(\"RMSE_test_lr:\",RMSE_test_lr_not_tr)"
   ]
  },
  {
   "cell_type": "markdown",
   "metadata": {},
   "source": [
    "**NOTE!** As cross-validated scoring always maximizes the score, so scores which need to be minimized are negated in order for the function work correctly. The score that is returned is therefore negated when it is a score that should be minimized and left positive if it is a score that should be maximized.Thus metrics which measure the distance between\n",
    "the model and the data, like `metrics.mean_squared_error`, are\n",
    "available as `neg_mean_squared_error` which return the negated value\n",
    "of the metric."
   ]
  },
  {
   "cell_type": "code",
   "execution_count": 15,
   "metadata": {
    "ExecuteTime": {
     "end_time": "2019-11-12T22:02:15.405925Z",
     "start_time": "2019-11-12T22:02:15.328133Z"
    }
   },
   "outputs": [
    {
     "data": {
      "text/plain": [
       "40077663.09579298"
      ]
     },
     "execution_count": 15,
     "metadata": {},
     "output_type": "execute_result"
    }
   ],
   "source": [
    "#Let's see the mean cross-validation score for the whole data, for 3 folds\n",
    "np.mean(-cross_val_score(estimator=lr_not_tr,X=X_not_tr, y=Y_not_tr, scoring=\"neg_mean_squared_error\", cv=3))"
   ]
  },
  {
   "cell_type": "code",
   "execution_count": 16,
   "metadata": {
    "ExecuteTime": {
     "end_time": "2019-11-12T22:02:15.411909Z",
     "start_time": "2019-11-12T22:02:15.407919Z"
    }
   },
   "outputs": [],
   "source": [
    "# DECISION TREE ON NOT TRANSFORMED DATA"
   ]
  },
  {
   "cell_type": "code",
   "execution_count": 17,
   "metadata": {
    "ExecuteTime": {
     "end_time": "2019-11-12T22:02:15.420891Z",
     "start_time": "2019-11-12T22:02:15.414901Z"
    }
   },
   "outputs": [],
   "source": [
    "#setting DT parameters for grid\n",
    "param_dt={\"max_depth\":range(1,15),\"min_samples_leaf\":range(10,125,5)}"
   ]
  },
  {
   "cell_type": "code",
   "execution_count": 18,
   "metadata": {
    "ExecuteTime": {
     "end_time": "2019-11-12T22:02:36.541417Z",
     "start_time": "2019-11-12T22:02:15.423879Z"
    }
   },
   "outputs": [
    {
     "data": {
      "text/plain": [
       "GridSearchCV(cv=3, error_score='raise-deprecating',\n",
       "       estimator=DecisionTreeRegressor(criterion='mse', max_depth=None, max_features=None,\n",
       "           max_leaf_nodes=None, min_impurity_decrease=0.0,\n",
       "           min_impurity_split=None, min_samples_leaf=1,\n",
       "           min_samples_split=2, min_weight_fraction_leaf=0.0,\n",
       "           presort=False, random_state=42, splitter='best'),\n",
       "       fit_params=None, iid='warn', n_jobs=None,\n",
       "       param_grid={'max_depth': range(1, 15), 'min_samples_leaf': range(10, 125, 5)},\n",
       "       pre_dispatch='2*n_jobs', refit=True, return_train_score='warn',\n",
       "       scoring='neg_mean_squared_error', verbose=0)"
      ]
     },
     "execution_count": 18,
     "metadata": {},
     "output_type": "execute_result"
    }
   ],
   "source": [
    "#Cross-Validated Gridsearch using parameters, use n_jobs=-1 for faster computing and \n",
    "gs_dt=GridSearchCV(estimator=DecisionTreeRegressor(random_state=42),param_grid=param_dt,cv=3, scoring=\"neg_mean_squared_error\")\n",
    "gs_dt.fit(X0_not_tr,Y0_not_tr)"
   ]
  },
  {
   "cell_type": "code",
   "execution_count": 19,
   "metadata": {
    "ExecuteTime": {
     "end_time": "2019-11-12T22:02:36.550382Z",
     "start_time": "2019-11-12T22:02:36.544397Z"
    }
   },
   "outputs": [
    {
     "data": {
      "text/plain": [
       "{'max_depth': 5, 'min_samples_leaf': 20}"
      ]
     },
     "execution_count": 19,
     "metadata": {},
     "output_type": "execute_result"
    }
   ],
   "source": [
    "#Seeing the best parameters\n",
    "gs_dt.best_params_"
   ]
  },
  {
   "cell_type": "code",
   "execution_count": 20,
   "metadata": {
    "ExecuteTime": {
     "end_time": "2019-11-12T22:02:36.612216Z",
     "start_time": "2019-11-12T22:02:36.553375Z"
    }
   },
   "outputs": [],
   "source": [
    "#fitting the model with best parameters\n",
    "dt_grid_not_tr=DecisionTreeRegressor(max_depth=5,\n",
    "                             min_samples_leaf=20, random_state=42).fit(X0_not_tr,Y0_not_tr)\n",
    "\n",
    "#getting probabilities\n",
    "Y0_dt_grid_not_tr=dt_grid_not_tr.predict(X0_not_tr)\n",
    "Y1_dt_grid_not_tr=dt_grid_not_tr.predict(X1_not_tr)\n"
   ]
  },
  {
   "cell_type": "code",
   "execution_count": 21,
   "metadata": {
    "ExecuteTime": {
     "end_time": "2019-11-12T22:02:36.626178Z",
     "start_time": "2019-11-12T22:02:36.616206Z"
    }
   },
   "outputs": [
    {
     "name": "stdout",
     "output_type": "stream",
     "text": [
      "MSE_train_dt_grid_not_tr: 14143722.70391615\n",
      "MSE_test_dt_grid_not_tr: 17239435.624847393\n"
     ]
    }
   ],
   "source": [
    "#MSE for DT on not transformed data\n",
    "MSE_train_dt_grid_not_tr=mean_squared_error(Y0_not_tr,Y0_dt_grid_not_tr)\n",
    "MSE_test_dt_grid_not_tr=mean_squared_error(Y1_not_tr,Y1_dt_grid_not_tr)\n",
    "print(\"MSE_train_dt_grid_not_tr:\",MSE_train_dt_grid_not_tr)\n",
    "print(\"MSE_test_dt_grid_not_tr:\",MSE_test_dt_grid_not_tr)"
   ]
  },
  {
   "cell_type": "code",
   "execution_count": 22,
   "metadata": {
    "ExecuteTime": {
     "end_time": "2019-11-12T22:02:36.642136Z",
     "start_time": "2019-11-12T22:02:36.630167Z"
    }
   },
   "outputs": [
    {
     "name": "stdout",
     "output_type": "stream",
     "text": [
      "RMSE_train_dt_grid_not_tr: 3760.814101217468\n",
      "RMSE_test_dt_grid_not_tr: 4152.0399353627845\n"
     ]
    }
   ],
   "source": [
    "#MSE for DT on not transformed data\n",
    "RMSE_train_dt_grid_not_tr=sqrt(MSE_train_dt_grid_not_tr)\n",
    "RMSE_test_dt_grid_not_tr=sqrt(MSE_test_dt_grid_not_tr)\n",
    "print(\"RMSE_train_dt_grid_not_tr:\",RMSE_train_dt_grid_not_tr)\n",
    "print(\"RMSE_test_dt_grid_not_tr:\",RMSE_test_dt_grid_not_tr)"
   ]
  },
  {
   "cell_type": "code",
   "execution_count": 23,
   "metadata": {
    "ExecuteTime": {
     "end_time": "2019-11-12T22:02:36.798718Z",
     "start_time": "2019-11-12T22:02:36.645128Z"
    }
   },
   "outputs": [
    {
     "data": {
      "text/plain": [
       "15916411.53112401"
      ]
     },
     "execution_count": 23,
     "metadata": {},
     "output_type": "execute_result"
    }
   ],
   "source": [
    "np.mean(-cross_val_score(estimator=dt_grid_not_tr,X=X_not_tr, y=Y_not_tr, scoring=\"neg_mean_squared_error\", cv=3))"
   ]
  },
  {
   "cell_type": "code",
   "execution_count": 24,
   "metadata": {
    "ExecuteTime": {
     "end_time": "2019-11-12T22:04:13.166056Z",
     "start_time": "2019-11-12T22:02:36.802707Z"
    }
   },
   "outputs": [
    {
     "data": {
      "text/plain": [
       "GridSearchCV(cv=3, error_score='raise-deprecating',\n",
       "       estimator=RandomForestRegressor(bootstrap=True, criterion='mse', max_depth=None,\n",
       "           max_features='auto', max_leaf_nodes=None,\n",
       "           min_impurity_decrease=0.0, min_impurity_split=None,\n",
       "           min_samples_leaf=1, min_samples_split=2,\n",
       "           min_weight_fraction_leaf=0.0, n_estimators='warn', n_jobs=None,\n",
       "           oob_score=False, random_state=42, verbose=0, warm_start=False),\n",
       "       fit_params=None, iid='warn', n_jobs=None,\n",
       "       param_grid={'max_depth': range(1, 15), 'min_samples_leaf': range(10, 125, 5)},\n",
       "       pre_dispatch='2*n_jobs', refit=True, return_train_score='warn',\n",
       "       scoring='neg_mean_squared_error', verbose=0)"
      ]
     },
     "execution_count": 24,
     "metadata": {},
     "output_type": "execute_result"
    }
   ],
   "source": [
    "#Random Forest Regression\n",
    "#Cross-Validated Gridsearch using parameters, use n_jobs=-1 for faster computing and \n",
    "gs_rf=GridSearchCV(estimator=RandomForestRegressor(random_state=42),param_grid=param_dt,cv=3, scoring=\"neg_mean_squared_error\")\n",
    "gs_rf.fit(X0_not_tr,Y0_not_tr)"
   ]
  },
  {
   "cell_type": "code",
   "execution_count": 25,
   "metadata": {
    "ExecuteTime": {
     "end_time": "2019-11-12T22:04:13.174033Z",
     "start_time": "2019-11-12T22:04:13.168051Z"
    }
   },
   "outputs": [
    {
     "data": {
      "text/plain": [
       "{'max_depth': 14, 'min_samples_leaf': 10}"
      ]
     },
     "execution_count": 25,
     "metadata": {},
     "output_type": "execute_result"
    }
   ],
   "source": [
    "#best parameters for random forest regression\n",
    "gs_rf.best_params_"
   ]
  },
  {
   "cell_type": "code",
   "execution_count": 26,
   "metadata": {
    "ExecuteTime": {
     "end_time": "2019-11-12T22:04:13.256816Z",
     "start_time": "2019-11-12T22:04:13.177027Z"
    }
   },
   "outputs": [],
   "source": [
    "#fitting the model with best parameters\n",
    "rf_grid=DecisionTreeRegressor(max_depth=14,\n",
    "                             min_samples_leaf=10, random_state=42).fit(X0_not_tr,Y0_not_tr)\n",
    "\n",
    "#getting probabilities\n",
    "Y0_rf_grid=rf_grid.predict(X0_not_tr)\n",
    "Y1_rf_grid=rf_grid.predict(X1_not_tr)"
   ]
  },
  {
   "cell_type": "code",
   "execution_count": 27,
   "metadata": {
    "ExecuteTime": {
     "end_time": "2019-11-12T22:04:13.264790Z",
     "start_time": "2019-11-12T22:04:13.258808Z"
    }
   },
   "outputs": [
    {
     "name": "stdout",
     "output_type": "stream",
     "text": [
      "MSE_train_rf: 9466596.619751574\n",
      "MSE_test_rf: 19071840.150748592\n"
     ]
    }
   ],
   "source": [
    "#MSE for RF regression on not scaled data\n",
    "MSE_train_rf_grid=mean_squared_error(Y0_not_tr,Y0_rf_grid)\n",
    "MSE_test_rf_grid=mean_squared_error(Y1_not_tr,Y1_rf_grid)\n",
    "print(\"MSE_train_rf:\",MSE_train_rf_grid)\n",
    "print(\"MSE_test_rf:\",MSE_test_rf_grid)"
   ]
  },
  {
   "cell_type": "code",
   "execution_count": 28,
   "metadata": {
    "ExecuteTime": {
     "end_time": "2019-11-12T22:04:13.275761Z",
     "start_time": "2019-11-12T22:04:13.267783Z"
    }
   },
   "outputs": [
    {
     "name": "stdout",
     "output_type": "stream",
     "text": [
      "RMSE_train_rf: 3076.7834860047556\n",
      "RMSE_test_rf: 4367.1317991043725\n"
     ]
    }
   ],
   "source": [
    "#RMSE for RF regression on not scaled data\n",
    "RMSE_train_rf_grid=sqrt(MSE_train_rf_grid)\n",
    "RMSE_test_rf_grid=sqrt(MSE_test_rf_grid)\n",
    "print(\"RMSE_train_rf:\",RMSE_train_rf_grid)\n",
    "print(\"RMSE_test_rf:\",RMSE_test_rf_grid)"
   ]
  },
  {
   "cell_type": "code",
   "execution_count": 29,
   "metadata": {
    "ExecuteTime": {
     "end_time": "2019-11-12T22:04:13.461267Z",
     "start_time": "2019-11-12T22:04:13.278753Z"
    }
   },
   "outputs": [
    {
     "data": {
      "text/plain": [
       "17806107.140394628"
      ]
     },
     "execution_count": 29,
     "metadata": {},
     "output_type": "execute_result"
    }
   ],
   "source": [
    "#mean cross-validated score for RF on not transformed data\n",
    "np.mean(-cross_val_score(estimator=rf_grid,X=X_not_tr, y=Y_not_tr, scoring=\"neg_mean_squared_error\", cv=3))"
   ]
  },
  {
   "cell_type": "markdown",
   "metadata": {},
   "source": [
    "<h1>Linear, DT and RF Regressions on transformed data</h1> <a name=\"stats1\"></a>"
   ]
  },
  {
   "cell_type": "markdown",
   "metadata": {},
   "source": [
    "Now we will apply data transformation for several selected variables, as already previously discussed (see https://nbviewer.jupyter.org/github/srbuhimirzoyan/Business_Analytics_Fall2019/blob/master/Session3/Session_3_final..ipynb). \n",
    "We want to see which regression model will have lowest MSE score.\n",
    "According to train test results, the best model is **linear regression** with smallest gap between train and test results.\n",
    "As expected, cross-validation MSE score confirms that best model for transformed data is linear regression."
   ]
  },
  {
   "cell_type": "code",
   "execution_count": 30,
   "metadata": {
    "ExecuteTime": {
     "end_time": "2019-11-12T22:04:13.470241Z",
     "start_time": "2019-11-12T22:04:13.463261Z"
    }
   },
   "outputs": [],
   "source": [
    "#separating Y and X for transformansions\n",
    "Y = data.Customer_Lifetime_Value\n",
    "X = data.drop([\"Customer_Lifetime_Value\"],axis=1)"
   ]
  },
  {
   "cell_type": "code",
   "execution_count": 31,
   "metadata": {
    "ExecuteTime": {
     "end_time": "2019-11-12T22:04:13.478221Z",
     "start_time": "2019-11-12T22:04:13.473235Z"
    }
   },
   "outputs": [],
   "source": [
    "#selecting most \n",
    "selected_covariates = [\"Number_of_Policies\",\"Total_Claim_Amount\", \"Number_of_Open_Complaints\",\"EmploymentStatus\",\"Coverage\",\"Vehicle_Class\"]"
   ]
  },
  {
   "cell_type": "code",
   "execution_count": 32,
   "metadata": {
    "ExecuteTime": {
     "end_time": "2019-11-12T22:04:13.489190Z",
     "start_time": "2019-11-12T22:04:13.481213Z"
    }
   },
   "outputs": [],
   "source": [
    "#log-transforming Customer Lifetime Value\n",
    "Y = np.log1p(Y)\n",
    "X = X[selected_covariates]"
   ]
  },
  {
   "cell_type": "code",
   "execution_count": 33,
   "metadata": {
    "ExecuteTime": {
     "end_time": "2019-11-12T22:04:13.552028Z",
     "start_time": "2019-11-12T22:04:13.492183Z"
    }
   },
   "outputs": [],
   "source": [
    "#transforming the selected covariates\n",
    "X[\"Number_of_Policies_1\"] = np.where(X.Number_of_Policies==1,1,0) #making a dummy variable when # of policies=1\n",
    "X[\"Number_of_Policies\"] = np.where(X.Number_of_Policies==2,1,0) #making a dummy variable when # of policies=2\n",
    "X[\"EmploymentStatus\"] = np.where(X.EmploymentStatus==\"Employed\",1,0) #outlining Employed customers\n",
    "X[\"Coverage\"] = np.where(X.Coverage==\"Premium\",1,0) #outlining Premium coverage"
   ]
  },
  {
   "cell_type": "code",
   "execution_count": 34,
   "metadata": {
    "ExecuteTime": {
     "end_time": "2019-11-12T22:04:13.572973Z",
     "start_time": "2019-11-12T22:04:13.554019Z"
    }
   },
   "outputs": [],
   "source": [
    "#getting dummies\n",
    "X = pd.get_dummies(X,drop_first=True)"
   ]
  },
  {
   "cell_type": "code",
   "execution_count": 35,
   "metadata": {
    "ExecuteTime": {
     "end_time": "2019-11-12T22:04:13.584939Z",
     "start_time": "2019-11-12T22:04:13.574962Z"
    }
   },
   "outputs": [],
   "source": [
    "#splitting the data into train and test sets\n",
    "X0, X1, Y0, Y1 = train_test_split(X, Y, test_size=0.25, random_state=42)"
   ]
  },
  {
   "cell_type": "code",
   "execution_count": 36,
   "metadata": {
    "ExecuteTime": {
     "end_time": "2019-11-12T22:04:13.597901Z",
     "start_time": "2019-11-12T22:04:13.585931Z"
    }
   },
   "outputs": [
    {
     "data": {
      "text/plain": [
       "LinearRegression(copy_X=True, fit_intercept=True, n_jobs=None,\n",
       "         normalize=False)"
      ]
     },
     "execution_count": 36,
     "metadata": {},
     "output_type": "execute_result"
    }
   ],
   "source": [
    "#building the model\n",
    "lr_tr=LinearRegression()\n",
    "lr_tr.fit(X0,Y0)"
   ]
  },
  {
   "cell_type": "code",
   "execution_count": 37,
   "metadata": {
    "ExecuteTime": {
     "end_time": "2019-11-12T22:04:13.606876Z",
     "start_time": "2019-11-12T22:04:13.598897Z"
    }
   },
   "outputs": [],
   "source": [
    "Y1_linear=lr_tr.predict(X1)\n",
    "Y0_linear=lr_tr.predict(X0)"
   ]
  },
  {
   "cell_type": "code",
   "execution_count": 38,
   "metadata": {
    "ExecuteTime": {
     "end_time": "2019-11-12T22:04:13.618844Z",
     "start_time": "2019-11-12T22:04:13.609869Z"
    }
   },
   "outputs": [
    {
     "name": "stdout",
     "output_type": "stream",
     "text": [
      "MSE_train_lr: 0.055634388542234285\n",
      "MSE_test_lr: 0.05794030153055972\n"
     ]
    }
   ],
   "source": [
    "MSE_train_lr_tr=mean_squared_error(Y0,Y0_linear)\n",
    "MSE_test_lr_tr=mean_squared_error(Y1,Y1_linear)\n",
    "print(\"MSE_train_lr:\",MSE_train_lr_tr)\n",
    "print(\"MSE_test_lr:\",MSE_test_lr_tr)"
   ]
  },
  {
   "cell_type": "code",
   "execution_count": 39,
   "metadata": {
    "ExecuteTime": {
     "end_time": "2019-11-12T22:04:13.626822Z",
     "start_time": "2019-11-12T22:04:13.620840Z"
    }
   },
   "outputs": [
    {
     "name": "stdout",
     "output_type": "stream",
     "text": [
      "RMSE_train_lr_tr: 0.23586943113136616\n",
      "RMSE_test_lr_tr: 0.2407079174654621\n"
     ]
    }
   ],
   "source": [
    "RMSE_train_lr_tr=sqrt(MSE_train_lr_tr)\n",
    "RMSE_test_lr_tr=sqrt(MSE_test_lr_tr)\n",
    "print(\"RMSE_train_lr_tr:\",RMSE_train_lr_tr)\n",
    "print(\"RMSE_test_lr_tr:\",RMSE_test_lr_tr)"
   ]
  },
  {
   "cell_type": "code",
   "execution_count": 40,
   "metadata": {
    "ExecuteTime": {
     "end_time": "2019-11-12T22:04:13.655746Z",
     "start_time": "2019-11-12T22:04:13.629816Z"
    }
   },
   "outputs": [
    {
     "data": {
      "text/plain": [
       "0.056327418005586403"
      ]
     },
     "execution_count": 40,
     "metadata": {},
     "output_type": "execute_result"
    }
   ],
   "source": [
    "np.mean(-cross_val_score(estimator=lr_tr,X=X, y=Y, scoring=\"neg_mean_squared_error\", cv=3))"
   ]
  },
  {
   "cell_type": "markdown",
   "metadata": {},
   "source": [
    "Now we will perform DT Regression using <code>GridSearch<code> "
   ]
  },
  {
   "cell_type": "code",
   "execution_count": 41,
   "metadata": {
    "ExecuteTime": {
     "end_time": "2019-11-12T22:04:13.663723Z",
     "start_time": "2019-11-12T22:04:13.657739Z"
    }
   },
   "outputs": [
    {
     "data": {
      "text/plain": [
       "{'max_depth': range(1, 15), 'min_samples_leaf': range(10, 125, 5)}"
      ]
     },
     "execution_count": 41,
     "metadata": {},
     "output_type": "execute_result"
    }
   ],
   "source": [
    "#lets use the same range that was used for DT and RF models on not transformed data\n",
    "param_dt"
   ]
  },
  {
   "cell_type": "code",
   "execution_count": 42,
   "metadata": {
    "ExecuteTime": {
     "end_time": "2019-11-12T22:04:21.413002Z",
     "start_time": "2019-11-12T22:04:13.666718Z"
    }
   },
   "outputs": [
    {
     "data": {
      "text/plain": [
       "GridSearchCV(cv=3, error_score='raise-deprecating',\n",
       "       estimator=DecisionTreeRegressor(criterion='mse', max_depth=None, max_features=None,\n",
       "           max_leaf_nodes=None, min_impurity_decrease=0.0,\n",
       "           min_impurity_split=None, min_samples_leaf=1,\n",
       "           min_samples_split=2, min_weight_fraction_leaf=0.0,\n",
       "           presort=False, random_state=42, splitter='best'),\n",
       "       fit_params=None, iid='warn', n_jobs=None,\n",
       "       param_grid={'max_depth': range(1, 15), 'min_samples_leaf': range(10, 125, 5)},\n",
       "       pre_dispatch='2*n_jobs', refit=True, return_train_score='warn',\n",
       "       scoring='neg_mean_squared_error', verbose=0)"
      ]
     },
     "execution_count": 42,
     "metadata": {},
     "output_type": "execute_result"
    }
   ],
   "source": [
    "#Cross-Validated Gridsearch using parameters, use n_jobs=-1 for faster computing and \n",
    "gs_dt_tr=GridSearchCV(estimator=DecisionTreeRegressor(random_state=42),param_grid=param_dt,cv=3, scoring=\"neg_mean_squared_error\")\n",
    "gs_dt_tr.fit(X0,Y0)"
   ]
  },
  {
   "cell_type": "code",
   "execution_count": 43,
   "metadata": {
    "ExecuteTime": {
     "end_time": "2019-11-12T22:04:21.421977Z",
     "start_time": "2019-11-12T22:04:21.414996Z"
    }
   },
   "outputs": [
    {
     "data": {
      "text/plain": [
       "{'max_depth': 9, 'min_samples_leaf': 10}"
      ]
     },
     "execution_count": 43,
     "metadata": {},
     "output_type": "execute_result"
    }
   ],
   "source": [
    "#let's see the optimal parameters\n",
    "gs_dt_tr.best_params_"
   ]
  },
  {
   "cell_type": "code",
   "execution_count": 44,
   "metadata": {
    "ExecuteTime": {
     "end_time": "2019-11-12T22:04:21.442981Z",
     "start_time": "2019-11-12T22:04:21.424970Z"
    }
   },
   "outputs": [],
   "source": [
    "#fitting the model with best parameters\n",
    "dt_grid_tr=DecisionTreeRegressor(max_depth=9,\n",
    "                             min_samples_leaf=10, random_state=42).fit(X0,Y0)\n",
    "\n",
    "#getting probabilities\n",
    "Y0_dt_grid_tr=dt_grid_tr.predict(X0)\n",
    "Y1_dt_grid_tr=dt_grid_tr.predict(X1)\n"
   ]
  },
  {
   "cell_type": "code",
   "execution_count": 45,
   "metadata": {
    "ExecuteTime": {
     "end_time": "2019-11-12T22:04:21.452894Z",
     "start_time": "2019-11-12T22:04:21.444954Z"
    }
   },
   "outputs": [
    {
     "name": "stdout",
     "output_type": "stream",
     "text": [
      "MSE_train_dt_tr: 0.05435502401036188\n",
      "MSE_test_dt_tr: 0.06435173373609444\n"
     ]
    }
   ],
   "source": [
    "#MSE for DT on transformed data\n",
    "MSE_train_dt_grid_tr=mean_squared_error(Y0,Y0_dt_grid_tr)\n",
    "MSE_test_dt_grid_tr=mean_squared_error(Y1,Y1_dt_grid_tr)\n",
    "print(\"MSE_train_dt_tr:\",MSE_train_dt_grid_tr)\n",
    "print(\"MSE_test_dt_tr:\",MSE_test_dt_grid_tr)"
   ]
  },
  {
   "cell_type": "code",
   "execution_count": 46,
   "metadata": {
    "ExecuteTime": {
     "end_time": "2019-11-12T22:04:21.461870Z",
     "start_time": "2019-11-12T22:04:21.454890Z"
    }
   },
   "outputs": [
    {
     "name": "stdout",
     "output_type": "stream",
     "text": [
      "RMSE_train_dt_tr: 0.2331416393747841\n",
      "RMSE_test_dt_tr: 0.25367643512177956\n"
     ]
    }
   ],
   "source": [
    "#RMSE for DT on transformed data\n",
    "RMSE_train_dt_grid_tr=sqrt(MSE_train_dt_grid_tr)\n",
    "RMSE_test_dt_grid_tr=sqrt(MSE_test_dt_grid_tr)\n",
    "print(\"RMSE_train_dt_tr:\",RMSE_train_dt_grid_tr)\n",
    "print(\"RMSE_test_dt_tr:\",RMSE_test_dt_grid_tr)"
   ]
  },
  {
   "cell_type": "code",
   "execution_count": 47,
   "metadata": {
    "ExecuteTime": {
     "end_time": "2019-11-12T22:04:21.527696Z",
     "start_time": "2019-11-12T22:04:21.465861Z"
    }
   },
   "outputs": [
    {
     "data": {
      "text/plain": [
       "0.06390227429554697"
      ]
     },
     "execution_count": 47,
     "metadata": {},
     "output_type": "execute_result"
    }
   ],
   "source": [
    "np.mean(-cross_val_score(estimator=dt_grid_tr,X=X, y=Y, scoring=\"neg_mean_squared_error\", cv=3))"
   ]
  },
  {
   "cell_type": "code",
   "execution_count": 48,
   "metadata": {
    "ExecuteTime": {
     "end_time": "2019-11-12T22:04:54.697992Z",
     "start_time": "2019-11-12T22:04:21.529690Z"
    }
   },
   "outputs": [
    {
     "data": {
      "text/plain": [
       "GridSearchCV(cv=3, error_score='raise-deprecating',\n",
       "       estimator=RandomForestRegressor(bootstrap=True, criterion='mse', max_depth=None,\n",
       "           max_features='auto', max_leaf_nodes=None,\n",
       "           min_impurity_decrease=0.0, min_impurity_split=None,\n",
       "           min_samples_leaf=1, min_samples_split=2,\n",
       "           min_weight_fraction_leaf=0.0, n_estimators='warn', n_jobs=None,\n",
       "           oob_score=False, random_state=42, verbose=0, warm_start=False),\n",
       "       fit_params=None, iid='warn', n_jobs=None,\n",
       "       param_grid={'max_depth': range(1, 15), 'min_samples_leaf': range(10, 125, 5)},\n",
       "       pre_dispatch='2*n_jobs', refit=True, return_train_score='warn',\n",
       "       scoring='neg_mean_squared_error', verbose=0)"
      ]
     },
     "execution_count": 48,
     "metadata": {},
     "output_type": "execute_result"
    }
   ],
   "source": [
    "#RANDOM FOREST regression\n",
    "#Cross-Validated Gridsearch using parameters, use n_jobs=-1 for faster computing and \n",
    "gs_rf_tr=GridSearchCV(estimator=RandomForestRegressor(random_state=42),param_grid=param_dt,cv=3, scoring=\"neg_mean_squared_error\")\n",
    "gs_rf_tr.fit(X0,Y0)"
   ]
  },
  {
   "cell_type": "code",
   "execution_count": 49,
   "metadata": {
    "ExecuteTime": {
     "end_time": "2019-11-12T22:04:54.706965Z",
     "start_time": "2019-11-12T22:04:54.699987Z"
    }
   },
   "outputs": [
    {
     "data": {
      "text/plain": [
       "{'max_depth': 10, 'min_samples_leaf': 10}"
      ]
     },
     "execution_count": 49,
     "metadata": {},
     "output_type": "execute_result"
    }
   ],
   "source": [
    "#let's see the optimal parameters\n",
    "gs_rf_tr.best_params_"
   ]
  },
  {
   "cell_type": "code",
   "execution_count": 50,
   "metadata": {
    "ExecuteTime": {
     "end_time": "2019-11-12T22:04:54.730958Z",
     "start_time": "2019-11-12T22:04:54.709961Z"
    }
   },
   "outputs": [],
   "source": [
    "#fitting the model with best parameters\n",
    "rf_grid_tr=DecisionTreeRegressor(max_depth=10,\n",
    "                             min_samples_leaf=10, random_state=42).fit(X0,Y0)\n",
    "\n",
    "#getting probabilities\n",
    "Y0_rf_grid_tr=rf_grid_tr.predict(X0)\n",
    "Y1_rf_grid_tr=rf_grid_tr.predict(X1)\n"
   ]
  },
  {
   "cell_type": "code",
   "execution_count": 51,
   "metadata": {
    "ExecuteTime": {
     "end_time": "2019-11-12T22:04:54.740876Z",
     "start_time": "2019-11-12T22:04:54.732937Z"
    }
   },
   "outputs": [
    {
     "name": "stdout",
     "output_type": "stream",
     "text": [
      "MSE_train_rf: 0.05185213430507036\n",
      "MSE_test_rf: 0.06447092611797565\n"
     ]
    }
   ],
   "source": [
    "MSE_train_rf_grid_tr=mean_squared_error(Y0,Y0_rf_grid_tr)\n",
    "MSE_test_rf_grid_tr=mean_squared_error(Y1,Y1_rf_grid_tr)\n",
    "print(\"MSE_train_rf:\",MSE_train_rf_grid_tr)\n",
    "print(\"MSE_test_rf:\",MSE_test_rf_grid_tr)"
   ]
  },
  {
   "cell_type": "code",
   "execution_count": 52,
   "metadata": {
    "ExecuteTime": {
     "end_time": "2019-11-12T22:04:54.751846Z",
     "start_time": "2019-11-12T22:04:54.743869Z"
    }
   },
   "outputs": [
    {
     "name": "stdout",
     "output_type": "stream",
     "text": [
      "RMSE_train_rf_tr: 0.22771063722424204\n",
      "RMSE_test_rf_tr: 0.25391125638296475\n"
     ]
    }
   ],
   "source": [
    "RMSE_train_rf_grid_tr=sqrt(MSE_train_rf_grid_tr)\n",
    "RMSE_test_rf_grid_tr=sqrt(MSE_test_rf_grid_tr)\n",
    "print(\"RMSE_train_rf_tr:\",RMSE_train_rf_grid_tr)\n",
    "print(\"RMSE_test_rf_tr:\",RMSE_test_rf_grid_tr)"
   ]
  },
  {
   "cell_type": "code",
   "execution_count": 53,
   "metadata": {
    "ExecuteTime": {
     "end_time": "2019-11-12T22:04:54.826649Z",
     "start_time": "2019-11-12T22:04:54.755837Z"
    }
   },
   "outputs": [
    {
     "data": {
      "text/plain": [
       "0.0641786085700026"
      ]
     },
     "execution_count": 53,
     "metadata": {},
     "output_type": "execute_result"
    }
   ],
   "source": [
    "#mean 3 fold cross validation MSE of RF on transformed data\n",
    "np.mean(-cross_val_score(estimator=rf_grid_tr,X=X, y=Y, scoring=\"neg_mean_squared_error\", cv=3))"
   ]
  },
  {
   "cell_type": "markdown",
   "metadata": {},
   "source": [
    "<h2>Conclusion</h2> <a name=\"stats2\"> </a>"
   ]
  },
  {
   "cell_type": "markdown",
   "metadata": {},
   "source": [
    "We performed 3 different regression models on not transformed and transformed data. \n",
    "According to results of both train test split and cross-validated MSE score, we had better results for ***Decision Tree Regression***\n",
    "when data was noisy, full of irrelevant and not significant features.\n",
    "However, when we applied the same models on transformed data, the winner model changed to ***Linear Regression***. \n",
    "This is somehow expected, as all the transformations and manipulations we made were directed to establish a linear relationship between CLV and other features."
   ]
  },
  {
   "cell_type": "code",
   "execution_count": 54,
   "metadata": {
    "ExecuteTime": {
     "end_time": "2019-11-12T22:04:54.844598Z",
     "start_time": "2019-11-12T22:04:54.829639Z"
    }
   },
   "outputs": [
    {
     "name": "stdout",
     "output_type": "stream",
     "text": [
      "Regression performance on Not transformed data\n",
      "\n",
      "\n",
      "MSE Linear Regression on not transformed training data: 38148406.899947464\n",
      "MSE Linear Regression on not transformed testing data: 42811329.091303304\n",
      "\n",
      "\n",
      "MSE Decision Tree Regression on not transformed training data: 14143722.70391615\n",
      "MSE Decision Tree Regression on not transformed testing data: 17239435.624847393\n",
      "\n",
      "\n",
      "MSE Random Forest Regression on not transformed training data: 9466596.619751574\n",
      "MSE Random Forest Regression on not transformed testing data: 19071840.150748592\n",
      "\n",
      "\n",
      "Regression performance on transformed data\n",
      "\n",
      "\n",
      "MSE Linear Regression on transformed training data: 0.055634388542234285\n",
      "MSE Linear Regression on transformed testing data: 0.05794030153055972\n",
      "\n",
      "\n",
      "MSE Decision Tree Regression on transformed training data: 0.05435502401036188\n",
      "MSE Decision Tree Regression on transformed testing data: 0.05435502401036188\n",
      "\n",
      "\n",
      "MSE Random Forest Regression on transformed training data: 0.05185213430507036\n",
      "MSE Random Forest Regression on transformed testing data: 0.06447092611797565\n"
     ]
    }
   ],
   "source": [
    "#MSEs\n",
    "print(\"Regression performance on Not transformed data\")\n",
    "print(\"\\n\")\n",
    "print(\"MSE Linear Regression on not transformed training data:\",MSE_train_lr_not_tr)\n",
    "print(\"MSE Linear Regression on not transformed testing data:\",MSE_test_lr_not_tr)\n",
    "print(\"\\n\")\n",
    "print(\"MSE Decision Tree Regression on not transformed training data:\",MSE_train_dt_grid_not_tr)\n",
    "print(\"MSE Decision Tree Regression on not transformed testing data:\",MSE_test_dt_grid_not_tr)\n",
    "print(\"\\n\")\n",
    "print(\"MSE Random Forest Regression on not transformed training data:\",MSE_train_rf_grid)\n",
    "print(\"MSE Random Forest Regression on not transformed testing data:\",MSE_test_rf_grid)\n",
    "print(\"\\n\")\n",
    "print(\"Regression performance on transformed data\")\n",
    "print(\"\\n\")\n",
    "print(\"MSE Linear Regression on transformed training data:\",MSE_train_lr_tr)\n",
    "print(\"MSE Linear Regression on transformed testing data:\",MSE_test_lr_tr)\n",
    "print(\"\\n\")\n",
    "print(\"MSE Decision Tree Regression on transformed training data:\",MSE_train_dt_grid_tr)\n",
    "print(\"MSE Decision Tree Regression on transformed testing data:\",MSE_train_dt_grid_tr)\n",
    "print(\"\\n\")\n",
    "print(\"MSE Random Forest Regression on transformed training data:\",MSE_train_rf_grid_tr)\n",
    "print(\"MSE Random Forest Regression on transformed testing data:\",MSE_test_rf_grid_tr)"
   ]
  },
  {
   "cell_type": "code",
   "execution_count": 55,
   "metadata": {
    "ExecuteTime": {
     "end_time": "2019-11-12T22:04:55.319330Z",
     "start_time": "2019-11-12T22:04:54.846593Z"
    }
   },
   "outputs": [
    {
     "name": "stdout",
     "output_type": "stream",
     "text": [
      "Mean 3-fold MSE scores for regression models for the whole not transformed data\n",
      "Mean 3-fold MSE score for LR: 40077663.0958\n",
      "Mean 3-fold MSE score for DTR: 15916411.5311\n",
      "Mean 3-fold MSE score for RF: 17806107.1404\n",
      "\n",
      "\n",
      "Mean 3-fold MSE scores for regression models for the whole transformed data\n",
      "Mean 3-fold MSE score for LR: 0.0563\n",
      "Mean 3-fold MSE score for DTR: 0.0639\n",
      "Mean 3-fold MSE score for RF: 0.0642\n"
     ]
    }
   ],
   "source": [
    "#3-fold mean cross-validated score based on the whole data for all models\n",
    "#3-fold mean cross-validated score based on the whole data for all models\n",
    "print(\"Mean 3-fold MSE scores for regression models for the whole not transformed data\")\n",
    "print(\"Mean 3-fold MSE score for LR:\",np.mean(-cross_val_score(estimator=lr_not_tr, X=X_not_tr,y=Y_not_tr,cv=3, scoring=\"neg_mean_squared_error\")).round(4))\n",
    "print(\"Mean 3-fold MSE score for DTR:\",np.mean(-cross_val_score(estimator=dt_grid_not_tr, X=X_not_tr,y=Y_not_tr,cv=3, scoring=\"neg_mean_squared_error\")).round(4))\n",
    "print(\"Mean 3-fold MSE score for RF:\",np.mean(-cross_val_score(estimator=rf_grid, X=X_not_tr,y=Y_not_tr,cv=3, scoring=\"neg_mean_squared_error\")).round(4))\n",
    "print(\"\\n\")\n",
    "print(\"Mean 3-fold MSE scores for regression models for the whole transformed data\")\n",
    "print(\"Mean 3-fold MSE score for LR:\",np.mean(-cross_val_score(estimator=lr_tr, X=X,y=Y,cv=3, scoring=\"neg_mean_squared_error\")).round(4))\n",
    "print(\"Mean 3-fold MSE score for DTR:\",np.mean(-cross_val_score(estimator=dt_grid_tr, X=X,y=Y,cv=3, scoring=\"neg_mean_squared_error\")).round(4))\n",
    "print(\"Mean 3-fold MSE score for RF:\",np.mean(-cross_val_score(estimator=rf_grid_tr, X=X,y=Y,cv=3, scoring=\"neg_mean_squared_error\")).round(4))"
   ]
  }
 ],
 "metadata": {
  "kernelspec": {
   "display_name": "Python 3",
   "language": "python",
   "name": "python3"
  },
  "language_info": {
   "codemirror_mode": {
    "name": "ipython",
    "version": 3
   },
   "file_extension": ".py",
   "mimetype": "text/x-python",
   "name": "python",
   "nbconvert_exporter": "python",
   "pygments_lexer": "ipython3",
   "version": "3.7.1"
  },
  "toc": {
   "base_numbering": 1,
   "nav_menu": {},
   "number_sections": true,
   "sideBar": true,
   "skip_h1_title": false,
   "title_cell": "Table of Contents",
   "title_sidebar": "Contents",
   "toc_cell": false,
   "toc_position": {},
   "toc_section_display": true,
   "toc_window_display": false
  }
 },
 "nbformat": 4,
 "nbformat_minor": 2
}
