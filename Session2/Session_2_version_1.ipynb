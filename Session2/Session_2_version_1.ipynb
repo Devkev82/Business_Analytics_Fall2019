{
 "cells": [
  {
   "cell_type": "markdown",
   "metadata": {},
   "source": [
    "<h1> <i>Session 2: Linear Regression Extended.</i> </h1>"
   ]
  },
  {
   "cell_type": "markdown",
   "metadata": {},
   "source": [
    "<p>The following notebook provides an example code of analyzing <b>house prices</b> using linear regression.The dependent variable which we will be used in OLS model is Price. The aim of the session is reveal best model using different selection methods and data transformations.\n",
    "    \n",
    "The general sequence of steps that we will follow is the following:\n",
    "<br>The general sequence of steps for the analysis the following:\n",
    "1. [Descriptive analysis](#pandas)\n",
    "2. [Data transformation for visual insights](#transf)\n",
    "3.  [Model selection](#select)\n",
    "\n",
    "    3.1  [Running and building the OLS model (statsmodels) (backward selection, model transformation)](#stats)\n",
    "    \n",
    "    3.2  [Running and building the OLS model (sklearn) ](#sklearn)\n",
    "4. [Checking LR assumptions using residual analysis and statistical tests](#resid)   "
   ]
  },
  {
   "cell_type": "markdown",
   "metadata": {},
   "source": [
    "Let's first explore the data on our features."
   ]
  },
  {
   "cell_type": "markdown",
   "metadata": {},
   "source": [
    "Suburb: Suburb\n",
    "\n",
    "Address: Address\n",
    "\n",
    "Rooms: Number of rooms\n",
    "\n",
    "Type: Type of house\n",
    "      - h - house; \n",
    "      - u - unit, duplex; \n",
    "      - t - townhouse;\n",
    "\n",
    "Price: Price in dollars\n",
    "\n",
    "Method: \n",
    "Status of property sale \n",
    "      -  S - property sold\n",
    "      - SP - property sold prior; \n",
    "      - PI - property passed in; \n",
    "      - VB - vendor bid; \n",
    "\n",
    "      \n",
    "SellerG: Real Estate Agent\n",
    "\n",
    "Date: Date sold\n",
    "\n",
    "Distance: Distance from CBD\n",
    "\n",
    "Postcode:Postal code\n",
    "\n",
    "Bedroom2: Number of Bedrooms\n",
    "\n",
    "Bathroom: Number of Bathrooms\n",
    "\n",
    "Car: Number of carspots\n",
    "\n",
    "Landsize: Land Size\n",
    "\n",
    "BuildingArea: Area of Building\n",
    "\n",
    "YearBuilt: Year the house was built\n",
    "\n",
    "CouncilArea: City Council Area Name\n",
    "\n",
    "Lattitude, Longitude: Building's geographical ooordinates\n",
    "\n",
    "Regionname: General Region (West, North West, North, North east …etc)\n",
    "\n",
    "Propertycount: Number of properties that exist in the suburb.\n"
   ]
  },
  {
   "cell_type": "markdown",
   "metadata": {},
   "source": [
    "<i> <u>Before starting any analysis, first import all the needed libraries.</u></i>"
   ]
  },
  {
   "cell_type": "code",
   "execution_count": 1,
   "metadata": {},
   "outputs": [],
   "source": [
    "import pandas as pd #pandas for data manipulation, transformation\n",
    "import matplotlib.pyplot as plt #visualization\n",
    "import seaborn as sns #visualization\n",
    "import numpy as np #for scientific computations\n",
    "from scipy import stats #for t-test\n",
    "import statsmodels.api as sm #statsmodels library\n",
    "from statsmodels.api import qqplot #for qq plot\n",
    "from statsmodels.stats.diagnostic import het_breuschpagan,linear_rainbow  #variance equality and linearity tests\n",
    "from scipy.stats import shapiro #for checking normality\n",
    "from statsmodels.stats.outliers_influence import variance_inflation_factor #for checking Multicolinearity\n",
    "from sklearn.model_selection import train_test_split #for train and test split\n",
    "from sklearn.linear_model import LinearRegression #for LR using train test split\n",
    "from sklearn.metrics import classification_report"
   ]
  },
  {
   "cell_type": "markdown",
   "metadata": {},
   "source": [
    " <h2>1.Descriptive analysis</h2> <a name=\"pandas\"></a>"
   ]
  },
  {
   "cell_type": "code",
   "execution_count": 2,
   "metadata": {},
   "outputs": [],
   "source": [
    "#importing the data and making a dataframe\n",
    "data=pd.read_excel(\"housing_data.xlsx\")"
   ]
  },
  {
   "cell_type": "code",
   "execution_count": 3,
   "metadata": {},
   "outputs": [
    {
     "name": "stdout",
     "output_type": "stream",
     "text": [
      "<class 'pandas.core.frame.DataFrame'>\n",
      "RangeIndex: 110 entries, 0 to 109\n",
      "Data columns (total 21 columns):\n",
      "Suburb           110 non-null object\n",
      "Address          110 non-null object\n",
      "Rooms            110 non-null int64\n",
      "Type             110 non-null object\n",
      "Price            110 non-null int64\n",
      "Method           110 non-null object\n",
      "SellerG          110 non-null object\n",
      "Date             110 non-null object\n",
      "Distance         110 non-null float64\n",
      "Postcode         110 non-null int64\n",
      "Bedroom2         110 non-null int64\n",
      "Bathroom         110 non-null int64\n",
      "Car              110 non-null int64\n",
      "Landsize         110 non-null int64\n",
      "BuildingArea     110 non-null float64\n",
      "YearBuilt        110 non-null int64\n",
      "CouncilArea      110 non-null object\n",
      "Lattitude        110 non-null float64\n",
      "Longtitude       110 non-null float64\n",
      "Regionname       110 non-null object\n",
      "Propertycount    110 non-null int64\n",
      "dtypes: float64(4), int64(9), object(8)\n",
      "memory usage: 18.1+ KB\n"
     ]
    }
   ],
   "source": [
    "#data overview\n",
    "data.info()"
   ]
  },
  {
   "cell_type": "markdown",
   "metadata": {},
   "source": [
    "We have 21 variables of 110 observations."
   ]
  },
  {
   "cell_type": "code",
   "execution_count": 4,
   "metadata": {},
   "outputs": [
    {
     "data": {
      "text/html": [
       "<div>\n",
       "<style scoped>\n",
       "    .dataframe tbody tr th:only-of-type {\n",
       "        vertical-align: middle;\n",
       "    }\n",
       "\n",
       "    .dataframe tbody tr th {\n",
       "        vertical-align: top;\n",
       "    }\n",
       "\n",
       "    .dataframe thead th {\n",
       "        text-align: right;\n",
       "    }\n",
       "</style>\n",
       "<table border=\"1\" class=\"dataframe\">\n",
       "  <thead>\n",
       "    <tr style=\"text-align: right;\">\n",
       "      <th></th>\n",
       "      <th>Suburb</th>\n",
       "      <th>Address</th>\n",
       "      <th>Rooms</th>\n",
       "      <th>Type</th>\n",
       "      <th>Price</th>\n",
       "      <th>Method</th>\n",
       "      <th>SellerG</th>\n",
       "      <th>Date</th>\n",
       "      <th>Distance</th>\n",
       "      <th>Postcode</th>\n",
       "      <th>...</th>\n",
       "      <th>Bathroom</th>\n",
       "      <th>Car</th>\n",
       "      <th>Landsize</th>\n",
       "      <th>BuildingArea</th>\n",
       "      <th>YearBuilt</th>\n",
       "      <th>CouncilArea</th>\n",
       "      <th>Lattitude</th>\n",
       "      <th>Longtitude</th>\n",
       "      <th>Regionname</th>\n",
       "      <th>Propertycount</th>\n",
       "    </tr>\n",
       "  </thead>\n",
       "  <tbody>\n",
       "    <tr>\n",
       "      <th>0</th>\n",
       "      <td>Ascot Vale</td>\n",
       "      <td>3/8 Walter St</td>\n",
       "      <td>2</td>\n",
       "      <td>t</td>\n",
       "      <td>865000</td>\n",
       "      <td>SP</td>\n",
       "      <td>Nelson</td>\n",
       "      <td>18/03/2017</td>\n",
       "      <td>5.9</td>\n",
       "      <td>3032</td>\n",
       "      <td>...</td>\n",
       "      <td>2</td>\n",
       "      <td>1</td>\n",
       "      <td>146</td>\n",
       "      <td>132.0</td>\n",
       "      <td>2015</td>\n",
       "      <td>Moonee Valley City Council</td>\n",
       "      <td>-37.7713</td>\n",
       "      <td>144.9038</td>\n",
       "      <td>Western Metropolitan</td>\n",
       "      <td>6567</td>\n",
       "    </tr>\n",
       "    <tr>\n",
       "      <th>1</th>\n",
       "      <td>Ascot Vale</td>\n",
       "      <td>12/9 Milton St</td>\n",
       "      <td>2</td>\n",
       "      <td>u</td>\n",
       "      <td>442000</td>\n",
       "      <td>S</td>\n",
       "      <td>Alexkarbon</td>\n",
       "      <td>18/06/2016</td>\n",
       "      <td>5.9</td>\n",
       "      <td>3032</td>\n",
       "      <td>...</td>\n",
       "      <td>1</td>\n",
       "      <td>1</td>\n",
       "      <td>0</td>\n",
       "      <td>62.0</td>\n",
       "      <td>1975</td>\n",
       "      <td>Moonee Valley City Council</td>\n",
       "      <td>-37.7733</td>\n",
       "      <td>144.9219</td>\n",
       "      <td>Western Metropolitan</td>\n",
       "      <td>6567</td>\n",
       "    </tr>\n",
       "    <tr>\n",
       "      <th>2</th>\n",
       "      <td>Ascot Vale</td>\n",
       "      <td>21A Geddes St</td>\n",
       "      <td>3</td>\n",
       "      <td>h</td>\n",
       "      <td>1037500</td>\n",
       "      <td>S</td>\n",
       "      <td>Alexkarbon</td>\n",
       "      <td>19/11/2016</td>\n",
       "      <td>5.9</td>\n",
       "      <td>3032</td>\n",
       "      <td>...</td>\n",
       "      <td>1</td>\n",
       "      <td>2</td>\n",
       "      <td>506</td>\n",
       "      <td>110.0</td>\n",
       "      <td>1920</td>\n",
       "      <td>Moonee Valley City Council</td>\n",
       "      <td>-37.7779</td>\n",
       "      <td>144.9133</td>\n",
       "      <td>Western Metropolitan</td>\n",
       "      <td>6567</td>\n",
       "    </tr>\n",
       "    <tr>\n",
       "      <th>3</th>\n",
       "      <td>Ascot Vale</td>\n",
       "      <td>1/20 Newsom St</td>\n",
       "      <td>3</td>\n",
       "      <td>t</td>\n",
       "      <td>1050000</td>\n",
       "      <td>S</td>\n",
       "      <td>Jellis</td>\n",
       "      <td>19/11/2016</td>\n",
       "      <td>5.9</td>\n",
       "      <td>3032</td>\n",
       "      <td>...</td>\n",
       "      <td>2</td>\n",
       "      <td>2</td>\n",
       "      <td>318</td>\n",
       "      <td>160.0</td>\n",
       "      <td>2013</td>\n",
       "      <td>Moonee Valley City Council</td>\n",
       "      <td>-37.7744</td>\n",
       "      <td>144.9035</td>\n",
       "      <td>Western Metropolitan</td>\n",
       "      <td>6567</td>\n",
       "    </tr>\n",
       "    <tr>\n",
       "      <th>4</th>\n",
       "      <td>Ascot Vale</td>\n",
       "      <td>4/27 Roseberry St</td>\n",
       "      <td>2</td>\n",
       "      <td>u</td>\n",
       "      <td>440000</td>\n",
       "      <td>S</td>\n",
       "      <td>McDonald</td>\n",
       "      <td>19/11/2016</td>\n",
       "      <td>5.9</td>\n",
       "      <td>3032</td>\n",
       "      <td>...</td>\n",
       "      <td>1</td>\n",
       "      <td>1</td>\n",
       "      <td>0</td>\n",
       "      <td>65.0</td>\n",
       "      <td>1970</td>\n",
       "      <td>Moonee Valley City Council</td>\n",
       "      <td>-37.7749</td>\n",
       "      <td>144.9137</td>\n",
       "      <td>Western Metropolitan</td>\n",
       "      <td>6567</td>\n",
       "    </tr>\n",
       "  </tbody>\n",
       "</table>\n",
       "<p>5 rows × 21 columns</p>\n",
       "</div>"
      ],
      "text/plain": [
       "       Suburb            Address  Rooms Type    Price Method     SellerG  \\\n",
       "0  Ascot Vale      3/8 Walter St      2    t   865000     SP      Nelson   \n",
       "1  Ascot Vale     12/9 Milton St      2    u   442000      S  Alexkarbon   \n",
       "2  Ascot Vale      21A Geddes St      3    h  1037500      S  Alexkarbon   \n",
       "3  Ascot Vale     1/20 Newsom St      3    t  1050000      S      Jellis   \n",
       "4  Ascot Vale  4/27 Roseberry St      2    u   440000      S    McDonald   \n",
       "\n",
       "         Date  Distance  Postcode      ...       Bathroom  Car  Landsize  \\\n",
       "0  18/03/2017       5.9      3032      ...              2    1       146   \n",
       "1  18/06/2016       5.9      3032      ...              1    1         0   \n",
       "2  19/11/2016       5.9      3032      ...              1    2       506   \n",
       "3  19/11/2016       5.9      3032      ...              2    2       318   \n",
       "4  19/11/2016       5.9      3032      ...              1    1         0   \n",
       "\n",
       "   BuildingArea  YearBuilt                 CouncilArea Lattitude  Longtitude  \\\n",
       "0         132.0       2015  Moonee Valley City Council  -37.7713    144.9038   \n",
       "1          62.0       1975  Moonee Valley City Council  -37.7733    144.9219   \n",
       "2         110.0       1920  Moonee Valley City Council  -37.7779    144.9133   \n",
       "3         160.0       2013  Moonee Valley City Council  -37.7744    144.9035   \n",
       "4          65.0       1970  Moonee Valley City Council  -37.7749    144.9137   \n",
       "\n",
       "             Regionname Propertycount  \n",
       "0  Western Metropolitan          6567  \n",
       "1  Western Metropolitan          6567  \n",
       "2  Western Metropolitan          6567  \n",
       "3  Western Metropolitan          6567  \n",
       "4  Western Metropolitan          6567  \n",
       "\n",
       "[5 rows x 21 columns]"
      ]
     },
     "execution_count": 4,
     "metadata": {},
     "output_type": "execute_result"
    }
   ],
   "source": [
    "#have a look at first rows of the dataframe\n",
    "data.head()"
   ]
  },
  {
   "cell_type": "code",
   "execution_count": 5,
   "metadata": {
    "scrolled": true
   },
   "outputs": [
    {
     "data": {
      "text/html": [
       "<div>\n",
       "<style scoped>\n",
       "    .dataframe tbody tr th:only-of-type {\n",
       "        vertical-align: middle;\n",
       "    }\n",
       "\n",
       "    .dataframe tbody tr th {\n",
       "        vertical-align: top;\n",
       "    }\n",
       "\n",
       "    .dataframe thead th {\n",
       "        text-align: right;\n",
       "    }\n",
       "</style>\n",
       "<table border=\"1\" class=\"dataframe\">\n",
       "  <thead>\n",
       "    <tr style=\"text-align: right;\">\n",
       "      <th></th>\n",
       "      <th>Rooms</th>\n",
       "      <th>Price</th>\n",
       "      <th>Distance</th>\n",
       "      <th>Postcode</th>\n",
       "      <th>Bedroom2</th>\n",
       "      <th>Bathroom</th>\n",
       "      <th>Car</th>\n",
       "      <th>Landsize</th>\n",
       "      <th>BuildingArea</th>\n",
       "      <th>YearBuilt</th>\n",
       "      <th>Lattitude</th>\n",
       "      <th>Longtitude</th>\n",
       "      <th>Propertycount</th>\n",
       "    </tr>\n",
       "  </thead>\n",
       "  <tbody>\n",
       "    <tr>\n",
       "      <th>count</th>\n",
       "      <td>110.000000</td>\n",
       "      <td>1.100000e+02</td>\n",
       "      <td>110.000000</td>\n",
       "      <td>110.000000</td>\n",
       "      <td>110.000000</td>\n",
       "      <td>110.000000</td>\n",
       "      <td>110.000000</td>\n",
       "      <td>110.000000</td>\n",
       "      <td>110.000000</td>\n",
       "      <td>110.000000</td>\n",
       "      <td>110.000000</td>\n",
       "      <td>110.000000</td>\n",
       "      <td>110.000000</td>\n",
       "    </tr>\n",
       "    <tr>\n",
       "      <th>mean</th>\n",
       "      <td>3.081818</td>\n",
       "      <td>1.011146e+06</td>\n",
       "      <td>10.210000</td>\n",
       "      <td>3083.490909</td>\n",
       "      <td>3.081818</td>\n",
       "      <td>1.672727</td>\n",
       "      <td>1.609091</td>\n",
       "      <td>488.327273</td>\n",
       "      <td>149.456818</td>\n",
       "      <td>1964.009091</td>\n",
       "      <td>-37.805117</td>\n",
       "      <td>144.963558</td>\n",
       "      <td>7644.827273</td>\n",
       "    </tr>\n",
       "    <tr>\n",
       "      <th>std</th>\n",
       "      <td>0.968606</td>\n",
       "      <td>5.049120e+05</td>\n",
       "      <td>6.508653</td>\n",
       "      <td>90.533561</td>\n",
       "      <td>1.023860</td>\n",
       "      <td>0.791110</td>\n",
       "      <td>0.919667</td>\n",
       "      <td>434.624738</td>\n",
       "      <td>79.724047</td>\n",
       "      <td>39.751636</td>\n",
       "      <td>0.076131</td>\n",
       "      <td>0.127405</td>\n",
       "      <td>4100.849961</td>\n",
       "    </tr>\n",
       "    <tr>\n",
       "      <th>min</th>\n",
       "      <td>1.000000</td>\n",
       "      <td>2.750000e+05</td>\n",
       "      <td>2.400000</td>\n",
       "      <td>3011.000000</td>\n",
       "      <td>1.000000</td>\n",
       "      <td>1.000000</td>\n",
       "      <td>0.000000</td>\n",
       "      <td>0.000000</td>\n",
       "      <td>35.000000</td>\n",
       "      <td>1890.000000</td>\n",
       "      <td>-38.099950</td>\n",
       "      <td>144.609770</td>\n",
       "      <td>962.000000</td>\n",
       "    </tr>\n",
       "    <tr>\n",
       "      <th>25%</th>\n",
       "      <td>3.000000</td>\n",
       "      <td>6.888750e+05</td>\n",
       "      <td>5.200000</td>\n",
       "      <td>3032.000000</td>\n",
       "      <td>2.250000</td>\n",
       "      <td>1.000000</td>\n",
       "      <td>1.000000</td>\n",
       "      <td>208.500000</td>\n",
       "      <td>101.750000</td>\n",
       "      <td>1930.000000</td>\n",
       "      <td>-37.861365</td>\n",
       "      <td>144.908150</td>\n",
       "      <td>5164.500000</td>\n",
       "    </tr>\n",
       "    <tr>\n",
       "      <th>50%</th>\n",
       "      <td>3.000000</td>\n",
       "      <td>9.435000e+05</td>\n",
       "      <td>6.400000</td>\n",
       "      <td>3056.000000</td>\n",
       "      <td>3.000000</td>\n",
       "      <td>2.000000</td>\n",
       "      <td>2.000000</td>\n",
       "      <td>450.500000</td>\n",
       "      <td>139.000000</td>\n",
       "      <td>1970.000000</td>\n",
       "      <td>-37.778100</td>\n",
       "      <td>144.958350</td>\n",
       "      <td>6567.000000</td>\n",
       "    </tr>\n",
       "    <tr>\n",
       "      <th>75%</th>\n",
       "      <td>4.000000</td>\n",
       "      <td>1.272000e+06</td>\n",
       "      <td>14.000000</td>\n",
       "      <td>3132.500000</td>\n",
       "      <td>4.000000</td>\n",
       "      <td>2.000000</td>\n",
       "      <td>2.000000</td>\n",
       "      <td>639.500000</td>\n",
       "      <td>175.750000</td>\n",
       "      <td>2004.000000</td>\n",
       "      <td>-37.772800</td>\n",
       "      <td>145.023403</td>\n",
       "      <td>10579.000000</td>\n",
       "    </tr>\n",
       "    <tr>\n",
       "      <th>max</th>\n",
       "      <td>8.000000</td>\n",
       "      <td>2.950000e+06</td>\n",
       "      <td>35.400000</td>\n",
       "      <td>3752.000000</td>\n",
       "      <td>9.000000</td>\n",
       "      <td>7.000000</td>\n",
       "      <td>4.000000</td>\n",
       "      <td>2905.000000</td>\n",
       "      <td>618.000000</td>\n",
       "      <td>2017.000000</td>\n",
       "      <td>-37.576810</td>\n",
       "      <td>145.299590</td>\n",
       "      <td>21650.000000</td>\n",
       "    </tr>\n",
       "  </tbody>\n",
       "</table>\n",
       "</div>"
      ],
      "text/plain": [
       "            Rooms         Price    Distance     Postcode    Bedroom2  \\\n",
       "count  110.000000  1.100000e+02  110.000000   110.000000  110.000000   \n",
       "mean     3.081818  1.011146e+06   10.210000  3083.490909    3.081818   \n",
       "std      0.968606  5.049120e+05    6.508653    90.533561    1.023860   \n",
       "min      1.000000  2.750000e+05    2.400000  3011.000000    1.000000   \n",
       "25%      3.000000  6.888750e+05    5.200000  3032.000000    2.250000   \n",
       "50%      3.000000  9.435000e+05    6.400000  3056.000000    3.000000   \n",
       "75%      4.000000  1.272000e+06   14.000000  3132.500000    4.000000   \n",
       "max      8.000000  2.950000e+06   35.400000  3752.000000    9.000000   \n",
       "\n",
       "         Bathroom         Car     Landsize  BuildingArea    YearBuilt  \\\n",
       "count  110.000000  110.000000   110.000000    110.000000   110.000000   \n",
       "mean     1.672727    1.609091   488.327273    149.456818  1964.009091   \n",
       "std      0.791110    0.919667   434.624738     79.724047    39.751636   \n",
       "min      1.000000    0.000000     0.000000     35.000000  1890.000000   \n",
       "25%      1.000000    1.000000   208.500000    101.750000  1930.000000   \n",
       "50%      2.000000    2.000000   450.500000    139.000000  1970.000000   \n",
       "75%      2.000000    2.000000   639.500000    175.750000  2004.000000   \n",
       "max      7.000000    4.000000  2905.000000    618.000000  2017.000000   \n",
       "\n",
       "        Lattitude  Longtitude  Propertycount  \n",
       "count  110.000000  110.000000     110.000000  \n",
       "mean   -37.805117  144.963558    7644.827273  \n",
       "std      0.076131    0.127405    4100.849961  \n",
       "min    -38.099950  144.609770     962.000000  \n",
       "25%    -37.861365  144.908150    5164.500000  \n",
       "50%    -37.778100  144.958350    6567.000000  \n",
       "75%    -37.772800  145.023403   10579.000000  \n",
       "max    -37.576810  145.299590   21650.000000  "
      ]
     },
     "execution_count": 5,
     "metadata": {},
     "output_type": "execute_result"
    }
   ],
   "source": [
    "data.describe()"
   ]
  },
  {
   "cell_type": "code",
   "execution_count": 6,
   "metadata": {},
   "outputs": [
    {
     "data": {
      "text/plain": [
       "Suburb           0\n",
       "Address          0\n",
       "Rooms            0\n",
       "Type             0\n",
       "Price            0\n",
       "Method           0\n",
       "SellerG          0\n",
       "Date             0\n",
       "Distance         0\n",
       "Postcode         0\n",
       "Bedroom2         0\n",
       "Bathroom         0\n",
       "Car              0\n",
       "Landsize         0\n",
       "BuildingArea     0\n",
       "YearBuilt        0\n",
       "CouncilArea      0\n",
       "Lattitude        0\n",
       "Longtitude       0\n",
       "Regionname       0\n",
       "Propertycount    0\n",
       "dtype: int64"
      ]
     },
     "execution_count": 6,
     "metadata": {},
     "output_type": "execute_result"
    }
   ],
   "source": [
    "#checking for NAs\n",
    "data.isnull().sum()"
   ]
  },
  {
   "cell_type": "code",
   "execution_count": 7,
   "metadata": {},
   "outputs": [
    {
     "data": {
      "text/plain": [
       "Index([], dtype='object')"
      ]
     },
     "execution_count": 7,
     "metadata": {},
     "output_type": "execute_result"
    }
   ],
   "source": [
    "#checking whether there are columns having same value for all observations\n",
    "data.columns[data.nunique()==1]"
   ]
  },
  {
   "cell_type": "code",
   "execution_count": 8,
   "metadata": {
    "scrolled": true
   },
   "outputs": [
    {
     "name": "stderr",
     "output_type": "stream",
     "text": [
      "C:\\Users\\Srbuhi\\Anaconda3\\lib\\site-packages\\scipy\\stats\\stats.py:1713: FutureWarning: Using a non-tuple sequence for multidimensional indexing is deprecated; use `arr[tuple(seq)]` instead of `arr[seq]`. In the future this will be interpreted as an array index, `arr[np.array(seq)]`, which will result either in an error or a different result.\n",
      "  return np.add.reduce(sorted[indexer] * weights, axis=axis) / sumval\n"
     ]
    },
    {
     "data": {
      "image/png": "[encoded data removed]",
      "text/plain": [
       "<Figure size 432x288 with 1 Axes>"
      ]
     },
     "metadata": {
      "needs_background": "light"
     },
     "output_type": "display_data"
    }
   ],
   "source": [
    "#let's visualise the distribution of price\n",
    "sns.distplot(data.Price)\n",
    "plt.show()"
   ]
  },
  {
   "cell_type": "markdown",
   "metadata": {},
   "source": [
    "As it can be seen, we have a right-skewed data  of a large scale."
   ]
  },
  {
   "cell_type": "code",
   "execution_count": 9,
   "metadata": {},
   "outputs": [
    {
     "data": {
      "image/png": "[encoded data removed]",
      "text/plain": [
       "<Figure size 432x288 with 1 Axes>"
      ]
     },
     "metadata": {
      "needs_background": "light"
     },
     "output_type": "display_data"
    }
   ],
   "source": [
    "#let's visualise one of explanatory variables\n",
    "plt.hist(data.Distance)\n",
    "plt.show()"
   ]
  },
  {
   "cell_type": "code",
   "execution_count": 10,
   "metadata": {},
   "outputs": [
    {
     "name": "stdout",
     "output_type": "stream",
     "text": [
      "Suburb \n",
      " Ascot Vale          25\n",
      "Brunswick           16\n",
      "Ashburton            8\n",
      "Brunswick East       5\n",
      "Point Cook           3\n",
      "Reservoir            2\n",
      "Richmond             2\n",
      "Roxburgh Park        2\n",
      "Sunshine West        2\n",
      "Altona               2\n",
      "Oakleigh South       2\n",
      "Broadmeadows         2\n",
      "Taylors Hill         2\n",
      "Wheelers Hill        2\n",
      "Brighton             2\n",
      "Toorak               2\n",
      "Boronia              2\n",
      "Werribee             2\n",
      "Yarraville           2\n",
      "Vermont              1\n",
      "Ringwood North       1\n",
      "Blackburn            1\n",
      "Avondale Heights     1\n",
      "South Morang         1\n",
      "Aspendale            1\n",
      "Thomastown           1\n",
      "Blackburn North      1\n",
      "Wyndham Vale         1\n",
      "Seddon               1\n",
      "Sunbury              1\n",
      "Altona North         1\n",
      "Ashwood              1\n",
      "Parkdale             1\n",
      "Nunawading           1\n",
      "Preston              1\n",
      "Seabrook             1\n",
      "Balwyn               1\n",
      "Brighton East        1\n",
      "Bayswater North      1\n",
      "Brooklyn             1\n",
      "Brunswick West       1\n",
      "West Footscray       1\n",
      "Seaford              1\n",
      "Surrey Hills         1\n",
      "Name: Suburb, dtype: int64 \n",
      " \n",
      "\n",
      "--------------------\n",
      "Address \n",
      " 5 Doncaster St         1\n",
      "217 Victoria St        1\n",
      "4 Teeside Ct           1\n",
      "3 Frankston St         1\n",
      "2 Daley St             1\n",
      "83 Gresham Wy          1\n",
      "21A Geddes St          1\n",
      "33A Severn St          1\n",
      "24 Swallow St          1\n",
      "1/42 Nolan Av          1\n",
      "17 Hirst St            1\n",
      "3/15 Mitchell St       1\n",
      "4/27 Roseberry St      1\n",
      "102 Empress Rd         1\n",
      "37/18 Cochrane St      1\n",
      "37 Roxburgh St         1\n",
      "3 Gladys St            1\n",
      "11 Manhattan Sq        1\n",
      "92 Winmalee Rd         1\n",
      "3 Argyle Cr            1\n",
      "44 Neptune St          1\n",
      "4 Athelstane Dr        1\n",
      "18/54 Epsom Rd         1\n",
      "2/111 Victoria St      1\n",
      "5 Cornish St           1\n",
      "38 Edward St           1\n",
      "1/20 Newsom St         1\n",
      "1 East St              1\n",
      "2/25 Harold St         1\n",
      "9 Thompson St          1\n",
      "                      ..\n",
      "21 Dean St             1\n",
      "6/1 Heller St          1\n",
      "6/14 Woorigoleen Rd    1\n",
      "7/200 Albion St        1\n",
      "13 Goodman St          1\n",
      "17 Queen St            1\n",
      "164 Blyth St           1\n",
      "15 Mirams St           1\n",
      "18 Eva Ct              1\n",
      "17 Kalawar Av          1\n",
      "43 Bloomfield Rd       1\n",
      "3 Devenish Rd          1\n",
      "17 Ascot St            1\n",
      "25 Dalgety Dr          1\n",
      "21 Rushcutters Pl      1\n",
      "10 Hansen Rd           1\n",
      "5 Natalie Ct           1\n",
      "22 Margaret St         1\n",
      "3 Jensen Ct            1\n",
      "10 Kiewa St            1\n",
      "5 Linden St            1\n",
      "7/36 Union St          1\n",
      "82 Yuruga Bvd          1\n",
      "11 Shelley St          1\n",
      "73 Kent St             1\n",
      "3/716 Orrong Rd        1\n",
      "18 Molesworth Ct       1\n",
      "3 Dunlop St            1\n",
      "167 Albert St          1\n",
      "3/8 Walter St          1\n",
      "Name: Address, Length: 110, dtype: int64 \n",
      " \n",
      "\n",
      "--------------------\n",
      "Type \n",
      " h    81\n",
      "u    20\n",
      "t     9\n",
      "Name: Type, dtype: int64 \n",
      " \n",
      "\n",
      "--------------------\n",
      "Method \n",
      " S     75\n",
      "SP    15\n",
      "PI    14\n",
      "VB     6\n",
      "Name: Method, dtype: int64 \n",
      " \n",
      "\n",
      "--------------------\n",
      "SellerG \n",
      " Jellis           22\n",
      "Nelson           17\n",
      "YPA               6\n",
      "hockingstuart     6\n",
      "Barry             6\n",
      "Brad              5\n",
      "Buxton            4\n",
      "LJ                3\n",
      "Ray               3\n",
      "Woodards          3\n",
      "Marshall          3\n",
      "Fletchers         3\n",
      "HAR               2\n",
      "Alexkarbon        2\n",
      "McDonald          2\n",
      "Barlow            2\n",
      "iTRAK             2\n",
      "Stockdale         1\n",
      "Pagan             1\n",
      "Gary              1\n",
      "Harcourts         1\n",
      "Jason             1\n",
      "Sweeney           1\n",
      "Greg              1\n",
      "Caine             1\n",
      "Purplebricks      1\n",
      "Hoskins           1\n",
      "Jas               1\n",
      "Scott             1\n",
      "Thomson           1\n",
      "O'Brien           1\n",
      "Walshe            1\n",
      "RT                1\n",
      "S&L               1\n",
      "Castran           1\n",
      "Moonee            1\n",
      "Name: SellerG, dtype: int64 \n",
      " \n",
      "\n",
      "--------------------\n",
      "Date \n",
      " 2017-07-10 00:00:00    25\n",
      "15/07/2017             23\n",
      "2017-12-08 00:00:00    12\n",
      "2017-08-04 00:00:00     6\n",
      "13/05/2017              6\n",
      "25/02/2017              3\n",
      "26/07/2016              3\n",
      "19/11/2016              3\n",
      "2017-06-05 00:00:00     3\n",
      "24/09/2016              2\n",
      "27/06/2016              2\n",
      "22/04/2017              2\n",
      "2016-03-12 00:00:00     2\n",
      "2016-10-09 00:00:00     2\n",
      "28/08/2016              2\n",
      "2016-08-10 00:00:00     2\n",
      "20/05/2017              2\n",
      "27/11/2016              1\n",
      "18/03/2017              1\n",
      "18/06/2016              1\n",
      "30/07/2016              1\n",
      "22/05/2016              1\n",
      "2016-04-06 00:00:00     1\n",
      "29/04/2017              1\n",
      "23/04/2016              1\n",
      "2016-03-09 00:00:00     1\n",
      "28/05/2016              1\n",
      "Name: Date, dtype: int64 \n",
      " \n",
      "\n",
      "--------------------\n",
      "CouncilArea \n",
      " Moonee Valley City Council    26\n",
      "Moreland City Council         22\n",
      "Boroondara City Council       10\n",
      "Wyndham City Council           6\n",
      "Hume City Council              5\n",
      "Kingston City Council          4\n",
      "Hobsons Bay City Council       4\n",
      "Maribyrnong City Council       4\n",
      "Brimbank City Council          3\n",
      "Monash City Council            3\n",
      "Bayside City Council           3\n",
      "Darebin City Council           3\n",
      "Yarra City Council             2\n",
      "Maroondah City Council         2\n",
      "Manningham City Council        2\n",
      "Melton City Council            2\n",
      "Stonnington City Council       2\n",
      "Knox City Council              2\n",
      "Whittlesea City Council        2\n",
      "Whitehorse City Council        2\n",
      "Frankston City Council         1\n",
      "Name: CouncilArea, dtype: int64 \n",
      " \n",
      "\n",
      "--------------------\n",
      "Regionname \n",
      " Western Metropolitan          46\n",
      "Northern Metropolitan         33\n",
      "Southern Metropolitan         16\n",
      "Eastern Metropolitan           8\n",
      "South-Eastern Metropolitan     7\n",
      "Name: Regionname, dtype: int64 \n",
      " \n",
      "\n",
      "--------------------\n"
     ]
    }
   ],
   "source": [
    "#let's see categories and number of observations in each category for object variables\n",
    "for i in data.select_dtypes(include=\"object\").columns:\n",
    "    j=data[i].value_counts()\n",
    "    print(i,\"\\n\",j,\"\\n\",\"\\n\")\n",
    "    print(\"--------------------\")"
   ]
  },
  {
   "cell_type": "markdown",
   "metadata": {},
   "source": [
    "<h1>2.Data transformation for visual insights </h1> <a name=\"transf\"> </a>"
   ]
  },
  {
   "cell_type": "markdown",
   "metadata": {},
   "source": [
    "We can see that Suburbs, Address,SellerG, Date, CouncilArea have unique values for almost every observation. As most of them cannot be grouped into category with less levels, we will not use them in further analysis and prediction.\n",
    "However, we can try to get some insights with date variable, categorize it by season and use it for descriptive analysis."
   ]
  },
  {
   "cell_type": "code",
   "execution_count": 11,
   "metadata": {},
   "outputs": [],
   "source": [
    "#let's drop the  following variables:\"Suburb\",\"Address\",\"SellerG\",\"CouncilArea\",'Postcode',\"Lattitude\", \"Longitude\" \n",
    "#as some of them don't provide any meaningful information, and some have too many categories\n",
    "data.drop([\"Suburb\",\"Address\",\"SellerG\",\"CouncilArea\",\"Postcode\", \"Lattitude\", \"Longtitude\"],axis=1,inplace=True)"
   ]
  },
  {
   "cell_type": "code",
   "execution_count": 12,
   "metadata": {},
   "outputs": [
    {
     "name": "stdout",
     "output_type": "stream",
     "text": [
      "<class 'pandas.core.frame.DataFrame'>\n",
      "RangeIndex: 110 entries, 0 to 109\n",
      "Data columns (total 14 columns):\n",
      "Rooms            110 non-null int64\n",
      "Type             110 non-null object\n",
      "Price            110 non-null int64\n",
      "Method           110 non-null object\n",
      "Date             110 non-null object\n",
      "Distance         110 non-null float64\n",
      "Bedroom2         110 non-null int64\n",
      "Bathroom         110 non-null int64\n",
      "Car              110 non-null int64\n",
      "Landsize         110 non-null int64\n",
      "BuildingArea     110 non-null float64\n",
      "YearBuilt        110 non-null int64\n",
      "Regionname       110 non-null object\n",
      "Propertycount    110 non-null int64\n",
      "dtypes: float64(2), int64(8), object(4)\n",
      "memory usage: 12.1+ KB\n"
     ]
    }
   ],
   "source": [
    "data.info()"
   ]
  },
  {
   "cell_type": "markdown",
   "metadata": {},
   "source": [
    " <h3>2.1.Descriptive analysis using visualization</h3>"
   ]
  },
  {
   "cell_type": "markdown",
   "metadata": {},
   "source": [
    "<i><b>Let's outline some questions that might be insightful from price analytics point.</i></b>\n",
    "\n",
    "      -Is there a seasonality trend for Price? \n",
    "      -Does the Price change drastically based on year/century built?\n",
    "      -Does the Price differ based on Region?"
   ]
  },
  {
   "cell_type": "code",
   "execution_count": 13,
   "metadata": {},
   "outputs": [],
   "source": [
    "#First let's transform the \"Date\" column into datetime format"
   ]
  },
  {
   "cell_type": "code",
   "execution_count": 14,
   "metadata": {},
   "outputs": [],
   "source": [
    "data[\"Date\"] = pd.to_datetime(data[\"Date\"],dayfirst=True)"
   ]
  },
  {
   "cell_type": "code",
   "execution_count": 15,
   "metadata": {},
   "outputs": [],
   "source": [
    "#separating the month\n",
    "data[\"Month\"]=data[\"Date\"].apply(lambda x:x.month)"
   ]
  },
  {
   "cell_type": "code",
   "execution_count": 16,
   "metadata": {},
   "outputs": [],
   "source": [
    "#transforming the date into season\n",
    "data[\"Season\"]=data.Month.apply(lambda x: (x%12 + 3)//3)"
   ]
  },
  {
   "cell_type": "code",
   "execution_count": 17,
   "metadata": {},
   "outputs": [],
   "source": [
    "#Creating new variable from the existing one\n",
    "data['YearSold']=data[\"Date\"].apply(lambda x:x.year)"
   ]
  },
  {
   "cell_type": "code",
   "execution_count": 18,
   "metadata": {},
   "outputs": [],
   "source": [
    "#renaming the values 1-4 into Seasons and adding a column\n",
    "data[\"Season\"]=data.Season.map({1:'Winter',2:'Spring',3:'Summer',4:'Autumn'})"
   ]
  },
  {
   "cell_type": "code",
   "execution_count": 19,
   "metadata": {},
   "outputs": [
    {
     "data": {
      "text/plain": [
       "Summer    68\n",
       "Spring    19\n",
       "Winter    15\n",
       "Autumn     8\n",
       "Name: Season, dtype: int64"
      ]
     },
     "execution_count": 19,
     "metadata": {},
     "output_type": "execute_result"
    }
   ],
   "source": [
    "data[\"Season\"].value_counts()"
   ]
  },
  {
   "cell_type": "code",
   "execution_count": 20,
   "metadata": {},
   "outputs": [
    {
     "data": {
      "image/png": "[encoded data removed]",
      "text/plain": [
       "<Figure size 432x360 with 1 Axes>"
      ]
     },
     "metadata": {
      "needs_background": "light"
     },
     "output_type": "display_data"
    }
   ],
   "source": [
    "#let's see the Number of houses sold by season\n",
    "plt.figure(num=None, figsize=(6,5))\n",
    "cp=sns.countplot(x=\"Season\",data=data, palette='magma',orient=\"h\")\n",
    "cp.set_xticklabels(cp.get_xticklabels(),rotation=-65)\n",
    "plt.xlabel(\"Number of houses sold\")\n",
    "plt.title(\"Number of houses sold by Season\",fontdict={\"fontsize\":16})\n",
    "plt.show()"
   ]
  },
  {
   "cell_type": "code",
   "execution_count": 21,
   "metadata": {},
   "outputs": [],
   "source": [
    "#Let's also see mean price by season\n",
    "season_df=data.groupby(by='Season').mean()"
   ]
  },
  {
   "cell_type": "code",
   "execution_count": 22,
   "metadata": {},
   "outputs": [
    {
     "data": {
      "text/html": [
       "<div>\n",
       "<style scoped>\n",
       "    .dataframe tbody tr th:only-of-type {\n",
       "        vertical-align: middle;\n",
       "    }\n",
       "\n",
       "    .dataframe tbody tr th {\n",
       "        vertical-align: top;\n",
       "    }\n",
       "\n",
       "    .dataframe thead th {\n",
       "        text-align: right;\n",
       "    }\n",
       "</style>\n",
       "<table border=\"1\" class=\"dataframe\">\n",
       "  <thead>\n",
       "    <tr style=\"text-align: right;\">\n",
       "      <th></th>\n",
       "      <th>Rooms</th>\n",
       "      <th>Price</th>\n",
       "      <th>Distance</th>\n",
       "      <th>Bedroom2</th>\n",
       "      <th>Bathroom</th>\n",
       "      <th>Car</th>\n",
       "      <th>Landsize</th>\n",
       "      <th>BuildingArea</th>\n",
       "      <th>YearBuilt</th>\n",
       "      <th>Propertycount</th>\n",
       "      <th>Month</th>\n",
       "      <th>YearSold</th>\n",
       "    </tr>\n",
       "    <tr>\n",
       "      <th>Season</th>\n",
       "      <th></th>\n",
       "      <th></th>\n",
       "      <th></th>\n",
       "      <th></th>\n",
       "      <th></th>\n",
       "      <th></th>\n",
       "      <th></th>\n",
       "      <th></th>\n",
       "      <th></th>\n",
       "      <th></th>\n",
       "      <th></th>\n",
       "      <th></th>\n",
       "    </tr>\n",
       "  </thead>\n",
       "  <tbody>\n",
       "    <tr>\n",
       "      <th>Autumn</th>\n",
       "      <td>3.625000</td>\n",
       "      <td>1.260062e+06</td>\n",
       "      <td>7.175000</td>\n",
       "      <td>3.750000</td>\n",
       "      <td>2.250000</td>\n",
       "      <td>1.875000</td>\n",
       "      <td>450.750000</td>\n",
       "      <td>186.625000</td>\n",
       "      <td>1958.125000</td>\n",
       "      <td>5688.250000</td>\n",
       "      <td>10.250000</td>\n",
       "      <td>2016.000000</td>\n",
       "    </tr>\n",
       "    <tr>\n",
       "      <th>Spring</th>\n",
       "      <td>2.736842</td>\n",
       "      <td>1.210158e+06</td>\n",
       "      <td>6.747368</td>\n",
       "      <td>2.684211</td>\n",
       "      <td>1.736842</td>\n",
       "      <td>1.368421</td>\n",
       "      <td>312.263158</td>\n",
       "      <td>161.497368</td>\n",
       "      <td>1958.947368</td>\n",
       "      <td>7654.684211</td>\n",
       "      <td>4.315789</td>\n",
       "      <td>2016.631579</td>\n",
       "    </tr>\n",
       "    <tr>\n",
       "      <th>Summer</th>\n",
       "      <td>3.029412</td>\n",
       "      <td>9.310456e+05</td>\n",
       "      <td>11.325000</td>\n",
       "      <td>3.029412</td>\n",
       "      <td>1.573529</td>\n",
       "      <td>1.661765</td>\n",
       "      <td>531.911765</td>\n",
       "      <td>142.217647</td>\n",
       "      <td>1964.955882</td>\n",
       "      <td>7841.073529</td>\n",
       "      <td>7.058824</td>\n",
       "      <td>2016.838235</td>\n",
       "    </tr>\n",
       "    <tr>\n",
       "      <th>Winter</th>\n",
       "      <td>3.466667</td>\n",
       "      <td>9.894333e+05</td>\n",
       "      <td>11.160000</td>\n",
       "      <td>3.466667</td>\n",
       "      <td>1.733333</td>\n",
       "      <td>1.533333</td>\n",
       "      <td>533.800000</td>\n",
       "      <td>147.200000</td>\n",
       "      <td>1969.266667</td>\n",
       "      <td>7786.200000</td>\n",
       "      <td>10.000000</td>\n",
       "      <td>2017.000000</td>\n",
       "    </tr>\n",
       "  </tbody>\n",
       "</table>\n",
       "</div>"
      ],
      "text/plain": [
       "           Rooms         Price   Distance  Bedroom2  Bathroom       Car  \\\n",
       "Season                                                                    \n",
       "Autumn  3.625000  1.260062e+06   7.175000  3.750000  2.250000  1.875000   \n",
       "Spring  2.736842  1.210158e+06   6.747368  2.684211  1.736842  1.368421   \n",
       "Summer  3.029412  9.310456e+05  11.325000  3.029412  1.573529  1.661765   \n",
       "Winter  3.466667  9.894333e+05  11.160000  3.466667  1.733333  1.533333   \n",
       "\n",
       "          Landsize  BuildingArea    YearBuilt  Propertycount      Month  \\\n",
       "Season                                                                    \n",
       "Autumn  450.750000    186.625000  1958.125000    5688.250000  10.250000   \n",
       "Spring  312.263158    161.497368  1958.947368    7654.684211   4.315789   \n",
       "Summer  531.911765    142.217647  1964.955882    7841.073529   7.058824   \n",
       "Winter  533.800000    147.200000  1969.266667    7786.200000  10.000000   \n",
       "\n",
       "           YearSold  \n",
       "Season               \n",
       "Autumn  2016.000000  \n",
       "Spring  2016.631579  \n",
       "Summer  2016.838235  \n",
       "Winter  2017.000000  "
      ]
     },
     "execution_count": 22,
     "metadata": {},
     "output_type": "execute_result"
    }
   ],
   "source": [
    "season_df"
   ]
  },
  {
   "cell_type": "code",
   "execution_count": 23,
   "metadata": {},
   "outputs": [
    {
     "data": {
      "image/png": "[encoded data removed]",
      "text/plain": [
       "<Figure size 432x360 with 1 Axes>"
      ]
     },
     "metadata": {
      "needs_background": "light"
     },
     "output_type": "display_data"
    }
   ],
   "source": [
    "#let's see the mean price by season\n",
    "plt.figure(num=None, figsize=(6,5))\n",
    "plt.plot(season_df.Price)\n",
    "plt.xlabel(\"Season\")\n",
    "plt.title(\"Mean Price by Season\",fontdict={\"fontsize\":16})\n",
    "plt.show()"
   ]
  },
  {
   "cell_type": "markdown",
   "metadata": {},
   "source": [
    "We can see that mean price is lower during summer season, which hints why most of the houses are sold in summer."
   ]
  },
  {
   "cell_type": "code",
   "execution_count": 25,
   "metadata": {
    "scrolled": true
   },
   "outputs": [],
   "source": [
    "#transforming only Built Year into datetime \n",
    "data['YearBuilt']=pd.to_datetime(data['YearBuilt'],format='%Y').apply(lambda x:x.year)"
   ]
  },
  {
   "cell_type": "code",
   "execution_count": 27,
   "metadata": {},
   "outputs": [
    {
     "data": {
      "image/png": "[encoded data removed]",
      "text/plain": [
       "<Figure size 432x360 with 1 Axes>"
      ]
     },
     "metadata": {
      "needs_background": "light"
     },
     "output_type": "display_data"
    }
   ],
   "source": [
    "#When were most of the houses sold?\n",
    "plt.figure(num=None, figsize=(6,5))\n",
    "sns.countplot(x=\"YearSold\",data=data, palette='magma')\n",
    "plt.xlabel(\"Number of houses\")\n",
    "plt.title(\"Number of houses by Year Sold\",fontdict={\"fontsize\":16})\n",
    "plt.show()"
   ]
  },
  {
   "cell_type": "code",
   "execution_count": 28,
   "metadata": {},
   "outputs": [
    {
     "data": {
      "image/png": "[encoded data removed]",
      "text/plain": [
       "<Figure size 432x360 with 1 Axes>"
      ]
     },
     "metadata": {
      "needs_background": "light"
     },
     "output_type": "display_data"
    }
   ],
   "source": [
    "#When were most of the houses built?\n",
    "plt.figure(num=None, figsize=(6,5))\n",
    "cp=sns.countplot(x=\"YearBuilt\",data=data, palette='magma')\n",
    "cp.set_xticklabels(cp.get_xticklabels(),rotation=90)\n",
    "plt.xlabel(\"Number of houses\")\n",
    "plt.title(\"Number of houses by Year Built\",fontdict={\"fontsize\":16})\n",
    "plt.show()"
   ]
  },
  {
   "cell_type": "markdown",
   "metadata": {},
   "source": [
    "Interestingly, most of the houses sold in 2016-2017 were not a recently built ones, but rather old."
   ]
  },
  {
   "cell_type": "code",
   "execution_count": 29,
   "metadata": {},
   "outputs": [
    {
     "name": "stdout",
     "output_type": "stream",
     "text": [
      "count    110.000000\n",
      "mean      52.754545\n",
      "std       39.700065\n",
      "min        0.000000\n",
      "25%       12.250000\n",
      "50%       47.000000\n",
      "75%       87.000000\n",
      "max      127.000000\n",
      "Name: year_diff, dtype: float64\n"
     ]
    }
   ],
   "source": [
    "#How many years \"old\" are the houses sold?\n",
    "data[\"year_diff\"]=data[\"YearSold\"]-data[\"YearBuilt\"]\n",
    "print(data[\"year_diff\"].describe())"
   ]
  },
  {
   "cell_type": "markdown",
   "metadata": {},
   "source": [
    "Note that 50% of the houses sold are 47 years old and the maximum age is 127."
   ]
  },
  {
   "cell_type": "code",
   "execution_count": 30,
   "metadata": {},
   "outputs": [],
   "source": [
    "#Let's see mean price of the houses by year built\n",
    "yearly_df=data.groupby(by='YearBuilt').mean()"
   ]
  },
  {
   "cell_type": "code",
   "execution_count": 31,
   "metadata": {},
   "outputs": [
    {
     "data": {
      "text/plain": [
       "Text(0.5, 1.0, 'Mean price by Year Built')"
      ]
     },
     "execution_count": 31,
     "metadata": {},
     "output_type": "execute_result"
    },
    {
     "data": {
      "image/png": "[encoded data removed]",
      "text/plain": [
       "<Figure size 504x432 with 1 Axes>"
      ]
     },
     "metadata": {
      "needs_background": "light"
     },
     "output_type": "display_data"
    }
   ],
   "source": [
    "plt.figure(num=None, figsize=(7,6))\n",
    "plt.plot(yearly_df.Price)\n",
    "plt.xlabel(\"Date\")\n",
    "plt.ylabel(\"Mean price\")\n",
    "plt.title('Mean price by Year Built', fontsize=15)"
   ]
  },
  {
   "cell_type": "markdown",
   "metadata": {},
   "source": [
    "Apparently mean price has its highest peak at 2017. Fluctuations in price for other years might be dependent on Region and other factors as well.\n",
    "Let's see price by region and year built."
   ]
  },
  {
   "cell_type": "code",
   "execution_count": 32,
   "metadata": {},
   "outputs": [
    {
     "data": {
      "text/plain": [
       "Western Metropolitan          46\n",
       "Northern Metropolitan         33\n",
       "Southern Metropolitan         16\n",
       "Eastern Metropolitan           8\n",
       "South-Eastern Metropolitan     7\n",
       "Name: Regionname, dtype: int64"
      ]
     },
     "execution_count": 32,
     "metadata": {},
     "output_type": "execute_result"
    }
   ],
   "source": [
    "data.Regionname.value_counts()"
   ]
  },
  {
   "cell_type": "code",
   "execution_count": 33,
   "metadata": {},
   "outputs": [
    {
     "data": {
      "image/png": "[encoded data removed]",
      "text/plain": [
       "<Figure size 432x360 with 1 Axes>"
      ]
     },
     "metadata": {
      "needs_background": "light"
     },
     "output_type": "display_data"
    }
   ],
   "source": [
    "#let's see the price by region\n",
    "plt.figure(num=None, figsize=(6,5))\n",
    "cp=sns.countplot(x=\"Regionname\",data=data, palette='magma',orient=\"h\")\n",
    "cp.set_xticklabels(cp.get_xticklabels(),rotation=-65)\n",
    "plt.xlabel(\"Number of houses sold\")\n",
    "plt.title(\"Number of houses sold by Region\",fontdict={\"fontsize\":16})\n",
    "plt.show()"
   ]
  },
  {
   "cell_type": "markdown",
   "metadata": {},
   "source": [
    "Most of the houses sold are located in Western Metropolitan Region."
   ]
  },
  {
   "cell_type": "markdown",
   "metadata": {},
   "source": [
    "As we have too many years, it would be more convenient and representative for visualization to transform years into centuries.\n",
    "We will do it using the following function and apply() method"
   ]
  },
  {
   "cell_type": "code",
   "execution_count": 34,
   "metadata": {},
   "outputs": [],
   "source": [
    "def century(row):\n",
    "    if row>2000:\n",
    "        val = \"20th\"\n",
    "    else:\n",
    "        val=\"19th\"\n",
    "    return val"
   ]
  },
  {
   "cell_type": "code",
   "execution_count": 35,
   "metadata": {},
   "outputs": [
    {
     "data": {
      "text/plain": [
       "19th    78\n",
       "20th    32\n",
       "Name: YearBuilt, dtype: int64"
      ]
     },
     "execution_count": 35,
     "metadata": {},
     "output_type": "execute_result"
    }
   ],
   "source": [
    "data.YearBuilt.apply(century).value_counts()"
   ]
  },
  {
   "cell_type": "code",
   "execution_count": 36,
   "metadata": {},
   "outputs": [
    {
     "data": {
      "image/png": "[encoded data removed]",
      "text/plain": [
       "<Figure size 432x360 with 1 Axes>"
      ]
     },
     "metadata": {
      "needs_background": "light"
     },
     "output_type": "display_data"
    }
   ],
   "source": [
    "plt.figure(num=None, figsize=(6,5))\n",
    "bx=sns.boxplot(x=\"Regionname\",y=\"Price\", data=data, palette='magma',hue=data.YearBuilt.apply(century),  showmeans=True)\n",
    "bx.set_xticklabels(bx.get_xticklabels(),rotation=65)\n",
    "plt.legend(title='Century Built', loc='upper right')\n",
    "plt.xlabel(\"Region Name\")\n",
    "plt.title(\"Price by Region and Century Built\",fontdict={\"fontsize\":16})\n",
    "plt.show()"
   ]
  },
  {
   "cell_type": "markdown",
   "metadata": {},
   "source": [
    "We can see that the highest mean price is at Souther Metropolitan region for houses built at 20th century."
   ]
  },
  {
   "cell_type": "code",
   "execution_count": 37,
   "metadata": {},
   "outputs": [],
   "source": [
    "#yearly_df=data.groupby(by='Review_year').count()"
   ]
  },
  {
   "cell_type": "markdown",
   "metadata": {},
   "source": [
    "To have the final data without the transformed variables, we will drop them."
   ]
  },
  {
   "cell_type": "code",
   "execution_count": 38,
   "metadata": {},
   "outputs": [],
   "source": [
    "data.drop([\"Date\",\"YearBuilt\",\"Month\", \"Season\",\"YearSold\",\"year_diff\" ],axis=1,inplace=True)"
   ]
  },
  {
   "cell_type": "markdown",
   "metadata": {},
   "source": [
    "<h1> 3. Model selection </h1> <a name=\"select\"> </a>"
   ]
  },
  {
   "cell_type": "code",
   "execution_count": 39,
   "metadata": {},
   "outputs": [
    {
     "data": {
      "text/plain": [
       "<seaborn.axisgrid.PairGrid at 0x1da9ab62cc0>"
      ]
     },
     "execution_count": 39,
     "metadata": {},
     "output_type": "execute_result"
    },
    {
     "data": {
      "image/png": "[encoded data removed]",
      "text/plain": [
       "<Figure size 1620x1620 with 90 Axes>"
      ]
     },
     "metadata": {
      "needs_background": "light"
     },
     "output_type": "display_data"
    }
   ],
   "source": [
    "#To see the visual representation of pairwise relationships in a dataset, a pairplot is used. Note that it only plots numeric\n",
    "#columns.\n",
    "sns.pairplot(data)"
   ]
  },
  {
   "cell_type": "markdown",
   "metadata": {},
   "source": [
    "To see the patterns interesting us in details, we can plot the pairs using appropriate types of plots.\n",
    "Let's plot several of them."
   ]
  },
  {
   "cell_type": "markdown",
   "metadata": {},
   "source": [
    " <h3><u>Checking for correlations (multicollinearity)</u></h3>"
   ]
  },
  {
   "cell_type": "code",
   "execution_count": 40,
   "metadata": {},
   "outputs": [
    {
     "data": {
      "text/html": [
       "<div>\n",
       "<style scoped>\n",
       "    .dataframe tbody tr th:only-of-type {\n",
       "        vertical-align: middle;\n",
       "    }\n",
       "\n",
       "    .dataframe tbody tr th {\n",
       "        vertical-align: top;\n",
       "    }\n",
       "\n",
       "    .dataframe thead th {\n",
       "        text-align: right;\n",
       "    }\n",
       "</style>\n",
       "<table border=\"1\" class=\"dataframe\">\n",
       "  <thead>\n",
       "    <tr style=\"text-align: right;\">\n",
       "      <th></th>\n",
       "      <th>Rooms</th>\n",
       "      <th>Price</th>\n",
       "      <th>Distance</th>\n",
       "      <th>Bedroom2</th>\n",
       "      <th>Bathroom</th>\n",
       "      <th>Car</th>\n",
       "      <th>Landsize</th>\n",
       "      <th>BuildingArea</th>\n",
       "      <th>Propertycount</th>\n",
       "    </tr>\n",
       "  </thead>\n",
       "  <tbody>\n",
       "    <tr>\n",
       "      <th>Rooms</th>\n",
       "      <td>1.000000</td>\n",
       "      <td>0.496441</td>\n",
       "      <td>0.322496</td>\n",
       "      <td>0.992288</td>\n",
       "      <td>0.693759</td>\n",
       "      <td>0.427596</td>\n",
       "      <td>0.289627</td>\n",
       "      <td>0.743288</td>\n",
       "      <td>-0.094804</td>\n",
       "    </tr>\n",
       "    <tr>\n",
       "      <th>Price</th>\n",
       "      <td>0.496441</td>\n",
       "      <td>1.000000</td>\n",
       "      <td>-0.141503</td>\n",
       "      <td>0.498843</td>\n",
       "      <td>0.570595</td>\n",
       "      <td>0.329081</td>\n",
       "      <td>0.041088</td>\n",
       "      <td>0.628836</td>\n",
       "      <td>-0.134389</td>\n",
       "    </tr>\n",
       "    <tr>\n",
       "      <th>Distance</th>\n",
       "      <td>0.322496</td>\n",
       "      <td>-0.141503</td>\n",
       "      <td>1.000000</td>\n",
       "      <td>0.312113</td>\n",
       "      <td>0.133916</td>\n",
       "      <td>0.334017</td>\n",
       "      <td>0.244377</td>\n",
       "      <td>0.220520</td>\n",
       "      <td>-0.085765</td>\n",
       "    </tr>\n",
       "    <tr>\n",
       "      <th>Bedroom2</th>\n",
       "      <td>0.992288</td>\n",
       "      <td>0.498843</td>\n",
       "      <td>0.312113</td>\n",
       "      <td>1.000000</td>\n",
       "      <td>0.724278</td>\n",
       "      <td>0.433750</td>\n",
       "      <td>0.298613</td>\n",
       "      <td>0.753977</td>\n",
       "      <td>-0.097368</td>\n",
       "    </tr>\n",
       "    <tr>\n",
       "      <th>Bathroom</th>\n",
       "      <td>0.693759</td>\n",
       "      <td>0.570595</td>\n",
       "      <td>0.133916</td>\n",
       "      <td>0.724278</td>\n",
       "      <td>1.000000</td>\n",
       "      <td>0.427814</td>\n",
       "      <td>0.187223</td>\n",
       "      <td>0.765947</td>\n",
       "      <td>-0.175644</td>\n",
       "    </tr>\n",
       "    <tr>\n",
       "      <th>Car</th>\n",
       "      <td>0.427596</td>\n",
       "      <td>0.329081</td>\n",
       "      <td>0.334017</td>\n",
       "      <td>0.433750</td>\n",
       "      <td>0.427814</td>\n",
       "      <td>1.000000</td>\n",
       "      <td>0.311213</td>\n",
       "      <td>0.487816</td>\n",
       "      <td>-0.102099</td>\n",
       "    </tr>\n",
       "    <tr>\n",
       "      <th>Landsize</th>\n",
       "      <td>0.289627</td>\n",
       "      <td>0.041088</td>\n",
       "      <td>0.244377</td>\n",
       "      <td>0.298613</td>\n",
       "      <td>0.187223</td>\n",
       "      <td>0.311213</td>\n",
       "      <td>1.000000</td>\n",
       "      <td>0.284929</td>\n",
       "      <td>-0.044187</td>\n",
       "    </tr>\n",
       "    <tr>\n",
       "      <th>BuildingArea</th>\n",
       "      <td>0.743288</td>\n",
       "      <td>0.628836</td>\n",
       "      <td>0.220520</td>\n",
       "      <td>0.753977</td>\n",
       "      <td>0.765947</td>\n",
       "      <td>0.487816</td>\n",
       "      <td>0.284929</td>\n",
       "      <td>1.000000</td>\n",
       "      <td>-0.150502</td>\n",
       "    </tr>\n",
       "    <tr>\n",
       "      <th>Propertycount</th>\n",
       "      <td>-0.094804</td>\n",
       "      <td>-0.134389</td>\n",
       "      <td>-0.085765</td>\n",
       "      <td>-0.097368</td>\n",
       "      <td>-0.175644</td>\n",
       "      <td>-0.102099</td>\n",
       "      <td>-0.044187</td>\n",
       "      <td>-0.150502</td>\n",
       "      <td>1.000000</td>\n",
       "    </tr>\n",
       "  </tbody>\n",
       "</table>\n",
       "</div>"
      ],
      "text/plain": [
       "                  Rooms     Price  Distance  Bedroom2  Bathroom       Car  \\\n",
       "Rooms          1.000000  0.496441  0.322496  0.992288  0.693759  0.427596   \n",
       "Price          0.496441  1.000000 -0.141503  0.498843  0.570595  0.329081   \n",
       "Distance       0.322496 -0.141503  1.000000  0.312113  0.133916  0.334017   \n",
       "Bedroom2       0.992288  0.498843  0.312113  1.000000  0.724278  0.433750   \n",
       "Bathroom       0.693759  0.570595  0.133916  0.724278  1.000000  0.427814   \n",
       "Car            0.427596  0.329081  0.334017  0.433750  0.427814  1.000000   \n",
       "Landsize       0.289627  0.041088  0.244377  0.298613  0.187223  0.311213   \n",
       "BuildingArea   0.743288  0.628836  0.220520  0.753977  0.765947  0.487816   \n",
       "Propertycount -0.094804 -0.134389 -0.085765 -0.097368 -0.175644 -0.102099   \n",
       "\n",
       "               Landsize  BuildingArea  Propertycount  \n",
       "Rooms          0.289627      0.743288      -0.094804  \n",
       "Price          0.041088      0.628836      -0.134389  \n",
       "Distance       0.244377      0.220520      -0.085765  \n",
       "Bedroom2       0.298613      0.753977      -0.097368  \n",
       "Bathroom       0.187223      0.765947      -0.175644  \n",
       "Car            0.311213      0.487816      -0.102099  \n",
       "Landsize       1.000000      0.284929      -0.044187  \n",
       "BuildingArea   0.284929      1.000000      -0.150502  \n",
       "Propertycount -0.044187     -0.150502       1.000000  "
      ]
     },
     "execution_count": 40,
     "metadata": {},
     "output_type": "execute_result"
    }
   ],
   "source": [
    "#lets see the corrplot\n",
    "data.corr()"
   ]
  },
  {
   "cell_type": "markdown",
   "metadata": {},
   "source": [
    "There are a lot of pairs having high correlation, but the representation is not convenient to see the overall picture, thus we will use some visualizations."
   ]
  },
  {
   "cell_type": "code",
   "execution_count": 41,
   "metadata": {},
   "outputs": [
    {
     "data": {
      "text/plain": [
       "<matplotlib.axes._subplots.AxesSubplot at 0x1da9a85deb8>"
      ]
     },
     "execution_count": 41,
     "metadata": {},
     "output_type": "execute_result"
    },
    {
     "data": {
      "image/png": "[encoded data removed]",
      "text/plain": [
       "<Figure size 720x360 with 2 Axes>"
      ]
     },
     "metadata": {
      "needs_background": "light"
     },
     "output_type": "display_data"
    }
   ],
   "source": [
    "#Let's visualize correlations\n",
    "plt.figure(figsize=(10,5))\n",
    "sns.heatmap(data.corr().abs().round(2),annot=True, cmap = \"BuGn\")"
   ]
  },
  {
   "cell_type": "code",
   "execution_count": 42,
   "metadata": {},
   "outputs": [
    {
     "data": {
      "text/plain": [
       "<matplotlib.axes._subplots.AxesSubplot at 0x1da9faa8c18>"
      ]
     },
     "execution_count": 42,
     "metadata": {},
     "output_type": "execute_result"
    },
    {
     "data": {
      "image/png": "[encoded data removed]",
      "text/plain": [
       "<Figure size 432x288 with 2 Axes>"
      ]
     },
     "metadata": {
      "needs_background": "light"
     },
     "output_type": "display_data"
    }
   ],
   "source": [
    "#plot correlation heatmap to see any correlations above or equal to 75% in absolute values\n",
    "#we will see that number of variables are highly correlated, which will affect the results.\n",
    "#Thus we will include only several of them in the analysis\n",
    "sns.heatmap(data.corr().abs()>=0.75, cmap = \"BuGn\")"
   ]
  },
  {
   "cell_type": "code",
   "execution_count": 43,
   "metadata": {},
   "outputs": [],
   "source": [
    "#let's drop Bedroom and bathroom variables, as they have high correlation coefficient and \n",
    "#the information is repeated in number of rooms.\n",
    "data.drop(\"Bedroom2\",axis=1,inplace=True)"
   ]
  },
  {
   "cell_type": "code",
   "execution_count": 44,
   "metadata": {},
   "outputs": [],
   "source": [
    "data.drop(\"Bathroom\", axis=1, inplace=True)"
   ]
  },
  {
   "cell_type": "code",
   "execution_count": 45,
   "metadata": {},
   "outputs": [
    {
     "data": {
      "text/plain": [
       "<matplotlib.axes._subplots.AxesSubplot at 0x1da9fb1eba8>"
      ]
     },
     "execution_count": 45,
     "metadata": {},
     "output_type": "execute_result"
    },
    {
     "data": {
      "image/png": "[encoded data removed]",
      "text/plain": [
       "<Figure size 720x360 with 2 Axes>"
      ]
     },
     "metadata": {
      "needs_background": "light"
     },
     "output_type": "display_data"
    }
   ],
   "source": [
    "#Let's visualize correlations\n",
    "plt.figure(figsize=(10,5))\n",
    "sns.heatmap(data.corr().abs().round(2),annot=True, cmap = \"BuGn\")"
   ]
  },
  {
   "cell_type": "markdown",
   "metadata": {},
   "source": [
    "After dropping the noted variables we see that there is no correlation coefficient higher than 0.75 so won't exclude any other variable."
   ]
  },
  {
   "cell_type": "code",
   "execution_count": 46,
   "metadata": {},
   "outputs": [
    {
     "data": {
      "text/html": [
       "<div>\n",
       "<style scoped>\n",
       "    .dataframe tbody tr th:only-of-type {\n",
       "        vertical-align: middle;\n",
       "    }\n",
       "\n",
       "    .dataframe tbody tr th {\n",
       "        vertical-align: top;\n",
       "    }\n",
       "\n",
       "    .dataframe thead th {\n",
       "        text-align: right;\n",
       "    }\n",
       "</style>\n",
       "<table border=\"1\" class=\"dataframe\">\n",
       "  <thead>\n",
       "    <tr style=\"text-align: right;\">\n",
       "      <th></th>\n",
       "      <th>Rooms</th>\n",
       "      <th>Price</th>\n",
       "      <th>Distance</th>\n",
       "      <th>Car</th>\n",
       "      <th>Landsize</th>\n",
       "      <th>BuildingArea</th>\n",
       "      <th>Propertycount</th>\n",
       "      <th>Type_t</th>\n",
       "      <th>Type_u</th>\n",
       "      <th>Method_S</th>\n",
       "      <th>Method_SP</th>\n",
       "      <th>Method_VB</th>\n",
       "      <th>Regionname_Northern Metropolitan</th>\n",
       "      <th>Regionname_South-Eastern Metropolitan</th>\n",
       "      <th>Regionname_Southern Metropolitan</th>\n",
       "      <th>Regionname_Western Metropolitan</th>\n",
       "    </tr>\n",
       "  </thead>\n",
       "  <tbody>\n",
       "    <tr>\n",
       "      <th>0</th>\n",
       "      <td>2</td>\n",
       "      <td>865000</td>\n",
       "      <td>5.9</td>\n",
       "      <td>1</td>\n",
       "      <td>146</td>\n",
       "      <td>132.0</td>\n",
       "      <td>6567</td>\n",
       "      <td>1</td>\n",
       "      <td>0</td>\n",
       "      <td>0</td>\n",
       "      <td>1</td>\n",
       "      <td>0</td>\n",
       "      <td>0</td>\n",
       "      <td>0</td>\n",
       "      <td>0</td>\n",
       "      <td>1</td>\n",
       "    </tr>\n",
       "    <tr>\n",
       "      <th>1</th>\n",
       "      <td>2</td>\n",
       "      <td>442000</td>\n",
       "      <td>5.9</td>\n",
       "      <td>1</td>\n",
       "      <td>0</td>\n",
       "      <td>62.0</td>\n",
       "      <td>6567</td>\n",
       "      <td>0</td>\n",
       "      <td>1</td>\n",
       "      <td>1</td>\n",
       "      <td>0</td>\n",
       "      <td>0</td>\n",
       "      <td>0</td>\n",
       "      <td>0</td>\n",
       "      <td>0</td>\n",
       "      <td>1</td>\n",
       "    </tr>\n",
       "    <tr>\n",
       "      <th>2</th>\n",
       "      <td>3</td>\n",
       "      <td>1037500</td>\n",
       "      <td>5.9</td>\n",
       "      <td>2</td>\n",
       "      <td>506</td>\n",
       "      <td>110.0</td>\n",
       "      <td>6567</td>\n",
       "      <td>0</td>\n",
       "      <td>0</td>\n",
       "      <td>1</td>\n",
       "      <td>0</td>\n",
       "      <td>0</td>\n",
       "      <td>0</td>\n",
       "      <td>0</td>\n",
       "      <td>0</td>\n",
       "      <td>1</td>\n",
       "    </tr>\n",
       "    <tr>\n",
       "      <th>3</th>\n",
       "      <td>3</td>\n",
       "      <td>1050000</td>\n",
       "      <td>5.9</td>\n",
       "      <td>2</td>\n",
       "      <td>318</td>\n",
       "      <td>160.0</td>\n",
       "      <td>6567</td>\n",
       "      <td>1</td>\n",
       "      <td>0</td>\n",
       "      <td>1</td>\n",
       "      <td>0</td>\n",
       "      <td>0</td>\n",
       "      <td>0</td>\n",
       "      <td>0</td>\n",
       "      <td>0</td>\n",
       "      <td>1</td>\n",
       "    </tr>\n",
       "    <tr>\n",
       "      <th>4</th>\n",
       "      <td>2</td>\n",
       "      <td>440000</td>\n",
       "      <td>5.9</td>\n",
       "      <td>1</td>\n",
       "      <td>0</td>\n",
       "      <td>65.0</td>\n",
       "      <td>6567</td>\n",
       "      <td>0</td>\n",
       "      <td>1</td>\n",
       "      <td>1</td>\n",
       "      <td>0</td>\n",
       "      <td>0</td>\n",
       "      <td>0</td>\n",
       "      <td>0</td>\n",
       "      <td>0</td>\n",
       "      <td>1</td>\n",
       "    </tr>\n",
       "  </tbody>\n",
       "</table>\n",
       "</div>"
      ],
      "text/plain": [
       "   Rooms    Price  Distance  Car  Landsize  BuildingArea  Propertycount  \\\n",
       "0      2   865000       5.9    1       146         132.0           6567   \n",
       "1      2   442000       5.9    1         0          62.0           6567   \n",
       "2      3  1037500       5.9    2       506         110.0           6567   \n",
       "3      3  1050000       5.9    2       318         160.0           6567   \n",
       "4      2   440000       5.9    1         0          65.0           6567   \n",
       "\n",
       "   Type_t  Type_u  Method_S  Method_SP  Method_VB  \\\n",
       "0       1       0         0          1          0   \n",
       "1       0       1         1          0          0   \n",
       "2       0       0         1          0          0   \n",
       "3       1       0         1          0          0   \n",
       "4       0       1         1          0          0   \n",
       "\n",
       "   Regionname_Northern Metropolitan  Regionname_South-Eastern Metropolitan  \\\n",
       "0                                 0                                      0   \n",
       "1                                 0                                      0   \n",
       "2                                 0                                      0   \n",
       "3                                 0                                      0   \n",
       "4                                 0                                      0   \n",
       "\n",
       "   Regionname_Southern Metropolitan  Regionname_Western Metropolitan  \n",
       "0                                 0                                1  \n",
       "1                                 0                                1  \n",
       "2                                 0                                1  \n",
       "3                                 0                                1  \n",
       "4                                 0                                1  "
      ]
     },
     "execution_count": 46,
     "metadata": {},
     "output_type": "execute_result"
    }
   ],
   "source": [
    "#let's convert categorical variables in the dataset into dummy variables\n",
    "data=pd.get_dummies(data,drop_first=True)\n",
    "data.head()"
   ]
  },
  {
   "cell_type": "code",
   "execution_count": 47,
   "metadata": {},
   "outputs": [
    {
     "name": "stdout",
     "output_type": "stream",
     "text": [
      "<class 'pandas.core.frame.DataFrame'>\n",
      "RangeIndex: 110 entries, 0 to 109\n",
      "Data columns (total 16 columns):\n",
      "Rooms                                    110 non-null int64\n",
      "Price                                    110 non-null int64\n",
      "Distance                                 110 non-null float64\n",
      "Car                                      110 non-null int64\n",
      "Landsize                                 110 non-null int64\n",
      "BuildingArea                             110 non-null float64\n",
      "Propertycount                            110 non-null int64\n",
      "Type_t                                   110 non-null uint8\n",
      "Type_u                                   110 non-null uint8\n",
      "Method_S                                 110 non-null uint8\n",
      "Method_SP                                110 non-null uint8\n",
      "Method_VB                                110 non-null uint8\n",
      "Regionname_Northern Metropolitan         110 non-null uint8\n",
      "Regionname_South-Eastern Metropolitan    110 non-null uint8\n",
      "Regionname_Southern Metropolitan         110 non-null uint8\n",
      "Regionname_Western Metropolitan          110 non-null uint8\n",
      "dtypes: float64(2), int64(5), uint8(9)\n",
      "memory usage: 7.1 KB\n"
     ]
    }
   ],
   "source": [
    "data.info()"
   ]
  },
  {
   "cell_type": "code",
   "execution_count": 48,
   "metadata": {},
   "outputs": [],
   "source": [
    "#as the names of newly creayed dummy variables contain space and \"-\", let's replace with underscore (\"_\")\n",
    "data.columns=data.columns.str.replace(\" \",\"_\")\n",
    "data.columns=data.columns.str.replace(\"-\",\"_\")"
   ]
  },
  {
   "cell_type": "code",
   "execution_count": 49,
   "metadata": {},
   "outputs": [
    {
     "name": "stdout",
     "output_type": "stream",
     "text": [
      "<class 'pandas.core.frame.DataFrame'>\n",
      "RangeIndex: 110 entries, 0 to 109\n",
      "Data columns (total 16 columns):\n",
      "Rooms                                    110 non-null int64\n",
      "Price                                    110 non-null int64\n",
      "Distance                                 110 non-null float64\n",
      "Car                                      110 non-null int64\n",
      "Landsize                                 110 non-null int64\n",
      "BuildingArea                             110 non-null float64\n",
      "Propertycount                            110 non-null int64\n",
      "Type_t                                   110 non-null uint8\n",
      "Type_u                                   110 non-null uint8\n",
      "Method_S                                 110 non-null uint8\n",
      "Method_SP                                110 non-null uint8\n",
      "Method_VB                                110 non-null uint8\n",
      "Regionname_Northern_Metropolitan         110 non-null uint8\n",
      "Regionname_South_Eastern_Metropolitan    110 non-null uint8\n",
      "Regionname_Southern_Metropolitan         110 non-null uint8\n",
      "Regionname_Western_Metropolitan          110 non-null uint8\n",
      "dtypes: float64(2), int64(5), uint8(9)\n",
      "memory usage: 7.1 KB\n"
     ]
    }
   ],
   "source": [
    "data.info()"
   ]
  },
  {
   "cell_type": "markdown",
   "metadata": {},
   "source": [
    "<h1> 3.1 Running and building the OLS model (statsmodels) (backward selection, model transformation) </h1> <a name=\"stats\"> </a>"
   ]
  },
  {
   "cell_type": "code",
   "execution_count": 50,
   "metadata": {},
   "outputs": [],
   "source": [
    "#setting the varables\n",
    "Y_linear=data[\"Price\"]\n",
    "X_linear=data.drop(\"Price\", axis=1)"
   ]
  },
  {
   "cell_type": "code",
   "execution_count": 51,
   "metadata": {},
   "outputs": [],
   "source": [
    "# Adding a constant term to the predictor, the intercept is not included in the model and should be added by the user\n",
    "X_linear=sm.add_constant(X_linear)"
   ]
  },
  {
   "cell_type": "code",
   "execution_count": 52,
   "metadata": {},
   "outputs": [],
   "source": [
    "model_linear= sm.OLS(Y_linear,X_linear)"
   ]
  },
  {
   "cell_type": "markdown",
   "metadata": {},
   "source": [
    "<b>Next, build the model.</b>"
   ]
  },
  {
   "cell_type": "code",
   "execution_count": 53,
   "metadata": {},
   "outputs": [],
   "source": [
    "results=model_linear.fit()"
   ]
  },
  {
   "cell_type": "markdown",
   "metadata": {},
   "source": [
    "<b>Last, see the summary.</b>"
   ]
  },
  {
   "cell_type": "code",
   "execution_count": 54,
   "metadata": {},
   "outputs": [
    {
     "data": {
      "text/html": [
       "<table class=\"simpletable\">\n",
       "<caption>OLS Regression Results</caption>\n",
       "<tr>\n",
       "  <th>Dep. Variable:</th>          <td>Price</td>      <th>  R-squared:         </th> <td>   0.819</td>\n",
       "</tr>\n",
       "<tr>\n",
       "  <th>Model:</th>                   <td>OLS</td>       <th>  Adj. R-squared:    </th> <td>   0.790</td>\n",
       "</tr>\n",
       "<tr>\n",
       "  <th>Method:</th>             <td>Least Squares</td>  <th>  F-statistic:       </th> <td>   28.32</td>\n",
       "</tr>\n",
       "<tr>\n",
       "  <th>Date:</th>             <td>Wed, 18 Sep 2019</td> <th>  Prob (F-statistic):</th> <td>2.46e-28</td>\n",
       "</tr>\n",
       "<tr>\n",
       "  <th>Time:</th>                 <td>04:17:52</td>     <th>  Log-Likelihood:    </th> <td> -1506.2</td>\n",
       "</tr>\n",
       "<tr>\n",
       "  <th>No. Observations:</th>      <td>   110</td>      <th>  AIC:               </th> <td>   3044.</td>\n",
       "</tr>\n",
       "<tr>\n",
       "  <th>Df Residuals:</th>          <td>    94</td>      <th>  BIC:               </th> <td>   3088.</td>\n",
       "</tr>\n",
       "<tr>\n",
       "  <th>Df Model:</th>              <td>    15</td>      <th>                     </th>     <td> </td>   \n",
       "</tr>\n",
       "<tr>\n",
       "  <th>Covariance Type:</th>      <td>nonrobust</td>    <th>                     </th>     <td> </td>   \n",
       "</tr>\n",
       "</table>\n",
       "<table class=\"simpletable\">\n",
       "<tr>\n",
       "                    <td></td>                       <th>coef</th>     <th>std err</th>      <th>t</th>      <th>P>|t|</th>  <th>[0.025</th>    <th>0.975]</th>  \n",
       "</tr>\n",
       "<tr>\n",
       "  <th>const</th>                                 <td> 9.692e+05</td> <td> 1.67e+05</td> <td>    5.794</td> <td> 0.000</td> <td> 6.37e+05</td> <td>  1.3e+06</td>\n",
       "</tr>\n",
       "<tr>\n",
       "  <th>Rooms</th>                                 <td> 1.682e+04</td> <td> 4.28e+04</td> <td>    0.393</td> <td> 0.695</td> <td>-6.82e+04</td> <td> 1.02e+05</td>\n",
       "</tr>\n",
       "<tr>\n",
       "  <th>Distance</th>                              <td>-4.199e+04</td> <td> 5151.927</td> <td>   -8.151</td> <td> 0.000</td> <td>-5.22e+04</td> <td>-3.18e+04</td>\n",
       "</tr>\n",
       "<tr>\n",
       "  <th>Car</th>                                   <td>  5.93e+04</td> <td> 3.01e+04</td> <td>    1.970</td> <td> 0.052</td> <td> -476.383</td> <td> 1.19e+05</td>\n",
       "</tr>\n",
       "<tr>\n",
       "  <th>Landsize</th>                              <td>   -0.3259</td> <td>   60.641</td> <td>   -0.005</td> <td> 0.996</td> <td> -120.730</td> <td>  120.078</td>\n",
       "</tr>\n",
       "<tr>\n",
       "  <th>BuildingArea</th>                          <td> 2415.0326</td> <td>  478.759</td> <td>    5.044</td> <td> 0.000</td> <td> 1464.446</td> <td> 3365.620</td>\n",
       "</tr>\n",
       "<tr>\n",
       "  <th>Propertycount</th>                         <td>    4.4921</td> <td>    6.434</td> <td>    0.698</td> <td> 0.487</td> <td>   -8.282</td> <td>   17.266</td>\n",
       "</tr>\n",
       "<tr>\n",
       "  <th>Type_t</th>                                <td>-2.147e+05</td> <td> 8.84e+04</td> <td>   -2.429</td> <td> 0.017</td> <td> -3.9e+05</td> <td>-3.92e+04</td>\n",
       "</tr>\n",
       "<tr>\n",
       "  <th>Type_u</th>                                <td>-4.995e+05</td> <td> 7.74e+04</td> <td>   -6.458</td> <td> 0.000</td> <td>-6.53e+05</td> <td>-3.46e+05</td>\n",
       "</tr>\n",
       "<tr>\n",
       "  <th>Method_S</th>                              <td> 1.918e+05</td> <td> 7.24e+04</td> <td>    2.648</td> <td> 0.009</td> <td>  4.8e+04</td> <td> 3.36e+05</td>\n",
       "</tr>\n",
       "<tr>\n",
       "  <th>Method_SP</th>                             <td> 2.718e+05</td> <td> 9.77e+04</td> <td>    2.783</td> <td> 0.007</td> <td> 7.79e+04</td> <td> 4.66e+05</td>\n",
       "</tr>\n",
       "<tr>\n",
       "  <th>Method_VB</th>                             <td> 4.039e+05</td> <td>  1.2e+05</td> <td>    3.369</td> <td> 0.001</td> <td> 1.66e+05</td> <td> 6.42e+05</td>\n",
       "</tr>\n",
       "<tr>\n",
       "  <th>Regionname_Northern_Metropolitan</th>      <td>-2.959e+05</td> <td> 1.15e+05</td> <td>   -2.565</td> <td> 0.012</td> <td>-5.25e+05</td> <td>-6.69e+04</td>\n",
       "</tr>\n",
       "<tr>\n",
       "  <th>Regionname_South_Eastern_Metropolitan</th> <td> 1.578e+05</td> <td> 1.26e+05</td> <td>    1.251</td> <td> 0.214</td> <td>-9.26e+04</td> <td> 4.08e+05</td>\n",
       "</tr>\n",
       "<tr>\n",
       "  <th>Regionname_Southern_Metropolitan</th>      <td> 4.168e+05</td> <td> 1.12e+05</td> <td>    3.726</td> <td> 0.000</td> <td> 1.95e+05</td> <td> 6.39e+05</td>\n",
       "</tr>\n",
       "<tr>\n",
       "  <th>Regionname_Western_Metropolitan</th>       <td>-3.229e+05</td> <td> 1.05e+05</td> <td>   -3.080</td> <td> 0.003</td> <td>-5.31e+05</td> <td>-1.15e+05</td>\n",
       "</tr>\n",
       "</table>\n",
       "<table class=\"simpletable\">\n",
       "<tr>\n",
       "  <th>Omnibus:</th>       <td> 1.051</td> <th>  Durbin-Watson:     </th> <td>   2.193</td>\n",
       "</tr>\n",
       "<tr>\n",
       "  <th>Prob(Omnibus):</th> <td> 0.591</td> <th>  Jarque-Bera (JB):  </th> <td>   0.610</td>\n",
       "</tr>\n",
       "<tr>\n",
       "  <th>Skew:</th>          <td> 0.132</td> <th>  Prob(JB):          </th> <td>   0.737</td>\n",
       "</tr>\n",
       "<tr>\n",
       "  <th>Kurtosis:</th>      <td> 3.251</td> <th>  Cond. No.          </th> <td>9.12e+04</td>\n",
       "</tr>\n",
       "</table><br/><br/>Warnings:<br/>[1] Standard Errors assume that the covariance matrix of the errors is correctly specified.<br/>[2] The condition number is large, 9.12e+04. This might indicate that there are<br/>strong multicollinearity or other numerical problems."
      ],
      "text/plain": [
       "<class 'statsmodels.iolib.summary.Summary'>\n",
       "\"\"\"\n",
       "                            OLS Regression Results                            \n",
       "==============================================================================\n",
       "Dep. Variable:                  Price   R-squared:                       0.819\n",
       "Model:                            OLS   Adj. R-squared:                  0.790\n",
       "Method:                 Least Squares   F-statistic:                     28.32\n",
       "Date:                Wed, 18 Sep 2019   Prob (F-statistic):           2.46e-28\n",
       "Time:                        04:17:52   Log-Likelihood:                -1506.2\n",
       "No. Observations:                 110   AIC:                             3044.\n",
       "Df Residuals:                      94   BIC:                             3088.\n",
       "Df Model:                          15                                         \n",
       "Covariance Type:            nonrobust                                         \n",
       "=========================================================================================================\n",
       "                                            coef    std err          t      P>|t|      [0.025      0.975]\n",
       "---------------------------------------------------------------------------------------------------------\n",
       "const                                  9.692e+05   1.67e+05      5.794      0.000    6.37e+05     1.3e+06\n",
       "Rooms                                  1.682e+04   4.28e+04      0.393      0.695   -6.82e+04    1.02e+05\n",
       "Distance                              -4.199e+04   5151.927     -8.151      0.000   -5.22e+04   -3.18e+04\n",
       "Car                                     5.93e+04   3.01e+04      1.970      0.052    -476.383    1.19e+05\n",
       "Landsize                                 -0.3259     60.641     -0.005      0.996    -120.730     120.078\n",
       "BuildingArea                           2415.0326    478.759      5.044      0.000    1464.446    3365.620\n",
       "Propertycount                             4.4921      6.434      0.698      0.487      -8.282      17.266\n",
       "Type_t                                -2.147e+05   8.84e+04     -2.429      0.017    -3.9e+05   -3.92e+04\n",
       "Type_u                                -4.995e+05   7.74e+04     -6.458      0.000   -6.53e+05   -3.46e+05\n",
       "Method_S                               1.918e+05   7.24e+04      2.648      0.009     4.8e+04    3.36e+05\n",
       "Method_SP                              2.718e+05   9.77e+04      2.783      0.007    7.79e+04    4.66e+05\n",
       "Method_VB                              4.039e+05    1.2e+05      3.369      0.001    1.66e+05    6.42e+05\n",
       "Regionname_Northern_Metropolitan      -2.959e+05   1.15e+05     -2.565      0.012   -5.25e+05   -6.69e+04\n",
       "Regionname_South_Eastern_Metropolitan  1.578e+05   1.26e+05      1.251      0.214   -9.26e+04    4.08e+05\n",
       "Regionname_Southern_Metropolitan       4.168e+05   1.12e+05      3.726      0.000    1.95e+05    6.39e+05\n",
       "Regionname_Western_Metropolitan       -3.229e+05   1.05e+05     -3.080      0.003   -5.31e+05   -1.15e+05\n",
       "==============================================================================\n",
       "Omnibus:                        1.051   Durbin-Watson:                   2.193\n",
       "Prob(Omnibus):                  0.591   Jarque-Bera (JB):                0.610\n",
       "Skew:                           0.132   Prob(JB):                        0.737\n",
       "Kurtosis:                       3.251   Cond. No.                     9.12e+04\n",
       "==============================================================================\n",
       "\n",
       "Warnings:\n",
       "[1] Standard Errors assume that the covariance matrix of the errors is correctly specified.\n",
       "[2] The condition number is large, 9.12e+04. This might indicate that there are\n",
       "strong multicollinearity or other numerical problems.\n",
       "\"\"\""
      ]
     },
     "execution_count": 54,
     "metadata": {},
     "output_type": "execute_result"
    }
   ],
   "source": [
    "results.summary()"
   ]
  },
  {
   "cell_type": "code",
   "execution_count": 55,
   "metadata": {},
   "outputs": [
    {
     "data": {
      "text/plain": [
       "const                               9.102175e-08\n",
       "Distance                            1.539914e-12\n",
       "BuildingArea                        2.211279e-06\n",
       "Type_t                              1.704125e-02\n",
       "Type_u                              4.634903e-09\n",
       "Method_S                            9.491589e-03\n",
       "Method_SP                           6.516747e-03\n",
       "Method_VB                           1.095805e-03\n",
       "Regionname_Northern_Metropolitan    1.189906e-02\n",
       "Regionname_Southern_Metropolitan    3.323841e-04\n",
       "Regionname_Western_Metropolitan     2.717301e-03\n",
       "dtype: float64"
      ]
     },
     "execution_count": 55,
     "metadata": {},
     "output_type": "execute_result"
    }
   ],
   "source": [
    "#Let's see the significant and not significant variables\n",
    "results.pvalues[results.pvalues<0.05]"
   ]
  },
  {
   "cell_type": "code",
   "execution_count": 56,
   "metadata": {},
   "outputs": [
    {
     "data": {
      "text/plain": [
       "Rooms                                    0.695359\n",
       "Car                                      0.051816\n",
       "Landsize                                 0.995723\n",
       "Propertycount                            0.486771\n",
       "Regionname_South_Eastern_Metropolitan    0.213989\n",
       "dtype: float64"
      ]
     },
     "execution_count": 56,
     "metadata": {},
     "output_type": "execute_result"
    }
   ],
   "source": [
    "#not significant ones\n",
    "results.pvalues[results.pvalues>0.05]"
   ]
  },
  {
   "cell_type": "code",
   "execution_count": 57,
   "metadata": {},
   "outputs": [],
   "source": [
    "#Let's remove Landsize and see the results again"
   ]
  },
  {
   "cell_type": "code",
   "execution_count": 58,
   "metadata": {},
   "outputs": [],
   "source": [
    "Y_linear_1=data[\"Price\"]\n",
    "X_linear_1=data.drop([\"Price\",\"Landsize\"], axis=1)\n",
    "X_linear_1=sm.add_constant(X_linear_1)"
   ]
  },
  {
   "cell_type": "code",
   "execution_count": 59,
   "metadata": {},
   "outputs": [],
   "source": [
    "results_1= sm.OLS(Y_linear_1,X_linear_1).fit()"
   ]
  },
  {
   "cell_type": "code",
   "execution_count": 60,
   "metadata": {},
   "outputs": [
    {
     "data": {
      "text/html": [
       "<table class=\"simpletable\">\n",
       "<caption>OLS Regression Results</caption>\n",
       "<tr>\n",
       "  <th>Dep. Variable:</th>          <td>Price</td>      <th>  R-squared:         </th> <td>   0.819</td>\n",
       "</tr>\n",
       "<tr>\n",
       "  <th>Model:</th>                   <td>OLS</td>       <th>  Adj. R-squared:    </th> <td>   0.792</td>\n",
       "</tr>\n",
       "<tr>\n",
       "  <th>Method:</th>             <td>Least Squares</td>  <th>  F-statistic:       </th> <td>   30.67</td>\n",
       "</tr>\n",
       "<tr>\n",
       "  <th>Date:</th>             <td>Wed, 18 Sep 2019</td> <th>  Prob (F-statistic):</th> <td>4.35e-29</td>\n",
       "</tr>\n",
       "<tr>\n",
       "  <th>Time:</th>                 <td>04:17:59</td>     <th>  Log-Likelihood:    </th> <td> -1506.2</td>\n",
       "</tr>\n",
       "<tr>\n",
       "  <th>No. Observations:</th>      <td>   110</td>      <th>  AIC:               </th> <td>   3042.</td>\n",
       "</tr>\n",
       "<tr>\n",
       "  <th>Df Residuals:</th>          <td>    95</td>      <th>  BIC:               </th> <td>   3083.</td>\n",
       "</tr>\n",
       "<tr>\n",
       "  <th>Df Model:</th>              <td>    14</td>      <th>                     </th>     <td> </td>   \n",
       "</tr>\n",
       "<tr>\n",
       "  <th>Covariance Type:</th>      <td>nonrobust</td>    <th>                     </th>     <td> </td>   \n",
       "</tr>\n",
       "</table>\n",
       "<table class=\"simpletable\">\n",
       "<tr>\n",
       "                    <td></td>                       <th>coef</th>     <th>std err</th>      <th>t</th>      <th>P>|t|</th>  <th>[0.025</th>    <th>0.975]</th>  \n",
       "</tr>\n",
       "<tr>\n",
       "  <th>const</th>                                 <td> 9.692e+05</td> <td> 1.66e+05</td> <td>    5.826</td> <td> 0.000</td> <td> 6.39e+05</td> <td>  1.3e+06</td>\n",
       "</tr>\n",
       "<tr>\n",
       "  <th>Rooms</th>                                 <td>  1.68e+04</td> <td> 4.23e+04</td> <td>    0.397</td> <td> 0.692</td> <td>-6.71e+04</td> <td> 1.01e+05</td>\n",
       "</tr>\n",
       "<tr>\n",
       "  <th>Distance</th>                              <td>  -4.2e+04</td> <td> 5021.480</td> <td>   -8.364</td> <td> 0.000</td> <td> -5.2e+04</td> <td> -3.2e+04</td>\n",
       "</tr>\n",
       "<tr>\n",
       "  <th>Car</th>                                   <td> 5.928e+04</td> <td> 2.96e+04</td> <td>    2.002</td> <td> 0.048</td> <td>  492.837</td> <td> 1.18e+05</td>\n",
       "</tr>\n",
       "<tr>\n",
       "  <th>BuildingArea</th>                          <td> 2414.8088</td> <td>  474.429</td> <td>    5.090</td> <td> 0.000</td> <td> 1472.949</td> <td> 3356.669</td>\n",
       "</tr>\n",
       "<tr>\n",
       "  <th>Propertycount</th>                         <td>    4.4922</td> <td>    6.400</td> <td>    0.702</td> <td> 0.484</td> <td>   -8.213</td> <td>   17.197</td>\n",
       "</tr>\n",
       "<tr>\n",
       "  <th>Type_t</th>                                <td>-2.146e+05</td> <td> 8.69e+04</td> <td>   -2.469</td> <td> 0.015</td> <td>-3.87e+05</td> <td>-4.21e+04</td>\n",
       "</tr>\n",
       "<tr>\n",
       "  <th>Type_u</th>                                <td>-4.996e+05</td> <td> 7.49e+04</td> <td>   -6.673</td> <td> 0.000</td> <td>-6.48e+05</td> <td>-3.51e+05</td>\n",
       "</tr>\n",
       "<tr>\n",
       "  <th>Method_S</th>                              <td> 1.918e+05</td> <td> 7.11e+04</td> <td>    2.697</td> <td> 0.008</td> <td> 5.06e+04</td> <td> 3.33e+05</td>\n",
       "</tr>\n",
       "<tr>\n",
       "  <th>Method_SP</th>                             <td> 2.719e+05</td> <td> 9.48e+04</td> <td>    2.869</td> <td> 0.005</td> <td> 8.37e+04</td> <td>  4.6e+05</td>\n",
       "</tr>\n",
       "<tr>\n",
       "  <th>Method_VB</th>                             <td> 4.039e+05</td> <td> 1.19e+05</td> <td>    3.390</td> <td> 0.001</td> <td> 1.67e+05</td> <td>  6.4e+05</td>\n",
       "</tr>\n",
       "<tr>\n",
       "  <th>Regionname_Northern_Metropolitan</th>      <td>-2.959e+05</td> <td> 1.15e+05</td> <td>   -2.582</td> <td> 0.011</td> <td>-5.23e+05</td> <td>-6.84e+04</td>\n",
       "</tr>\n",
       "<tr>\n",
       "  <th>Regionname_South_Eastern_Metropolitan</th> <td> 1.578e+05</td> <td> 1.24e+05</td> <td>    1.271</td> <td> 0.207</td> <td>-8.86e+04</td> <td> 4.04e+05</td>\n",
       "</tr>\n",
       "<tr>\n",
       "  <th>Regionname_Southern_Metropolitan</th>      <td> 4.168e+05</td> <td> 1.11e+05</td> <td>    3.767</td> <td> 0.000</td> <td> 1.97e+05</td> <td> 6.37e+05</td>\n",
       "</tr>\n",
       "<tr>\n",
       "  <th>Regionname_Western_Metropolitan</th>       <td>-3.229e+05</td> <td> 1.04e+05</td> <td>   -3.096</td> <td> 0.003</td> <td> -5.3e+05</td> <td>-1.16e+05</td>\n",
       "</tr>\n",
       "</table>\n",
       "<table class=\"simpletable\">\n",
       "<tr>\n",
       "  <th>Omnibus:</th>       <td> 1.051</td> <th>  Durbin-Watson:     </th> <td>   2.193</td>\n",
       "</tr>\n",
       "<tr>\n",
       "  <th>Prob(Omnibus):</th> <td> 0.591</td> <th>  Jarque-Bera (JB):  </th> <td>   0.610</td>\n",
       "</tr>\n",
       "<tr>\n",
       "  <th>Skew:</th>          <td> 0.132</td> <th>  Prob(JB):          </th> <td>   0.737</td>\n",
       "</tr>\n",
       "<tr>\n",
       "  <th>Kurtosis:</th>      <td> 3.251</td> <th>  Cond. No.          </th> <td>9.08e+04</td>\n",
       "</tr>\n",
       "</table><br/><br/>Warnings:<br/>[1] Standard Errors assume that the covariance matrix of the errors is correctly specified.<br/>[2] The condition number is large, 9.08e+04. This might indicate that there are<br/>strong multicollinearity or other numerical problems."
      ],
      "text/plain": [
       "<class 'statsmodels.iolib.summary.Summary'>\n",
       "\"\"\"\n",
       "                            OLS Regression Results                            \n",
       "==============================================================================\n",
       "Dep. Variable:                  Price   R-squared:                       0.819\n",
       "Model:                            OLS   Adj. R-squared:                  0.792\n",
       "Method:                 Least Squares   F-statistic:                     30.67\n",
       "Date:                Wed, 18 Sep 2019   Prob (F-statistic):           4.35e-29\n",
       "Time:                        04:17:59   Log-Likelihood:                -1506.2\n",
       "No. Observations:                 110   AIC:                             3042.\n",
       "Df Residuals:                      95   BIC:                             3083.\n",
       "Df Model:                          14                                         \n",
       "Covariance Type:            nonrobust                                         \n",
       "=========================================================================================================\n",
       "                                            coef    std err          t      P>|t|      [0.025      0.975]\n",
       "---------------------------------------------------------------------------------------------------------\n",
       "const                                  9.692e+05   1.66e+05      5.826      0.000    6.39e+05     1.3e+06\n",
       "Rooms                                   1.68e+04   4.23e+04      0.397      0.692   -6.71e+04    1.01e+05\n",
       "Distance                                -4.2e+04   5021.480     -8.364      0.000    -5.2e+04    -3.2e+04\n",
       "Car                                    5.928e+04   2.96e+04      2.002      0.048     492.837    1.18e+05\n",
       "BuildingArea                           2414.8088    474.429      5.090      0.000    1472.949    3356.669\n",
       "Propertycount                             4.4922      6.400      0.702      0.484      -8.213      17.197\n",
       "Type_t                                -2.146e+05   8.69e+04     -2.469      0.015   -3.87e+05   -4.21e+04\n",
       "Type_u                                -4.996e+05   7.49e+04     -6.673      0.000   -6.48e+05   -3.51e+05\n",
       "Method_S                               1.918e+05   7.11e+04      2.697      0.008    5.06e+04    3.33e+05\n",
       "Method_SP                              2.719e+05   9.48e+04      2.869      0.005    8.37e+04     4.6e+05\n",
       "Method_VB                              4.039e+05   1.19e+05      3.390      0.001    1.67e+05     6.4e+05\n",
       "Regionname_Northern_Metropolitan      -2.959e+05   1.15e+05     -2.582      0.011   -5.23e+05   -6.84e+04\n",
       "Regionname_South_Eastern_Metropolitan  1.578e+05   1.24e+05      1.271      0.207   -8.86e+04    4.04e+05\n",
       "Regionname_Southern_Metropolitan       4.168e+05   1.11e+05      3.767      0.000    1.97e+05    6.37e+05\n",
       "Regionname_Western_Metropolitan       -3.229e+05   1.04e+05     -3.096      0.003    -5.3e+05   -1.16e+05\n",
       "==============================================================================\n",
       "Omnibus:                        1.051   Durbin-Watson:                   2.193\n",
       "Prob(Omnibus):                  0.591   Jarque-Bera (JB):                0.610\n",
       "Skew:                           0.132   Prob(JB):                        0.737\n",
       "Kurtosis:                       3.251   Cond. No.                     9.08e+04\n",
       "==============================================================================\n",
       "\n",
       "Warnings:\n",
       "[1] Standard Errors assume that the covariance matrix of the errors is correctly specified.\n",
       "[2] The condition number is large, 9.08e+04. This might indicate that there are\n",
       "strong multicollinearity or other numerical problems.\n",
       "\"\"\""
      ]
     },
     "execution_count": 60,
     "metadata": {},
     "output_type": "execute_result"
    }
   ],
   "source": [
    "results_1.summary()"
   ]
  },
  {
   "cell_type": "code",
   "execution_count": 61,
   "metadata": {},
   "outputs": [
    {
     "data": {
      "text/plain": [
       "Rooms                                    0.691997\n",
       "Propertycount                            0.484440\n",
       "Regionname_South_Eastern_Metropolitan    0.206692\n",
       "dtype: float64"
      ]
     },
     "execution_count": 61,
     "metadata": {},
     "output_type": "execute_result"
    }
   ],
   "source": [
    "results_1.pvalues[results_1.pvalues>0.05]"
   ]
  },
  {
   "cell_type": "code",
   "execution_count": 62,
   "metadata": {},
   "outputs": [],
   "source": [
    "#We continue removing the not significant variables based on their p-value size.\n",
    "#This process can be continued till some desired output of R-squared and R-squared adjusted is reached.\n",
    "#Let's remove Rooms and see the results again"
   ]
  },
  {
   "cell_type": "code",
   "execution_count": 63,
   "metadata": {},
   "outputs": [],
   "source": [
    "Y_linear_2=data[\"Price\"]\n",
    "X_linear_2=data.drop([\"Price\",\"Landsize\", \"Rooms\"], axis=1)\n",
    "X_linear_2=sm.add_constant(X_linear_2)"
   ]
  },
  {
   "cell_type": "code",
   "execution_count": 64,
   "metadata": {},
   "outputs": [],
   "source": [
    "results_2= sm.OLS(Y_linear_2,X_linear_2).fit()"
   ]
  },
  {
   "cell_type": "code",
   "execution_count": 65,
   "metadata": {},
   "outputs": [
    {
     "data": {
      "text/html": [
       "<table class=\"simpletable\">\n",
       "<caption>OLS Regression Results</caption>\n",
       "<tr>\n",
       "  <th>Dep. Variable:</th>          <td>Price</td>      <th>  R-squared:         </th> <td>   0.819</td>\n",
       "</tr>\n",
       "<tr>\n",
       "  <th>Model:</th>                   <td>OLS</td>       <th>  Adj. R-squared:    </th> <td>   0.794</td>\n",
       "</tr>\n",
       "<tr>\n",
       "  <th>Method:</th>             <td>Least Squares</td>  <th>  F-statistic:       </th> <td>   33.31</td>\n",
       "</tr>\n",
       "<tr>\n",
       "  <th>Date:</th>             <td>Wed, 18 Sep 2019</td> <th>  Prob (F-statistic):</th> <td>7.94e-30</td>\n",
       "</tr>\n",
       "<tr>\n",
       "  <th>Time:</th>                 <td>04:18:07</td>     <th>  Log-Likelihood:    </th> <td> -1506.3</td>\n",
       "</tr>\n",
       "<tr>\n",
       "  <th>No. Observations:</th>      <td>   110</td>      <th>  AIC:               </th> <td>   3041.</td>\n",
       "</tr>\n",
       "<tr>\n",
       "  <th>Df Residuals:</th>          <td>    96</td>      <th>  BIC:               </th> <td>   3078.</td>\n",
       "</tr>\n",
       "<tr>\n",
       "  <th>Df Model:</th>              <td>    13</td>      <th>                     </th>     <td> </td>   \n",
       "</tr>\n",
       "<tr>\n",
       "  <th>Covariance Type:</th>      <td>nonrobust</td>    <th>                     </th>     <td> </td>   \n",
       "</tr>\n",
       "</table>\n",
       "<table class=\"simpletable\">\n",
       "<tr>\n",
       "                    <td></td>                       <th>coef</th>     <th>std err</th>      <th>t</th>      <th>P>|t|</th>  <th>[0.025</th>    <th>0.975]</th>  \n",
       "</tr>\n",
       "<tr>\n",
       "  <th>const</th>                                 <td> 9.985e+05</td> <td> 1.48e+05</td> <td>    6.726</td> <td> 0.000</td> <td> 7.04e+05</td> <td> 1.29e+06</td>\n",
       "</tr>\n",
       "<tr>\n",
       "  <th>Distance</th>                              <td>-4.182e+04</td> <td> 4980.520</td> <td>   -8.398</td> <td> 0.000</td> <td>-5.17e+04</td> <td>-3.19e+04</td>\n",
       "</tr>\n",
       "<tr>\n",
       "  <th>Car</th>                                   <td> 6.034e+04</td> <td> 2.94e+04</td> <td>    2.055</td> <td> 0.043</td> <td> 2060.384</td> <td> 1.19e+05</td>\n",
       "</tr>\n",
       "<tr>\n",
       "  <th>BuildingArea</th>                          <td> 2545.4806</td> <td>  340.458</td> <td>    7.477</td> <td> 0.000</td> <td> 1869.677</td> <td> 3221.285</td>\n",
       "</tr>\n",
       "<tr>\n",
       "  <th>Propertycount</th>                         <td>    4.3718</td> <td>    6.364</td> <td>    0.687</td> <td> 0.494</td> <td>   -8.262</td> <td>   17.005</td>\n",
       "</tr>\n",
       "<tr>\n",
       "  <th>Type_t</th>                                <td>-2.241e+05</td> <td> 8.32e+04</td> <td>   -2.692</td> <td> 0.008</td> <td>-3.89e+05</td> <td>-5.89e+04</td>\n",
       "</tr>\n",
       "<tr>\n",
       "  <th>Type_u</th>                                <td>-5.132e+05</td> <td> 6.63e+04</td> <td>   -7.739</td> <td> 0.000</td> <td>-6.45e+05</td> <td>-3.82e+05</td>\n",
       "</tr>\n",
       "<tr>\n",
       "  <th>Method_S</th>                              <td> 1.916e+05</td> <td> 7.08e+04</td> <td>    2.705</td> <td> 0.008</td> <td>  5.1e+04</td> <td> 3.32e+05</td>\n",
       "</tr>\n",
       "<tr>\n",
       "  <th>Method_SP</th>                             <td> 2.712e+05</td> <td> 9.43e+04</td> <td>    2.874</td> <td> 0.005</td> <td> 8.39e+04</td> <td> 4.58e+05</td>\n",
       "</tr>\n",
       "<tr>\n",
       "  <th>Method_VB</th>                             <td>  4.09e+05</td> <td> 1.18e+05</td> <td>    3.468</td> <td> 0.001</td> <td> 1.75e+05</td> <td> 6.43e+05</td>\n",
       "</tr>\n",
       "<tr>\n",
       "  <th>Regionname_Northern_Metropolitan</th>      <td>-2.923e+05</td> <td> 1.14e+05</td> <td>   -2.570</td> <td> 0.012</td> <td>-5.18e+05</td> <td>-6.65e+04</td>\n",
       "</tr>\n",
       "<tr>\n",
       "  <th>Regionname_South_Eastern_Metropolitan</th> <td> 1.653e+05</td> <td> 1.22e+05</td> <td>    1.353</td> <td> 0.179</td> <td>-7.73e+04</td> <td> 4.08e+05</td>\n",
       "</tr>\n",
       "<tr>\n",
       "  <th>Regionname_Southern_Metropolitan</th>      <td> 4.161e+05</td> <td>  1.1e+05</td> <td>    3.777</td> <td> 0.000</td> <td> 1.97e+05</td> <td> 6.35e+05</td>\n",
       "</tr>\n",
       "<tr>\n",
       "  <th>Regionname_Western_Metropolitan</th>       <td>-3.178e+05</td> <td> 1.03e+05</td> <td>   -3.084</td> <td> 0.003</td> <td>-5.22e+05</td> <td>-1.13e+05</td>\n",
       "</tr>\n",
       "</table>\n",
       "<table class=\"simpletable\">\n",
       "<tr>\n",
       "  <th>Omnibus:</th>       <td> 0.856</td> <th>  Durbin-Watson:     </th> <td>   2.187</td>\n",
       "</tr>\n",
       "<tr>\n",
       "  <th>Prob(Omnibus):</th> <td> 0.652</td> <th>  Jarque-Bera (JB):  </th> <td>   0.471</td>\n",
       "</tr>\n",
       "<tr>\n",
       "  <th>Skew:</th>          <td> 0.127</td> <th>  Prob(JB):          </th> <td>   0.790</td>\n",
       "</tr>\n",
       "<tr>\n",
       "  <th>Kurtosis:</th>      <td> 3.196</td> <th>  Cond. No.          </th> <td>8.99e+04</td>\n",
       "</tr>\n",
       "</table><br/><br/>Warnings:<br/>[1] Standard Errors assume that the covariance matrix of the errors is correctly specified.<br/>[2] The condition number is large, 8.99e+04. This might indicate that there are<br/>strong multicollinearity or other numerical problems."
      ],
      "text/plain": [
       "<class 'statsmodels.iolib.summary.Summary'>\n",
       "\"\"\"\n",
       "                            OLS Regression Results                            \n",
       "==============================================================================\n",
       "Dep. Variable:                  Price   R-squared:                       0.819\n",
       "Model:                            OLS   Adj. R-squared:                  0.794\n",
       "Method:                 Least Squares   F-statistic:                     33.31\n",
       "Date:                Wed, 18 Sep 2019   Prob (F-statistic):           7.94e-30\n",
       "Time:                        04:18:07   Log-Likelihood:                -1506.3\n",
       "No. Observations:                 110   AIC:                             3041.\n",
       "Df Residuals:                      96   BIC:                             3078.\n",
       "Df Model:                          13                                         \n",
       "Covariance Type:            nonrobust                                         \n",
       "=========================================================================================================\n",
       "                                            coef    std err          t      P>|t|      [0.025      0.975]\n",
       "---------------------------------------------------------------------------------------------------------\n",
       "const                                  9.985e+05   1.48e+05      6.726      0.000    7.04e+05    1.29e+06\n",
       "Distance                              -4.182e+04   4980.520     -8.398      0.000   -5.17e+04   -3.19e+04\n",
       "Car                                    6.034e+04   2.94e+04      2.055      0.043    2060.384    1.19e+05\n",
       "BuildingArea                           2545.4806    340.458      7.477      0.000    1869.677    3221.285\n",
       "Propertycount                             4.3718      6.364      0.687      0.494      -8.262      17.005\n",
       "Type_t                                -2.241e+05   8.32e+04     -2.692      0.008   -3.89e+05   -5.89e+04\n",
       "Type_u                                -5.132e+05   6.63e+04     -7.739      0.000   -6.45e+05   -3.82e+05\n",
       "Method_S                               1.916e+05   7.08e+04      2.705      0.008     5.1e+04    3.32e+05\n",
       "Method_SP                              2.712e+05   9.43e+04      2.874      0.005    8.39e+04    4.58e+05\n",
       "Method_VB                               4.09e+05   1.18e+05      3.468      0.001    1.75e+05    6.43e+05\n",
       "Regionname_Northern_Metropolitan      -2.923e+05   1.14e+05     -2.570      0.012   -5.18e+05   -6.65e+04\n",
       "Regionname_South_Eastern_Metropolitan  1.653e+05   1.22e+05      1.353      0.179   -7.73e+04    4.08e+05\n",
       "Regionname_Southern_Metropolitan       4.161e+05    1.1e+05      3.777      0.000    1.97e+05    6.35e+05\n",
       "Regionname_Western_Metropolitan       -3.178e+05   1.03e+05     -3.084      0.003   -5.22e+05   -1.13e+05\n",
       "==============================================================================\n",
       "Omnibus:                        0.856   Durbin-Watson:                   2.187\n",
       "Prob(Omnibus):                  0.652   Jarque-Bera (JB):                0.471\n",
       "Skew:                           0.127   Prob(JB):                        0.790\n",
       "Kurtosis:                       3.196   Cond. No.                     8.99e+04\n",
       "==============================================================================\n",
       "\n",
       "Warnings:\n",
       "[1] Standard Errors assume that the covariance matrix of the errors is correctly specified.\n",
       "[2] The condition number is large, 8.99e+04. This might indicate that there are\n",
       "strong multicollinearity or other numerical problems.\n",
       "\"\"\""
      ]
     },
     "execution_count": 65,
     "metadata": {},
     "output_type": "execute_result"
    }
   ],
   "source": [
    "results_2.summary()"
   ]
  },
  {
   "cell_type": "code",
   "execution_count": 66,
   "metadata": {},
   "outputs": [],
   "source": [
    "#Model transformation\n",
    "#Let's also try to transform our model using log-linear one (as price is right skewed) and add an interaction term. \n",
    "#E.g. we have Rooms and Building area correlation coefficient as 0.74, so instead of including both of them, will include the interaction term\n",
    "#Also, let's take a square of Distance, as its relationship with price is kind of parabola-shaped.\n"
   ]
  },
  {
   "cell_type": "code",
   "execution_count": 67,
   "metadata": {},
   "outputs": [],
   "source": [
    "#let's save the data for transformed model in a new dataframe and only then modify it for a model\n",
    "data_tr=data"
   ]
  },
  {
   "cell_type": "code",
   "execution_count": 68,
   "metadata": {},
   "outputs": [
    {
     "name": "stdout",
     "output_type": "stream",
     "text": [
      "<class 'pandas.core.frame.DataFrame'>\n",
      "RangeIndex: 110 entries, 0 to 109\n",
      "Data columns (total 16 columns):\n",
      "Rooms                                    110 non-null int64\n",
      "Price                                    110 non-null int64\n",
      "Distance                                 110 non-null float64\n",
      "Car                                      110 non-null int64\n",
      "Landsize                                 110 non-null int64\n",
      "BuildingArea                             110 non-null float64\n",
      "Propertycount                            110 non-null int64\n",
      "Type_t                                   110 non-null uint8\n",
      "Type_u                                   110 non-null uint8\n",
      "Method_S                                 110 non-null uint8\n",
      "Method_SP                                110 non-null uint8\n",
      "Method_VB                                110 non-null uint8\n",
      "Regionname_Northern_Metropolitan         110 non-null uint8\n",
      "Regionname_South_Eastern_Metropolitan    110 non-null uint8\n",
      "Regionname_Southern_Metropolitan         110 non-null uint8\n",
      "Regionname_Western_Metropolitan          110 non-null uint8\n",
      "dtypes: float64(2), int64(5), uint8(9)\n",
      "memory usage: 7.1 KB\n"
     ]
    }
   ],
   "source": [
    "data_tr.info()"
   ]
  },
  {
   "cell_type": "code",
   "execution_count": 69,
   "metadata": {},
   "outputs": [],
   "source": [
    "data_tr[\"Price\"]=np.log(data[\"Price\"])\n"
   ]
  },
  {
   "cell_type": "code",
   "execution_count": 70,
   "metadata": {},
   "outputs": [],
   "source": [
    "data_tr[\"Distance\"]=np.sqrt(data[\"Distance\"])"
   ]
  },
  {
   "cell_type": "code",
   "execution_count": 71,
   "metadata": {},
   "outputs": [],
   "source": [
    "data_tr[\"Rooms_Build\"]=data_tr[\"Rooms\"]*data_tr[\"BuildingArea\"]"
   ]
  },
  {
   "cell_type": "code",
   "execution_count": 72,
   "metadata": {
    "scrolled": true
   },
   "outputs": [],
   "source": [
    "data_tr.drop([\"Rooms\", \"BuildingArea\"],axis=1,inplace=True)"
   ]
  },
  {
   "cell_type": "code",
   "execution_count": 73,
   "metadata": {},
   "outputs": [
    {
     "name": "stdout",
     "output_type": "stream",
     "text": [
      "<class 'pandas.core.frame.DataFrame'>\n",
      "RangeIndex: 110 entries, 0 to 109\n",
      "Data columns (total 15 columns):\n",
      "Price                                    110 non-null float64\n",
      "Distance                                 110 non-null float64\n",
      "Car                                      110 non-null int64\n",
      "Landsize                                 110 non-null int64\n",
      "Propertycount                            110 non-null int64\n",
      "Type_t                                   110 non-null uint8\n",
      "Type_u                                   110 non-null uint8\n",
      "Method_S                                 110 non-null uint8\n",
      "Method_SP                                110 non-null uint8\n",
      "Method_VB                                110 non-null uint8\n",
      "Regionname_Northern_Metropolitan         110 non-null uint8\n",
      "Regionname_South_Eastern_Metropolitan    110 non-null uint8\n",
      "Regionname_Southern_Metropolitan         110 non-null uint8\n",
      "Regionname_Western_Metropolitan          110 non-null uint8\n",
      "Rooms_Build                              110 non-null float64\n",
      "dtypes: float64(3), int64(3), uint8(9)\n",
      "memory usage: 6.2 KB\n"
     ]
    }
   ],
   "source": [
    "data.info()"
   ]
  },
  {
   "cell_type": "code",
   "execution_count": 74,
   "metadata": {},
   "outputs": [],
   "source": [
    "Y_linear_tr=data_tr[\"Price\"]\n",
    "X_linear_tr=data_tr.drop(\"Price\", axis=1)\n",
    "X_linear_tr=sm.add_constant(X_linear_tr)"
   ]
  },
  {
   "cell_type": "code",
   "execution_count": 75,
   "metadata": {},
   "outputs": [],
   "source": [
    "results_tr=sm.OLS(Y_linear_tr, X_linear_tr).fit()"
   ]
  },
  {
   "cell_type": "code",
   "execution_count": 76,
   "metadata": {},
   "outputs": [
    {
     "data": {
      "text/html": [
       "<table class=\"simpletable\">\n",
       "<caption>OLS Regression Results</caption>\n",
       "<tr>\n",
       "  <th>Dep. Variable:</th>          <td>Price</td>      <th>  R-squared:         </th> <td>   0.780</td>\n",
       "</tr>\n",
       "<tr>\n",
       "  <th>Model:</th>                   <td>OLS</td>       <th>  Adj. R-squared:    </th> <td>   0.748</td>\n",
       "</tr>\n",
       "<tr>\n",
       "  <th>Method:</th>             <td>Least Squares</td>  <th>  F-statistic:       </th> <td>   24.07</td>\n",
       "</tr>\n",
       "<tr>\n",
       "  <th>Date:</th>             <td>Wed, 18 Sep 2019</td> <th>  Prob (F-statistic):</th> <td>3.27e-25</td>\n",
       "</tr>\n",
       "<tr>\n",
       "  <th>Time:</th>                 <td>04:18:18</td>     <th>  Log-Likelihood:    </th> <td>  7.7635</td>\n",
       "</tr>\n",
       "<tr>\n",
       "  <th>No. Observations:</th>      <td>   110</td>      <th>  AIC:               </th> <td>   14.47</td>\n",
       "</tr>\n",
       "<tr>\n",
       "  <th>Df Residuals:</th>          <td>    95</td>      <th>  BIC:               </th> <td>   54.98</td>\n",
       "</tr>\n",
       "<tr>\n",
       "  <th>Df Model:</th>              <td>    14</td>      <th>                     </th>     <td> </td>   \n",
       "</tr>\n",
       "<tr>\n",
       "  <th>Covariance Type:</th>      <td>nonrobust</td>    <th>                     </th>     <td> </td>   \n",
       "</tr>\n",
       "</table>\n",
       "<table class=\"simpletable\">\n",
       "<tr>\n",
       "                    <td></td>                       <th>coef</th>     <th>std err</th>      <th>t</th>      <th>P>|t|</th>  <th>[0.025</th>    <th>0.975]</th>  \n",
       "</tr>\n",
       "<tr>\n",
       "  <th>const</th>                                 <td>   14.8723</td> <td>    0.186</td> <td>   79.835</td> <td> 0.000</td> <td>   14.502</td> <td>   15.242</td>\n",
       "</tr>\n",
       "<tr>\n",
       "  <th>Distance</th>                              <td>   -0.3497</td> <td>    0.038</td> <td>   -9.241</td> <td> 0.000</td> <td>   -0.425</td> <td>   -0.275</td>\n",
       "</tr>\n",
       "<tr>\n",
       "  <th>Car</th>                                   <td>    0.0692</td> <td>    0.031</td> <td>    2.213</td> <td> 0.029</td> <td>    0.007</td> <td>    0.131</td>\n",
       "</tr>\n",
       "<tr>\n",
       "  <th>Landsize</th>                              <td>  1.29e-05</td> <td> 6.34e-05</td> <td>    0.203</td> <td> 0.839</td> <td>   -0.000</td> <td>    0.000</td>\n",
       "</tr>\n",
       "<tr>\n",
       "  <th>Propertycount</th>                         <td>  6.18e-06</td> <td> 6.73e-06</td> <td>    0.918</td> <td> 0.361</td> <td>-7.19e-06</td> <td> 1.95e-05</td>\n",
       "</tr>\n",
       "<tr>\n",
       "  <th>Type_t</th>                                <td>   -0.1673</td> <td>    0.090</td> <td>   -1.858</td> <td> 0.066</td> <td>   -0.346</td> <td>    0.011</td>\n",
       "</tr>\n",
       "<tr>\n",
       "  <th>Type_u</th>                                <td>   -0.7790</td> <td>    0.071</td> <td>  -10.927</td> <td> 0.000</td> <td>   -0.921</td> <td>   -0.637</td>\n",
       "</tr>\n",
       "<tr>\n",
       "  <th>Method_S</th>                              <td>    0.1540</td> <td>    0.076</td> <td>    2.018</td> <td> 0.046</td> <td>    0.002</td> <td>    0.305</td>\n",
       "</tr>\n",
       "<tr>\n",
       "  <th>Method_SP</th>                             <td>    0.2577</td> <td>    0.102</td> <td>    2.537</td> <td> 0.013</td> <td>    0.056</td> <td>    0.459</td>\n",
       "</tr>\n",
       "<tr>\n",
       "  <th>Method_VB</th>                             <td>    0.1424</td> <td>    0.125</td> <td>    1.138</td> <td> 0.258</td> <td>   -0.106</td> <td>    0.391</td>\n",
       "</tr>\n",
       "<tr>\n",
       "  <th>Regionname_Northern_Metropolitan</th>      <td>   -0.5360</td> <td>    0.120</td> <td>   -4.456</td> <td> 0.000</td> <td>   -0.775</td> <td>   -0.297</td>\n",
       "</tr>\n",
       "<tr>\n",
       "  <th>Regionname_South_Eastern_Metropolitan</th> <td>    0.0698</td> <td>    0.131</td> <td>    0.535</td> <td> 0.594</td> <td>   -0.189</td> <td>    0.329</td>\n",
       "</tr>\n",
       "<tr>\n",
       "  <th>Regionname_Southern_Metropolitan</th>      <td>    0.1399</td> <td>    0.117</td> <td>    1.196</td> <td> 0.235</td> <td>   -0.092</td> <td>    0.372</td>\n",
       "</tr>\n",
       "<tr>\n",
       "  <th>Regionname_Western_Metropolitan</th>       <td>   -0.5338</td> <td>    0.108</td> <td>   -4.925</td> <td> 0.000</td> <td>   -0.749</td> <td>   -0.319</td>\n",
       "</tr>\n",
       "<tr>\n",
       "  <th>Rooms_Build</th>                           <td>    0.0002</td> <td> 5.48e-05</td> <td>    3.939</td> <td> 0.000</td> <td>    0.000</td> <td>    0.000</td>\n",
       "</tr>\n",
       "</table>\n",
       "<table class=\"simpletable\">\n",
       "<tr>\n",
       "  <th>Omnibus:</th>       <td> 3.590</td> <th>  Durbin-Watson:     </th> <td>   1.981</td>\n",
       "</tr>\n",
       "<tr>\n",
       "  <th>Prob(Omnibus):</th> <td> 0.166</td> <th>  Jarque-Bera (JB):  </th> <td>   2.996</td>\n",
       "</tr>\n",
       "<tr>\n",
       "  <th>Skew:</th>          <td>-0.378</td> <th>  Prob(JB):          </th> <td>   0.224</td>\n",
       "</tr>\n",
       "<tr>\n",
       "  <th>Kurtosis:</th>      <td> 3.287</td> <th>  Cond. No.          </th> <td>9.65e+04</td>\n",
       "</tr>\n",
       "</table><br/><br/>Warnings:<br/>[1] Standard Errors assume that the covariance matrix of the errors is correctly specified.<br/>[2] The condition number is large, 9.65e+04. This might indicate that there are<br/>strong multicollinearity or other numerical problems."
      ],
      "text/plain": [
       "<class 'statsmodels.iolib.summary.Summary'>\n",
       "\"\"\"\n",
       "                            OLS Regression Results                            \n",
       "==============================================================================\n",
       "Dep. Variable:                  Price   R-squared:                       0.780\n",
       "Model:                            OLS   Adj. R-squared:                  0.748\n",
       "Method:                 Least Squares   F-statistic:                     24.07\n",
       "Date:                Wed, 18 Sep 2019   Prob (F-statistic):           3.27e-25\n",
       "Time:                        04:18:18   Log-Likelihood:                 7.7635\n",
       "No. Observations:                 110   AIC:                             14.47\n",
       "Df Residuals:                      95   BIC:                             54.98\n",
       "Df Model:                          14                                         \n",
       "Covariance Type:            nonrobust                                         \n",
       "=========================================================================================================\n",
       "                                            coef    std err          t      P>|t|      [0.025      0.975]\n",
       "---------------------------------------------------------------------------------------------------------\n",
       "const                                    14.8723      0.186     79.835      0.000      14.502      15.242\n",
       "Distance                                 -0.3497      0.038     -9.241      0.000      -0.425      -0.275\n",
       "Car                                       0.0692      0.031      2.213      0.029       0.007       0.131\n",
       "Landsize                                1.29e-05   6.34e-05      0.203      0.839      -0.000       0.000\n",
       "Propertycount                           6.18e-06   6.73e-06      0.918      0.361   -7.19e-06    1.95e-05\n",
       "Type_t                                   -0.1673      0.090     -1.858      0.066      -0.346       0.011\n",
       "Type_u                                   -0.7790      0.071    -10.927      0.000      -0.921      -0.637\n",
       "Method_S                                  0.1540      0.076      2.018      0.046       0.002       0.305\n",
       "Method_SP                                 0.2577      0.102      2.537      0.013       0.056       0.459\n",
       "Method_VB                                 0.1424      0.125      1.138      0.258      -0.106       0.391\n",
       "Regionname_Northern_Metropolitan         -0.5360      0.120     -4.456      0.000      -0.775      -0.297\n",
       "Regionname_South_Eastern_Metropolitan     0.0698      0.131      0.535      0.594      -0.189       0.329\n",
       "Regionname_Southern_Metropolitan          0.1399      0.117      1.196      0.235      -0.092       0.372\n",
       "Regionname_Western_Metropolitan          -0.5338      0.108     -4.925      0.000      -0.749      -0.319\n",
       "Rooms_Build                               0.0002   5.48e-05      3.939      0.000       0.000       0.000\n",
       "==============================================================================\n",
       "Omnibus:                        3.590   Durbin-Watson:                   1.981\n",
       "Prob(Omnibus):                  0.166   Jarque-Bera (JB):                2.996\n",
       "Skew:                          -0.378   Prob(JB):                        0.224\n",
       "Kurtosis:                       3.287   Cond. No.                     9.65e+04\n",
       "==============================================================================\n",
       "\n",
       "Warnings:\n",
       "[1] Standard Errors assume that the covariance matrix of the errors is correctly specified.\n",
       "[2] The condition number is large, 9.65e+04. This might indicate that there are\n",
       "strong multicollinearity or other numerical problems.\n",
       "\"\"\""
      ]
     },
     "execution_count": 76,
     "metadata": {},
     "output_type": "execute_result"
    }
   ],
   "source": [
    "results_tr.summary()"
   ]
  },
  {
   "cell_type": "code",
   "execution_count": 77,
   "metadata": {},
   "outputs": [],
   "source": [
    "#further steps can be based also on backward stepwise elimination or using AIC/BIC forward/backward selection methods."
   ]
  },
  {
   "cell_type": "markdown",
   "metadata": {},
   "source": [
    "<h1> 3.2 Running and building the OLS model (sklearn) </h1> <a name=\"sklearn\"> </a>"
   ]
  },
  {
   "cell_type": "code",
   "execution_count": 78,
   "metadata": {},
   "outputs": [],
   "source": [
    "#let's first perform the model on the second model we had.\n",
    "X_train, X_test, y_train, y_test = train_test_split(X_linear_2, Y_linear_2, test_size=0.25, random_state=42)"
   ]
  },
  {
   "cell_type": "code",
   "execution_count": 79,
   "metadata": {},
   "outputs": [],
   "source": [
    "lm=LinearRegression()"
   ]
  },
  {
   "cell_type": "code",
   "execution_count": 80,
   "metadata": {},
   "outputs": [
    {
     "data": {
      "text/plain": [
       "LinearRegression(copy_X=True, fit_intercept=True, n_jobs=None,\n",
       "         normalize=False)"
      ]
     },
     "execution_count": 80,
     "metadata": {},
     "output_type": "execute_result"
    }
   ],
   "source": [
    "#building the model\n",
    "lm.fit(X_train,y_train)"
   ]
  },
  {
   "cell_type": "code",
   "execution_count": 81,
   "metadata": {},
   "outputs": [],
   "source": [
    "test_predictions = lm.predict(X_test)"
   ]
  },
  {
   "cell_type": "code",
   "execution_count": 82,
   "metadata": {},
   "outputs": [
    {
     "data": {
      "text/plain": [
       "0.4964815778139767"
      ]
     },
     "execution_count": 82,
     "metadata": {},
     "output_type": "execute_result"
    }
   ],
   "source": [
    "lm.score(X_test,y_test)"
   ]
  },
  {
   "cell_type": "code",
   "execution_count": 83,
   "metadata": {},
   "outputs": [],
   "source": [
    "#Same steps for the last model\n",
    "X_train_tr, X_test_tr, y_train_tr, y_test_tr = train_test_split(X_linear_tr, Y_linear_tr, test_size=0.25, random_state=42)"
   ]
  },
  {
   "cell_type": "code",
   "execution_count": 84,
   "metadata": {},
   "outputs": [
    {
     "data": {
      "text/plain": [
       "LinearRegression(copy_X=True, fit_intercept=True, n_jobs=None,\n",
       "         normalize=False)"
      ]
     },
     "execution_count": 84,
     "metadata": {},
     "output_type": "execute_result"
    }
   ],
   "source": [
    "lm=LinearRegression()\n",
    "lm.fit(X_train_tr,y_train_tr)\n"
   ]
  },
  {
   "cell_type": "code",
   "execution_count": 85,
   "metadata": {},
   "outputs": [
    {
     "data": {
      "text/plain": [
       "0.5100203063117763"
      ]
     },
     "execution_count": 85,
     "metadata": {},
     "output_type": "execute_result"
    }
   ],
   "source": [
    "lm.score(X_test_tr,y_test_tr)"
   ]
  },
  {
   "cell_type": "markdown",
   "metadata": {},
   "source": [
    "So from external validity point, the transformed model is performs better."
   ]
  },
  {
   "cell_type": "markdown",
   "metadata": {},
   "source": [
    "<h1>4.Checking LR assumptions using residual analysis (visual evidence)</h1><a name=\"resid\"></a>"
   ]
  },
  {
   "cell_type": "markdown",
   "metadata": {},
   "source": [
    "To check the assumptions using residual analysis we will plot the fitted values vs error terms (residuals). It should not exhibit any patterns (should be randomly distributed) to meet the Linearity, Normality and Independence assumptions."
   ]
  },
  {
   "cell_type": "code",
   "execution_count": 86,
   "metadata": {},
   "outputs": [],
   "source": [
    "#residuals of the model\n",
    "residuals=results_tr.resid\n",
    "predicted_values=results_tr.predict()"
   ]
  },
  {
   "cell_type": "code",
   "execution_count": 87,
   "metadata": {},
   "outputs": [
    {
     "data": {
      "image/png": "[encoded data removed]",
      "text/plain": [
       "<Figure size 720x360 with 1 Axes>"
      ]
     },
     "metadata": {
      "needs_background": "light"
     },
     "output_type": "display_data"
    }
   ],
   "source": [
    "#lets plot predicted values vs residuals\n",
    "plt.figure(figsize=(10,5))\n",
    "plt.scatter(predicted_values,residuals)\n",
    "plt.axhline(y=0, c=\"red\")\n",
    "plt.title(\"Residuals vs Predicted values\")\n",
    "plt.ylabel(\"Residuals\")\n",
    "plt.xlabel(\"Predicted values\")\n",
    "plt.show()"
   ]
  },
  {
   "cell_type": "markdown",
   "metadata": {},
   "source": [
    "The residuals vs fitted values plot pattern is random and we cannot see an increasing/decreasing variance."
   ]
  },
  {
   "cell_type": "code",
   "execution_count": 88,
   "metadata": {
    "scrolled": true
   },
   "outputs": [
    {
     "name": "stderr",
     "output_type": "stream",
     "text": [
      "C:\\Users\\Srbuhi\\Anaconda3\\lib\\site-packages\\scipy\\stats\\stats.py:1713: FutureWarning: Using a non-tuple sequence for multidimensional indexing is deprecated; use `arr[tuple(seq)]` instead of `arr[seq]`. In the future this will be interpreted as an array index, `arr[np.array(seq)]`, which will result either in an error or a different result.\n",
      "  return np.add.reduce(sorted[indexer] * weights, axis=axis) / sumval\n"
     ]
    },
    {
     "data": {
      "image/png": "[encoded data removed]",
      "text/plain": [
       "<Figure size 432x288 with 1 Axes>"
      ]
     },
     "metadata": {
      "needs_background": "light"
     },
     "output_type": "display_data"
    }
   ],
   "source": [
    "#Normality\n",
    "#visual presentation- histogram\n",
    "sns.distplot(residuals)\n",
    "plt.show()"
   ]
  },
  {
   "cell_type": "code",
   "execution_count": 89,
   "metadata": {},
   "outputs": [
    {
     "data": {
      "image/png": "[encoded data removed]",
      "text/plain": [
       "<Figure size 432x288 with 1 Axes>"
      ]
     },
     "metadata": {
      "needs_background": "light"
     },
     "output_type": "display_data"
    }
   ],
   "source": [
    "#QQ plot\n",
    "qqplot(residuals,fit=True, line='45')\n",
    "plt.show()"
   ]
  },
  {
   "cell_type": "markdown",
   "metadata": {},
   "source": [
    "The residuals distribution plot shows that the distribution is approximately bell-shaped, so based on the plot only we can say that the normality assumption is held.\n",
    "QQ-plot shows that the there are several outliers, but overall the dots are along the line."
   ]
  },
  {
   "cell_type": "markdown",
   "metadata": {},
   "source": [
    "<h2>Diagnostic tests for LINE assumptions </h2>"
   ]
  },
  {
   "cell_type": "code",
   "execution_count": 90,
   "metadata": {},
   "outputs": [
    {
     "name": "stdout",
     "output_type": "stream",
     "text": [
      "[('fstat', 1.119382383655144), ('p-value', 0.3591467644430484)]\n"
     ]
    }
   ],
   "source": [
    "#Linearity \n",
    "#The null hypothesis assumes that the regression is correctly modelled as linear\n",
    "rnames=[\"fstat\", \"p-value\"]\n",
    "rainbow=linear_rainbow(results)\n",
    "print(list(zip(rnames, rainbow)))"
   ]
  },
  {
   "cell_type": "markdown",
   "metadata": {},
   "source": [
    "Linearity assumption is held, since we have a large p-value."
   ]
  },
  {
   "cell_type": "code",
   "execution_count": 91,
   "metadata": {},
   "outputs": [
    {
     "name": "stdout",
     "output_type": "stream",
     "text": [
      "[('Lagrange multiplier statistic', 35.46722364469309), ('p-value', 0.0021087819476184764), ('f-value', 2.9820607663112293), ('f p-value', 0.0006406050871345858)]\n"
     ]
    }
   ],
   "source": [
    "#Breusch-Pagan test for homoscedasticity\n",
    "#The null hypothesis assumes homoskedasticity\n",
    "bnames = ['Lagrange multiplier statistic', 'p-value',\n",
    "        'f-value', 'f p-value']\n",
    "breush = het_breuschpagan(residuals, results.model.exog)\n",
    "print(list(zip(bnames, breush)))\n"
   ]
  },
  {
   "cell_type": "code",
   "execution_count": 92,
   "metadata": {},
   "outputs": [],
   "source": [
    "#We reject the null hypothesis based on 5% significance level, thus homoscedasticity assumption is violated."
   ]
  },
  {
   "cell_type": "code",
   "execution_count": 93,
   "metadata": {},
   "outputs": [
    {
     "name": "stdout",
     "output_type": "stream",
     "text": [
      "[('The test statistic', 0.9837731122970581), ('p-value', 0.20321108400821686)]\n"
     ]
    }
   ],
   "source": [
    "#Shapiro-Wilk normality test. \n",
    "#The null-hypothesis of this test is that the data was drawn from a normal distribution\n",
    "snames=['The test statistic', 'p-value']\n",
    "shapiro=shapiro(residuals)\n",
    "print(list(zip(snames, shapiro)))"
   ]
  },
  {
   "cell_type": "markdown",
   "metadata": {},
   "source": [
    "Test confirms that the data was drawn from a normal distribution."
   ]
  },
  {
   "cell_type": "code",
   "execution_count": 94,
   "metadata": {},
   "outputs": [],
   "source": [
    "#defining colnames \n",
    "var=data_tr.columns.tolist()"
   ]
  },
  {
   "cell_type": "code",
   "execution_count": 95,
   "metadata": {},
   "outputs": [
    {
     "name": "stdout",
     "output_type": "stream",
     "text": [
      "[54.38459039581716, 23.30084214981436, 6.268255655594942, 3.202196729329978, 6.381013805554353, 1.2313838061502747, 1.580583166380052, 7.5212062039058285, 2.6337050197755243, 1.6050638716608991, 7.470157776757384, 2.0327169982217606, 3.763957416680347, 8.31624528714282, 3.0318777379317092]\n"
     ]
    }
   ],
   "source": [
    "#Multicollinearity\n",
    "#calculating vif using variance_inflation_factor() function from statsmodel\n",
    "vif = [variance_inflation_factor(data_tr[var].values, i) for i in range(0,len(var))]\n",
    "print(vif)"
   ]
  },
  {
   "cell_type": "code",
   "execution_count": 96,
   "metadata": {},
   "outputs": [
    {
     "name": "stdout",
     "output_type": "stream",
     "text": [
      "Price : 54.38459039581716\n",
      "Distance : 23.30084214981436\n",
      "Car : 6.268255655594942\n",
      "Landsize : 3.202196729329978\n",
      "Propertycount : 6.381013805554353\n",
      "Type_t : 1.2313838061502747\n",
      "Type_u : 1.580583166380052\n",
      "Method_S : 7.5212062039058285\n",
      "Method_SP : 2.6337050197755243\n",
      "Method_VB : 1.6050638716608991\n",
      "Regionname_Northern_Metropolitan : 7.470157776757384\n",
      "Regionname_South_Eastern_Metropolitan : 2.0327169982217606\n",
      "Regionname_Southern_Metropolitan : 3.763957416680347\n",
      "Regionname_Western_Metropolitan : 8.31624528714282\n",
      "Rooms_Build : 3.0318777379317092\n"
     ]
    }
   ],
   "source": [
    "#printing vif values together with variable names\n",
    "for i in range(0,len(var)):\n",
    "    print(var[i],\":\",vif[i])"
   ]
  },
  {
   "cell_type": "markdown",
   "metadata": {},
   "source": [
    "As we see for some variables we have vary big VIF values, so the there are highly correlated variables in the model. We should drop the correlated variables one by one."
   ]
  },
  {
   "cell_type": "markdown",
   "metadata": {},
   "source": [
    "<b>!Note: To choose the best model, we also should compare the model diagnostics for the models we outlined and select the one \n",
    "    having better test results and/or passing diagnostic tests</b>. In case of failing LINE assumptions, the analysis/transformation\n",
    "    should be continued to have BLUE."
   ]
  }
 ],
 "metadata": {
  "kernelspec": {
   "display_name": "Python 3",
   "language": "python",
   "name": "python3"
  },
  "language_info": {
   "codemirror_mode": {
    "name": "ipython",
    "version": 3
   },
   "file_extension": ".py",
   "mimetype": "text/x-python",
   "name": "python",
   "nbconvert_exporter": "python",
   "pygments_lexer": "ipython3",
   "version": "3.7.1"
  }
 },
 "nbformat": 4,
 "nbformat_minor": 2
}
