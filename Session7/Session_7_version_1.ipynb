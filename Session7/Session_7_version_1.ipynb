{
 "cells": [
  {
   "cell_type": "markdown",
   "metadata": {},
   "source": [
    "# Logistic Regression"
   ]
  },
  {
   "cell_type": "markdown",
   "metadata": {},
   "source": [
    "<p>The following notebook provides an example code of analyzing <b>Employee churn</b> using logistic regression. The dependent variable is <b>Churn (1-yes, 0-no)</b>. \n",
    "    \n",
    "<br>The general sequence of steps for the analysis the following:\n",
    "1. [Descriptive analysis](#pandas)\n",
    "2. [Modelling (creating dummies, train test split)](#select)\n",
    "3. [Logistic regression construction and interpretation (log odds, marginal effects)](#stats)\n",
    "4. [Model evaluation(confusion matrix,classification report)](#stats1) "
   ]
  },
  {
   "cell_type": "markdown",
   "metadata": {},
   "source": [
    " <h2>1.Descriptive analysis</h2> <a name=\"pandas\"></a>"
   ]
  },
  {
   "cell_type": "markdown",
   "metadata": {},
   "source": [
    "The initial data consists of 14999 observations of 10 variables.However, 3008 of them are duplicates, thus we drop them ending up with 11991 observations. Data overview hints that there are continuous (satisfaction_level,last_evaluation,average_montly_hours etc.), binary(promotion_last_5years,work_accident) and categorical (department, salary) features.\n",
    "Employee churn is not evenly balanced between 0s and 1s. As the countplot and value counts show, only about 16% of employees are leaving and ~84% are staying.So we can use this info as a naive assumption for newcomers to decide whether they'll leave or stay. In other words, if the resulting score is more than the noted value, then our model will be not bad, otherwise-a bad one.\n",
    "\n",
    "We also outlined several questions answers of can be observed visually.\n",
    "\n",
    "    -Is there a relationship between satisfaction level, salary and churn?\n",
    "    -What is the salary distribution by departments?\n",
    "    -Which departments have the highest/lowest churn rate?\n",
    "The visualization shows that employee churn is connected with the satisfaction level. The boxplot shows that employees who left are on average less satisfied with the job, regardless of the salary.\n",
    "The highest paid department is sales and it is also the one having highest churn rate. Next comes technical and support departments.\n",
    "\n",
    "In case of logistic regression when constructing a heatmap we are mostly interested in identifying correlations between independent variables, as the target is binary and correlation between Y and X-s is not represenative in this case.\n",
    "The highest correlation is between average montly hours and number of projects, which is logical as the more projects there are, the more time you spend for their implementation. Next comes numbr of prjects and last evaluation, with 0.27 correlation \n",
    "coefficient.\n"
   ]
  },
  {
   "cell_type": "code",
   "execution_count": 1,
   "metadata": {},
   "outputs": [],
   "source": [
    "import numpy as np\n",
    "import pandas as pd\n",
    "import matplotlib.pyplot as plt\n",
    "import seaborn as sns\n",
    "from statsmodels.discrete.discrete_model import Logit\n",
    "from sklearn.metrics import roc_auc_score, roc_curve\n",
    "from sklearn.model_selection import train_test_split\n",
    "import statsmodels.tools as sm\n",
    "from sklearn.metrics import accuracy_score,classification_report,confusion_matrix, recall_score"
   ]
  },
  {
   "cell_type": "code",
   "execution_count": 2,
   "metadata": {},
   "outputs": [],
   "source": [
    "#importing the data and making a dataframe\n",
    "data=pd.read_csv(\"turnover.csv\")"
   ]
  },
  {
   "cell_type": "code",
   "execution_count": 3,
   "metadata": {},
   "outputs": [
    {
     "name": "stdout",
     "output_type": "stream",
     "text": [
      "<class 'pandas.core.frame.DataFrame'>\n",
      "RangeIndex: 14999 entries, 0 to 14998\n",
      "Data columns (total 10 columns):\n",
      "satisfaction_level       14999 non-null float64\n",
      "last_evaluation          14999 non-null float64\n",
      "number_project           14999 non-null int64\n",
      "average_montly_hours     14999 non-null int64\n",
      "time_spend_company       14999 non-null int64\n",
      "work_accident            14999 non-null int64\n",
      "churn                    14999 non-null int64\n",
      "promotion_last_5years    14999 non-null int64\n",
      "department               14999 non-null object\n",
      "salary                   14999 non-null object\n",
      "dtypes: float64(2), int64(6), object(2)\n",
      "memory usage: 1.1+ MB\n"
     ]
    }
   ],
   "source": [
    "#data overview\n",
    "data.info()"
   ]
  },
  {
   "cell_type": "code",
   "execution_count": 4,
   "metadata": {},
   "outputs": [
    {
     "data": {
      "text/html": [
       "<div>\n",
       "<style scoped>\n",
       "    .dataframe tbody tr th:only-of-type {\n",
       "        vertical-align: middle;\n",
       "    }\n",
       "\n",
       "    .dataframe tbody tr th {\n",
       "        vertical-align: top;\n",
       "    }\n",
       "\n",
       "    .dataframe thead th {\n",
       "        text-align: right;\n",
       "    }\n",
       "</style>\n",
       "<table border=\"1\" class=\"dataframe\">\n",
       "  <thead>\n",
       "    <tr style=\"text-align: right;\">\n",
       "      <th></th>\n",
       "      <th>satisfaction_level</th>\n",
       "      <th>last_evaluation</th>\n",
       "      <th>number_project</th>\n",
       "      <th>average_montly_hours</th>\n",
       "      <th>time_spend_company</th>\n",
       "      <th>work_accident</th>\n",
       "      <th>churn</th>\n",
       "      <th>promotion_last_5years</th>\n",
       "      <th>department</th>\n",
       "      <th>salary</th>\n",
       "    </tr>\n",
       "  </thead>\n",
       "  <tbody>\n",
       "    <tr>\n",
       "      <th>0</th>\n",
       "      <td>0.38</td>\n",
       "      <td>0.53</td>\n",
       "      <td>2</td>\n",
       "      <td>157</td>\n",
       "      <td>3</td>\n",
       "      <td>0</td>\n",
       "      <td>1</td>\n",
       "      <td>0</td>\n",
       "      <td>sales</td>\n",
       "      <td>low</td>\n",
       "    </tr>\n",
       "    <tr>\n",
       "      <th>1</th>\n",
       "      <td>0.80</td>\n",
       "      <td>0.86</td>\n",
       "      <td>5</td>\n",
       "      <td>262</td>\n",
       "      <td>6</td>\n",
       "      <td>0</td>\n",
       "      <td>1</td>\n",
       "      <td>0</td>\n",
       "      <td>sales</td>\n",
       "      <td>medium</td>\n",
       "    </tr>\n",
       "    <tr>\n",
       "      <th>2</th>\n",
       "      <td>0.11</td>\n",
       "      <td>0.88</td>\n",
       "      <td>7</td>\n",
       "      <td>272</td>\n",
       "      <td>4</td>\n",
       "      <td>0</td>\n",
       "      <td>1</td>\n",
       "      <td>0</td>\n",
       "      <td>sales</td>\n",
       "      <td>medium</td>\n",
       "    </tr>\n",
       "    <tr>\n",
       "      <th>3</th>\n",
       "      <td>0.72</td>\n",
       "      <td>0.87</td>\n",
       "      <td>5</td>\n",
       "      <td>223</td>\n",
       "      <td>5</td>\n",
       "      <td>0</td>\n",
       "      <td>1</td>\n",
       "      <td>0</td>\n",
       "      <td>sales</td>\n",
       "      <td>low</td>\n",
       "    </tr>\n",
       "    <tr>\n",
       "      <th>4</th>\n",
       "      <td>0.37</td>\n",
       "      <td>0.52</td>\n",
       "      <td>2</td>\n",
       "      <td>159</td>\n",
       "      <td>3</td>\n",
       "      <td>0</td>\n",
       "      <td>1</td>\n",
       "      <td>0</td>\n",
       "      <td>sales</td>\n",
       "      <td>low</td>\n",
       "    </tr>\n",
       "  </tbody>\n",
       "</table>\n",
       "</div>"
      ],
      "text/plain": [
       "   satisfaction_level  last_evaluation  number_project  average_montly_hours  \\\n",
       "0                0.38             0.53               2                   157   \n",
       "1                0.80             0.86               5                   262   \n",
       "2                0.11             0.88               7                   272   \n",
       "3                0.72             0.87               5                   223   \n",
       "4                0.37             0.52               2                   159   \n",
       "\n",
       "   time_spend_company  work_accident  churn  promotion_last_5years department  \\\n",
       "0                   3              0      1                      0      sales   \n",
       "1                   6              0      1                      0      sales   \n",
       "2                   4              0      1                      0      sales   \n",
       "3                   5              0      1                      0      sales   \n",
       "4                   3              0      1                      0      sales   \n",
       "\n",
       "   salary  \n",
       "0     low  \n",
       "1  medium  \n",
       "2  medium  \n",
       "3     low  \n",
       "4     low  "
      ]
     },
     "execution_count": 4,
     "metadata": {},
     "output_type": "execute_result"
    }
   ],
   "source": [
    "#have a look at first rows of the dataframe\n",
    "data.head()"
   ]
  },
  {
   "cell_type": "code",
   "execution_count": 5,
   "metadata": {},
   "outputs": [
    {
     "data": {
      "text/html": [
       "<div>\n",
       "<style scoped>\n",
       "    .dataframe tbody tr th:only-of-type {\n",
       "        vertical-align: middle;\n",
       "    }\n",
       "\n",
       "    .dataframe tbody tr th {\n",
       "        vertical-align: top;\n",
       "    }\n",
       "\n",
       "    .dataframe thead th {\n",
       "        text-align: right;\n",
       "    }\n",
       "</style>\n",
       "<table border=\"1\" class=\"dataframe\">\n",
       "  <thead>\n",
       "    <tr style=\"text-align: right;\">\n",
       "      <th></th>\n",
       "      <th>satisfaction_level</th>\n",
       "      <th>last_evaluation</th>\n",
       "      <th>number_project</th>\n",
       "      <th>average_montly_hours</th>\n",
       "      <th>time_spend_company</th>\n",
       "      <th>work_accident</th>\n",
       "      <th>churn</th>\n",
       "      <th>promotion_last_5years</th>\n",
       "    </tr>\n",
       "  </thead>\n",
       "  <tbody>\n",
       "    <tr>\n",
       "      <th>count</th>\n",
       "      <td>14999.000000</td>\n",
       "      <td>14999.000000</td>\n",
       "      <td>14999.000000</td>\n",
       "      <td>14999.000000</td>\n",
       "      <td>14999.000000</td>\n",
       "      <td>14999.000000</td>\n",
       "      <td>14999.000000</td>\n",
       "      <td>14999.000000</td>\n",
       "    </tr>\n",
       "    <tr>\n",
       "      <th>mean</th>\n",
       "      <td>0.612834</td>\n",
       "      <td>0.716102</td>\n",
       "      <td>3.803054</td>\n",
       "      <td>201.050337</td>\n",
       "      <td>3.498233</td>\n",
       "      <td>0.144610</td>\n",
       "      <td>0.238083</td>\n",
       "      <td>0.021268</td>\n",
       "    </tr>\n",
       "    <tr>\n",
       "      <th>std</th>\n",
       "      <td>0.248631</td>\n",
       "      <td>0.171169</td>\n",
       "      <td>1.232592</td>\n",
       "      <td>49.943099</td>\n",
       "      <td>1.460136</td>\n",
       "      <td>0.351719</td>\n",
       "      <td>0.425924</td>\n",
       "      <td>0.144281</td>\n",
       "    </tr>\n",
       "    <tr>\n",
       "      <th>min</th>\n",
       "      <td>0.090000</td>\n",
       "      <td>0.360000</td>\n",
       "      <td>2.000000</td>\n",
       "      <td>96.000000</td>\n",
       "      <td>2.000000</td>\n",
       "      <td>0.000000</td>\n",
       "      <td>0.000000</td>\n",
       "      <td>0.000000</td>\n",
       "    </tr>\n",
       "    <tr>\n",
       "      <th>25%</th>\n",
       "      <td>0.440000</td>\n",
       "      <td>0.560000</td>\n",
       "      <td>3.000000</td>\n",
       "      <td>156.000000</td>\n",
       "      <td>3.000000</td>\n",
       "      <td>0.000000</td>\n",
       "      <td>0.000000</td>\n",
       "      <td>0.000000</td>\n",
       "    </tr>\n",
       "    <tr>\n",
       "      <th>50%</th>\n",
       "      <td>0.640000</td>\n",
       "      <td>0.720000</td>\n",
       "      <td>4.000000</td>\n",
       "      <td>200.000000</td>\n",
       "      <td>3.000000</td>\n",
       "      <td>0.000000</td>\n",
       "      <td>0.000000</td>\n",
       "      <td>0.000000</td>\n",
       "    </tr>\n",
       "    <tr>\n",
       "      <th>75%</th>\n",
       "      <td>0.820000</td>\n",
       "      <td>0.870000</td>\n",
       "      <td>5.000000</td>\n",
       "      <td>245.000000</td>\n",
       "      <td>4.000000</td>\n",
       "      <td>0.000000</td>\n",
       "      <td>0.000000</td>\n",
       "      <td>0.000000</td>\n",
       "    </tr>\n",
       "    <tr>\n",
       "      <th>max</th>\n",
       "      <td>1.000000</td>\n",
       "      <td>1.000000</td>\n",
       "      <td>7.000000</td>\n",
       "      <td>310.000000</td>\n",
       "      <td>10.000000</td>\n",
       "      <td>1.000000</td>\n",
       "      <td>1.000000</td>\n",
       "      <td>1.000000</td>\n",
       "    </tr>\n",
       "  </tbody>\n",
       "</table>\n",
       "</div>"
      ],
      "text/plain": [
       "       satisfaction_level  last_evaluation  number_project  \\\n",
       "count        14999.000000     14999.000000    14999.000000   \n",
       "mean             0.612834         0.716102        3.803054   \n",
       "std              0.248631         0.171169        1.232592   \n",
       "min              0.090000         0.360000        2.000000   \n",
       "25%              0.440000         0.560000        3.000000   \n",
       "50%              0.640000         0.720000        4.000000   \n",
       "75%              0.820000         0.870000        5.000000   \n",
       "max              1.000000         1.000000        7.000000   \n",
       "\n",
       "       average_montly_hours  time_spend_company  work_accident         churn  \\\n",
       "count          14999.000000        14999.000000   14999.000000  14999.000000   \n",
       "mean             201.050337            3.498233       0.144610      0.238083   \n",
       "std               49.943099            1.460136       0.351719      0.425924   \n",
       "min               96.000000            2.000000       0.000000      0.000000   \n",
       "25%              156.000000            3.000000       0.000000      0.000000   \n",
       "50%              200.000000            3.000000       0.000000      0.000000   \n",
       "75%              245.000000            4.000000       0.000000      0.000000   \n",
       "max              310.000000           10.000000       1.000000      1.000000   \n",
       "\n",
       "       promotion_last_5years  \n",
       "count           14999.000000  \n",
       "mean                0.021268  \n",
       "std                 0.144281  \n",
       "min                 0.000000  \n",
       "25%                 0.000000  \n",
       "50%                 0.000000  \n",
       "75%                 0.000000  \n",
       "max                 1.000000  "
      ]
     },
     "execution_count": 5,
     "metadata": {},
     "output_type": "execute_result"
    }
   ],
   "source": [
    "data.describe()"
   ]
  },
  {
   "cell_type": "code",
   "execution_count": 6,
   "metadata": {},
   "outputs": [
    {
     "name": "stdout",
     "output_type": "stream",
     "text": [
      "Duplicates: 3008\n",
      "Missing values: 0\n",
      "Single valued columns: Index([], dtype='object')\n"
     ]
    }
   ],
   "source": [
    "#checking number of duplicates, missing values and columns with a single value\n",
    "print(\"Duplicates:\", data.duplicated().sum())\n",
    "print(\"Missing values:\", data.isna().sum().sum())\n",
    "print(\"Single valued columns:\", data.columns[data.nunique()==1])"
   ]
  },
  {
   "cell_type": "code",
   "execution_count": 7,
   "metadata": {},
   "outputs": [],
   "source": [
    "#dropping duplicates\n",
    "data.drop_duplicates(inplace=True)"
   ]
  },
  {
   "cell_type": "code",
   "execution_count": 8,
   "metadata": {},
   "outputs": [
    {
     "name": "stdout",
     "output_type": "stream",
     "text": [
      "<class 'pandas.core.frame.DataFrame'>\n",
      "Int64Index: 11991 entries, 0 to 11999\n",
      "Data columns (total 10 columns):\n",
      "satisfaction_level       11991 non-null float64\n",
      "last_evaluation          11991 non-null float64\n",
      "number_project           11991 non-null int64\n",
      "average_montly_hours     11991 non-null int64\n",
      "time_spend_company       11991 non-null int64\n",
      "work_accident            11991 non-null int64\n",
      "churn                    11991 non-null int64\n",
      "promotion_last_5years    11991 non-null int64\n",
      "department               11991 non-null object\n",
      "salary                   11991 non-null object\n",
      "dtypes: float64(2), int64(6), object(2)\n",
      "memory usage: 1.0+ MB\n"
     ]
    }
   ],
   "source": [
    "data.info()"
   ]
  },
  {
   "cell_type": "code",
   "execution_count": 9,
   "metadata": {},
   "outputs": [
    {
     "data": {
      "image/png": "[encoded data removed]",
      "text/plain": [
       "<Figure size 648x360 with 1 Axes>"
      ]
     },
     "metadata": {
      "needs_background": "light"
     },
     "output_type": "display_data"
    }
   ],
   "source": [
    "#let's visualise the distribution of churn\n",
    "plt.figure(figsize=(9,5))\n",
    "sns.countplot(data.churn)\n",
    "plt.title(\"Churn distribution\")\n",
    "plt.show()"
   ]
  },
  {
   "cell_type": "code",
   "execution_count": 10,
   "metadata": {},
   "outputs": [
    {
     "data": {
      "text/plain": [
       "0    83.39588\n",
       "1    16.60412\n",
       "Name: churn, dtype: float64"
      ]
     },
     "execution_count": 10,
     "metadata": {},
     "output_type": "execute_result"
    }
   ],
   "source": [
    "#lets count the benchmark for employee churn\n",
    "data.churn.value_counts()/len(data)*100"
   ]
  },
  {
   "cell_type": "code",
   "execution_count": 11,
   "metadata": {},
   "outputs": [
    {
     "data": {
      "image/png": "[encoded data removed]",
      "text/plain": [
       "<Figure size 648x360 with 1 Axes>"
      ]
     },
     "metadata": {
      "needs_background": "light"
     },
     "output_type": "display_data"
    }
   ],
   "source": [
    "#Let's see the relationship of salary and satisfaction level\n",
    "plt.figure(figsize=(9,5))\n",
    "sns.boxplot(x=\"salary\", y=\"satisfaction_level\", data=data, showmeans=True, hue=\"churn\")\n",
    "plt.legend(title='Employee churn', loc='upper right')\n",
    "plt.xlabel(\"Salary\")\n",
    "plt.ylabel(\"Satisfaction level\")\n",
    "plt.title(\"Employee satisfaction by salary and churn\",fontdict={\"fontsize\":16})\n",
    "plt.show()\n"
   ]
  },
  {
   "cell_type": "code",
   "execution_count": 12,
   "metadata": {},
   "outputs": [
    {
     "data": {
      "image/png": "[encoded data removed]",
      "text/plain": [
       "<Figure size 648x360 with 1 Axes>"
      ]
     },
     "metadata": {
      "needs_background": "light"
     },
     "output_type": "display_data"
    }
   ],
   "source": [
    "plt.figure(figsize=(9,5))\n",
    "sns.countplot(data.department, hue=data.salary)\n",
    "plt.title(\"Salary distribution by departments\")\n",
    "plt.show()"
   ]
  },
  {
   "cell_type": "code",
   "execution_count": 13,
   "metadata": {},
   "outputs": [
    {
     "data": {
      "text/plain": [
       "sales          237\n",
       "technical      166\n",
       "management     128\n",
       "support        126\n",
       "IT              71\n",
       "accounting      63\n",
       "marketing       62\n",
       "product_mng     52\n",
       "RandD           47\n",
       "hr              38\n",
       "Name: department, dtype: int64"
      ]
     },
     "execution_count": 13,
     "metadata": {},
     "output_type": "execute_result"
    }
   ],
   "source": [
    "#confirming previous plot info\n",
    "data.department[data.salary==\"high\"].value_counts()"
   ]
  },
  {
   "cell_type": "code",
   "execution_count": 14,
   "metadata": {},
   "outputs": [
    {
     "data": {
      "image/png": "[encoded data removed]",
      "text/plain": [
       "<Figure size 648x360 with 1 Axes>"
      ]
     },
     "metadata": {
      "needs_background": "light"
     },
     "output_type": "display_data"
    }
   ],
   "source": [
    "plt.figure(figsize=(9,5))\n",
    "sns.countplot(data.department, hue=data.churn)\n",
    "plt.title(\"Employee churn by departments\")\n",
    "plt.show()"
   ]
  },
  {
   "cell_type": "code",
   "execution_count": 15,
   "metadata": {},
   "outputs": [
    {
     "data": {
      "image/png": "[encoded data removed]",
      "text/plain": [
       "<Figure size 432x288 with 2 Axes>"
      ]
     },
     "metadata": {
      "needs_background": "light"
     },
     "output_type": "display_data"
    }
   ],
   "source": [
    "sns.heatmap(data.corr().abs().round(2),annot=True)\n",
    "plt.show()"
   ]
  },
  {
   "cell_type": "markdown",
   "metadata": {},
   "source": [
    "<h1> 2. Modelling (creating dummies, train test split)</h1> <a name=\"select\"> </a>"
   ]
  },
  {
   "cell_type": "markdown",
   "metadata": {},
   "source": [
    "We dummify the categorical variables, separate X and Y and split the data into train and test sets"
   ]
  },
  {
   "cell_type": "code",
   "execution_count": 16,
   "metadata": {},
   "outputs": [],
   "source": [
    "#Let's create dummy variables \n",
    "data=pd.get_dummies(data,drop_first=True)"
   ]
  },
  {
   "cell_type": "code",
   "execution_count": 17,
   "metadata": {},
   "outputs": [],
   "source": [
    "#separating X and Y\n",
    "Y=data[\"churn\"]\n",
    "X=data.drop(\"churn\",axis=1)"
   ]
  },
  {
   "cell_type": "code",
   "execution_count": 18,
   "metadata": {},
   "outputs": [],
   "source": [
    "#as we are going to use not formula but X and Y data in the logit function, \n",
    "#so we need to add the intercept to data (X) manually\n",
    "X=sm.add_constant(X)"
   ]
  },
  {
   "cell_type": "code",
   "execution_count": 19,
   "metadata": {},
   "outputs": [],
   "source": [
    "#let's split X and Y data into test and train datasets, test data is 25% of overall data\n",
    "#splitting the data into train and test sets\n",
    "X0, X1, Y0, Y1 = train_test_split(X, Y, test_size=0.25, random_state=42)"
   ]
  },
  {
   "cell_type": "markdown",
   "metadata": {},
   "source": [
    "<h1> 3. Logistic regression construction and interpretation (log odds, marginal effects)</h1> <a name=\"stats\"> </a>"
   ]
  },
  {
   "cell_type": "markdown",
   "metadata": {},
   "source": [
    "We will construct the model based on statsmodels.api library, meaning will fit the data on training set and evaluate both \n",
    "for training and testing sets."
   ]
  },
  {
   "cell_type": "code",
   "execution_count": 20,
   "metadata": {},
   "outputs": [
    {
     "name": "stdout",
     "output_type": "stream",
     "text": [
      "Optimization terminated successfully.\n",
      "         Current function value: 0.358804\n",
      "         Iterations 8\n"
     ]
    }
   ],
   "source": [
    "#constructing the logit model\n",
    "model=Logit(Y0,X0)\n",
    "#fitting the model\n",
    "results=model.fit()"
   ]
  },
  {
   "cell_type": "code",
   "execution_count": 21,
   "metadata": {},
   "outputs": [
    {
     "data": {
      "text/html": [
       "<table class=\"simpletable\">\n",
       "<caption>Logit Regression Results</caption>\n",
       "<tr>\n",
       "  <th>Dep. Variable:</th>       <td>churn</td>      <th>  No. Observations:  </th>  <td>  8993</td> \n",
       "</tr>\n",
       "<tr>\n",
       "  <th>Model:</th>               <td>Logit</td>      <th>  Df Residuals:      </th>  <td>  8974</td> \n",
       "</tr>\n",
       "<tr>\n",
       "  <th>Method:</th>               <td>MLE</td>       <th>  Df Model:          </th>  <td>    18</td> \n",
       "</tr>\n",
       "<tr>\n",
       "  <th>Date:</th>          <td>Thu, 17 Oct 2019</td> <th>  Pseudo R-squ.:     </th>  <td>0.2021</td> \n",
       "</tr>\n",
       "<tr>\n",
       "  <th>Time:</th>              <td>04:55:56</td>     <th>  Log-Likelihood:    </th> <td> -3226.7</td>\n",
       "</tr>\n",
       "<tr>\n",
       "  <th>converged:</th>           <td>True</td>       <th>  LL-Null:           </th> <td> -4044.1</td>\n",
       "</tr>\n",
       "<tr>\n",
       "  <th> </th>                      <td> </td>        <th>  LLR p-value:       </th>  <td> 0.000</td> \n",
       "</tr>\n",
       "</table>\n",
       "<table class=\"simpletable\">\n",
       "<tr>\n",
       "             <td></td>               <th>coef</th>     <th>std err</th>      <th>z</th>      <th>P>|z|</th>  <th>[0.025</th>    <th>0.975]</th>  \n",
       "</tr>\n",
       "<tr>\n",
       "  <th>const</th>                  <td>   -2.5485</td> <td>    0.288</td> <td>   -8.854</td> <td> 0.000</td> <td>   -3.113</td> <td>   -1.984</td>\n",
       "</tr>\n",
       "<tr>\n",
       "  <th>satisfaction_level</th>     <td>   -3.8902</td> <td>    0.138</td> <td>  -28.114</td> <td> 0.000</td> <td>   -4.161</td> <td>   -3.619</td>\n",
       "</tr>\n",
       "<tr>\n",
       "  <th>last_evaluation</th>        <td>    0.7589</td> <td>    0.208</td> <td>    3.657</td> <td> 0.000</td> <td>    0.352</td> <td>    1.166</td>\n",
       "</tr>\n",
       "<tr>\n",
       "  <th>number_project</th>         <td>   -0.2677</td> <td>    0.030</td> <td>   -8.982</td> <td> 0.000</td> <td>   -0.326</td> <td>   -0.209</td>\n",
       "</tr>\n",
       "<tr>\n",
       "  <th>average_montly_hours</th>   <td>    0.0040</td> <td>    0.001</td> <td>    5.651</td> <td> 0.000</td> <td>    0.003</td> <td>    0.005</td>\n",
       "</tr>\n",
       "<tr>\n",
       "  <th>time_spend_company</th>     <td>    0.3161</td> <td>    0.023</td> <td>   13.512</td> <td> 0.000</td> <td>    0.270</td> <td>    0.362</td>\n",
       "</tr>\n",
       "<tr>\n",
       "  <th>work_accident</th>          <td>   -1.3721</td> <td>    0.126</td> <td>  -10.878</td> <td> 0.000</td> <td>   -1.619</td> <td>   -1.125</td>\n",
       "</tr>\n",
       "<tr>\n",
       "  <th>promotion_last_5years</th>  <td>   -1.5036</td> <td>    0.445</td> <td>   -3.377</td> <td> 0.001</td> <td>   -2.376</td> <td>   -0.631</td>\n",
       "</tr>\n",
       "<tr>\n",
       "  <th>department_RandD</th>       <td>   -0.4277</td> <td>    0.188</td> <td>   -2.273</td> <td> 0.023</td> <td>   -0.797</td> <td>   -0.059</td>\n",
       "</tr>\n",
       "<tr>\n",
       "  <th>department_accounting</th>  <td>   -0.0025</td> <td>    0.178</td> <td>   -0.014</td> <td> 0.989</td> <td>   -0.351</td> <td>    0.346</td>\n",
       "</tr>\n",
       "<tr>\n",
       "  <th>department_hr</th>          <td>    0.1573</td> <td>    0.173</td> <td>    0.908</td> <td> 0.364</td> <td>   -0.182</td> <td>    0.497</td>\n",
       "</tr>\n",
       "<tr>\n",
       "  <th>department_management</th>  <td>   -0.2083</td> <td>    0.216</td> <td>   -0.966</td> <td> 0.334</td> <td>   -0.631</td> <td>    0.214</td>\n",
       "</tr>\n",
       "<tr>\n",
       "  <th>department_marketing</th>   <td>    0.1637</td> <td>    0.171</td> <td>    0.958</td> <td> 0.338</td> <td>   -0.171</td> <td>    0.499</td>\n",
       "</tr>\n",
       "<tr>\n",
       "  <th>department_product_mng</th> <td>    0.0353</td> <td>    0.172</td> <td>    0.205</td> <td> 0.837</td> <td>   -0.301</td> <td>    0.372</td>\n",
       "</tr>\n",
       "<tr>\n",
       "  <th>department_sales</th>       <td>    0.0534</td> <td>    0.126</td> <td>    0.423</td> <td> 0.673</td> <td>   -0.194</td> <td>    0.301</td>\n",
       "</tr>\n",
       "<tr>\n",
       "  <th>department_support</th>     <td>    0.1137</td> <td>    0.137</td> <td>    0.829</td> <td> 0.407</td> <td>   -0.155</td> <td>    0.382</td>\n",
       "</tr>\n",
       "<tr>\n",
       "  <th>department_technical</th>   <td>    0.0738</td> <td>    0.133</td> <td>    0.555</td> <td> 0.579</td> <td>   -0.187</td> <td>    0.334</td>\n",
       "</tr>\n",
       "<tr>\n",
       "  <th>salary_low</th>             <td>    2.0509</td> <td>    0.197</td> <td>   10.412</td> <td> 0.000</td> <td>    1.665</td> <td>    2.437</td>\n",
       "</tr>\n",
       "<tr>\n",
       "  <th>salary_medium</th>          <td>    1.5839</td> <td>    0.198</td> <td>    8.001</td> <td> 0.000</td> <td>    1.196</td> <td>    1.972</td>\n",
       "</tr>\n",
       "</table>"
      ],
      "text/plain": [
       "<class 'statsmodels.iolib.summary.Summary'>\n",
       "\"\"\"\n",
       "                           Logit Regression Results                           \n",
       "==============================================================================\n",
       "Dep. Variable:                  churn   No. Observations:                 8993\n",
       "Model:                          Logit   Df Residuals:                     8974\n",
       "Method:                           MLE   Df Model:                           18\n",
       "Date:                Thu, 17 Oct 2019   Pseudo R-squ.:                  0.2021\n",
       "Time:                        04:55:56   Log-Likelihood:                -3226.7\n",
       "converged:                       True   LL-Null:                       -4044.1\n",
       "                                        LLR p-value:                     0.000\n",
       "==========================================================================================\n",
       "                             coef    std err          z      P>|z|      [0.025      0.975]\n",
       "------------------------------------------------------------------------------------------\n",
       "const                     -2.5485      0.288     -8.854      0.000      -3.113      -1.984\n",
       "satisfaction_level        -3.8902      0.138    -28.114      0.000      -4.161      -3.619\n",
       "last_evaluation            0.7589      0.208      3.657      0.000       0.352       1.166\n",
       "number_project            -0.2677      0.030     -8.982      0.000      -0.326      -0.209\n",
       "average_montly_hours       0.0040      0.001      5.651      0.000       0.003       0.005\n",
       "time_spend_company         0.3161      0.023     13.512      0.000       0.270       0.362\n",
       "work_accident             -1.3721      0.126    -10.878      0.000      -1.619      -1.125\n",
       "promotion_last_5years     -1.5036      0.445     -3.377      0.001      -2.376      -0.631\n",
       "department_RandD          -0.4277      0.188     -2.273      0.023      -0.797      -0.059\n",
       "department_accounting     -0.0025      0.178     -0.014      0.989      -0.351       0.346\n",
       "department_hr              0.1573      0.173      0.908      0.364      -0.182       0.497\n",
       "department_management     -0.2083      0.216     -0.966      0.334      -0.631       0.214\n",
       "department_marketing       0.1637      0.171      0.958      0.338      -0.171       0.499\n",
       "department_product_mng     0.0353      0.172      0.205      0.837      -0.301       0.372\n",
       "department_sales           0.0534      0.126      0.423      0.673      -0.194       0.301\n",
       "department_support         0.1137      0.137      0.829      0.407      -0.155       0.382\n",
       "department_technical       0.0738      0.133      0.555      0.579      -0.187       0.334\n",
       "salary_low                 2.0509      0.197     10.412      0.000       1.665       2.437\n",
       "salary_medium              1.5839      0.198      8.001      0.000       1.196       1.972\n",
       "==========================================================================================\n",
       "\"\"\""
      ]
     },
     "execution_count": 21,
     "metadata": {},
     "output_type": "execute_result"
    }
   ],
   "source": [
    "results.summary()"
   ]
  },
  {
   "cell_type": "markdown",
   "metadata": {},
   "source": [
    "- <b> For a one-unit increase in satisfaction_level we expect on average a -3.8902 decrease in the log-odds of churn, holding all other independent variables constant.</b>\n",
    "- <b> For employees with low salaries, we expect on average a 2.0509  increase in the log-odds of the dependent variable churn compared to the employees with high salaries.</b>"
   ]
  },
  {
   "cell_type": "markdown",
   "metadata": {},
   "source": [
    "As we want to interpret probabilites, let's get marginal effects."
   ]
  },
  {
   "cell_type": "code",
   "execution_count": 22,
   "metadata": {},
   "outputs": [
    {
     "data": {
      "text/html": [
       "<table class=\"simpletable\">\n",
       "<caption>Logit Marginal Effects</caption>\n",
       "<tr>\n",
       "  <th>Dep. Variable:</th>  <td>churn</td> \n",
       "</tr>\n",
       "<tr>\n",
       "  <th>Method:</th>         <td>dydx</td>  \n",
       "</tr>\n",
       "<tr>\n",
       "  <th>At:</th>            <td>overall</td>\n",
       "</tr>\n",
       "</table>\n",
       "<table class=\"simpletable\">\n",
       "<tr>\n",
       "             <th></th>               <th>dy/dx</th>    <th>std err</th>      <th>z</th>      <th>P>|z|</th>  <th>[0.025</th>    <th>0.975]</th>  \n",
       "</tr>\n",
       "<tr>\n",
       "  <th>satisfaction_level</th>     <td>   -0.4307</td> <td>    0.013</td> <td>  -32.405</td> <td> 0.000</td> <td>   -0.457</td> <td>   -0.405</td>\n",
       "</tr>\n",
       "<tr>\n",
       "  <th>last_evaluation</th>        <td>    0.0840</td> <td>    0.023</td> <td>    3.665</td> <td> 0.000</td> <td>    0.039</td> <td>    0.129</td>\n",
       "</tr>\n",
       "<tr>\n",
       "  <th>number_project</th>         <td>   -0.0296</td> <td>    0.003</td> <td>   -9.044</td> <td> 0.000</td> <td>   -0.036</td> <td>   -0.023</td>\n",
       "</tr>\n",
       "<tr>\n",
       "  <th>average_montly_hours</th>   <td>    0.0004</td> <td> 7.83e-05</td> <td>    5.684</td> <td> 0.000</td> <td>    0.000</td> <td>    0.001</td>\n",
       "</tr>\n",
       "<tr>\n",
       "  <th>time_spend_company</th>     <td>    0.0350</td> <td>    0.003</td> <td>   13.893</td> <td> 0.000</td> <td>    0.030</td> <td>    0.040</td>\n",
       "</tr>\n",
       "<tr>\n",
       "  <th>work_accident</th>          <td>   -0.1519</td> <td>    0.014</td> <td>  -11.013</td> <td> 0.000</td> <td>   -0.179</td> <td>   -0.125</td>\n",
       "</tr>\n",
       "<tr>\n",
       "  <th>promotion_last_5years</th>  <td>   -0.1665</td> <td>    0.049</td> <td>   -3.380</td> <td> 0.001</td> <td>   -0.263</td> <td>   -0.070</td>\n",
       "</tr>\n",
       "<tr>\n",
       "  <th>department_RandD</th>       <td>   -0.0474</td> <td>    0.021</td> <td>   -2.275</td> <td> 0.023</td> <td>   -0.088</td> <td>   -0.007</td>\n",
       "</tr>\n",
       "<tr>\n",
       "  <th>department_accounting</th>  <td>   -0.0003</td> <td>    0.020</td> <td>   -0.014</td> <td> 0.989</td> <td>   -0.039</td> <td>    0.038</td>\n",
       "</tr>\n",
       "<tr>\n",
       "  <th>department_hr</th>          <td>    0.0174</td> <td>    0.019</td> <td>    0.908</td> <td> 0.364</td> <td>   -0.020</td> <td>    0.055</td>\n",
       "</tr>\n",
       "<tr>\n",
       "  <th>department_management</th>  <td>   -0.0231</td> <td>    0.024</td> <td>   -0.967</td> <td> 0.334</td> <td>   -0.070</td> <td>    0.024</td>\n",
       "</tr>\n",
       "<tr>\n",
       "  <th>department_marketing</th>   <td>    0.0181</td> <td>    0.019</td> <td>    0.958</td> <td> 0.338</td> <td>   -0.019</td> <td>    0.055</td>\n",
       "</tr>\n",
       "<tr>\n",
       "  <th>department_product_mng</th> <td>    0.0039</td> <td>    0.019</td> <td>    0.205</td> <td> 0.837</td> <td>   -0.033</td> <td>    0.041</td>\n",
       "</tr>\n",
       "<tr>\n",
       "  <th>department_sales</th>       <td>    0.0059</td> <td>    0.014</td> <td>    0.423</td> <td> 0.673</td> <td>   -0.022</td> <td>    0.033</td>\n",
       "</tr>\n",
       "<tr>\n",
       "  <th>department_support</th>     <td>    0.0126</td> <td>    0.015</td> <td>    0.829</td> <td> 0.407</td> <td>   -0.017</td> <td>    0.042</td>\n",
       "</tr>\n",
       "<tr>\n",
       "  <th>department_technical</th>   <td>    0.0082</td> <td>    0.015</td> <td>    0.555</td> <td> 0.579</td> <td>   -0.021</td> <td>    0.037</td>\n",
       "</tr>\n",
       "<tr>\n",
       "  <th>salary_low</th>             <td>    0.2271</td> <td>    0.022</td> <td>   10.529</td> <td> 0.000</td> <td>    0.185</td> <td>    0.269</td>\n",
       "</tr>\n",
       "<tr>\n",
       "  <th>salary_medium</th>          <td>    0.1753</td> <td>    0.022</td> <td>    8.048</td> <td> 0.000</td> <td>    0.133</td> <td>    0.218</td>\n",
       "</tr>\n",
       "</table>"
      ],
      "text/plain": [
       "<class 'statsmodels.iolib.summary.Summary'>\n",
       "\"\"\"\n",
       "        Logit Marginal Effects       \n",
       "=====================================\n",
       "Dep. Variable:                  churn\n",
       "Method:                          dydx\n",
       "At:                           overall\n",
       "==========================================================================================\n",
       "                            dy/dx    std err          z      P>|z|      [0.025      0.975]\n",
       "------------------------------------------------------------------------------------------\n",
       "satisfaction_level        -0.4307      0.013    -32.405      0.000      -0.457      -0.405\n",
       "last_evaluation            0.0840      0.023      3.665      0.000       0.039       0.129\n",
       "number_project            -0.0296      0.003     -9.044      0.000      -0.036      -0.023\n",
       "average_montly_hours       0.0004   7.83e-05      5.684      0.000       0.000       0.001\n",
       "time_spend_company         0.0350      0.003     13.893      0.000       0.030       0.040\n",
       "work_accident             -0.1519      0.014    -11.013      0.000      -0.179      -0.125\n",
       "promotion_last_5years     -0.1665      0.049     -3.380      0.001      -0.263      -0.070\n",
       "department_RandD          -0.0474      0.021     -2.275      0.023      -0.088      -0.007\n",
       "department_accounting     -0.0003      0.020     -0.014      0.989      -0.039       0.038\n",
       "department_hr              0.0174      0.019      0.908      0.364      -0.020       0.055\n",
       "department_management     -0.0231      0.024     -0.967      0.334      -0.070       0.024\n",
       "department_marketing       0.0181      0.019      0.958      0.338      -0.019       0.055\n",
       "department_product_mng     0.0039      0.019      0.205      0.837      -0.033       0.041\n",
       "department_sales           0.0059      0.014      0.423      0.673      -0.022       0.033\n",
       "department_support         0.0126      0.015      0.829      0.407      -0.017       0.042\n",
       "department_technical       0.0082      0.015      0.555      0.579      -0.021       0.037\n",
       "salary_low                 0.2271      0.022     10.529      0.000       0.185       0.269\n",
       "salary_medium              0.1753      0.022      8.048      0.000       0.133       0.218\n",
       "==========================================================================================\n",
       "\"\"\""
      ]
     },
     "execution_count": 22,
     "metadata": {},
     "output_type": "execute_result"
    }
   ],
   "source": [
    "results.get_margeff().summary()"
   ]
  },
  {
   "cell_type": "markdown",
   "metadata": {},
   "source": [
    "- <b> An Incremental increase in satisfaction level will decrease the probability of churn on average by 43% when other factors are held constant.</b>\n",
    "- <b>Employees with low salary have on average 22.71% higher probability of churn compared to employees with high salaries.</b>"
   ]
  },
  {
   "cell_type": "markdown",
   "metadata": {},
   "source": [
    "<h1> 3. Model evaluation(confusion matrix,classification report)</h1> <a name=\"stats1\"> </a>"
   ]
  },
  {
   "cell_type": "markdown",
   "metadata": {},
   "source": [
    "In order to evaluate the model, we will use several methods. First,we will calculate classification metrics by hand. For that purpose we will use confusion matrix based on <code>pred_table()</code> to observe the different results of predictions based on the threshold.\n",
    "Next, we will use <code> confusion_matrix()</code> from sklearn library, to make calculations easier.\n",
    "Last, we will use classification report.\n",
    "Note that in order to calculate the metrics for test data we will need to:\n",
    "   -to predict probabilities for test data,\n",
    "   -based on the predicted probabilities to classify observations into \"1\" and \"0\",\n",
    "   -construct confusion matrix for the predicted classes and true values of dependent variables"
   ]
  },
  {
   "cell_type": "markdown",
   "metadata": {},
   "source": [
    "\n",
    "<img src=\"conf.png\" style=\"height:200px\">"
   ]
  },
  {
   "cell_type": "markdown",
   "metadata": {},
   "source": [
    "<b> Precision=TP/TP+FP</b> Out of all the positive classes we have predicted correctly, how many are actually positive.\n",
    "\n",
    "<b>Recall(Sensitivity)=TP/TP+FN </b>  Out of all the positive classes, how much we predicted correctly.\n",
    "\n",
    "<b>Specificity=TN/TN+FP </b>  Out of all the positive classes, how much we predicted correctly.\n",
    "\n",
    "<b>F1 Score:</b>This is a harmonic mean (2xPrecisionxRecall/Precision+Recall) of the true positive rate (recall) and precision. "
   ]
  },
  {
   "cell_type": "code",
   "execution_count": 23,
   "metadata": {},
   "outputs": [
    {
     "data": {
      "text/plain": [
       "array([[7188., 1169.],\n",
       "       [ 311.,  325.]])"
      ]
     },
     "execution_count": 23,
     "metadata": {},
     "output_type": "execute_result"
    }
   ],
   "source": [
    "#default treshold is 0.5 \n",
    "results.pred_table().T"
   ]
  },
  {
   "cell_type": "code",
   "execution_count": 24,
   "metadata": {},
   "outputs": [
    {
     "data": {
      "text/plain": [
       "array([[7428., 1478.],\n",
       "       [  71.,   16.]])"
      ]
     },
     "execution_count": 24,
     "metadata": {},
     "output_type": "execute_result"
    }
   ],
   "source": [
    "#let's change treshold from 0.5 to 0.7\n",
    "results.pred_table(0.7).T"
   ]
  },
  {
   "cell_type": "markdown",
   "metadata": {},
   "source": [
    "It can be seen that after changing treshold, we predicted more 0 (7428) and less 1 (16)."
   ]
  },
  {
   "cell_type": "code",
   "execution_count": 25,
   "metadata": {},
   "outputs": [
    {
     "name": "stdout",
     "output_type": "stream",
     "text": [
      "Accuracy: 0.8354275547648171\n",
      "Recall: 0.2175368139223561\n",
      "Specificity: 0.958527803707161\n"
     ]
    }
   ],
   "source": [
    "#let's calculate overall accuracy, recall and specificity by hand for the train set\n",
    "Accuracy=(7188+325)/(7188+1169+311+325)\n",
    "Recall=325/(325+1169)\n",
    "Specificity=7188/(7188+311)\n",
    "print(\"Accuracy:\",Accuracy)\n",
    "print(\"Recall:\",Recall)\n",
    "print(\"Specificity:\",Specificity)"
   ]
  },
  {
   "cell_type": "code",
   "execution_count": 26,
   "metadata": {},
   "outputs": [],
   "source": [
    "#now let's make everything easier\n",
    "#predicting for train and test data\n",
    "Y1_logit=results.predict(sm.add_constant(X1))\n",
    "Y0_logit=results.predict(X0)"
   ]
  },
  {
   "cell_type": "code",
   "execution_count": 27,
   "metadata": {},
   "outputs": [],
   "source": [
    "#converting probabilities into labels\n",
    "Y1_logit=np.where(Y1_logit>=0.5,1,0)\n",
    "Y0_logit=np.where(Y0_logit>=0.5,1,0)"
   ]
  },
  {
   "cell_type": "code",
   "execution_count": 28,
   "metadata": {},
   "outputs": [],
   "source": [
    "#Using confusion matrix for train and test data\n",
    "cm_train=confusion_matrix(Y0,Y0_logit).T"
   ]
  },
  {
   "cell_type": "code",
   "execution_count": 29,
   "metadata": {},
   "outputs": [
    {
     "name": "stdout",
     "output_type": "stream",
     "text": [
      "Accuracy_train: 0.8354275547648171\n",
      "Sensitivity_train: 0.5110062893081762\n",
      "Specificity_train: 0.8601172669618284\n"
     ]
    }
   ],
   "source": [
    "#let's calculate overall accuracy, recall and specificity for train data\n",
    "print(\"Accuracy_train:\", (cm_train[0,0]+cm_train[1,1])/len(Y0))\n",
    "print(\"Sensitivity_train:\",cm_train[1,1]/(cm_train[1,1]+cm_train[1,0]))\n",
    "print(\"Specificity_train:\",cm_train[0,0]/(cm_train[0,0]+cm_train[0,1]))"
   ]
  },
  {
   "cell_type": "code",
   "execution_count": 30,
   "metadata": {},
   "outputs": [],
   "source": [
    "#confusion matrix for the test data\n",
    "cm_test=confusion_matrix(Y1,Y1_logit).T"
   ]
  },
  {
   "cell_type": "code",
   "execution_count": 31,
   "metadata": {},
   "outputs": [
    {
     "name": "stdout",
     "output_type": "stream",
     "text": [
      "Accuracy_test: 0.8348899266177452\n",
      "Sensitivity_test: 0.5052631578947369\n",
      "Specificity_test: 0.8571937321937322\n"
     ]
    }
   ],
   "source": [
    "#let's calculate overall accuracy, recall and specificity for train data\n",
    "print(\"Accuracy_test:\", (cm_test[0,0]+cm_test[1,1])/len(Y1))\n",
    "print(\"Sensitivity_test:\",cm_test[1,1]/(cm_test[1,1]+cm_test[1,0]))\n",
    "print(\"Specificity_test:\",cm_test[0,0]/(cm_test[0,0]+cm_test[0,1]))\n"
   ]
  },
  {
   "cell_type": "code",
   "execution_count": 32,
   "metadata": {},
   "outputs": [
    {
     "name": "stdout",
     "output_type": "stream",
     "text": [
      "Logistic Regression Train:\n",
      "              precision    recall  f1-score   support\n",
      "\n",
      "           0       0.86      0.96      0.91      7499\n",
      "           1       0.51      0.22      0.31      1494\n",
      "\n",
      "   micro avg       0.84      0.84      0.84      8993\n",
      "   macro avg       0.69      0.59      0.61      8993\n",
      "weighted avg       0.80      0.84      0.81      8993\n",
      "\n",
      "Logistic Regression Test:\n",
      "              precision    recall  f1-score   support\n",
      "\n",
      "           0       0.86      0.96      0.91      2501\n",
      "           1       0.51      0.19      0.28       497\n",
      "\n",
      "   micro avg       0.83      0.83      0.83      2998\n",
      "   macro avg       0.68      0.58      0.59      2998\n",
      "weighted avg       0.80      0.83      0.80      2998\n",
      "\n"
     ]
    }
   ],
   "source": [
    "#calculating using classification report\n",
    "print(\"Logistic Regression Train:\")\n",
    "print(classification_report(Y0,Y0_logit))\n",
    "\n",
    "print(\"Logistic Regression Test:\")\n",
    "print(classification_report(Y1,Y1_logit))"
   ]
  },
  {
   "cell_type": "markdown",
   "metadata": {},
   "source": [
    "We can see that although the metrics are good for 0s, our model is not doing a good job when predicting 1s. This may be a problem \n",
    "of unbalanced data, not using cross-validation and hyperparameter tuning."
   ]
  }
 ],
 "metadata": {
  "kernelspec": {
   "display_name": "Python 3",
   "language": "python",
   "name": "python3"
  },
  "language_info": {
   "codemirror_mode": {
    "name": "ipython",
    "version": 3
   },
   "file_extension": ".py",
   "mimetype": "text/x-python",
   "name": "python",
   "nbconvert_exporter": "python",
   "pygments_lexer": "ipython3",
   "version": "3.7.1"
  }
 },
 "nbformat": 4,
 "nbformat_minor": 2
}
