{
 "cells": [
  {
   "cell_type": "markdown",
   "metadata": {},
   "source": [
    "# Decision Tree Classification"
   ]
  },
  {
   "cell_type": "markdown",
   "metadata": {},
   "source": [
    "<p>The following notebook provides an example code of predicting whether <b>the client will subscribe to a term deposit or not </b> using Decision Tree classification.\n",
    "The dependent variable is <b>Y (subscribing the term deposit) (1-\"Yes\", 0-\"No\")</b>. \n",
    "    \n",
    "<br>The general sequence of steps for the analysis the following:\n",
    "1. [Descriptive analysis](#pandas)\n",
    "2. [Fully grown Decision Tree (w/o GridSearchCV)](#stats)\n",
    "3. [Manually trying different parameters for Decision Tree Classification](#manual)\n",
    "4. [Tuned Decision Tree using GridSearch](#stats1)\n",
    "5. [Decision Tree and Logistic Regression results comparison based on non-scaled data](#stats2)\n",
    "6. [Decision Tree and Logistic Regression results comparison based on scaled data](#stats3)\n",
    "7. [Gain and Lift charts for winning DT model](#stats4)"
   ]
  },
  {
   "cell_type": "markdown",
   "metadata": {},
   "source": [
    " <h2>1.Descriptive analysis</h2> <a name=\"pandas\"></a>"
   ]
  },
  {
   "cell_type": "markdown",
   "metadata": {},
   "source": [
    "The initial data consists of 4119 observations of 21 variables. There are no duplicates, missing values and variables with single value for all observations.\n",
    "As the main model to be used is a non-parametric one(Decision Tree), we are not going to dive deep into the correlations and\n",
    "data manipulation as we used to do. The only transformation to be done will be data scaling, which will be done using a sklearn method(not manually).\n",
    "Deposit subscription is not evenly balanced between 0s and 1s. As the countplot and value counts show, only about 11% of employees are subscribing and ~89% are not.So we can use this info as a naive assumption for newcomers to decide whether they'll leave or stay. In other words, if the resulting score is more than the noted value, then our model will be not bad, otherwise-a bad one. "
   ]
  },
  {
   "cell_type": "code",
   "execution_count": 2,
   "metadata": {},
   "outputs": [],
   "source": [
    "#data manipulation and visualization libraries\n",
    "import numpy as np\n",
    "import pandas as pd\n",
    "import matplotlib.pyplot as plt\n",
    "import seaborn as sns\n",
    "from sklearn.preprocessing import StandardScaler\n",
    "from collections import defaultdict\n",
    "\n",
    "#libraries for modelling and evaluation\n",
    "from sklearn.linear_model import LogisticRegression\n",
    "from sklearn.tree import DecisionTreeClassifier\n",
    "from sklearn.model_selection import train_test_split, GridSearchCV,cross_val_score\n",
    "from sklearn.metrics import accuracy_score,recall_score,confusion_matrix,classification_report,roc_auc_score,roc_curve\n",
    "import scikitplot as skplt #in case of error run <<!pip install scikit-plot>> and run the code again\n",
    "#for not showing warnings\n",
    "import warnings\n",
    "warnings.filterwarnings('ignore')"
   ]
  },
  {
   "cell_type": "code",
   "execution_count": 3,
   "metadata": {},
   "outputs": [],
   "source": [
    "#importing the data and making a dataframe\n",
    "data=pd.read_excel(\"bank.xlsx\", sheet_name=\"bank\")"
   ]
  },
  {
   "cell_type": "code",
   "execution_count": 4,
   "metadata": {},
   "outputs": [
    {
     "name": "stdout",
     "output_type": "stream",
     "text": [
      "<class 'pandas.core.frame.DataFrame'>\n",
      "RangeIndex: 4119 entries, 0 to 4118\n",
      "Data columns (total 21 columns):\n",
      "age               4119 non-null int64\n",
      "job               4119 non-null object\n",
      "marital           4119 non-null object\n",
      "education         4119 non-null object\n",
      "default           4119 non-null object\n",
      "housing           4119 non-null object\n",
      "loan              4119 non-null object\n",
      "contact           4119 non-null object\n",
      "month             4119 non-null object\n",
      "day_of_week       4119 non-null object\n",
      "duration          4119 non-null int64\n",
      "campaign          4119 non-null int64\n",
      "pdays             4119 non-null int64\n",
      "previous          4119 non-null int64\n",
      "poutcome          4119 non-null object\n",
      "emp_var_rate      4119 non-null float64\n",
      "cons_price_idx    4119 non-null float64\n",
      "cons_conf_idx     4119 non-null float64\n",
      "euribor3m         4119 non-null float64\n",
      "nr_employed       4119 non-null float64\n",
      "y                 4119 non-null int64\n",
      "dtypes: float64(5), int64(6), object(10)\n",
      "memory usage: 675.9+ KB\n"
     ]
    }
   ],
   "source": [
    "#data overview\n",
    "data.info()"
   ]
  },
  {
   "cell_type": "code",
   "execution_count": 5,
   "metadata": {},
   "outputs": [
    {
     "data": {
      "text/html": [
       "<div>\n",
       "<style scoped>\n",
       "    .dataframe tbody tr th:only-of-type {\n",
       "        vertical-align: middle;\n",
       "    }\n",
       "\n",
       "    .dataframe tbody tr th {\n",
       "        vertical-align: top;\n",
       "    }\n",
       "\n",
       "    .dataframe thead th {\n",
       "        text-align: right;\n",
       "    }\n",
       "</style>\n",
       "<table border=\"1\" class=\"dataframe\">\n",
       "  <thead>\n",
       "    <tr style=\"text-align: right;\">\n",
       "      <th></th>\n",
       "      <th>age</th>\n",
       "      <th>job</th>\n",
       "      <th>marital</th>\n",
       "      <th>education</th>\n",
       "      <th>default</th>\n",
       "      <th>housing</th>\n",
       "      <th>loan</th>\n",
       "      <th>contact</th>\n",
       "      <th>month</th>\n",
       "      <th>day_of_week</th>\n",
       "      <th>...</th>\n",
       "      <th>campaign</th>\n",
       "      <th>pdays</th>\n",
       "      <th>previous</th>\n",
       "      <th>poutcome</th>\n",
       "      <th>emp_var_rate</th>\n",
       "      <th>cons_price_idx</th>\n",
       "      <th>cons_conf_idx</th>\n",
       "      <th>euribor3m</th>\n",
       "      <th>nr_employed</th>\n",
       "      <th>y</th>\n",
       "    </tr>\n",
       "  </thead>\n",
       "  <tbody>\n",
       "    <tr>\n",
       "      <th>0</th>\n",
       "      <td>30</td>\n",
       "      <td>blue_collar</td>\n",
       "      <td>married</td>\n",
       "      <td>basic_9y</td>\n",
       "      <td>no</td>\n",
       "      <td>yes</td>\n",
       "      <td>no</td>\n",
       "      <td>cellular</td>\n",
       "      <td>may</td>\n",
       "      <td>fri</td>\n",
       "      <td>...</td>\n",
       "      <td>2</td>\n",
       "      <td>0</td>\n",
       "      <td>0</td>\n",
       "      <td>nonexistent</td>\n",
       "      <td>-1.8</td>\n",
       "      <td>92.893</td>\n",
       "      <td>-46.2</td>\n",
       "      <td>1.313</td>\n",
       "      <td>5099.1</td>\n",
       "      <td>0</td>\n",
       "    </tr>\n",
       "    <tr>\n",
       "      <th>1</th>\n",
       "      <td>39</td>\n",
       "      <td>services</td>\n",
       "      <td>single</td>\n",
       "      <td>high_school</td>\n",
       "      <td>no</td>\n",
       "      <td>no</td>\n",
       "      <td>no</td>\n",
       "      <td>telephone</td>\n",
       "      <td>may</td>\n",
       "      <td>fri</td>\n",
       "      <td>...</td>\n",
       "      <td>4</td>\n",
       "      <td>0</td>\n",
       "      <td>0</td>\n",
       "      <td>nonexistent</td>\n",
       "      <td>1.1</td>\n",
       "      <td>93.994</td>\n",
       "      <td>-36.4</td>\n",
       "      <td>4.855</td>\n",
       "      <td>5191.0</td>\n",
       "      <td>0</td>\n",
       "    </tr>\n",
       "    <tr>\n",
       "      <th>2</th>\n",
       "      <td>25</td>\n",
       "      <td>services</td>\n",
       "      <td>married</td>\n",
       "      <td>high_school</td>\n",
       "      <td>no</td>\n",
       "      <td>yes</td>\n",
       "      <td>no</td>\n",
       "      <td>telephone</td>\n",
       "      <td>jun</td>\n",
       "      <td>wed</td>\n",
       "      <td>...</td>\n",
       "      <td>1</td>\n",
       "      <td>0</td>\n",
       "      <td>0</td>\n",
       "      <td>nonexistent</td>\n",
       "      <td>1.4</td>\n",
       "      <td>94.465</td>\n",
       "      <td>-41.8</td>\n",
       "      <td>4.962</td>\n",
       "      <td>5228.1</td>\n",
       "      <td>0</td>\n",
       "    </tr>\n",
       "    <tr>\n",
       "      <th>3</th>\n",
       "      <td>38</td>\n",
       "      <td>services</td>\n",
       "      <td>married</td>\n",
       "      <td>basic_9y</td>\n",
       "      <td>no</td>\n",
       "      <td>unknown</td>\n",
       "      <td>unknown</td>\n",
       "      <td>telephone</td>\n",
       "      <td>jun</td>\n",
       "      <td>fri</td>\n",
       "      <td>...</td>\n",
       "      <td>3</td>\n",
       "      <td>0</td>\n",
       "      <td>0</td>\n",
       "      <td>nonexistent</td>\n",
       "      <td>1.4</td>\n",
       "      <td>94.465</td>\n",
       "      <td>-41.8</td>\n",
       "      <td>4.959</td>\n",
       "      <td>5228.1</td>\n",
       "      <td>0</td>\n",
       "    </tr>\n",
       "    <tr>\n",
       "      <th>4</th>\n",
       "      <td>47</td>\n",
       "      <td>admin_</td>\n",
       "      <td>married</td>\n",
       "      <td>university_degree</td>\n",
       "      <td>no</td>\n",
       "      <td>yes</td>\n",
       "      <td>no</td>\n",
       "      <td>cellular</td>\n",
       "      <td>nov</td>\n",
       "      <td>mon</td>\n",
       "      <td>...</td>\n",
       "      <td>1</td>\n",
       "      <td>0</td>\n",
       "      <td>0</td>\n",
       "      <td>nonexistent</td>\n",
       "      <td>-0.1</td>\n",
       "      <td>93.200</td>\n",
       "      <td>-42.0</td>\n",
       "      <td>4.191</td>\n",
       "      <td>5195.8</td>\n",
       "      <td>0</td>\n",
       "    </tr>\n",
       "  </tbody>\n",
       "</table>\n",
       "<p>5 rows × 21 columns</p>\n",
       "</div>"
      ],
      "text/plain": [
       "   age          job  marital          education default  housing     loan  \\\n",
       "0   30  blue_collar  married           basic_9y      no      yes       no   \n",
       "1   39     services   single        high_school      no       no       no   \n",
       "2   25     services  married        high_school      no      yes       no   \n",
       "3   38     services  married           basic_9y      no  unknown  unknown   \n",
       "4   47       admin_  married  university_degree      no      yes       no   \n",
       "\n",
       "     contact month day_of_week ...  campaign  pdays  previous     poutcome  \\\n",
       "0   cellular   may         fri ...         2      0         0  nonexistent   \n",
       "1  telephone   may         fri ...         4      0         0  nonexistent   \n",
       "2  telephone   jun         wed ...         1      0         0  nonexistent   \n",
       "3  telephone   jun         fri ...         3      0         0  nonexistent   \n",
       "4   cellular   nov         mon ...         1      0         0  nonexistent   \n",
       "\n",
       "  emp_var_rate  cons_price_idx  cons_conf_idx  euribor3m  nr_employed  y  \n",
       "0         -1.8          92.893          -46.2      1.313       5099.1  0  \n",
       "1          1.1          93.994          -36.4      4.855       5191.0  0  \n",
       "2          1.4          94.465          -41.8      4.962       5228.1  0  \n",
       "3          1.4          94.465          -41.8      4.959       5228.1  0  \n",
       "4         -0.1          93.200          -42.0      4.191       5195.8  0  \n",
       "\n",
       "[5 rows x 21 columns]"
      ]
     },
     "execution_count": 5,
     "metadata": {},
     "output_type": "execute_result"
    }
   ],
   "source": [
    "#have a look at first rows of the dataframe\n",
    "data.head()"
   ]
  },
  {
   "cell_type": "code",
   "execution_count": 6,
   "metadata": {},
   "outputs": [
    {
     "data": {
      "text/html": [
       "<div>\n",
       "<style scoped>\n",
       "    .dataframe tbody tr th:only-of-type {\n",
       "        vertical-align: middle;\n",
       "    }\n",
       "\n",
       "    .dataframe tbody tr th {\n",
       "        vertical-align: top;\n",
       "    }\n",
       "\n",
       "    .dataframe thead th {\n",
       "        text-align: right;\n",
       "    }\n",
       "</style>\n",
       "<table border=\"1\" class=\"dataframe\">\n",
       "  <thead>\n",
       "    <tr style=\"text-align: right;\">\n",
       "      <th></th>\n",
       "      <th>age</th>\n",
       "      <th>duration</th>\n",
       "      <th>campaign</th>\n",
       "      <th>pdays</th>\n",
       "      <th>previous</th>\n",
       "      <th>emp_var_rate</th>\n",
       "      <th>cons_price_idx</th>\n",
       "      <th>cons_conf_idx</th>\n",
       "      <th>euribor3m</th>\n",
       "      <th>nr_employed</th>\n",
       "      <th>y</th>\n",
       "    </tr>\n",
       "  </thead>\n",
       "  <tbody>\n",
       "    <tr>\n",
       "      <th>count</th>\n",
       "      <td>4119.000000</td>\n",
       "      <td>4119.000000</td>\n",
       "      <td>4119.000000</td>\n",
       "      <td>4119.000000</td>\n",
       "      <td>4119.000000</td>\n",
       "      <td>4119.000000</td>\n",
       "      <td>4119.000000</td>\n",
       "      <td>4119.000000</td>\n",
       "      <td>4119.000000</td>\n",
       "      <td>4119.000000</td>\n",
       "      <td>4119.000000</td>\n",
       "    </tr>\n",
       "    <tr>\n",
       "      <th>mean</th>\n",
       "      <td>40.113620</td>\n",
       "      <td>256.788055</td>\n",
       "      <td>2.537266</td>\n",
       "      <td>0.227725</td>\n",
       "      <td>0.190337</td>\n",
       "      <td>0.084972</td>\n",
       "      <td>93.579704</td>\n",
       "      <td>-40.499102</td>\n",
       "      <td>3.621356</td>\n",
       "      <td>5166.481695</td>\n",
       "      <td>0.109493</td>\n",
       "    </tr>\n",
       "    <tr>\n",
       "      <th>std</th>\n",
       "      <td>10.313362</td>\n",
       "      <td>254.703736</td>\n",
       "      <td>2.568159</td>\n",
       "      <td>1.369053</td>\n",
       "      <td>0.541788</td>\n",
       "      <td>1.563114</td>\n",
       "      <td>0.579349</td>\n",
       "      <td>4.594578</td>\n",
       "      <td>1.733591</td>\n",
       "      <td>73.667904</td>\n",
       "      <td>0.312294</td>\n",
       "    </tr>\n",
       "    <tr>\n",
       "      <th>min</th>\n",
       "      <td>18.000000</td>\n",
       "      <td>0.000000</td>\n",
       "      <td>1.000000</td>\n",
       "      <td>0.000000</td>\n",
       "      <td>0.000000</td>\n",
       "      <td>-3.400000</td>\n",
       "      <td>92.201000</td>\n",
       "      <td>-50.800000</td>\n",
       "      <td>0.635000</td>\n",
       "      <td>4963.600000</td>\n",
       "      <td>0.000000</td>\n",
       "    </tr>\n",
       "    <tr>\n",
       "      <th>25%</th>\n",
       "      <td>32.000000</td>\n",
       "      <td>103.000000</td>\n",
       "      <td>1.000000</td>\n",
       "      <td>0.000000</td>\n",
       "      <td>0.000000</td>\n",
       "      <td>-1.800000</td>\n",
       "      <td>93.075000</td>\n",
       "      <td>-42.700000</td>\n",
       "      <td>1.334000</td>\n",
       "      <td>5099.100000</td>\n",
       "      <td>0.000000</td>\n",
       "    </tr>\n",
       "    <tr>\n",
       "      <th>50%</th>\n",
       "      <td>38.000000</td>\n",
       "      <td>181.000000</td>\n",
       "      <td>2.000000</td>\n",
       "      <td>0.000000</td>\n",
       "      <td>0.000000</td>\n",
       "      <td>1.100000</td>\n",
       "      <td>93.749000</td>\n",
       "      <td>-41.800000</td>\n",
       "      <td>4.857000</td>\n",
       "      <td>5191.000000</td>\n",
       "      <td>0.000000</td>\n",
       "    </tr>\n",
       "    <tr>\n",
       "      <th>75%</th>\n",
       "      <td>47.000000</td>\n",
       "      <td>317.000000</td>\n",
       "      <td>3.000000</td>\n",
       "      <td>0.000000</td>\n",
       "      <td>0.000000</td>\n",
       "      <td>1.400000</td>\n",
       "      <td>93.994000</td>\n",
       "      <td>-36.400000</td>\n",
       "      <td>4.961000</td>\n",
       "      <td>5228.100000</td>\n",
       "      <td>0.000000</td>\n",
       "    </tr>\n",
       "    <tr>\n",
       "      <th>max</th>\n",
       "      <td>88.000000</td>\n",
       "      <td>3643.000000</td>\n",
       "      <td>35.000000</td>\n",
       "      <td>21.000000</td>\n",
       "      <td>6.000000</td>\n",
       "      <td>1.400000</td>\n",
       "      <td>94.767000</td>\n",
       "      <td>-26.900000</td>\n",
       "      <td>5.045000</td>\n",
       "      <td>5228.100000</td>\n",
       "      <td>1.000000</td>\n",
       "    </tr>\n",
       "  </tbody>\n",
       "</table>\n",
       "</div>"
      ],
      "text/plain": [
       "               age     duration     campaign        pdays     previous  \\\n",
       "count  4119.000000  4119.000000  4119.000000  4119.000000  4119.000000   \n",
       "mean     40.113620   256.788055     2.537266     0.227725     0.190337   \n",
       "std      10.313362   254.703736     2.568159     1.369053     0.541788   \n",
       "min      18.000000     0.000000     1.000000     0.000000     0.000000   \n",
       "25%      32.000000   103.000000     1.000000     0.000000     0.000000   \n",
       "50%      38.000000   181.000000     2.000000     0.000000     0.000000   \n",
       "75%      47.000000   317.000000     3.000000     0.000000     0.000000   \n",
       "max      88.000000  3643.000000    35.000000    21.000000     6.000000   \n",
       "\n",
       "       emp_var_rate  cons_price_idx  cons_conf_idx    euribor3m  nr_employed  \\\n",
       "count   4119.000000     4119.000000    4119.000000  4119.000000  4119.000000   \n",
       "mean       0.084972       93.579704     -40.499102     3.621356  5166.481695   \n",
       "std        1.563114        0.579349       4.594578     1.733591    73.667904   \n",
       "min       -3.400000       92.201000     -50.800000     0.635000  4963.600000   \n",
       "25%       -1.800000       93.075000     -42.700000     1.334000  5099.100000   \n",
       "50%        1.100000       93.749000     -41.800000     4.857000  5191.000000   \n",
       "75%        1.400000       93.994000     -36.400000     4.961000  5228.100000   \n",
       "max        1.400000       94.767000     -26.900000     5.045000  5228.100000   \n",
       "\n",
       "                 y  \n",
       "count  4119.000000  \n",
       "mean      0.109493  \n",
       "std       0.312294  \n",
       "min       0.000000  \n",
       "25%       0.000000  \n",
       "50%       0.000000  \n",
       "75%       0.000000  \n",
       "max       1.000000  "
      ]
     },
     "execution_count": 6,
     "metadata": {},
     "output_type": "execute_result"
    }
   ],
   "source": [
    "data.describe()"
   ]
  },
  {
   "cell_type": "code",
   "execution_count": 7,
   "metadata": {},
   "outputs": [
    {
     "name": "stdout",
     "output_type": "stream",
     "text": [
      "Duplicates: 0\n",
      "Missing values: 0\n",
      "Single valued columns: Index([], dtype='object')\n"
     ]
    }
   ],
   "source": [
    "#checking number of duplicates, missing values and columns with a single value\n",
    "print(\"Duplicates:\", data.duplicated().sum())\n",
    "print(\"Missing values:\", data.isna().sum().sum())\n",
    "print(\"Single valued columns:\", data.columns[data.nunique()==1])"
   ]
  },
  {
   "cell_type": "code",
   "execution_count": 8,
   "metadata": {},
   "outputs": [
    {
     "data": {
      "image/png": "[encoded data removed]",
      "text/plain": [
       "<Figure size 648x360 with 1 Axes>"
      ]
     },
     "metadata": {
      "needs_background": "light"
     },
     "output_type": "display_data"
    }
   ],
   "source": [
    "#let's visualise the distribution of y\n",
    "plt.figure(figsize=(9,5))\n",
    "sns.countplot(data.y)\n",
    "plt.title(\"Deposit subscription distribution\")\n",
    "plt.show()"
   ]
  },
  {
   "cell_type": "code",
   "execution_count": 9,
   "metadata": {},
   "outputs": [
    {
     "data": {
      "text/plain": [
       "0    89.05074\n",
       "1    10.94926\n",
       "Name: Deposit subscription distribution, dtype: float64"
      ]
     },
     "execution_count": 9,
     "metadata": {},
     "output_type": "execute_result"
    }
   ],
   "source": [
    "#lets count the benchmark for deposit subscription distribution\n",
    "data.y.value_counts(normalize=True).mul(100).rename(\"Deposit subscription distribution\")"
   ]
  },
  {
   "cell_type": "markdown",
   "metadata": {},
   "source": [
    " <h2>2.Fully grown Decision Tree (w/o GridSearchCV)</h2> <a name=\"stats\"></a>"
   ]
  },
  {
   "cell_type": "markdown",
   "metadata": {},
   "source": [
    "We decided first to run model on not scaled data and without removing any variable to see its performance. On the fully grown DT we got 1 and 0.73 ROC AUC scores on train and test sets, respectively. This means that our model is overfitting. Therefore,\n",
    "the next step would be hyperparameter tuning (simplifying the tree by pruning\n",
    "peripheral branches to avoid overfitting)."
   ]
  },
  {
   "cell_type": "code",
   "execution_count": 10,
   "metadata": {},
   "outputs": [],
   "source": [
    "#making dummes,train test split\n",
    "data=pd.get_dummies(data, drop_first=True)"
   ]
  },
  {
   "cell_type": "code",
   "execution_count": 11,
   "metadata": {},
   "outputs": [],
   "source": [
    "#separating X and Y\n",
    "Y=data[\"y\"]\n",
    "X=data.drop(\"y\",axis=1)"
   ]
  },
  {
   "cell_type": "code",
   "execution_count": 12,
   "metadata": {},
   "outputs": [],
   "source": [
    "#splitting the data into train and test sets\n",
    "X0, X1, Y0, Y1 = train_test_split(X, Y, test_size=0.25, random_state=42)"
   ]
  },
  {
   "cell_type": "code",
   "execution_count": 13,
   "metadata": {},
   "outputs": [
    {
     "data": {
      "text/plain": [
       "DecisionTreeClassifier(class_weight=None, criterion='gini', max_depth=None,\n",
       "            max_features=None, max_leaf_nodes=None,\n",
       "            min_impurity_decrease=0.0, min_impurity_split=None,\n",
       "            min_samples_leaf=1, min_samples_split=2,\n",
       "            min_weight_fraction_leaf=0.0, presort=False, random_state=42,\n",
       "            splitter='best')"
      ]
     },
     "execution_count": 13,
     "metadata": {},
     "output_type": "execute_result"
    }
   ],
   "source": [
    "#building the model\n",
    "dt=DecisionTreeClassifier(random_state=42)\n",
    "dt.fit(X0,Y0)"
   ]
  },
  {
   "cell_type": "code",
   "execution_count": 14,
   "metadata": {},
   "outputs": [],
   "source": [
    "#calculating probabilities\n",
    "Y0_dt=dt.predict_proba(X0)[:,1]\n",
    "Y1_dt=dt.predict_proba(X1)[:,1]"
   ]
  },
  {
   "cell_type": "code",
   "execution_count": 15,
   "metadata": {},
   "outputs": [
    {
     "name": "stdout",
     "output_type": "stream",
     "text": [
      "ROC_AUC Train for Fully grown DT: 1.0\n",
      "ROC_AUC Test for Fully grown DT: 0.73\n"
     ]
    }
   ],
   "source": [
    "#calculating roc auc score\n",
    "print(\"ROC_AUC Train for Fully grown DT:\",roc_auc_score(Y0,Y0_dt).round(2))\n",
    "print(\"ROC_AUC Test for Fully grown DT:\",roc_auc_score(Y1,Y1_dt).round(2))"
   ]
  },
  {
   "cell_type": "markdown",
   "metadata": {},
   "source": [
    "## 2.1 Manually trying different parameters for Decision Tree Classification <a name=\"manual\"></a>"
   ]
  },
  {
   "cell_type": "markdown",
   "metadata": {},
   "source": [
    "Manual tuning or just setting up <code>max_depth</code> and <code>min_samples_leaf</code> in the estimator to some values gives a much \n",
    "better result than in case of fully grown tree."
   ]
  },
  {
   "cell_type": "code",
   "execution_count": 16,
   "metadata": {},
   "outputs": [],
   "source": [
    "#setting 2 hyperparameter values manually\n",
    "dt1=DecisionTreeClassifier(random_state=42, max_depth=10,min_samples_leaf=200).fit(X0,Y0)"
   ]
  },
  {
   "cell_type": "code",
   "execution_count": 17,
   "metadata": {
    "scrolled": true
   },
   "outputs": [
    {
     "name": "stdout",
     "output_type": "stream",
     "text": [
      "ROC_AUC Train for Manually Tuned DT: 0.93\n",
      "ROC_AUC Test for Manually Tuned DT: 0.91\n"
     ]
    }
   ],
   "source": [
    "#much higher ROC AUC score and almost no overfitting\n",
    "print(\"ROC_AUC Train for Manually Tuned DT:\",roc_auc_score(Y0,dt1.predict_proba(X0)[:,1]).round(2))\n",
    "print(\"ROC_AUC Test for Manually Tuned DT:\",roc_auc_score(Y1,dt1.predict_proba(X1)[:,1]).round(2))"
   ]
  },
  {
   "cell_type": "markdown",
   "metadata": {},
   "source": [
    " <h2>3.Tuned Decision Tree using GridSearch</h2> <a name=\"stats1\"></a>"
   ]
  },
  {
   "cell_type": "markdown",
   "metadata": {},
   "source": [
    "In order to fight overfitting, we will use GridSearch to tune the hyperparameters of the model. In particular, the ones we will\n",
    "control are the following:\n",
    "  - <code>max_depth</code>: None or integer. The maximum depth of the tree. If None, then nodes are expanded until\n",
    "       all leaves are pure or until all leaves contain less than min_samples_split samples.\n",
    "  - <code>min_samples_split</code>:integer or float. The minimum number of samples required to split an internal node.If integer, then it is considered as the minimum number. If float, then this is a  fraction and (min_samples_split * n_samples) are the minimum number of samples for each split.\n",
    "  - <code>class_weight</code>: \"balanced\" or None. The \"balanced\" mode uses the values of y to automatically adjust\n",
    "    weights inversely proportional to class frequencies in the input data as ``n_samples / (n_classes * np.bincount(y))``\n",
    " \n",
    "We tuned hyperparameters on training set and used the best parameters to build another DT model. This tuned model produced 0.87 and 0.83 ROC AUC scores on training and testing sets, respectively, dramatically decreasing the overfitting from the previous result.\n",
    "\n",
    "    "
   ]
  },
  {
   "cell_type": "code",
   "execution_count": 18,
   "metadata": {},
   "outputs": [],
   "source": [
    "#setting up the ranges for hyperparameters\n",
    "param_dt={\"max_depth\":range(1,15),\"min_samples_leaf\":range(10,150,10),\n",
    "          \"class_weight\":[\"balanced\", None]}"
   ]
  },
  {
   "cell_type": "code",
   "execution_count": 19,
   "metadata": {},
   "outputs": [
    {
     "data": {
      "text/plain": [
       "GridSearchCV(cv=5, error_score='raise-deprecating',\n",
       "       estimator=DecisionTreeClassifier(class_weight=None, criterion='gini', max_depth=None,\n",
       "            max_features=None, max_leaf_nodes=None,\n",
       "            min_impurity_decrease=0.0, min_impurity_split=None,\n",
       "            min_samples_leaf=1, min_samples_split=2,\n",
       "            min_weight_fraction_leaf=0.0, presort=False, random_state=42,\n",
       "            splitter='best'),\n",
       "       fit_params=None, iid='warn', n_jobs=None,\n",
       "       param_grid={'max_depth': range(1, 15), 'min_samples_leaf': range(10, 150, 10), 'class_weight': ['balanced', None]},\n",
       "       pre_dispatch='2*n_jobs', refit=True, return_train_score='warn',\n",
       "       scoring='roc_auc', verbose=0)"
      ]
     },
     "execution_count": 19,
     "metadata": {},
     "output_type": "execute_result"
    }
   ],
   "source": [
    "#Cross-Validated Gridsearch using parameters\n",
    "gs_dt=GridSearchCV(estimator=dt,param_grid=param_dt,scoring=\"roc_auc\",cv=5)\n",
    "gs_dt.fit(X0,Y0)"
   ]
  },
  {
   "cell_type": "code",
   "execution_count": 20,
   "metadata": {},
   "outputs": [
    {
     "data": {
      "text/plain": [
       "{'class_weight': 'balanced', 'max_depth': 5, 'min_samples_leaf': 30}"
      ]
     },
     "execution_count": 20,
     "metadata": {},
     "output_type": "execute_result"
    }
   ],
   "source": [
    "#let's see the optimal parameters\n",
    "gs_dt.best_params_"
   ]
  },
  {
   "cell_type": "code",
   "execution_count": 21,
   "metadata": {},
   "outputs": [],
   "source": [
    "#fitting the model with best parameters\n",
    "dt_grid=DecisionTreeClassifier(class_weight=\"balanced\",max_depth=5,\n",
    "                             min_samples_leaf=30, random_state=42).fit(X0,Y0)\n",
    "\n",
    "#probabilities\n",
    "Y0_dt_grid=dt_grid.predict_proba(X0)[:,1]\n",
    "Y1_dt_grid=dt_grid.predict_proba(X1)[:,1]\n"
   ]
  },
  {
   "cell_type": "code",
   "execution_count": 22,
   "metadata": {},
   "outputs": [
    {
     "name": "stdout",
     "output_type": "stream",
     "text": [
      "ROC_AUC Train for Tuned DT: 0.95\n",
      "ROC_AUC Test for Tuned DT: 0.92\n"
     ]
    }
   ],
   "source": [
    "#calculating roc auc score \n",
    "print(\"ROC_AUC Train for Tuned DT:\",roc_auc_score(Y0,Y0_dt_grid).round(2))\n",
    "print(\"ROC_AUC Test for Tuned DT:\",roc_auc_score(Y1,Y1_dt_grid).round(2))"
   ]
  },
  {
   "cell_type": "code",
   "execution_count": 23,
   "metadata": {},
   "outputs": [
    {
     "name": "stdout",
     "output_type": "stream",
     "text": [
      "Mean 5-fold ROC AUC score for DT Tuned hyperparameters: 0.92\n"
     ]
    }
   ],
   "source": [
    "#Mean cross val score for model with default hyperparameters\n",
    "print(\"Mean 5-fold ROC AUC score for DT Tuned hyperparameters:\",np.mean(cross_val_score(estimator=dt_grid, X=X,y=Y,cv=5, scoring=\"roc_auc\")).round(2))"
   ]
  },
  {
   "cell_type": "markdown",
   "metadata": {},
   "source": [
    " <h2>4.Decision Tree and Logistic Regression results comparison based on non-scaled data</h2> <a name=\"stats2\"></a>"
   ]
  },
  {
   "cell_type": "markdown",
   "metadata": {},
   "source": [
    "We will fit Logistic regression based on the best parameters obtained from the Grid Search. As the roc_auc scores show, logistic regression results based on single split are better than DT's. Here, tuned logit gets 0.95 and 0.93 ROC AUC scores on training and testing sets, respectively, outperforming DT on testing set. Logit also performs better in terms of 5-fold CV score:while for \n",
    "tuned DT it was 0.92, Logit's is 0.93."
   ]
  },
  {
   "cell_type": "code",
   "execution_count": 24,
   "metadata": {},
   "outputs": [
    {
     "name": "stdout",
     "output_type": "stream",
     "text": [
      "Fitting 5 folds for each of 40 candidates, totalling 200 fits\n"
     ]
    },
    {
     "name": "stderr",
     "output_type": "stream",
     "text": [
      "[Parallel(n_jobs=1)]: Using backend SequentialBackend with 1 concurrent workers.\n",
      "[Parallel(n_jobs=1)]: Done 200 out of 200 | elapsed:    7.9s finished\n"
     ]
    }
   ],
   "source": [
    "#Hyperparameter tuning for Logistic Regression\n",
    "logit=LogisticRegression(random_state=42)\n",
    "param_logit={'class_weight':[None,'balanced'],\n",
    "            'C':np.linspace(0.0001,50,20)}\n",
    "gs_logit=GridSearchCV(estimator=logit,param_grid=param_logit,\n",
    "                        scoring=\"roc_auc\",\n",
    "                        cv=5,verbose=1).fit(X0,Y0)\n"
   ]
  },
  {
   "cell_type": "code",
   "execution_count": 25,
   "metadata": {},
   "outputs": [
    {
     "data": {
      "text/plain": [
       "{'C': 2.631673684210526, 'class_weight': 'balanced'}"
      ]
     },
     "execution_count": 25,
     "metadata": {},
     "output_type": "execute_result"
    }
   ],
   "source": [
    "gs_logit.best_params_"
   ]
  },
  {
   "cell_type": "code",
   "execution_count": 26,
   "metadata": {},
   "outputs": [],
   "source": [
    "logit_grid=LogisticRegression(C=2.631673684210526, class_weight='balanced',random_state=42).fit(X0,Y0)\n",
    "#making predictions\n",
    "Y0_logit=logit_grid.predict_proba(X0)[:,1]\n",
    "Y1_logit=logit_grid.predict_proba(X1)[:,1]"
   ]
  },
  {
   "cell_type": "code",
   "execution_count": 27,
   "metadata": {},
   "outputs": [
    {
     "name": "stdout",
     "output_type": "stream",
     "text": [
      "ROC_AUC Train: 0.95\n",
      "ROC_AUC Test: 0.93\n"
     ]
    }
   ],
   "source": [
    "#calculating roc auc score \n",
    "print(\"ROC_AUC Train:\",roc_auc_score(Y0,Y0_logit).round(2))\n",
    "print(\"ROC_AUC Test:\",roc_auc_score(Y1,Y1_logit).round(2))"
   ]
  },
  {
   "cell_type": "code",
   "execution_count": 28,
   "metadata": {},
   "outputs": [
    {
     "name": "stdout",
     "output_type": "stream",
     "text": [
      "Mean 5-fold ROC AUC score for LOGIT Tuned hyperparameters: 0.93\n"
     ]
    }
   ],
   "source": [
    "print(\"Mean 5-fold ROC AUC score for LOGIT Tuned hyperparameters:\",np.mean(cross_val_score(estimator=logit_grid, X=X,y=Y,cv=5, scoring=\"roc_auc\")).round(2))"
   ]
  },
  {
   "cell_type": "markdown",
   "metadata": {},
   "source": [
    " <h2>5.Decision Tree and Logistic Regression results comparison based on scaled data</h2> <a name=\"stats3\"></a>"
   ]
  },
  {
   "cell_type": "markdown",
   "metadata": {},
   "source": [
    "Now let's see whether the results of Logistic Regression and Decision Tree will differ if we scale our data. For scaling, we will use Standard scaler from sklearn.It standardizes features by removing the mean and scaling to unit variance.\n",
    "As we see, when Gridsearching on scaled data, best params and results have not changed for both DT and Logit.\n"
   ]
  },
  {
   "cell_type": "code",
   "execution_count": 29,
   "metadata": {},
   "outputs": [],
   "source": [
    "#Standardization\n",
    "sc=StandardScaler()\n",
    "X0_sc=pd.DataFrame(sc.fit_transform(X0), columns=X0.columns.tolist())\n",
    "X1_sc=pd.DataFrame(sc.fit_transform(X1), columns=X1.columns.tolist())"
   ]
  },
  {
   "cell_type": "code",
   "execution_count": 30,
   "metadata": {
    "scrolled": true
   },
   "outputs": [
    {
     "name": "stdout",
     "output_type": "stream",
     "text": [
      "Fitting 5 folds for each of 40 candidates, totalling 200 fits\n"
     ]
    },
    {
     "name": "stderr",
     "output_type": "stream",
     "text": [
      "[Parallel(n_jobs=1)]: Using backend SequentialBackend with 1 concurrent workers.\n",
      "[Parallel(n_jobs=1)]: Done 200 out of 200 | elapsed:   11.3s finished\n"
     ]
    }
   ],
   "source": [
    "#GridSearching Logit\n",
    "logit_sc=LogisticRegression(random_state=42)\n",
    "param_logit_sc={'class_weight':[None,'balanced'],\n",
    "            'C':np.linspace(0.0001,50,20)}\n",
    "gs_logit_scaled=GridSearchCV(estimator=logit_sc,param_grid=param_logit_sc,\n",
    "                        scoring=\"roc_auc\",\n",
    "                        cv=5,verbose=1).fit(X0_sc,Y0)\n"
   ]
  },
  {
   "cell_type": "code",
   "execution_count": 31,
   "metadata": {},
   "outputs": [
    {
     "data": {
      "text/plain": [
       "{'C': 2.631673684210526, 'class_weight': 'balanced'}"
      ]
     },
     "execution_count": 31,
     "metadata": {},
     "output_type": "execute_result"
    }
   ],
   "source": [
    "gs_logit.best_params_"
   ]
  },
  {
   "cell_type": "code",
   "execution_count": 32,
   "metadata": {},
   "outputs": [
    {
     "name": "stdout",
     "output_type": "stream",
     "text": [
      "ROC_AUC Train for Scaled logit: 0.95\n",
      "ROC_AUC Test for Scaled logit: 0.92\n",
      "Mean 5-fold ROC AUC score for Scaled LOGIT: 0.932\n"
     ]
    }
   ],
   "source": [
    "logit_scaled=LogisticRegression(C=50, class_weight=\"balanced\", random_state=42).fit(X0_sc,Y0)\n",
    "#calculating roc auc score \n",
    "print(\"ROC_AUC Train for Scaled logit:\",roc_auc_score(Y0,gs_logit_scaled.predict_proba(X0_sc)[:,1]).round(2))\n",
    "print(\"ROC_AUC Test for Scaled logit:\",roc_auc_score(Y1,gs_logit_scaled.predict_proba(X1_sc)[:,1]).round(2))\n",
    "print(\"Mean 5-fold ROC AUC score for Scaled LOGIT:\",np.mean(cross_val_score(estimator=logit_scaled, X=sc.fit_transform(X),y=Y,cv=5, scoring=\"roc_auc\").round(2)))"
   ]
  },
  {
   "cell_type": "code",
   "execution_count": 33,
   "metadata": {},
   "outputs": [
    {
     "name": "stdout",
     "output_type": "stream",
     "text": [
      "Fitting 5 folds for each of 392 candidates, totalling 1960 fits\n"
     ]
    },
    {
     "name": "stderr",
     "output_type": "stream",
     "text": [
      "[Parallel(n_jobs=1)]: Using backend SequentialBackend with 1 concurrent workers.\n",
      "[Parallel(n_jobs=1)]: Done 1960 out of 1960 | elapsed:   24.8s finished\n"
     ]
    }
   ],
   "source": [
    "#DT on scaled data\n",
    "#setting up the ranges\n",
    "dt_sc=DecisionTreeClassifier(random_state=42)\n",
    "param_dt_sc={\"max_depth\":range(1,15),\"min_samples_leaf\":range(10,150,10),\n",
    "          \"class_weight\":[\"balanced\", None]}\n",
    "gs_dt_scaled=GridSearchCV(estimator=dt_sc,param_grid=param_dt_sc,\n",
    "                        scoring=\"roc_auc\",\n",
    "                        cv=5,verbose=1).fit(X0_sc,Y0)"
   ]
  },
  {
   "cell_type": "code",
   "execution_count": 34,
   "metadata": {},
   "outputs": [
    {
     "data": {
      "text/plain": [
       "{'class_weight': 'balanced', 'max_depth': 5, 'min_samples_leaf': 30}"
      ]
     },
     "execution_count": 34,
     "metadata": {},
     "output_type": "execute_result"
    }
   ],
   "source": [
    "gs_dt_scaled.best_params_"
   ]
  },
  {
   "cell_type": "code",
   "execution_count": 35,
   "metadata": {},
   "outputs": [
    {
     "name": "stdout",
     "output_type": "stream",
     "text": [
      "ROC_AUC Train: 0.95\n",
      "ROC_AUC Test: 0.92\n",
      "Mean 5-fold ROC AUC score Scaled DT: 0.92\n"
     ]
    }
   ],
   "source": [
    "#fitting and priting the results\n",
    "dt_scaled=DecisionTreeClassifier(max_depth=5, min_samples_leaf=30,class_weight=\"balanced\", random_state=42).fit(X0_sc,Y0)\n",
    "print(\"ROC_AUC Train:\",roc_auc_score(Y0,dt_scaled.predict_proba(X0_sc)[:,1]).round(2))\n",
    "print(\"ROC_AUC Test:\",roc_auc_score(Y1,dt_scaled.predict_proba(X1_sc)[:,1]).round(2))\n",
    "print(\"Mean 5-fold ROC AUC score Scaled DT:\",np.mean(cross_val_score(estimator=dt_scaled, X=sc.fit_transform(X),y=Y,cv=5, scoring=\"roc_auc\")).round(2))"
   ]
  },
  {
   "cell_type": "markdown",
   "metadata": {},
   "source": [
    "<h2>RESULTS SUMMARY</h2>\n",
    "<p>ROC_AUC scores of all models: DT and Logit on scaled and not scaled data</p>\n",
    "As we see, DT's mean 5 fold CV score doesn't differ by scaling, but Logit's score differs marginally.(if interested, remove round(2) from print).\n"
   ]
  },
  {
   "cell_type": "code",
   "execution_count": 39,
   "metadata": {},
   "outputs": [],
   "source": [
    "#making a dictionary of models\n",
    "models={\"DT Tuned Not Scaled\":[dt_grid],\n",
    "        \"DT Tuned Scaled\":[dt_scaled],\n",
    "        \"Logit Tuned Not Scaled\":[logit_grid],\n",
    "        \"Logit Tuned Scaled\":[logit_scaled]}"
   ]
  },
  {
   "cell_type": "code",
   "execution_count": 40,
   "metadata": {},
   "outputs": [],
   "source": [
    "#appending respective roc auc scores\n",
    "for name, model in models.items():\n",
    "    models[name].append(np.mean(cross_val_score(estimator=model[0], X=X,y=Y,cv=5, scoring=\"roc_auc\")))"
   ]
  },
  {
   "cell_type": "code",
   "execution_count": 41,
   "metadata": {},
   "outputs": [
    {
     "name": "stdout",
     "output_type": "stream",
     "text": [
      "Mean 5-fold ROC AUC score for DT Tuned Not Scaled: 0.92\n",
      "Mean 5-fold ROC AUC score for DT Tuned Scaled: 0.92\n",
      "Mean 5-fold ROC AUC score for Logit Tuned Not Scaled: 0.93\n",
      "Mean 5-fold ROC AUC score for Logit Tuned Scaled: 0.93\n"
     ]
    }
   ],
   "source": [
    "#printing, showing the results.\n",
    "for name, model in models.items():\n",
    "    print(f\"Mean 5-fold ROC AUC score for {name}:\", model[1].round(2))"
   ]
  },
  {
   "cell_type": "markdown",
   "metadata": {},
   "source": [
    " <h2>5.Gain and Lift charts for winning DT model</h2> <a name=\"stats4\"></a>"
   ]
  },
  {
   "cell_type": "markdown",
   "metadata": {},
   "source": [
    "As there was no difference between Tuned DT with scaled and not scaled data, we will show plots for DT using model for not scaled data."
   ]
  },
  {
   "cell_type": "code",
   "execution_count": 42,
   "metadata": {},
   "outputs": [],
   "source": [
    "#Summarizing the results based on CV score: CV for not scaled , tuned DT and Logit and scaled ones.\n",
    "#To plot ROC curve, we should get TPR(sensitivity), FPR(1-Specificity) for different thresholds\n",
    "FPR,TPR,thresholds=roc_curve(Y1,dt_grid.predict_proba(X1)[:,1])\n"
   ]
  },
  {
   "cell_type": "code",
   "execution_count": 43,
   "metadata": {},
   "outputs": [
    {
     "data": {
      "image/png": "[encoded data removed]",
      "text/plain": [
       "<Figure size 432x288 with 1 Axes>"
      ]
     },
     "metadata": {
      "needs_background": "light"
     },
     "output_type": "display_data"
    }
   ],
   "source": [
    "#ROC Curves for DT best model\n",
    "#plotting ROC Curve\n",
    "plt.plot(FPR,TPR,label=f\"ROC AUC:{roc_auc_score(Y1,dt_grid.predict_proba(X1)[:,1]).round(2)}\")\n",
    "plt.plot([0,1],[0,1])\n",
    "plt.legend(loc=\"lower right\")\n",
    "plt.xlabel(\"FPR\")\n",
    "plt.ylabel(\"TPR\")\n",
    "plt.show()"
   ]
  },
  {
   "cell_type": "code",
   "execution_count": 44,
   "metadata": {},
   "outputs": [
    {
     "data": {
      "image/png": "[encoded data removed]",
      "text/plain": [
       "<Figure size 432x288 with 1 Axes>"
      ]
     },
     "metadata": {
      "needs_background": "light"
     },
     "output_type": "display_data"
    }
   ],
   "source": [
    "#Cummulative gain curve\n",
    "skplt.metrics.plot_cumulative_gain(Y1,dt_grid.predict_proba(X1))\n",
    "plt.show()"
   ]
  },
  {
   "cell_type": "code",
   "execution_count": 45,
   "metadata": {},
   "outputs": [
    {
     "data": {
      "image/png": "[encoded data removed]",
      "text/plain": [
       "<Figure size 432x288 with 1 Axes>"
      ]
     },
     "metadata": {
      "needs_background": "light"
     },
     "output_type": "display_data"
    }
   ],
   "source": [
    "#lift curve\n",
    "skplt.metrics.plot_lift_curve(Y1,dt_grid.predict_proba(X1))\n",
    "plt.show()"
   ]
  }
 ],
 "metadata": {
  "kernelspec": {
   "display_name": "Python 3",
   "language": "python",
   "name": "python3"
  },
  "language_info": {
   "codemirror_mode": {
    "name": "ipython",
    "version": 3
   },
   "file_extension": ".py",
   "mimetype": "text/x-python",
   "name": "python",
   "nbconvert_exporter": "python",
   "pygments_lexer": "ipython3",
   "version": "3.7.1"
  }
 },
 "nbformat": 4,
 "nbformat_minor": 2
}
