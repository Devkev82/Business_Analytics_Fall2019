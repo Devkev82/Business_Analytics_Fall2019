{
 "cells": [
  {
   "cell_type": "markdown",
   "metadata": {},
   "source": [
    "# Logistic, Decision Tree, Random Forest and Gradient Boosting Classifiers"
   ]
  },
  {
   "cell_type": "markdown",
   "metadata": {},
   "source": [
    "<p>The following notebook provides an example code of predicting whether the student will have  <b> high</b> or <b> low</b> Final Grade using 4 different Classification Models. \n",
    "The dependent variable is <b>Final_Grade </b>, which is initially continuous variable but will be transformed to binary <b>(1-\"High grade\", 0-\"Low Grade\")</b>. \n",
    "\n",
    "<br>The general sequence of steps for the analysis the following:\n",
    "1. [Descriptive analysis](#pandas)\n",
    "2. [Linear, Decision Tree, Random Forest and Gradient Boosting Classification Models on Not transformed data](#stats)\n",
    "3. [Linear, Decision Tree, Random Forest and Gradient Boosting Classification Models on reduced data](#stats1)\n",
    "4. [Predicting for a new observation](#obs)\n",
    "5. [Conclusion](#stats2)"
   ]
  },
  {
   "cell_type": "markdown",
   "metadata": {},
   "source": [
    " <h2>1.Descriptive analysis</h2> <a name=\"pandas\"></a>"
   ]
  },
  {
   "cell_type": "markdown",
   "metadata": {},
   "source": [
    "The initial data consists of 395 observations of 32 variables. There are no duplicates, missing values and variables with single value for all observations.\n",
    "We will first implement all 4 models on raw, unchanged data, observe the results and then perform the same analysis on transformed data.\n",
    "Our dependent variable is Final_Grade, which is numeric variable having values in [0;20] range. To be able to transform it into categorical, we examined variable distribution and found out that it is more or less equally spread around mean (10.4). Taking into account that median (11) is not too much far from the mean, we have decided to split the data based on the mean (rounded down, to 10, as there are only integers).\n",
    "After target transformation into binary, we can see that the category distribution is relatively balanced (1's are 53% and 0s are 47% of the data).\n",
    "\n",
    "**Note!** \n",
    "        1. We choose a common metric to compare model performance based on the data and analysis scope.\n",
    "        2. Winning model selection is done based on mean cross-validation score.\n"
   ]
  },
  {
   "cell_type": "code",
   "execution_count": 1,
   "metadata": {
    "ExecuteTime": {
     "end_time": "2019-11-16T22:10:52.675586Z",
     "start_time": "2019-11-16T22:10:50.648014Z"
    }
   },
   "outputs": [],
   "source": [
    "#data manipulation and visualization libraries\n",
    "#for not showing warnings\n",
    "import warnings\n",
    "warnings.filterwarnings('ignore')\n",
    "import numpy as np\n",
    "import pandas as pd\n",
    "import matplotlib.pyplot as plt\n",
    "import seaborn as sns\n",
    "from sklearn.preprocessing import StandardScaler\n",
    "from collections import defaultdict\n",
    "\n",
    "#libraries for modelling and evaluation\n",
    "from sklearn.linear_model import LogisticRegression\n",
    "from sklearn.tree import DecisionTreeClassifier\n",
    "from sklearn.ensemble import RandomForestClassifier, GradientBoostingClassifier\n",
    "from sklearn.model_selection import train_test_split, GridSearchCV,cross_val_score\n",
    "from sklearn.metrics import accuracy_score,recall_score,confusion_matrix,classification_report,roc_auc_score,roc_curve"
   ]
  },
  {
   "cell_type": "code",
   "execution_count": 2,
   "metadata": {
    "ExecuteTime": {
     "end_time": "2019-11-16T22:10:52.898758Z",
     "start_time": "2019-11-16T22:10:52.678291Z"
    }
   },
   "outputs": [],
   "source": [
    "#importing the data and making a dataframe\n",
    "data=pd.read_excel(\"Student_data.xlsx\")"
   ]
  },
  {
   "cell_type": "code",
   "execution_count": 3,
   "metadata": {
    "ExecuteTime": {
     "end_time": "2019-11-16T22:10:53.075226Z",
     "start_time": "2019-11-16T22:10:52.899694Z"
    }
   },
   "outputs": [
    {
     "data": {
      "image/png": "[encoded data removed]",
      "text/plain": [
       "<Figure size 432x288 with 1 Axes>"
      ]
     },
     "metadata": {
      "needs_background": "light"
     },
     "output_type": "display_data"
    }
   ],
   "source": [
    "sns.distplot(data.Final_Grade)\n",
    "plt.title(\"Final Grade distribution\")\n",
    "plt.show()"
   ]
  },
  {
   "cell_type": "code",
   "execution_count": 4,
   "metadata": {
    "ExecuteTime": {
     "end_time": "2019-11-16T22:10:53.093215Z",
     "start_time": "2019-11-16T22:10:53.080215Z"
    }
   },
   "outputs": [
    {
     "data": {
      "text/plain": [
       "count    395.000000\n",
       "mean      10.415190\n",
       "std        4.581443\n",
       "min        0.000000\n",
       "25%        8.000000\n",
       "50%       11.000000\n",
       "75%       14.000000\n",
       "max       20.000000\n",
       "Name: Final_Grade, dtype: float64"
      ]
     },
     "execution_count": 4,
     "metadata": {},
     "output_type": "execute_result"
    }
   ],
   "source": [
    "data.Final_Grade.describe()"
   ]
  },
  {
   "cell_type": "code",
   "execution_count": 5,
   "metadata": {
    "ExecuteTime": {
     "end_time": "2019-11-16T22:10:53.104147Z",
     "start_time": "2019-11-16T22:10:53.097169Z"
    }
   },
   "outputs": [
    {
     "name": "stdout",
     "output_type": "stream",
     "text": [
      "Final Grade median: 11.0\n",
      "Final Grade mean: 10.415189873417722\n"
     ]
    }
   ],
   "source": [
    "print(\"Final Grade median:\",data.Final_Grade.median())\n",
    "print(\"Final Grade mean:\",data.Final_Grade.mean())"
   ]
  },
  {
   "cell_type": "code",
   "execution_count": 6,
   "metadata": {
    "ExecuteTime": {
     "end_time": "2019-11-16T22:10:53.112127Z",
     "start_time": "2019-11-16T22:10:53.106144Z"
    }
   },
   "outputs": [],
   "source": [
    "#transforming data :1-high grade and 0-low grade\n",
    "data.Final_Grade=np.where(data.Final_Grade>10,1,0)"
   ]
  },
  {
   "cell_type": "code",
   "execution_count": 7,
   "metadata": {
    "ExecuteTime": {
     "end_time": "2019-11-16T22:10:53.199892Z",
     "start_time": "2019-11-16T22:10:53.114122Z"
    }
   },
   "outputs": [
    {
     "data": {
      "text/html": [
       "<div>\n",
       "<style scoped>\n",
       "    .dataframe tbody tr th:only-of-type {\n",
       "        vertical-align: middle;\n",
       "    }\n",
       "\n",
       "    .dataframe tbody tr th {\n",
       "        vertical-align: top;\n",
       "    }\n",
       "\n",
       "    .dataframe thead th {\n",
       "        text-align: right;\n",
       "    }\n",
       "</style>\n",
       "<table border=\"1\" class=\"dataframe\">\n",
       "  <thead>\n",
       "    <tr style=\"text-align: right;\">\n",
       "      <th></th>\n",
       "      <th>StudentID</th>\n",
       "      <th>school2</th>\n",
       "      <th>sex</th>\n",
       "      <th>age</th>\n",
       "      <th>address</th>\n",
       "      <th>famsize</th>\n",
       "      <th>Pstatus</th>\n",
       "      <th>Medu</th>\n",
       "      <th>Fedu</th>\n",
       "      <th>Mjob</th>\n",
       "      <th>...</th>\n",
       "      <th>internet</th>\n",
       "      <th>romantic</th>\n",
       "      <th>famrel</th>\n",
       "      <th>freetime</th>\n",
       "      <th>goout</th>\n",
       "      <th>Dalc</th>\n",
       "      <th>Walc</th>\n",
       "      <th>health</th>\n",
       "      <th>absences</th>\n",
       "      <th>Final_Grade</th>\n",
       "    </tr>\n",
       "  </thead>\n",
       "  <tbody>\n",
       "    <tr>\n",
       "      <th>0</th>\n",
       "      <td>1</td>\n",
       "      <td>GP</td>\n",
       "      <td>F</td>\n",
       "      <td>18</td>\n",
       "      <td>U</td>\n",
       "      <td>GT3</td>\n",
       "      <td>A</td>\n",
       "      <td>4</td>\n",
       "      <td>4</td>\n",
       "      <td>at_home</td>\n",
       "      <td>...</td>\n",
       "      <td>no</td>\n",
       "      <td>no</td>\n",
       "      <td>4</td>\n",
       "      <td>3</td>\n",
       "      <td>4</td>\n",
       "      <td>1</td>\n",
       "      <td>1</td>\n",
       "      <td>3</td>\n",
       "      <td>6</td>\n",
       "      <td>0</td>\n",
       "    </tr>\n",
       "    <tr>\n",
       "      <th>1</th>\n",
       "      <td>2</td>\n",
       "      <td>GP</td>\n",
       "      <td>F</td>\n",
       "      <td>17</td>\n",
       "      <td>U</td>\n",
       "      <td>GT3</td>\n",
       "      <td>T</td>\n",
       "      <td>1</td>\n",
       "      <td>1</td>\n",
       "      <td>at_home</td>\n",
       "      <td>...</td>\n",
       "      <td>yes</td>\n",
       "      <td>no</td>\n",
       "      <td>5</td>\n",
       "      <td>3</td>\n",
       "      <td>3</td>\n",
       "      <td>1</td>\n",
       "      <td>1</td>\n",
       "      <td>3</td>\n",
       "      <td>4</td>\n",
       "      <td>0</td>\n",
       "    </tr>\n",
       "    <tr>\n",
       "      <th>2</th>\n",
       "      <td>3</td>\n",
       "      <td>GP</td>\n",
       "      <td>F</td>\n",
       "      <td>15</td>\n",
       "      <td>U</td>\n",
       "      <td>LE3</td>\n",
       "      <td>T</td>\n",
       "      <td>1</td>\n",
       "      <td>1</td>\n",
       "      <td>at_home</td>\n",
       "      <td>...</td>\n",
       "      <td>yes</td>\n",
       "      <td>no</td>\n",
       "      <td>4</td>\n",
       "      <td>3</td>\n",
       "      <td>2</td>\n",
       "      <td>2</td>\n",
       "      <td>3</td>\n",
       "      <td>3</td>\n",
       "      <td>10</td>\n",
       "      <td>0</td>\n",
       "    </tr>\n",
       "    <tr>\n",
       "      <th>3</th>\n",
       "      <td>4</td>\n",
       "      <td>GP</td>\n",
       "      <td>F</td>\n",
       "      <td>15</td>\n",
       "      <td>U</td>\n",
       "      <td>GT3</td>\n",
       "      <td>T</td>\n",
       "      <td>4</td>\n",
       "      <td>2</td>\n",
       "      <td>health</td>\n",
       "      <td>...</td>\n",
       "      <td>yes</td>\n",
       "      <td>yes</td>\n",
       "      <td>3</td>\n",
       "      <td>2</td>\n",
       "      <td>2</td>\n",
       "      <td>1</td>\n",
       "      <td>1</td>\n",
       "      <td>5</td>\n",
       "      <td>2</td>\n",
       "      <td>1</td>\n",
       "    </tr>\n",
       "    <tr>\n",
       "      <th>4</th>\n",
       "      <td>5</td>\n",
       "      <td>GP</td>\n",
       "      <td>F</td>\n",
       "      <td>16</td>\n",
       "      <td>U</td>\n",
       "      <td>GT3</td>\n",
       "      <td>T</td>\n",
       "      <td>3</td>\n",
       "      <td>3</td>\n",
       "      <td>other</td>\n",
       "      <td>...</td>\n",
       "      <td>no</td>\n",
       "      <td>no</td>\n",
       "      <td>4</td>\n",
       "      <td>3</td>\n",
       "      <td>2</td>\n",
       "      <td>1</td>\n",
       "      <td>2</td>\n",
       "      <td>5</td>\n",
       "      <td>4</td>\n",
       "      <td>0</td>\n",
       "    </tr>\n",
       "  </tbody>\n",
       "</table>\n",
       "<p>5 rows × 32 columns</p>\n",
       "</div>"
      ],
      "text/plain": [
       "   StudentID school2 sex  age address famsize Pstatus  Medu  Fedu     Mjob  \\\n",
       "0          1      GP   F   18       U     GT3       A     4     4  at_home   \n",
       "1          2      GP   F   17       U     GT3       T     1     1  at_home   \n",
       "2          3      GP   F   15       U     LE3       T     1     1  at_home   \n",
       "3          4      GP   F   15       U     GT3       T     4     2   health   \n",
       "4          5      GP   F   16       U     GT3       T     3     3    other   \n",
       "\n",
       "      ...     internet romantic famrel  freetime  goout  Dalc Walc health  \\\n",
       "0     ...           no       no      4         3      4     1    1      3   \n",
       "1     ...          yes       no      5         3      3     1    1      3   \n",
       "2     ...          yes       no      4         3      2     2    3      3   \n",
       "3     ...          yes      yes      3         2      2     1    1      5   \n",
       "4     ...           no       no      4         3      2     1    2      5   \n",
       "\n",
       "  absences Final_Grade  \n",
       "0        6           0  \n",
       "1        4           0  \n",
       "2       10           0  \n",
       "3        2           1  \n",
       "4        4           0  \n",
       "\n",
       "[5 rows x 32 columns]"
      ]
     },
     "execution_count": 7,
     "metadata": {},
     "output_type": "execute_result"
    }
   ],
   "source": [
    "#have a look at first rows of the dataframe\n",
    "data.head()"
   ]
  },
  {
   "cell_type": "code",
   "execution_count": 8,
   "metadata": {
    "ExecuteTime": {
     "end_time": "2019-11-16T22:10:53.298630Z",
     "start_time": "2019-11-16T22:10:53.201886Z"
    }
   },
   "outputs": [
    {
     "data": {
      "text/html": [
       "<div>\n",
       "<style scoped>\n",
       "    .dataframe tbody tr th:only-of-type {\n",
       "        vertical-align: middle;\n",
       "    }\n",
       "\n",
       "    .dataframe tbody tr th {\n",
       "        vertical-align: top;\n",
       "    }\n",
       "\n",
       "    .dataframe thead th {\n",
       "        text-align: right;\n",
       "    }\n",
       "</style>\n",
       "<table border=\"1\" class=\"dataframe\">\n",
       "  <thead>\n",
       "    <tr style=\"text-align: right;\">\n",
       "      <th></th>\n",
       "      <th>StudentID</th>\n",
       "      <th>age</th>\n",
       "      <th>Medu</th>\n",
       "      <th>Fedu</th>\n",
       "      <th>traveltime</th>\n",
       "      <th>studytime</th>\n",
       "      <th>failures</th>\n",
       "      <th>famrel</th>\n",
       "      <th>freetime</th>\n",
       "      <th>goout</th>\n",
       "      <th>Dalc</th>\n",
       "      <th>Walc</th>\n",
       "      <th>health</th>\n",
       "      <th>absences</th>\n",
       "      <th>Final_Grade</th>\n",
       "    </tr>\n",
       "  </thead>\n",
       "  <tbody>\n",
       "    <tr>\n",
       "      <th>count</th>\n",
       "      <td>395.000000</td>\n",
       "      <td>395.000000</td>\n",
       "      <td>395.000000</td>\n",
       "      <td>395.000000</td>\n",
       "      <td>395.000000</td>\n",
       "      <td>395.000000</td>\n",
       "      <td>395.000000</td>\n",
       "      <td>395.000000</td>\n",
       "      <td>395.000000</td>\n",
       "      <td>395.000000</td>\n",
       "      <td>395.000000</td>\n",
       "      <td>395.000000</td>\n",
       "      <td>395.000000</td>\n",
       "      <td>395.000000</td>\n",
       "      <td>395.000000</td>\n",
       "    </tr>\n",
       "    <tr>\n",
       "      <th>mean</th>\n",
       "      <td>198.000000</td>\n",
       "      <td>16.696203</td>\n",
       "      <td>2.749367</td>\n",
       "      <td>2.521519</td>\n",
       "      <td>1.448101</td>\n",
       "      <td>2.035443</td>\n",
       "      <td>0.334177</td>\n",
       "      <td>3.944304</td>\n",
       "      <td>3.235443</td>\n",
       "      <td>3.108861</td>\n",
       "      <td>1.481013</td>\n",
       "      <td>2.291139</td>\n",
       "      <td>3.554430</td>\n",
       "      <td>5.708861</td>\n",
       "      <td>0.529114</td>\n",
       "    </tr>\n",
       "    <tr>\n",
       "      <th>std</th>\n",
       "      <td>114.170924</td>\n",
       "      <td>1.276043</td>\n",
       "      <td>1.094735</td>\n",
       "      <td>1.088201</td>\n",
       "      <td>0.697505</td>\n",
       "      <td>0.839240</td>\n",
       "      <td>0.743651</td>\n",
       "      <td>0.896659</td>\n",
       "      <td>0.998862</td>\n",
       "      <td>1.113278</td>\n",
       "      <td>0.890741</td>\n",
       "      <td>1.287897</td>\n",
       "      <td>1.390303</td>\n",
       "      <td>8.003096</td>\n",
       "      <td>0.499785</td>\n",
       "    </tr>\n",
       "    <tr>\n",
       "      <th>min</th>\n",
       "      <td>1.000000</td>\n",
       "      <td>15.000000</td>\n",
       "      <td>0.000000</td>\n",
       "      <td>0.000000</td>\n",
       "      <td>1.000000</td>\n",
       "      <td>1.000000</td>\n",
       "      <td>0.000000</td>\n",
       "      <td>1.000000</td>\n",
       "      <td>1.000000</td>\n",
       "      <td>1.000000</td>\n",
       "      <td>1.000000</td>\n",
       "      <td>1.000000</td>\n",
       "      <td>1.000000</td>\n",
       "      <td>0.000000</td>\n",
       "      <td>0.000000</td>\n",
       "    </tr>\n",
       "    <tr>\n",
       "      <th>25%</th>\n",
       "      <td>99.500000</td>\n",
       "      <td>16.000000</td>\n",
       "      <td>2.000000</td>\n",
       "      <td>2.000000</td>\n",
       "      <td>1.000000</td>\n",
       "      <td>1.000000</td>\n",
       "      <td>0.000000</td>\n",
       "      <td>4.000000</td>\n",
       "      <td>3.000000</td>\n",
       "      <td>2.000000</td>\n",
       "      <td>1.000000</td>\n",
       "      <td>1.000000</td>\n",
       "      <td>3.000000</td>\n",
       "      <td>0.000000</td>\n",
       "      <td>0.000000</td>\n",
       "    </tr>\n",
       "    <tr>\n",
       "      <th>50%</th>\n",
       "      <td>198.000000</td>\n",
       "      <td>17.000000</td>\n",
       "      <td>3.000000</td>\n",
       "      <td>2.000000</td>\n",
       "      <td>1.000000</td>\n",
       "      <td>2.000000</td>\n",
       "      <td>0.000000</td>\n",
       "      <td>4.000000</td>\n",
       "      <td>3.000000</td>\n",
       "      <td>3.000000</td>\n",
       "      <td>1.000000</td>\n",
       "      <td>2.000000</td>\n",
       "      <td>4.000000</td>\n",
       "      <td>4.000000</td>\n",
       "      <td>1.000000</td>\n",
       "    </tr>\n",
       "    <tr>\n",
       "      <th>75%</th>\n",
       "      <td>296.500000</td>\n",
       "      <td>18.000000</td>\n",
       "      <td>4.000000</td>\n",
       "      <td>3.000000</td>\n",
       "      <td>2.000000</td>\n",
       "      <td>2.000000</td>\n",
       "      <td>0.000000</td>\n",
       "      <td>5.000000</td>\n",
       "      <td>4.000000</td>\n",
       "      <td>4.000000</td>\n",
       "      <td>2.000000</td>\n",
       "      <td>3.000000</td>\n",
       "      <td>5.000000</td>\n",
       "      <td>8.000000</td>\n",
       "      <td>1.000000</td>\n",
       "    </tr>\n",
       "    <tr>\n",
       "      <th>max</th>\n",
       "      <td>395.000000</td>\n",
       "      <td>22.000000</td>\n",
       "      <td>4.000000</td>\n",
       "      <td>4.000000</td>\n",
       "      <td>4.000000</td>\n",
       "      <td>4.000000</td>\n",
       "      <td>3.000000</td>\n",
       "      <td>5.000000</td>\n",
       "      <td>5.000000</td>\n",
       "      <td>5.000000</td>\n",
       "      <td>5.000000</td>\n",
       "      <td>5.000000</td>\n",
       "      <td>5.000000</td>\n",
       "      <td>75.000000</td>\n",
       "      <td>1.000000</td>\n",
       "    </tr>\n",
       "  </tbody>\n",
       "</table>\n",
       "</div>"
      ],
      "text/plain": [
       "        StudentID         age        Medu        Fedu  traveltime   studytime  \\\n",
       "count  395.000000  395.000000  395.000000  395.000000  395.000000  395.000000   \n",
       "mean   198.000000   16.696203    2.749367    2.521519    1.448101    2.035443   \n",
       "std    114.170924    1.276043    1.094735    1.088201    0.697505    0.839240   \n",
       "min      1.000000   15.000000    0.000000    0.000000    1.000000    1.000000   \n",
       "25%     99.500000   16.000000    2.000000    2.000000    1.000000    1.000000   \n",
       "50%    198.000000   17.000000    3.000000    2.000000    1.000000    2.000000   \n",
       "75%    296.500000   18.000000    4.000000    3.000000    2.000000    2.000000   \n",
       "max    395.000000   22.000000    4.000000    4.000000    4.000000    4.000000   \n",
       "\n",
       "         failures      famrel    freetime       goout        Dalc        Walc  \\\n",
       "count  395.000000  395.000000  395.000000  395.000000  395.000000  395.000000   \n",
       "mean     0.334177    3.944304    3.235443    3.108861    1.481013    2.291139   \n",
       "std      0.743651    0.896659    0.998862    1.113278    0.890741    1.287897   \n",
       "min      0.000000    1.000000    1.000000    1.000000    1.000000    1.000000   \n",
       "25%      0.000000    4.000000    3.000000    2.000000    1.000000    1.000000   \n",
       "50%      0.000000    4.000000    3.000000    3.000000    1.000000    2.000000   \n",
       "75%      0.000000    5.000000    4.000000    4.000000    2.000000    3.000000   \n",
       "max      3.000000    5.000000    5.000000    5.000000    5.000000    5.000000   \n",
       "\n",
       "           health    absences  Final_Grade  \n",
       "count  395.000000  395.000000   395.000000  \n",
       "mean     3.554430    5.708861     0.529114  \n",
       "std      1.390303    8.003096     0.499785  \n",
       "min      1.000000    0.000000     0.000000  \n",
       "25%      3.000000    0.000000     0.000000  \n",
       "50%      4.000000    4.000000     1.000000  \n",
       "75%      5.000000    8.000000     1.000000  \n",
       "max      5.000000   75.000000     1.000000  "
      ]
     },
     "execution_count": 8,
     "metadata": {},
     "output_type": "execute_result"
    }
   ],
   "source": [
    "data.describe()"
   ]
  },
  {
   "cell_type": "code",
   "execution_count": 9,
   "metadata": {
    "ExecuteTime": {
     "end_time": "2019-11-16T22:10:53.328548Z",
     "start_time": "2019-11-16T22:10:53.300624Z"
    }
   },
   "outputs": [
    {
     "name": "stdout",
     "output_type": "stream",
     "text": [
      "Duplicates: 0\n",
      "Missing values: 0\n",
      "Single valued columns: Index([], dtype='object')\n"
     ]
    }
   ],
   "source": [
    "#checking number of duplicates, missing values and columns with a single value\n",
    "print(\"Duplicates:\", data.duplicated().sum())\n",
    "print(\"Missing values:\", data.isna().sum().sum())\n",
    "print(\"Single valued columns:\", data.columns[data.nunique()==1])"
   ]
  },
  {
   "cell_type": "code",
   "execution_count": 10,
   "metadata": {
    "ExecuteTime": {
     "end_time": "2019-11-16T22:10:53.475156Z",
     "start_time": "2019-11-16T22:10:53.329545Z"
    }
   },
   "outputs": [
    {
     "data": {
      "image/png": "[encoded data removed]",
      "text/plain": [
       "<Figure size 648x360 with 1 Axes>"
      ]
     },
     "metadata": {
      "needs_background": "light"
     },
     "output_type": "display_data"
    }
   ],
   "source": [
    "#let's visualise the distribution of y\n",
    "plt.figure(figsize=(9,5))\n",
    "sns.countplot(data.Final_Grade)\n",
    "plt.title(\"Final grade distribution\")\n",
    "plt.show()"
   ]
  },
  {
   "cell_type": "code",
   "execution_count": 11,
   "metadata": {
    "ExecuteTime": {
     "end_time": "2019-11-16T22:10:53.497099Z",
     "start_time": "2019-11-16T22:10:53.477150Z"
    }
   },
   "outputs": [
    {
     "data": {
      "text/plain": [
       "1    52.911392\n",
       "0    47.088608\n",
       "Name: Final grade distribution, dtype: float64"
      ]
     },
     "execution_count": 11,
     "metadata": {},
     "output_type": "execute_result"
    }
   ],
   "source": [
    "#lets count the benchmark for deposit subscription distribution\n",
    "#we have balanced data\n",
    "data.Final_Grade.value_counts(normalize=True).mul(100).rename(\"Final grade distribution\")"
   ]
  },
  {
   "cell_type": "code",
   "execution_count": 12,
   "metadata": {
    "ExecuteTime": {
     "end_time": "2019-11-16T22:10:53.543970Z",
     "start_time": "2019-11-16T22:10:53.501087Z"
    }
   },
   "outputs": [],
   "source": [
    "#Model building\n",
    "data_dum=pd.get_dummies(data,drop_first=True)"
   ]
  },
  {
   "cell_type": "code",
   "execution_count": 13,
   "metadata": {
    "ExecuteTime": {
     "end_time": "2019-11-16T22:10:53.552949Z",
     "start_time": "2019-11-16T22:10:53.544968Z"
    }
   },
   "outputs": [],
   "source": [
    "Y=data_dum[\"Final_Grade\"]\n",
    "X=data_dum.drop(\"Final_Grade\", axis=1)"
   ]
  },
  {
   "cell_type": "code",
   "execution_count": 14,
   "metadata": {
    "ExecuteTime": {
     "end_time": "2019-11-16T22:10:53.562921Z",
     "start_time": "2019-11-16T22:10:53.554942Z"
    }
   },
   "outputs": [],
   "source": [
    "#splitting the data into train and test sets, as have small data will use 15% for the testing set\n",
    "X0, X1, Y0, Y1= train_test_split(X, Y, test_size=0.15, random_state=42)"
   ]
  },
  {
   "cell_type": "markdown",
   "metadata": {},
   "source": [
    "<h2>Linear, Decision Tree, Random Forest and Gradient Boosting Classification Models on Not transformed data</h2> <a name=\"stats\"></a>"
   ]
  },
  {
   "cell_type": "markdown",
   "metadata": {
    "ExecuteTime": {
     "end_time": "2019-11-16T09:22:08.684212Z",
     "start_time": "2019-11-16T09:22:08.681218Z"
    }
   },
   "source": [
    "We are concerned to predict correctly both high and low final grades, so we will use `\"roc_auc\"` for scoring purposes, to ensure maximizing correct predictions for both of them. `\"roc_auc\"`score will also be our metric for choosing the winning model.\n",
    "The steps of model building using sklearn are the following:\n",
    "\n",
    "           1.Set parameter ranges based on model and Use GridSearchCV to find best parameters.Fit GridSearch on training set\n",
    "           2.Build(fit) the model on training set and calculate the needed score (in our case-\"roc_auc\") for training and \n",
    "              testing sets.\n",
    "              Note that we calculate `roc_auc`score based on probabilities!(use `predict_proba()`)*\n",
    "           3.Calculate the outlined metric (in our case-`roc_auc`) using `cross_val_score()`on the whole data (X and Y),\n",
    "              to be able to see the overall model performance.\n",
    "           4. Based on the results and best parameters, go back and adjust (tune) parameter ranges to get better scores on \n",
    "              train-test sets and for cross-validation score"
   ]
  },
  {
   "cell_type": "code",
   "execution_count": 15,
   "metadata": {
    "ExecuteTime": {
     "end_time": "2019-11-16T22:10:53.574891Z",
     "start_time": "2019-11-16T22:10:53.565915Z"
    }
   },
   "outputs": [],
   "source": [
    "#setting Logistic regression parameters range\n",
    "param_logit={'class_weight':[None,'balanced'],\n",
    "            'C':np.linspace(0.001,5,100)}"
   ]
  },
  {
   "cell_type": "code",
   "execution_count": 16,
   "metadata": {
    "ExecuteTime": {
     "end_time": "2019-11-16T22:10:59.673616Z",
     "start_time": "2019-11-16T22:10:53.578879Z"
    }
   },
   "outputs": [
    {
     "name": "stdout",
     "output_type": "stream",
     "text": [
      "Fitting 3 folds for each of 200 candidates, totalling 600 fits\n"
     ]
    },
    {
     "name": "stderr",
     "output_type": "stream",
     "text": [
      "[Parallel(n_jobs=2)]: Using backend LokyBackend with 2 concurrent workers.\n",
      "[Parallel(n_jobs=2)]: Done 600 out of 600 | elapsed:    6.0s finished\n",
      "C:\\Users\\Srbuhi\\Anaconda3\\lib\\site-packages\\sklearn\\model_selection\\_search.py:841: DeprecationWarning: The default of the `iid` parameter will change from True to False in version 0.22 and will be removed in 0.24. This will change numeric results when test-set sizes are unequal.\n",
      "  DeprecationWarning)\n"
     ]
    },
    {
     "data": {
      "text/plain": [
       "GridSearchCV(cv=3, error_score='raise-deprecating',\n",
       "       estimator=LogisticRegression(C=1.0, class_weight=None, dual=False, fit_intercept=True,\n",
       "          intercept_scaling=1, max_iter=100, multi_class='warn',\n",
       "          n_jobs=None, penalty='l2', random_state=42, solver='warn',\n",
       "          tol=0.0001, verbose=0, warm_start=False),\n",
       "       fit_params=None, iid='warn', n_jobs=2,\n",
       "       param_grid={'class_weight': [None, 'balanced'], 'C': array([1.00000e-03, 5.14949e-02, ..., 4.94951e+00, 5.00000e+00])},\n",
       "       pre_dispatch='2*n_jobs', refit=True, return_train_score='warn',\n",
       "       scoring='roc_auc', verbose=1)"
      ]
     },
     "execution_count": 16,
     "metadata": {},
     "output_type": "execute_result"
    }
   ],
   "source": [
    "#gridsearching to find best params\n",
    "#verbose is for showing this sentence-\"Fitting 3 folds for each of 200 candidates, totalling 600 fits\"\n",
    "gridsearch_logit = GridSearchCV(estimator=LogisticRegression(random_state=42),\n",
    "                        param_grid=param_logit,\n",
    "                        cv=3,scoring='roc_auc',verbose=1,n_jobs=2)\n",
    "gridsearch_logit.fit(X0,Y0)"
   ]
  },
  {
   "cell_type": "code",
   "execution_count": 17,
   "metadata": {
    "ExecuteTime": {
     "end_time": "2019-11-16T22:10:59.689574Z",
     "start_time": "2019-11-16T22:10:59.679600Z"
    }
   },
   "outputs": [
    {
     "data": {
      "text/plain": [
       "{'C': 0.10198989898989898, 'class_weight': 'balanced'}"
      ]
     },
     "execution_count": 17,
     "metadata": {},
     "output_type": "execute_result"
    }
   ],
   "source": [
    "#best params for logit\n",
    "gridsearch_logit.best_params_"
   ]
  },
  {
   "cell_type": "code",
   "execution_count": 18,
   "metadata": {
    "ExecuteTime": {
     "end_time": "2019-11-16T22:10:59.725476Z",
     "start_time": "2019-11-16T22:10:59.702537Z"
    }
   },
   "outputs": [],
   "source": [
    "#let's construct logit with the best parameters \n",
    "logit=LogisticRegression(class_weight=None,C=0.10198989898989898,random_state=42).fit(X0,Y0)"
   ]
  },
  {
   "cell_type": "code",
   "execution_count": 19,
   "metadata": {
    "ExecuteTime": {
     "end_time": "2019-11-16T22:10:59.744424Z",
     "start_time": "2019-11-16T22:10:59.730463Z"
    }
   },
   "outputs": [],
   "source": [
    "#getting probabilities of being 1 (probability of having high final grade)\n",
    "Y0_logit=logit.predict_proba(X0)[:,1]\n",
    "Y1_logit=logit.predict_proba(X1)[:,1]"
   ]
  },
  {
   "cell_type": "code",
   "execution_count": 20,
   "metadata": {
    "ExecuteTime": {
     "end_time": "2019-11-16T22:10:59.808254Z",
     "start_time": "2019-11-16T22:10:59.748414Z"
    }
   },
   "outputs": [
    {
     "name": "stdout",
     "output_type": "stream",
     "text": [
      "ROC_AUC Train not scaled Logit: 0.79\n",
      "ROC_AUC Test not scaled Logit: 0.73\n",
      "Mean 3-fold ROC AUC score for not scaled logit: 0.6733333333333333\n"
     ]
    }
   ],
   "source": [
    "#calculating roc auc score\n",
    "print(\"ROC_AUC Train not scaled Logit:\",roc_auc_score(Y0,Y0_logit).round(2))\n",
    "print(\"ROC_AUC Test not scaled Logit:\",roc_auc_score(Y1,Y1_logit).round(2))\n",
    "print(\"Mean 3-fold ROC AUC score for not scaled logit:\",np.mean(cross_val_score(estimator=logit, X=X,y=Y,cv=3, scoring=\"roc_auc\").round(2)))"
   ]
  },
  {
   "cell_type": "code",
   "execution_count": 21,
   "metadata": {
    "ExecuteTime": {
     "end_time": "2019-11-16T22:10:59.845157Z",
     "start_time": "2019-11-16T22:10:59.813241Z"
    }
   },
   "outputs": [
    {
     "name": "stderr",
     "output_type": "stream",
     "text": [
      "C:\\Users\\Srbuhi\\Anaconda3\\lib\\site-packages\\sklearn\\preprocessing\\data.py:625: DataConversionWarning: Data with input dtype int64 were all converted to float64 by StandardScaler.\n",
      "  return self.partial_fit(X, y)\n",
      "C:\\Users\\Srbuhi\\Anaconda3\\lib\\site-packages\\sklearn\\base.py:462: DataConversionWarning: Data with input dtype int64 were all converted to float64 by StandardScaler.\n",
      "  return self.fit(X, **fit_params).transform(X)\n"
     ]
    }
   ],
   "source": [
    "#Lets also scale and see whether the results will change\n",
    "sc=StandardScaler()\n",
    "numerics=data.select_dtypes(exclude=\"object\").drop(\"Final_Grade\", axis=1) #outlining only continuous variables for scaling\n",
    "                                                                         #and dropping Final_Grade as it is already 0 and 1  \n",
    "numerics=pd.DataFrame(sc.fit_transform(numerics), columns=numerics.columns.tolist())#making DF out of scaled numeric variables"
   ]
  },
  {
   "cell_type": "code",
   "execution_count": 22,
   "metadata": {
    "ExecuteTime": {
     "end_time": "2019-11-16T22:10:59.860115Z",
     "start_time": "2019-11-16T22:10:59.849146Z"
    }
   },
   "outputs": [],
   "source": [
    "#contatenating with the rest of the data \n",
    "data_sc=pd.concat([numerics,data.drop(numerics.columns.tolist(), axis=1)],axis=1)"
   ]
  },
  {
   "cell_type": "code",
   "execution_count": 23,
   "metadata": {
    "ExecuteTime": {
     "end_time": "2019-11-16T22:10:59.884053Z",
     "start_time": "2019-11-16T22:10:59.863107Z"
    }
   },
   "outputs": [
    {
     "name": "stdout",
     "output_type": "stream",
     "text": [
      "<class 'pandas.core.frame.DataFrame'>\n",
      "RangeIndex: 395 entries, 0 to 394\n",
      "Data columns (total 32 columns):\n",
      "StudentID      395 non-null float64\n",
      "age            395 non-null float64\n",
      "Medu           395 non-null float64\n",
      "Fedu           395 non-null float64\n",
      "traveltime     395 non-null float64\n",
      "studytime      395 non-null float64\n",
      "failures       395 non-null float64\n",
      "famrel         395 non-null float64\n",
      "freetime       395 non-null float64\n",
      "goout          395 non-null float64\n",
      "Dalc           395 non-null float64\n",
      "Walc           395 non-null float64\n",
      "health         395 non-null float64\n",
      "absences       395 non-null float64\n",
      "school2        395 non-null object\n",
      "sex            395 non-null object\n",
      "address        395 non-null object\n",
      "famsize        395 non-null object\n",
      "Pstatus        395 non-null object\n",
      "Mjob           395 non-null object\n",
      "Fjob           395 non-null object\n",
      "reason         395 non-null object\n",
      "guardian       395 non-null object\n",
      "schoolsup      395 non-null object\n",
      "famsup         395 non-null object\n",
      "paid           395 non-null object\n",
      "activities     395 non-null object\n",
      "nursery        395 non-null object\n",
      "higher         395 non-null object\n",
      "internet       395 non-null object\n",
      "romantic       395 non-null object\n",
      "Final_Grade    395 non-null int32\n",
      "dtypes: float64(14), int32(1), object(17)\n",
      "memory usage: 97.3+ KB\n"
     ]
    }
   ],
   "source": [
    "#now we have scaled data of the same shape\n",
    "data_sc.info()"
   ]
  },
  {
   "cell_type": "code",
   "execution_count": 24,
   "metadata": {
    "ExecuteTime": {
     "end_time": "2019-11-16T22:10:59.963839Z",
     "start_time": "2019-11-16T22:10:59.886048Z"
    }
   },
   "outputs": [],
   "source": [
    "#getting dummies on scaled data\n",
    "data_sc=pd.get_dummies(data_sc, drop_first=True)"
   ]
  },
  {
   "cell_type": "code",
   "execution_count": 25,
   "metadata": {
    "ExecuteTime": {
     "end_time": "2019-11-16T22:10:59.978798Z",
     "start_time": "2019-11-16T22:10:59.968826Z"
    }
   },
   "outputs": [],
   "source": [
    "#separating X and Y, \n",
    "#!!!Y is not scaled, just writing Y_sc to keep variable names consistent with the data\n",
    "Y_sc=data_sc[\"Final_Grade\"]\n",
    "X_sc=data_sc.drop(\"Final_Grade\", axis=1)"
   ]
  },
  {
   "cell_type": "code",
   "execution_count": 26,
   "metadata": {
    "ExecuteTime": {
     "end_time": "2019-11-16T22:10:59.996749Z",
     "start_time": "2019-11-16T22:10:59.984782Z"
    }
   },
   "outputs": [],
   "source": [
    "#train test split\n",
    "X0_sc, X1_sc, Y0_sc, Y1_sc=train_test_split(X_sc,Y_sc,test_size=0.15, random_state=42)"
   ]
  },
  {
   "cell_type": "code",
   "execution_count": 27,
   "metadata": {
    "ExecuteTime": {
     "end_time": "2019-11-16T22:11:04.251406Z",
     "start_time": "2019-11-16T22:11:00.000739Z"
    }
   },
   "outputs": [
    {
     "name": "stderr",
     "output_type": "stream",
     "text": [
      "[Parallel(n_jobs=1)]: Using backend SequentialBackend with 1 concurrent workers.\n"
     ]
    },
    {
     "name": "stdout",
     "output_type": "stream",
     "text": [
      "Fitting 3 folds for each of 200 candidates, totalling 600 fits\n"
     ]
    },
    {
     "name": "stderr",
     "output_type": "stream",
     "text": [
      "[Parallel(n_jobs=1)]: Done 600 out of 600 | elapsed:    4.1s finished\n",
      "C:\\Users\\Srbuhi\\Anaconda3\\lib\\site-packages\\sklearn\\model_selection\\_search.py:841: DeprecationWarning: The default of the `iid` parameter will change from True to False in version 0.22 and will be removed in 0.24. This will change numeric results when test-set sizes are unequal.\n",
      "  DeprecationWarning)\n"
     ]
    }
   ],
   "source": [
    "#GridSearching Logit on scaled data\n",
    "gs_logit_scaled=GridSearchCV(estimator=LogisticRegression(random_state=42),param_grid=param_logit,\n",
    "                        scoring=\"roc_auc\",\n",
    "                        cv=3,verbose=1).fit(X0_sc,Y0_sc)\n"
   ]
  },
  {
   "cell_type": "code",
   "execution_count": 28,
   "metadata": {
    "ExecuteTime": {
     "end_time": "2019-11-16T22:11:04.258348Z",
     "start_time": "2019-11-16T22:11:04.252367Z"
    }
   },
   "outputs": [
    {
     "data": {
      "text/plain": [
       "{'C': 0.001, 'class_weight': None}"
      ]
     },
     "execution_count": 28,
     "metadata": {},
     "output_type": "execute_result"
    }
   ],
   "source": [
    "gs_logit_scaled.best_params_"
   ]
  },
  {
   "cell_type": "code",
   "execution_count": 29,
   "metadata": {
    "ExecuteTime": {
     "end_time": "2019-11-16T22:11:04.270316Z",
     "start_time": "2019-11-16T22:11:04.261342Z"
    }
   },
   "outputs": [],
   "source": [
    "logit_scaled=LogisticRegression(C=0.001, class_weight=None, random_state=42).fit(X0_sc,Y0_sc)"
   ]
  },
  {
   "cell_type": "code",
   "execution_count": 30,
   "metadata": {
    "ExecuteTime": {
     "end_time": "2019-11-16T22:11:04.278296Z",
     "start_time": "2019-11-16T22:11:04.272348Z"
    }
   },
   "outputs": [],
   "source": [
    "#getting probabilities for scaled data\n",
    "Y0_logit_sc=logit_scaled.predict_proba(X0_sc)[:,1]\n",
    "Y1_logit_sc=logit_scaled.predict_proba(X1_sc)[:,1]"
   ]
  },
  {
   "cell_type": "code",
   "execution_count": 31,
   "metadata": {
    "ExecuteTime": {
     "end_time": "2019-11-16T22:11:04.311210Z",
     "start_time": "2019-11-16T22:11:04.281289Z"
    }
   },
   "outputs": [
    {
     "name": "stdout",
     "output_type": "stream",
     "text": [
      "ROC_AUC Train for Scaled logit: 0.71\n",
      "ROC_AUC Test for Scaled logit: 0.7\n",
      "Mean 3-fold ROC AUC score for Scaled logit: 0.6733333333333333\n"
     ]
    }
   ],
   "source": [
    "#calculating roc auc score and mean CV score: note that I haven't separately saved predicted probabilities\n",
    "print(\"ROC_AUC Train for Scaled logit:\",roc_auc_score(Y0,Y0_logit_sc).round(2))\n",
    "print(\"ROC_AUC Test for Scaled logit:\",roc_auc_score(Y1,Y1_logit_sc).round(2))\n",
    "print(\"Mean 3-fold ROC AUC score for Scaled logit:\",np.mean(cross_val_score(estimator=logit_scaled, X=X_sc,y=Y_sc,cv=3, scoring=\"roc_auc\").round(2)))"
   ]
  },
  {
   "cell_type": "markdown",
   "metadata": {
    "ExecuteTime": {
     "end_time": "2019-11-16T19:57:18.791565Z",
     "start_time": "2019-11-16T19:57:18.784583Z"
    }
   },
   "source": [
    "<h3>Decision Tree Classifier</h3>"
   ]
  },
  {
   "cell_type": "code",
   "execution_count": 32,
   "metadata": {
    "ExecuteTime": {
     "end_time": "2019-11-16T22:11:04.317192Z",
     "start_time": "2019-11-16T22:11:04.313202Z"
    }
   },
   "outputs": [],
   "source": [
    "#setting up the ranges for hyperparameters\n",
    "param_dt={\"max_depth\":range(1,10),\"min_samples_leaf\":range(4,84,5),\n",
    "          \"class_weight\":[\"balanced\", None],}"
   ]
  },
  {
   "cell_type": "code",
   "execution_count": 33,
   "metadata": {
    "ExecuteTime": {
     "end_time": "2019-11-16T22:11:08.649643Z",
     "start_time": "2019-11-16T22:11:04.320184Z"
    }
   },
   "outputs": [
    {
     "name": "stderr",
     "output_type": "stream",
     "text": [
      "[Parallel(n_jobs=1)]: Using backend SequentialBackend with 1 concurrent workers.\n"
     ]
    },
    {
     "name": "stdout",
     "output_type": "stream",
     "text": [
      "Fitting 3 folds for each of 288 candidates, totalling 864 fits\n"
     ]
    },
    {
     "name": "stderr",
     "output_type": "stream",
     "text": [
      "[Parallel(n_jobs=1)]: Done 864 out of 864 | elapsed:    4.2s finished\n",
      "C:\\Users\\Srbuhi\\Anaconda3\\lib\\site-packages\\sklearn\\model_selection\\_search.py:841: DeprecationWarning: The default of the `iid` parameter will change from True to False in version 0.22 and will be removed in 0.24. This will change numeric results when test-set sizes are unequal.\n",
      "  DeprecationWarning)\n"
     ]
    },
    {
     "data": {
      "text/plain": [
       "GridSearchCV(cv=3, error_score='raise-deprecating',\n",
       "       estimator=DecisionTreeClassifier(class_weight=None, criterion='gini', max_depth=None,\n",
       "            max_features=None, max_leaf_nodes=None,\n",
       "            min_impurity_decrease=0.0, min_impurity_split=None,\n",
       "            min_samples_leaf=1, min_samples_split=2,\n",
       "            min_weight_fraction_leaf=0.0, presort=False, random_state=42,\n",
       "            splitter='best'),\n",
       "       fit_params=None, iid='warn', n_jobs=None,\n",
       "       param_grid={'max_depth': range(1, 10), 'min_samples_leaf': range(4, 84, 5), 'class_weight': ['balanced', None]},\n",
       "       pre_dispatch='2*n_jobs', refit=True, return_train_score='warn',\n",
       "       scoring='roc_auc', verbose=1)"
      ]
     },
     "execution_count": 33,
     "metadata": {},
     "output_type": "execute_result"
    }
   ],
   "source": [
    "#Cross-Validated Gridsearch using parameters, use n_jobs=-1 for faster computing and \n",
    "gs_dt=GridSearchCV(estimator=DecisionTreeClassifier(random_state=42),\n",
    "                   param_grid=param_dt,scoring=\"roc_auc\",cv=3, verbose=1)\n",
    "gs_dt.fit(X0,Y0)"
   ]
  },
  {
   "cell_type": "code",
   "execution_count": 34,
   "metadata": {
    "ExecuteTime": {
     "end_time": "2019-11-16T22:11:08.656584Z",
     "start_time": "2019-11-16T22:11:08.651598Z"
    }
   },
   "outputs": [
    {
     "data": {
      "text/plain": [
       "{'class_weight': 'balanced', 'max_depth': 4, 'min_samples_leaf': 34}"
      ]
     },
     "execution_count": 34,
     "metadata": {},
     "output_type": "execute_result"
    }
   ],
   "source": [
    "#let's see the optimal parameters\n",
    "gs_dt.best_params_"
   ]
  },
  {
   "cell_type": "code",
   "execution_count": 35,
   "metadata": {
    "ExecuteTime": {
     "end_time": "2019-11-16T22:11:08.670897Z",
     "start_time": "2019-11-16T22:11:08.658578Z"
    }
   },
   "outputs": [],
   "source": [
    "#fitting the model with best parameters\n",
    "dt_grid=DecisionTreeClassifier(class_weight=\"balanced\",max_depth=4,\n",
    "                             min_samples_leaf=34, random_state=42).fit(X0,Y0)\n",
    "\n",
    "#getting probabilities\n",
    "Y0_dt_grid=dt_grid.predict_proba(X0)[:,1]\n",
    "Y1_dt_grid=dt_grid.predict_proba(X1)[:,1]"
   ]
  },
  {
   "cell_type": "code",
   "execution_count": 36,
   "metadata": {
    "ExecuteTime": {
     "end_time": "2019-11-16T22:11:08.697828Z",
     "start_time": "2019-11-16T22:11:08.671899Z"
    }
   },
   "outputs": [
    {
     "name": "stdout",
     "output_type": "stream",
     "text": [
      "ROC_AUC Train for Decision Tree: 0.72\n",
      "ROC_AUC Test for Decision Tree: 0.71\n",
      "Mean 3-fold ROC AUC score for Decision Tree: 0.64\n"
     ]
    }
   ],
   "source": [
    "#calculating roc auc score \n",
    "print(\"ROC_AUC Train for Decision Tree:\",roc_auc_score(Y0,Y0_dt_grid).round(2))\n",
    "print(\"ROC_AUC Test for Decision Tree:\",roc_auc_score(Y1,Y1_dt_grid).round(2))\n",
    "print(\"Mean 3-fold ROC AUC score for Decision Tree:\",np.mean(cross_val_score(estimator=dt_grid, X=X,y=Y,cv=3, scoring=\"roc_auc\")).round(2))"
   ]
  },
  {
   "cell_type": "markdown",
   "metadata": {
    "ExecuteTime": {
     "end_time": "2019-11-16T20:05:00.653091Z",
     "start_time": "2019-11-16T20:05:00.647112Z"
    }
   },
   "source": [
    "<h3>Random Forest Classifier</h3>"
   ]
  },
  {
   "cell_type": "code",
   "execution_count": 37,
   "metadata": {
    "ExecuteTime": {
     "end_time": "2019-11-16T22:11:08.704811Z",
     "start_time": "2019-11-16T22:11:08.699824Z"
    }
   },
   "outputs": [],
   "source": [
    "#setting rf param grid\n",
    "param_rf={  'max_depth': range(1,6),\n",
    "            'min_samples_leaf': range(4, 44, 5),\n",
    "             'class_weight': ['balanced', None] }"
   ]
  },
  {
   "cell_type": "code",
   "execution_count": 38,
   "metadata": {
    "ExecuteTime": {
     "end_time": "2019-11-16T22:11:11.770999Z",
     "start_time": "2019-11-16T22:11:08.706806Z"
    }
   },
   "outputs": [
    {
     "name": "stderr",
     "output_type": "stream",
     "text": [
      "[Parallel(n_jobs=1)]: Using backend SequentialBackend with 1 concurrent workers.\n"
     ]
    },
    {
     "name": "stdout",
     "output_type": "stream",
     "text": [
      "Fitting 3 folds for each of 80 candidates, totalling 240 fits\n"
     ]
    },
    {
     "name": "stderr",
     "output_type": "stream",
     "text": [
      "[Parallel(n_jobs=1)]: Done 240 out of 240 | elapsed:    2.9s finished\n",
      "C:\\Users\\Srbuhi\\Anaconda3\\lib\\site-packages\\sklearn\\model_selection\\_search.py:841: DeprecationWarning: The default of the `iid` parameter will change from True to False in version 0.22 and will be removed in 0.24. This will change numeric results when test-set sizes are unequal.\n",
      "  DeprecationWarning)\n"
     ]
    },
    {
     "data": {
      "text/plain": [
       "GridSearchCV(cv=3, error_score='raise-deprecating',\n",
       "       estimator=RandomForestClassifier(bootstrap=True, class_weight=None, criterion='gini',\n",
       "            max_depth=None, max_features='auto', max_leaf_nodes=None,\n",
       "            min_impurity_decrease=0.0, min_impurity_split=None,\n",
       "            min_samples_leaf=1, min_samples_split=2,\n",
       "            min_weight_fraction_leaf=0.0, n_estimators='warn', n_jobs=None,\n",
       "            oob_score=False, random_state=42, verbose=0, warm_start=False),\n",
       "       fit_params=None, iid='warn', n_jobs=None,\n",
       "       param_grid={'max_depth': range(1, 6), 'min_samples_leaf': range(4, 44, 5), 'class_weight': ['balanced', None]},\n",
       "       pre_dispatch='2*n_jobs', refit=True, return_train_score='warn',\n",
       "       scoring='roc_auc', verbose=1)"
      ]
     },
     "execution_count": 38,
     "metadata": {},
     "output_type": "execute_result"
    }
   ],
   "source": [
    "#Random Forest Regression, using initial same parameters as for dt\n",
    "#Cross-Validated Gridsearch using parameters, use n_jobs=-1 for faster computing\n",
    "gs_rf=GridSearchCV(estimator=RandomForestClassifier(random_state=42),\n",
    "                   param_grid=param_rf,cv=3, scoring=\"roc_auc\", verbose=1)\n",
    "gs_rf.fit(X0,Y0)"
   ]
  },
  {
   "cell_type": "code",
   "execution_count": 39,
   "metadata": {
    "ExecuteTime": {
     "end_time": "2019-11-16T22:11:11.777979Z",
     "start_time": "2019-11-16T22:11:11.773036Z"
    }
   },
   "outputs": [
    {
     "data": {
      "text/plain": [
       "{'class_weight': None, 'max_depth': 2, 'min_samples_leaf': 4}"
      ]
     },
     "execution_count": 39,
     "metadata": {},
     "output_type": "execute_result"
    }
   ],
   "source": [
    "gs_rf.best_params_"
   ]
  },
  {
   "cell_type": "code",
   "execution_count": 40,
   "metadata": {
    "ExecuteTime": {
     "end_time": "2019-11-16T22:11:11.798984Z",
     "start_time": "2019-11-16T22:11:11.779973Z"
    }
   },
   "outputs": [],
   "source": [
    "#fitting the model with best parameters\n",
    "rf=RandomForestClassifier(random_state=42,class_weight=None,max_depth=2,min_samples_leaf=4).fit(X0,Y0)\n",
    "\n",
    "#getting probabilities\n",
    "Y0_rf=rf.predict_proba(X0)[:,1]\n",
    "Y1_rf=rf.predict_proba(X1)[:,1]"
   ]
  },
  {
   "cell_type": "code",
   "execution_count": 41,
   "metadata": {
    "ExecuteTime": {
     "end_time": "2019-11-16T22:11:11.845841Z",
     "start_time": "2019-11-16T22:11:11.799920Z"
    }
   },
   "outputs": [
    {
     "name": "stdout",
     "output_type": "stream",
     "text": [
      "ROC_AUC Train for Random Forest: 0.73\n",
      "ROC_AUC Test for Random Forest: 0.65\n",
      "Mean 3-fold ROC AUC score for Random Forest: 0.62\n"
     ]
    }
   ],
   "source": [
    "#calculating roc auc score \n",
    "print(\"ROC_AUC Train for Random Forest:\",roc_auc_score(Y0,Y0_rf).round(2))\n",
    "print(\"ROC_AUC Test for Random Forest:\",roc_auc_score(Y1,Y1_rf).round(2))\n",
    "#Mean cross val score for model with default hyperparameters\n",
    "print(\"Mean 3-fold ROC AUC score for Random Forest:\",np.mean(cross_val_score(estimator=rf, X=X,y=Y,cv=3, scoring=\"roc_auc\",)).round(2))"
   ]
  },
  {
   "cell_type": "markdown",
   "metadata": {
    "ExecuteTime": {
     "end_time": "2019-11-16T20:11:28.047368Z",
     "start_time": "2019-11-16T20:11:28.041414Z"
    }
   },
   "source": [
    "<h3>Gradient Boosting Classifier</h3>"
   ]
  },
  {
   "cell_type": "code",
   "execution_count": 42,
   "metadata": {
    "ExecuteTime": {
     "end_time": "2019-11-16T22:11:11.850785Z",
     "start_time": "2019-11-16T22:11:11.846794Z"
    }
   },
   "outputs": [],
   "source": [
    "#gradient boosting doesn't have \"class_weight\" parameter, so setting new parameters dictionary\n",
    "param_gb={'max_depth': range(5, 21),\n",
    "          'min_samples_leaf': range(80, 125, 5)}"
   ]
  },
  {
   "cell_type": "code",
   "execution_count": 43,
   "metadata": {
    "ExecuteTime": {
     "end_time": "2019-11-16T22:11:25.102181Z",
     "start_time": "2019-11-16T22:11:11.853777Z"
    }
   },
   "outputs": [
    {
     "name": "stderr",
     "output_type": "stream",
     "text": [
      "[Parallel(n_jobs=1)]: Using backend SequentialBackend with 1 concurrent workers.\n"
     ]
    },
    {
     "name": "stdout",
     "output_type": "stream",
     "text": [
      "Fitting 3 folds for each of 144 candidates, totalling 432 fits\n"
     ]
    },
    {
     "name": "stderr",
     "output_type": "stream",
     "text": [
      "[Parallel(n_jobs=1)]: Done 432 out of 432 | elapsed:   13.1s finished\n",
      "C:\\Users\\Srbuhi\\Anaconda3\\lib\\site-packages\\sklearn\\model_selection\\_search.py:841: DeprecationWarning: The default of the `iid` parameter will change from True to False in version 0.22 and will be removed in 0.24. This will change numeric results when test-set sizes are unequal.\n",
      "  DeprecationWarning)\n"
     ]
    },
    {
     "data": {
      "text/plain": [
       "GridSearchCV(cv=3, error_score='raise-deprecating',\n",
       "       estimator=GradientBoostingClassifier(criterion='friedman_mse', init=None,\n",
       "              learning_rate=0.1, loss='deviance', max_depth=3,\n",
       "              max_features=None, max_leaf_nodes=None,\n",
       "              min_impurity_decrease=0.0, min_impurity_split=None,\n",
       "              min_samples_leaf=1, min_sampl...      subsample=1.0, tol=0.0001, validation_fraction=0.1,\n",
       "              verbose=0, warm_start=False),\n",
       "       fit_params=None, iid='warn', n_jobs=None,\n",
       "       param_grid={'max_depth': range(5, 21), 'min_samples_leaf': range(80, 125, 5)},\n",
       "       pre_dispatch='2*n_jobs', refit=True, return_train_score='warn',\n",
       "       scoring='roc_auc', verbose=1)"
      ]
     },
     "execution_count": 43,
     "metadata": {},
     "output_type": "execute_result"
    }
   ],
   "source": [
    "#Random Forest Regression\n",
    "#Cross-Validated Gridsearch using parameters, use n_jobs=-1 for faster computing and \n",
    "gs_gb=GridSearchCV(estimator=GradientBoostingClassifier(random_state=42),param_grid=param_gb,cv=3, scoring=\"roc_auc\", verbose=1)\n",
    "gs_gb.fit(X0,Y0)"
   ]
  },
  {
   "cell_type": "code",
   "execution_count": 44,
   "metadata": {
    "ExecuteTime": {
     "end_time": "2019-11-16T22:11:25.109163Z",
     "start_time": "2019-11-16T22:11:25.104177Z"
    }
   },
   "outputs": [
    {
     "data": {
      "text/plain": [
       "{'max_depth': 5, 'min_samples_leaf': 90}"
      ]
     },
     "execution_count": 44,
     "metadata": {},
     "output_type": "execute_result"
    }
   ],
   "source": [
    "gs_gb.best_params_"
   ]
  },
  {
   "cell_type": "code",
   "execution_count": 45,
   "metadata": {
    "ExecuteTime": {
     "end_time": "2019-11-16T22:11:25.166351Z",
     "start_time": "2019-11-16T22:11:25.112155Z"
    }
   },
   "outputs": [],
   "source": [
    "#fitting the model with best parameters\n",
    "gb=GradientBoostingClassifier(random_state=42,max_depth=5,min_samples_leaf=90).fit(X0,Y0)\n",
    "#getting probabilities\n",
    "Y0_gb=gb.predict_proba(X0)[:,1]\n",
    "Y1_gb=gb.predict_proba(X1)[:,1]"
   ]
  },
  {
   "cell_type": "code",
   "execution_count": 46,
   "metadata": {
    "ExecuteTime": {
     "end_time": "2019-11-16T22:11:25.274453Z",
     "start_time": "2019-11-16T22:11:25.168350Z"
    }
   },
   "outputs": [
    {
     "name": "stdout",
     "output_type": "stream",
     "text": [
      "ROC_AUC Train for Tuned Gradient Boosting: 0.79\n",
      "ROC_AUC Test for Tuned Gradinet Boosting: 0.65\n",
      "Mean 3-fold ROC AUC score for Gradinet Boosting Tuned hyperparameters: 0.58\n"
     ]
    }
   ],
   "source": [
    "#calculating roc auc score \n",
    "print(\"ROC_AUC Train for Tuned Gradient Boosting:\",roc_auc_score(Y0,Y0_gb).round(2))\n",
    "print(\"ROC_AUC Test for Tuned Gradinet Boosting:\",roc_auc_score(Y1,Y1_gb).round(2))\n",
    "#Mean cross val score for model with default hyperparameters\n",
    "print(\"Mean 3-fold ROC AUC score for Gradinet Boosting Tuned hyperparameters:\",np.mean(cross_val_score(estimator=gb, X=X,y=Y,cv=3, scoring=\"roc_auc\",)).round(2))"
   ]
  },
  {
   "cell_type": "code",
   "execution_count": 47,
   "metadata": {
    "ExecuteTime": {
     "end_time": "2019-11-16T22:11:25.486339Z",
     "start_time": "2019-11-16T22:11:25.276280Z"
    }
   },
   "outputs": [
    {
     "name": "stdout",
     "output_type": "stream",
     "text": [
      "Mean 3-fold ROC AUC score for not scaled LOGIT: 0.6733333333333333\n",
      "Mean 3-fold ROC AUC score for Scaled LOGIT: 0.6733333333333333\n",
      "Mean 3-fold ROC AUC score for DT Tuned hyperparameters: 0.64\n",
      "Mean 3-fold ROC AUC score for Random Forest Tuned hyperparameters: 0.62\n",
      "Mean 3-fold ROC AUC score for Gradinet Boosting Tuned hyperparameters: 0.58\n"
     ]
    }
   ],
   "source": [
    "print(\"Mean 3-fold ROC AUC score for not scaled LOGIT:\",np.mean(cross_val_score(estimator=logit, X=X,y=Y,cv=3, scoring=\"roc_auc\").round(2)))\n",
    "print(\"Mean 3-fold ROC AUC score for Scaled LOGIT:\",np.mean(cross_val_score(estimator=logit_scaled, X=X_sc,y=Y_sc,cv=3, scoring=\"roc_auc\").round(2)))\n",
    "print(\"Mean 3-fold ROC AUC score for DT Tuned hyperparameters:\",np.mean(cross_val_score(estimator=dt_grid, X=X,y=Y,cv=3, scoring=\"roc_auc\")).round(2))\n",
    "print(\"Mean 3-fold ROC AUC score for Random Forest Tuned hyperparameters:\",np.mean(cross_val_score(estimator=rf, X=X,y=Y,cv=3, scoring=\"roc_auc\",)).round(2))\n",
    "print(\"Mean 3-fold ROC AUC score for Gradinet Boosting Tuned hyperparameters:\",np.mean(cross_val_score(estimator=gb, X=X,y=Y,cv=3, scoring=\"roc_auc\",)).round(2))"
   ]
  },
  {
   "cell_type": "markdown",
   "metadata": {
    "ExecuteTime": {
     "end_time": "2019-11-16T20:41:19.073064Z",
     "start_time": "2019-11-16T20:41:19.066083Z"
    }
   },
   "source": [
    "<h3>Linear, Decision Tree, Random Forest and Gradient Boosting Classification Models on reduced data </h3> <a name=\"stats2\"></a>"
   ]
  },
  {
   "cell_type": "markdown",
   "metadata": {},
   "source": [
    "I saved the data obtained from backward elimination into csv and will use it to reveal how the scorings change based on the quality of data. For backward elimination see https://nbviewer.jupyter.org/github/srbuhimirzoyan/Business_Analytics_Fall2019/blob/master/Session4/Session_4_Final..ipynb#select\n",
    "For the sake of simplicity and time saving, we will use the same best parameters we got for non-transformed data, to calculate the mean cross-val-score results. In other words, we will not perform new grid searches for every model, but will use already given best parameters for each model.**Note!** To have much better results, you should perform every step for the backward eliminated data as we did above.\n",
    "In any case, we can see that for reduced dataset and even without performing new grid searches, we have much higher results for \n",
    "mean 3-fold CV scores of all models, except gradient boosting.\n"
   ]
  },
  {
   "cell_type": "code",
   "execution_count": 48,
   "metadata": {
    "ExecuteTime": {
     "end_time": "2019-11-16T22:11:25.498344Z",
     "start_time": "2019-11-16T22:11:25.488332Z"
    }
   },
   "outputs": [],
   "source": [
    "#reading backward eliminated data\n",
    "data_tr=pd.read_csv(\"backward_students.csv\")"
   ]
  },
  {
   "cell_type": "code",
   "execution_count": 49,
   "metadata": {
    "ExecuteTime": {
     "end_time": "2019-11-16T22:11:25.504564Z",
     "start_time": "2019-11-16T22:11:25.500610Z"
    }
   },
   "outputs": [],
   "source": [
    "#making Final grade categorical\n",
    "data_tr.Final_Grade=np.where(data_tr.Final_Grade>10,1,0)"
   ]
  },
  {
   "cell_type": "code",
   "execution_count": 50,
   "metadata": {
    "ExecuteTime": {
     "end_time": "2019-11-16T22:11:25.519550Z",
     "start_time": "2019-11-16T22:11:25.507557Z"
    }
   },
   "outputs": [],
   "source": [
    "#making dummies\n",
    "data_tr_dum=pd.get_dummies(data_tr, drop_first=True)"
   ]
  },
  {
   "cell_type": "code",
   "execution_count": 51,
   "metadata": {
    "ExecuteTime": {
     "end_time": "2019-11-16T22:11:25.529527Z",
     "start_time": "2019-11-16T22:11:25.521549Z"
    }
   },
   "outputs": [],
   "source": [
    "#separating X and Y\n",
    "Y_tr=data_tr_dum[\"Final_Grade\"]\n",
    "X_tr=data_tr_dum.drop(\"Final_Grade\", axis=1)"
   ]
  },
  {
   "cell_type": "code",
   "execution_count": 52,
   "metadata": {
    "ExecuteTime": {
     "end_time": "2019-11-16T22:11:25.538503Z",
     "start_time": "2019-11-16T22:11:25.531522Z"
    }
   },
   "outputs": [],
   "source": [
    "#train-test split\n",
    "X0_tr,X1_tr,Y0_tr,Y1_tr=train_test_split(X_tr,Y_tr, test_size=0.15, random_state=42)"
   ]
  },
  {
   "cell_type": "code",
   "execution_count": 53,
   "metadata": {
    "ExecuteTime": {
     "end_time": "2019-11-16T22:11:25.561443Z",
     "start_time": "2019-11-16T22:11:25.540499Z"
    }
   },
   "outputs": [
    {
     "name": "stderr",
     "output_type": "stream",
     "text": [
      "C:\\Users\\Srbuhi\\Anaconda3\\lib\\site-packages\\sklearn\\preprocessing\\data.py:625: DataConversionWarning: Data with input dtype int64, float64 were all converted to float64 by StandardScaler.\n",
      "  return self.partial_fit(X, y)\n",
      "C:\\Users\\Srbuhi\\Anaconda3\\lib\\site-packages\\sklearn\\base.py:462: DataConversionWarning: Data with input dtype int64, float64 were all converted to float64 by StandardScaler.\n",
      "  return self.fit(X, **fit_params).transform(X)\n"
     ]
    }
   ],
   "source": [
    "#scaled data\n",
    "numerics_tr=data_tr.select_dtypes(exclude=\"object\").drop(\"Final_Grade\", axis=1) #outlining only continuous variables for scaling\n",
    "                                                                         #and dropping Final_Grade as it is already 0 and 1  \n",
    "numerics_tr=pd.DataFrame(sc.fit_transform(numerics_tr), columns=numerics_tr.columns.tolist())#making DF out of scaled numeric variables\n",
    "#contatenating with the rest of the data \n",
    "data_tr_scaled=pd.concat([numerics_tr,data_tr.drop(numerics_tr.columns.tolist(), axis=1)],axis=1)\n",
    "X_tr_sc=data_tr_scaled.drop(\"Final_Grade\", axis=1)\n",
    "Y_tr_sc=data_tr_scaled[\"Final_Grade\"]\n",
    "X0_tr_sc,X1_tr_sc,Y0_tr_sc,Y1_tr_sc=train_test_split(X_tr_sc,Y_tr_sc, test_size=0.15, random_state=42)"
   ]
  },
  {
   "cell_type": "code",
   "execution_count": 55,
   "metadata": {
    "ExecuteTime": {
     "end_time": "2019-11-16T22:11:25.625345Z",
     "start_time": "2019-11-16T22:11:25.571417Z"
    }
   },
   "outputs": [],
   "source": [
    "#outlining models with already got best params for not reduced data\n",
    "logit_tr=LogisticRegression(C=0.10198989898989898,class_weight=None, random_state=42).fit(X0_tr,Y0_tr)\n",
    "logit_tr_scaled=LogisticRegression(C=0.001, class_weight=None, random_state=42).fit(X0_tr_sc,Y0_tr_sc)\n",
    "dt_grid_tr=DecisionTreeClassifier(class_weight='balanced',max_depth=4,min_samples_leaf=34,random_state=42).fit(X0_tr,Y0_tr)\n",
    "rf_tr=RandomForestClassifier(class_weight=None, max_depth=2, min_samples_leaf=4, random_state=42).fit(X0_tr,Y0_tr)\n",
    "gb_tr=GradientBoostingClassifier(max_depth=5,min_samples_leaf=90,random_state=42).fit(X0_tr,Y0_tr)"
   ]
  },
  {
   "cell_type": "code",
   "execution_count": 56,
   "metadata": {
    "ExecuteTime": {
     "end_time": "2019-11-16T22:11:25.808944Z",
     "start_time": "2019-11-16T22:11:25.626269Z"
    }
   },
   "outputs": [
    {
     "name": "stdout",
     "output_type": "stream",
     "text": [
      "Mean 3-fold ROC AUC score for not scaled LOGIT on reduced data: 0.7166666666666667\n",
      "Mean 3-fold ROC AUC score for Scaled LOGIT on reduced data: 0.7133333333333334\n",
      "Mean 3-fold ROC AUC score for DT Tuned hyperparameters on reduced data: 0.67\n",
      "Mean 3-fold ROC AUC score for Random Forest Tuned hyperparameters on reduced data: 0.67\n",
      "Mean 3-fold ROC AUC score for Gradinet Boosting Tuned hyperparameters on reduced data: 0.56\n"
     ]
    }
   ],
   "source": [
    "#summary of scores\n",
    "print(\"Mean 3-fold ROC AUC score for not scaled LOGIT on reduced data:\",np.mean(cross_val_score(estimator=logit_tr, X=X_tr,y=Y_tr,cv=3, scoring=\"roc_auc\").round(2)))\n",
    "print(\"Mean 3-fold ROC AUC score for Scaled LOGIT on reduced data:\",np.mean(cross_val_score(estimator=logit_tr_scaled, X=X_tr_sc,y=Y_tr_sc,cv=3, scoring=\"roc_auc\").round(2)))\n",
    "print(\"Mean 3-fold ROC AUC score for DT Tuned hyperparameters on reduced data:\",np.mean(cross_val_score(estimator=dt_grid_tr, X=X_tr,y=Y_tr,cv=3, scoring=\"roc_auc\")).round(2))\n",
    "print(\"Mean 3-fold ROC AUC score for Random Forest Tuned hyperparameters on reduced data:\",np.mean(cross_val_score(estimator=rf_tr, X=X_tr,y=Y_tr,cv=3, scoring=\"roc_auc\",)).round(2))\n",
    "print(\"Mean 3-fold ROC AUC score for Gradinet Boosting Tuned hyperparameters on reduced data:\",np.mean(cross_val_score(estimator=gb_tr, X=X_tr,y=Y_tr,cv=3, scoring=\"roc_auc\",)).round(2))"
   ]
  },
  {
   "cell_type": "markdown",
   "metadata": {
    "ExecuteTime": {
     "end_time": "2019-11-16T21:33:29.744245Z",
     "start_time": "2019-11-16T21:33:29.738264Z"
    }
   },
   "source": [
    "<h3>Predicting for a new observation </h3> <a name=\"obs\"></a>"
   ]
  },
  {
   "cell_type": "markdown",
   "metadata": {},
   "source": [
    "For example of prediction on a new observation, we will use reduced dataset.\n",
    "We want to predict Y, based on X. Thus, we have to provide values for our X.\n",
    "Let's see what our X test looks like, what columns it has, to provide similar ones to new observation."
   ]
  },
  {
   "cell_type": "code",
   "execution_count": 57,
   "metadata": {
    "ExecuteTime": {
     "end_time": "2019-11-16T22:11:25.849836Z",
     "start_time": "2019-11-16T22:11:25.810940Z"
    }
   },
   "outputs": [
    {
     "data": {
      "text/html": [
       "<div>\n",
       "<style scoped>\n",
       "    .dataframe tbody tr th:only-of-type {\n",
       "        vertical-align: middle;\n",
       "    }\n",
       "\n",
       "    .dataframe tbody tr th {\n",
       "        vertical-align: top;\n",
       "    }\n",
       "\n",
       "    .dataframe thead th {\n",
       "        text-align: right;\n",
       "    }\n",
       "</style>\n",
       "<table border=\"1\" class=\"dataframe\">\n",
       "  <thead>\n",
       "    <tr style=\"text-align: right;\">\n",
       "      <th></th>\n",
       "      <th>Medu</th>\n",
       "      <th>failures</th>\n",
       "      <th>goout</th>\n",
       "      <th>absences</th>\n",
       "      <th>Mjob_health</th>\n",
       "      <th>Mjob_services</th>\n",
       "      <th>schoolsup_yes</th>\n",
       "      <th>famsup_yes</th>\n",
       "      <th>romantic_yes</th>\n",
       "    </tr>\n",
       "  </thead>\n",
       "  <tbody>\n",
       "    <tr>\n",
       "      <th>count</th>\n",
       "      <td>395.000000</td>\n",
       "      <td>395.000000</td>\n",
       "      <td>395.000000</td>\n",
       "      <td>3.950000e+02</td>\n",
       "      <td>395.000000</td>\n",
       "      <td>395.000000</td>\n",
       "      <td>395.000000</td>\n",
       "      <td>395.000000</td>\n",
       "      <td>395.000000</td>\n",
       "    </tr>\n",
       "    <tr>\n",
       "      <th>mean</th>\n",
       "      <td>2.749367</td>\n",
       "      <td>0.334177</td>\n",
       "      <td>3.108861</td>\n",
       "      <td>3.199874e-01</td>\n",
       "      <td>0.086076</td>\n",
       "      <td>0.260759</td>\n",
       "      <td>0.129114</td>\n",
       "      <td>0.612658</td>\n",
       "      <td>0.334177</td>\n",
       "    </tr>\n",
       "    <tr>\n",
       "      <th>std</th>\n",
       "      <td>1.094735</td>\n",
       "      <td>0.743651</td>\n",
       "      <td>1.113278</td>\n",
       "      <td>4.397442e-01</td>\n",
       "      <td>0.280832</td>\n",
       "      <td>0.439606</td>\n",
       "      <td>0.335751</td>\n",
       "      <td>0.487761</td>\n",
       "      <td>0.472300</td>\n",
       "    </tr>\n",
       "    <tr>\n",
       "      <th>min</th>\n",
       "      <td>0.000000</td>\n",
       "      <td>0.000000</td>\n",
       "      <td>1.000000</td>\n",
       "      <td>2.678637e-33</td>\n",
       "      <td>0.000000</td>\n",
       "      <td>0.000000</td>\n",
       "      <td>0.000000</td>\n",
       "      <td>0.000000</td>\n",
       "      <td>0.000000</td>\n",
       "    </tr>\n",
       "    <tr>\n",
       "      <th>25%</th>\n",
       "      <td>2.000000</td>\n",
       "      <td>0.000000</td>\n",
       "      <td>2.000000</td>\n",
       "      <td>3.354626e-04</td>\n",
       "      <td>0.000000</td>\n",
       "      <td>0.000000</td>\n",
       "      <td>0.000000</td>\n",
       "      <td>0.000000</td>\n",
       "      <td>0.000000</td>\n",
       "    </tr>\n",
       "    <tr>\n",
       "      <th>50%</th>\n",
       "      <td>3.000000</td>\n",
       "      <td>0.000000</td>\n",
       "      <td>3.000000</td>\n",
       "      <td>1.831564e-02</td>\n",
       "      <td>0.000000</td>\n",
       "      <td>0.000000</td>\n",
       "      <td>0.000000</td>\n",
       "      <td>1.000000</td>\n",
       "      <td>0.000000</td>\n",
       "    </tr>\n",
       "    <tr>\n",
       "      <th>75%</th>\n",
       "      <td>4.000000</td>\n",
       "      <td>0.000000</td>\n",
       "      <td>4.000000</td>\n",
       "      <td>1.000000e+00</td>\n",
       "      <td>0.000000</td>\n",
       "      <td>1.000000</td>\n",
       "      <td>0.000000</td>\n",
       "      <td>1.000000</td>\n",
       "      <td>1.000000</td>\n",
       "    </tr>\n",
       "    <tr>\n",
       "      <th>max</th>\n",
       "      <td>4.000000</td>\n",
       "      <td>3.000000</td>\n",
       "      <td>5.000000</td>\n",
       "      <td>1.000000e+00</td>\n",
       "      <td>1.000000</td>\n",
       "      <td>1.000000</td>\n",
       "      <td>1.000000</td>\n",
       "      <td>1.000000</td>\n",
       "      <td>1.000000</td>\n",
       "    </tr>\n",
       "  </tbody>\n",
       "</table>\n",
       "</div>"
      ],
      "text/plain": [
       "             Medu    failures       goout      absences  Mjob_health  \\\n",
       "count  395.000000  395.000000  395.000000  3.950000e+02   395.000000   \n",
       "mean     2.749367    0.334177    3.108861  3.199874e-01     0.086076   \n",
       "std      1.094735    0.743651    1.113278  4.397442e-01     0.280832   \n",
       "min      0.000000    0.000000    1.000000  2.678637e-33     0.000000   \n",
       "25%      2.000000    0.000000    2.000000  3.354626e-04     0.000000   \n",
       "50%      3.000000    0.000000    3.000000  1.831564e-02     0.000000   \n",
       "75%      4.000000    0.000000    4.000000  1.000000e+00     0.000000   \n",
       "max      4.000000    3.000000    5.000000  1.000000e+00     1.000000   \n",
       "\n",
       "       Mjob_services  schoolsup_yes  famsup_yes  romantic_yes  \n",
       "count     395.000000     395.000000  395.000000    395.000000  \n",
       "mean        0.260759       0.129114    0.612658      0.334177  \n",
       "std         0.439606       0.335751    0.487761      0.472300  \n",
       "min         0.000000       0.000000    0.000000      0.000000  \n",
       "25%         0.000000       0.000000    0.000000      0.000000  \n",
       "50%         0.000000       0.000000    1.000000      0.000000  \n",
       "75%         1.000000       0.000000    1.000000      1.000000  \n",
       "max         1.000000       1.000000    1.000000      1.000000  "
      ]
     },
     "execution_count": 57,
     "metadata": {},
     "output_type": "execute_result"
    }
   ],
   "source": [
    "X_tr.describe()"
   ]
  },
  {
   "cell_type": "code",
   "execution_count": 58,
   "metadata": {
    "ExecuteTime": {
     "end_time": "2019-11-16T22:11:25.855820Z",
     "start_time": "2019-11-16T22:11:25.851831Z"
    }
   },
   "outputs": [],
   "source": [
    "#Based on the above data, let's define a new observation, aram, with the following values for respective columns\n",
    "aram=[[2,4,1,2,0,1,0,1,1]]"
   ]
  },
  {
   "cell_type": "code",
   "execution_count": 59,
   "metadata": {
    "ExecuteTime": {
     "end_time": "2019-11-16T22:11:25.867787Z",
     "start_time": "2019-11-16T22:11:25.858812Z"
    }
   },
   "outputs": [
    {
     "name": "stdout",
     "output_type": "stream",
     "text": [
      "Aram's grade based on Logit: [0]\n",
      "Aram's grade based on DT: [0]\n",
      "Aram's grade based on RF: [0]\n",
      "Aram's grade based on GB: [1]\n"
     ]
    }
   ],
   "source": [
    "#let's predict aram's final grade class using .predict()\n",
    "print(\"Aram's grade based on Logit:\",logit_tr.predict(aram))\n",
    "print(\"Aram's grade based on DT:\",dt_grid_tr.predict(aram))\n",
    "print(\"Aram's grade based on RF:\",rf_tr.predict(aram))\n",
    "print(\"Aram's grade based on GB:\",gb_tr.predict(aram))"
   ]
  },
  {
   "cell_type": "markdown",
   "metadata": {
    "ExecuteTime": {
     "end_time": "2019-11-16T21:59:54.748683Z",
     "start_time": "2019-11-16T21:59:54.743701Z"
    }
   },
   "source": [
    "Based on all Logit, DT and GB: Aram's grade belong to class 1 (\"high\"). According to Gradient Boosting, it will be class 0(\"low\")"
   ]
  },
  {
   "cell_type": "markdown",
   "metadata": {
    "ExecuteTime": {
     "end_time": "2019-11-16T22:01:41.937784Z",
     "start_time": "2019-11-16T22:01:41.931799Z"
    }
   },
   "source": [
    "<h3>Conclusion</h3> <a name=\"stats2\"></a>"
   ]
  },
  {
   "cell_type": "markdown",
   "metadata": {},
   "source": [
    "We performed 2 rounds of classification models: the first on not-transformed data, the second on data reduced via backward elimination.\n",
    "For the first round, we performed ***Logit, DT, RF, GB*** and ***Logit on scaled data***.\n",
    "For the second round, we performed same steps but for data reduced via backward elimination.\n",
    "According to results, models perform better when data does not contain redundant, not significant variables.\n",
    "Based on both rounds, according to mean 3-fold cross-validation score, the winning model is Logistic Regression on not scaled reduced dataset with 0.716 `roc_auc` score. The worst one is <u>gradient boosting.</u>\n",
    "We clearly saw that all tree-based models overfitted and one of the reasons may be small data, presence of a  lot of unnecessary variables."
   ]
  }
 ],
 "metadata": {
  "kernelspec": {
   "display_name": "Python 3",
   "language": "python",
   "name": "python3"
  },
  "language_info": {
   "codemirror_mode": {
    "name": "ipython",
    "version": 3
   },
   "file_extension": ".py",
   "mimetype": "text/x-python",
   "name": "python",
   "nbconvert_exporter": "python",
   "pygments_lexer": "ipython3",
   "version": "3.7.1"
  },
  "toc": {
   "base_numbering": 1,
   "nav_menu": {},
   "number_sections": true,
   "sideBar": true,
   "skip_h1_title": false,
   "title_cell": "Table of Contents",
   "title_sidebar": "Contents",
   "toc_cell": false,
   "toc_position": {},
   "toc_section_display": true,
   "toc_window_display": false
  }
 },
 "nbformat": 4,
 "nbformat_minor": 2
}
